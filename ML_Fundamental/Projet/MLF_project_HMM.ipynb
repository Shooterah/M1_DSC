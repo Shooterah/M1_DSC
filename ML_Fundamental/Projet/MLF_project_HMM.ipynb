{
  "cells": [
    {
      "cell_type": "markdown",
      "metadata": {
        "id": "4je-ekC1l6iU"
      },
      "source": [
        "# Hidden Markov Model project\n",
        "## Machine Learning Fundamentals\n",
        "\n",
        "|First name|Last name|Master program|Contribution|\n",
        "|----------|---------|--------------|-------------|\n",
        "|Aloys|Lana|DSC|33%|\n",
        "|Arthur|Micol|DSC|33%|\n",
        "|Florian|Doffemont|DSC|33%|\n"
      ]
    },
    {
      "cell_type": "markdown",
      "source": [
        "We use https://colab.research.google.com/. It have an issue in the imports at the beginning (WARNING : you need version 0.2.6 of hmmlearn)\n",
        "\n",
        "To fix it : \n",
        "- Run the 1st code import cell\n",
        "- You have an error\n",
        "- Click at the top on \"execution\" -> \"Redémarer l'environnement d'éxécution\"\n",
        "- Run the cell again\n",
        "- Its done !"
      ],
      "metadata": {
        "id": "61hr1S-K_2fy"
      }
    },
    {
      "cell_type": "markdown",
      "metadata": {
        "id": "-KCIttKrlwzs"
      },
      "source": [
        "# WARNING : you need version 0.2.6 of hmmlearn"
      ]
    },
    {
      "cell_type": "code",
      "execution_count": 1,
      "metadata": {
        "colab": {
          "base_uri": "https://localhost:8080/"
        },
        "id": "-cnVa0zdl-0T",
        "outputId": "2f74ef1a-3bed-43be-b448-9bf883eb9082",
        "scrolled": true
      },
      "outputs": [
        {
          "output_type": "stream",
          "name": "stdout",
          "text": [
            "Found existing installation: numpy 1.24.2\n",
            "Uninstalling numpy-1.24.2:\n",
            "  Successfully uninstalled numpy-1.24.2\n",
            "Found existing installation: scikit-learn 1.2.2\n",
            "Uninstalling scikit-learn-1.2.2:\n",
            "  Successfully uninstalled scikit-learn-1.2.2\n",
            "Found existing installation: joblib 1.2.0\n",
            "Uninstalling joblib-1.2.0:\n",
            "  Successfully uninstalled joblib-1.2.0\n",
            "Found existing installation: hmmlearn 0.2.6\n",
            "Uninstalling hmmlearn-0.2.6:\n",
            "  Successfully uninstalled hmmlearn-0.2.6\n",
            "Looking in indexes: https://pypi.org/simple, https://us-python.pkg.dev/colab-wheels/public/simple/\n",
            "Collecting hmmlearn==0.2.6\n",
            "  Using cached hmmlearn-0.2.6-cp39-cp39-manylinux_2_5_x86_64.manylinux1_x86_64.whl (369 kB)\n",
            "Requirement already satisfied: scipy>=0.19 in /usr/local/lib/python3.9/dist-packages (from hmmlearn==0.2.6) (1.10.1)\n",
            "Collecting numpy>=1.10\n",
            "  Using cached numpy-1.24.2-cp39-cp39-manylinux_2_17_x86_64.manylinux2014_x86_64.whl (17.3 MB)\n",
            "Collecting scikit-learn>=0.16\n",
            "  Using cached scikit_learn-1.2.2-cp39-cp39-manylinux_2_17_x86_64.manylinux2014_x86_64.whl (9.6 MB)\n",
            "Requirement already satisfied: threadpoolctl>=2.0.0 in /usr/local/lib/python3.9/dist-packages (from scikit-learn>=0.16->hmmlearn==0.2.6) (3.1.0)\n",
            "Collecting joblib>=1.1.1\n",
            "  Using cached joblib-1.2.0-py3-none-any.whl (297 kB)\n",
            "Installing collected packages: numpy, joblib, scikit-learn, hmmlearn\n",
            "\u001b[31mERROR: pip's dependency resolver does not currently take into account all the packages that are installed. This behaviour is the source of the following dependency conflicts.\n",
            "pandas-profiling 3.2.0 requires joblib~=1.1.0, but you have joblib 1.2.0 which is incompatible.\n",
            "numba 0.56.4 requires numpy<1.24,>=1.18, but you have numpy 1.24.2 which is incompatible.\u001b[0m\u001b[31m\n",
            "\u001b[0mSuccessfully installed hmmlearn-0.2.6 joblib-1.2.0 numpy-1.24.2 scikit-learn-1.2.2\n"
          ]
        }
      ],
      "source": [
        "!pip uninstall -y numpy scikit-learn joblib hmmlearn\n",
        "!pip install hmmlearn==0.2.6\n",
        "import numpy as np\n",
        "import hmmlearn\n",
        "from hmmlearn import hmm"
      ]
    },
    {
      "cell_type": "markdown",
      "metadata": {
        "id": "Ql5SlWTWlwzt"
      },
      "source": [
        "# WARNING : check that the hmmlearn installed is version 0.2.6"
      ]
    },
    {
      "cell_type": "code",
      "execution_count": 2,
      "metadata": {
        "colab": {
          "base_uri": "https://localhost:8080/"
        },
        "id": "LxgwOCeQlwzt",
        "outputId": "93a8aa9e-93a2-4bb7-95e8-ffa645b2b195"
      },
      "outputs": [
        {
          "output_type": "stream",
          "name": "stdout",
          "text": [
            "Name: hmmlearn\n",
            "Version: 0.2.6\n",
            "Summary: Hidden Markov Models in Python with scikit-learn like API\n",
            "Home-page: https://github.com/hmmlearn/hmmlearn\n",
            "Author: \n",
            "Author-email: \n",
            "License: new BSD\n",
            "Location: /usr/local/lib/python3.9/dist-packages\n",
            "Requires: numpy, scikit-learn, scipy\n",
            "Required-by: \n"
          ]
        }
      ],
      "source": [
        "!pip show hmmlearn  # check that the version installed is 0.2.6"
      ]
    },
    {
      "cell_type": "markdown",
      "metadata": {
        "id": "X7Du51rqlwzu"
      },
      "source": [
        "# imports"
      ]
    },
    {
      "cell_type": "code",
      "execution_count": 3,
      "metadata": {
        "id": "tyj9Ac1Wlz1m"
      },
      "outputs": [],
      "source": [
        "import numpy as np  # linear algebra\n",
        "import pandas as pd  # data processing, CSV file I/O (e.g. pd.read_csv)\n",
        "import seaborn as sns\n",
        "from tqdm import tqdm\n",
        "from matplotlib import pyplot as plt  # show graph\n",
        "\n",
        "from sklearn.model_selection import GroupShuffleSplit\n",
        "from sklearn.metrics import confusion_matrix, classification_report, accuracy_score, precision_score, recall_score, \\\n",
        "    f1_score, roc_auc_score"
      ]
    },
    {
      "cell_type": "markdown",
      "metadata": {
        "id": "pEiMw2lwmhy1"
      },
      "source": [
        "## In this notebook we will look at the NER dataset and use it to understand HMM and also construct a POS tagger at the same time.\n",
        "\n",
        "### Data Description:\n",
        "#### sentence: this column donates to which sentence the word belongs\n",
        "#### Word: the word in the sentence\n",
        "#### POS: Associated POS tag for the word"
      ]
    },
    {
      "cell_type": "markdown",
      "metadata": {
        "id": "GARTR2z4scYU"
      },
      "source": [
        "## Load the data"
      ]
    },
    {
      "cell_type": "markdown",
      "metadata": {
        "id": "fYkRq11CsfbJ"
      },
      "source": [
        "If you imported the dataset \"NER dataset.csv\" to you google drive, you can use the following to mount and import it."
      ]
    },
    {
      "cell_type": "code",
      "execution_count": 4,
      "metadata": {
        "id": "P8PDOUWFsoiI",
        "colab": {
          "base_uri": "https://localhost:8080/"
        },
        "outputId": "af17960a-db76-48c6-b2ba-a15f810514dd"
      },
      "outputs": [
        {
          "output_type": "stream",
          "name": "stdout",
          "text": [
            "Mounted at /content/drive\n"
          ]
        }
      ],
      "source": [
        "# Loading the data\n",
        "from google.colab import drive\n",
        "\n",
        "drive.mount('/content/drive')\n",
        "\n",
        "data = pd.read_csv(\"/content/drive/MyDrive/MLF_project/data/NER dataset.csv\", encoding='latin1')"
      ]
    },
    {
      "cell_type": "markdown",
      "metadata": {
        "id": "l_wSo_y2sv6f"
      },
      "source": [
        "Otherwise, if you are working locally or if you just uploaded the dataset for this session on the drive, you can use the following to import it."
      ]
    },
    {
      "cell_type": "code",
      "execution_count": null,
      "metadata": {
        "id": "vK3Tsr14s8Oi"
      },
      "outputs": [],
      "source": [
        "# Loading the data\n",
        "# data = pd.read_csv(\"./data/NER dataset.csv\", encoding='latin1')"
      ]
    },
    {
      "cell_type": "code",
      "execution_count": 5,
      "metadata": {
        "id": "YV2vxuIdmGW0",
        "colab": {
          "base_uri": "https://localhost:8080/",
          "height": 206
        },
        "outputId": "360d79a7-cbc8-4df4-8f5e-a1dd2ff95057"
      },
      "outputs": [
        {
          "output_type": "execute_result",
          "data": {
            "text/plain": [
              "      sentence           Word  POS Tag\n",
              "0  Sentence: 1      Thousands  NNS   O\n",
              "1  Sentence: 1             of   IN   O\n",
              "2  Sentence: 1  demonstrators  NNS   O\n",
              "3  Sentence: 1           have  VBP   O\n",
              "4  Sentence: 1        marched  VBN   O"
            ],
            "text/html": [
              "\n",
              "  <div id=\"df-26af80a2-d717-4e28-8e81-ea182d5d0a15\">\n",
              "    <div class=\"colab-df-container\">\n",
              "      <div>\n",
              "<style scoped>\n",
              "    .dataframe tbody tr th:only-of-type {\n",
              "        vertical-align: middle;\n",
              "    }\n",
              "\n",
              "    .dataframe tbody tr th {\n",
              "        vertical-align: top;\n",
              "    }\n",
              "\n",
              "    .dataframe thead th {\n",
              "        text-align: right;\n",
              "    }\n",
              "</style>\n",
              "<table border=\"1\" class=\"dataframe\">\n",
              "  <thead>\n",
              "    <tr style=\"text-align: right;\">\n",
              "      <th></th>\n",
              "      <th>sentence</th>\n",
              "      <th>Word</th>\n",
              "      <th>POS</th>\n",
              "      <th>Tag</th>\n",
              "    </tr>\n",
              "  </thead>\n",
              "  <tbody>\n",
              "    <tr>\n",
              "      <th>0</th>\n",
              "      <td>Sentence: 1</td>\n",
              "      <td>Thousands</td>\n",
              "      <td>NNS</td>\n",
              "      <td>O</td>\n",
              "    </tr>\n",
              "    <tr>\n",
              "      <th>1</th>\n",
              "      <td>Sentence: 1</td>\n",
              "      <td>of</td>\n",
              "      <td>IN</td>\n",
              "      <td>O</td>\n",
              "    </tr>\n",
              "    <tr>\n",
              "      <th>2</th>\n",
              "      <td>Sentence: 1</td>\n",
              "      <td>demonstrators</td>\n",
              "      <td>NNS</td>\n",
              "      <td>O</td>\n",
              "    </tr>\n",
              "    <tr>\n",
              "      <th>3</th>\n",
              "      <td>Sentence: 1</td>\n",
              "      <td>have</td>\n",
              "      <td>VBP</td>\n",
              "      <td>O</td>\n",
              "    </tr>\n",
              "    <tr>\n",
              "      <th>4</th>\n",
              "      <td>Sentence: 1</td>\n",
              "      <td>marched</td>\n",
              "      <td>VBN</td>\n",
              "      <td>O</td>\n",
              "    </tr>\n",
              "  </tbody>\n",
              "</table>\n",
              "</div>\n",
              "      <button class=\"colab-df-convert\" onclick=\"convertToInteractive('df-26af80a2-d717-4e28-8e81-ea182d5d0a15')\"\n",
              "              title=\"Convert this dataframe to an interactive table.\"\n",
              "              style=\"display:none;\">\n",
              "        \n",
              "  <svg xmlns=\"http://www.w3.org/2000/svg\" height=\"24px\"viewBox=\"0 0 24 24\"\n",
              "       width=\"24px\">\n",
              "    <path d=\"M0 0h24v24H0V0z\" fill=\"none\"/>\n",
              "    <path d=\"M18.56 5.44l.94 2.06.94-2.06 2.06-.94-2.06-.94-.94-2.06-.94 2.06-2.06.94zm-11 1L8.5 8.5l.94-2.06 2.06-.94-2.06-.94L8.5 2.5l-.94 2.06-2.06.94zm10 10l.94 2.06.94-2.06 2.06-.94-2.06-.94-.94-2.06-.94 2.06-2.06.94z\"/><path d=\"M17.41 7.96l-1.37-1.37c-.4-.4-.92-.59-1.43-.59-.52 0-1.04.2-1.43.59L10.3 9.45l-7.72 7.72c-.78.78-.78 2.05 0 2.83L4 21.41c.39.39.9.59 1.41.59.51 0 1.02-.2 1.41-.59l7.78-7.78 2.81-2.81c.8-.78.8-2.07 0-2.86zM5.41 20L4 18.59l7.72-7.72 1.47 1.35L5.41 20z\"/>\n",
              "  </svg>\n",
              "      </button>\n",
              "      \n",
              "  <style>\n",
              "    .colab-df-container {\n",
              "      display:flex;\n",
              "      flex-wrap:wrap;\n",
              "      gap: 12px;\n",
              "    }\n",
              "\n",
              "    .colab-df-convert {\n",
              "      background-color: #E8F0FE;\n",
              "      border: none;\n",
              "      border-radius: 50%;\n",
              "      cursor: pointer;\n",
              "      display: none;\n",
              "      fill: #1967D2;\n",
              "      height: 32px;\n",
              "      padding: 0 0 0 0;\n",
              "      width: 32px;\n",
              "    }\n",
              "\n",
              "    .colab-df-convert:hover {\n",
              "      background-color: #E2EBFA;\n",
              "      box-shadow: 0px 1px 2px rgba(60, 64, 67, 0.3), 0px 1px 3px 1px rgba(60, 64, 67, 0.15);\n",
              "      fill: #174EA6;\n",
              "    }\n",
              "\n",
              "    [theme=dark] .colab-df-convert {\n",
              "      background-color: #3B4455;\n",
              "      fill: #D2E3FC;\n",
              "    }\n",
              "\n",
              "    [theme=dark] .colab-df-convert:hover {\n",
              "      background-color: #434B5C;\n",
              "      box-shadow: 0px 1px 3px 1px rgba(0, 0, 0, 0.15);\n",
              "      filter: drop-shadow(0px 1px 2px rgba(0, 0, 0, 0.3));\n",
              "      fill: #FFFFFF;\n",
              "    }\n",
              "  </style>\n",
              "\n",
              "      <script>\n",
              "        const buttonEl =\n",
              "          document.querySelector('#df-26af80a2-d717-4e28-8e81-ea182d5d0a15 button.colab-df-convert');\n",
              "        buttonEl.style.display =\n",
              "          google.colab.kernel.accessAllowed ? 'block' : 'none';\n",
              "\n",
              "        async function convertToInteractive(key) {\n",
              "          const element = document.querySelector('#df-26af80a2-d717-4e28-8e81-ea182d5d0a15');\n",
              "          const dataTable =\n",
              "            await google.colab.kernel.invokeFunction('convertToInteractive',\n",
              "                                                     [key], {});\n",
              "          if (!dataTable) return;\n",
              "\n",
              "          const docLinkHtml = 'Like what you see? Visit the ' +\n",
              "            '<a target=\"_blank\" href=https://colab.research.google.com/notebooks/data_table.ipynb>data table notebook</a>'\n",
              "            + ' to learn more about interactive tables.';\n",
              "          element.innerHTML = '';\n",
              "          dataTable['output_type'] = 'display_data';\n",
              "          await google.colab.output.renderOutput(dataTable, element);\n",
              "          const docLink = document.createElement('div');\n",
              "          docLink.innerHTML = docLinkHtml;\n",
              "          element.appendChild(docLink);\n",
              "        }\n",
              "      </script>\n",
              "    </div>\n",
              "  </div>\n",
              "  "
            ]
          },
          "metadata": {},
          "execution_count": 5
        }
      ],
      "source": [
        "data = data.fillna(method=\"ffill\")\n",
        "data = data.rename(columns={'Sentence #': 'sentence'})\n",
        "data.head(5)"
      ]
    },
    {
      "cell_type": "markdown",
      "metadata": {
        "id": "bieothyVtLxy"
      },
      "source": [
        "# Data pre-processing\n",
        "If you want to do some pre-processing (lowercase any words, remove stop words, replace numbers/names by a unique NUM/NAME token, etc.) you can do it here in the pipeline.\n",
        "\n",
        "Note : you could create a new dataset `data_pre_precessed = pre_process(data)` to keep both version and compare the effect of you pre-processing."
      ]
    },
    {
      "cell_type": "code",
      "execution_count": 6,
      "metadata": {
        "id": "txb_5PPstsKc",
        "colab": {
          "base_uri": "https://localhost:8080/",
          "height": 206
        },
        "outputId": "209c499c-e298-4c49-ffa2-d7f77c7c5928"
      },
      "outputs": [
        {
          "output_type": "execute_result",
          "data": {
            "text/plain": [
              "      sentence           Word  POS Tag\n",
              "0  Sentence: 1      thousands  NNS   O\n",
              "1  Sentence: 1             of   IN   O\n",
              "2  Sentence: 1  demonstrators  NNS   O\n",
              "3  Sentence: 1           have  VBP   O\n",
              "4  Sentence: 1        marched  VBN   O"
            ],
            "text/html": [
              "\n",
              "  <div id=\"df-4dfd085e-1be9-49d7-acdf-458702f42aad\">\n",
              "    <div class=\"colab-df-container\">\n",
              "      <div>\n",
              "<style scoped>\n",
              "    .dataframe tbody tr th:only-of-type {\n",
              "        vertical-align: middle;\n",
              "    }\n",
              "\n",
              "    .dataframe tbody tr th {\n",
              "        vertical-align: top;\n",
              "    }\n",
              "\n",
              "    .dataframe thead th {\n",
              "        text-align: right;\n",
              "    }\n",
              "</style>\n",
              "<table border=\"1\" class=\"dataframe\">\n",
              "  <thead>\n",
              "    <tr style=\"text-align: right;\">\n",
              "      <th></th>\n",
              "      <th>sentence</th>\n",
              "      <th>Word</th>\n",
              "      <th>POS</th>\n",
              "      <th>Tag</th>\n",
              "    </tr>\n",
              "  </thead>\n",
              "  <tbody>\n",
              "    <tr>\n",
              "      <th>0</th>\n",
              "      <td>Sentence: 1</td>\n",
              "      <td>thousands</td>\n",
              "      <td>NNS</td>\n",
              "      <td>O</td>\n",
              "    </tr>\n",
              "    <tr>\n",
              "      <th>1</th>\n",
              "      <td>Sentence: 1</td>\n",
              "      <td>of</td>\n",
              "      <td>IN</td>\n",
              "      <td>O</td>\n",
              "    </tr>\n",
              "    <tr>\n",
              "      <th>2</th>\n",
              "      <td>Sentence: 1</td>\n",
              "      <td>demonstrators</td>\n",
              "      <td>NNS</td>\n",
              "      <td>O</td>\n",
              "    </tr>\n",
              "    <tr>\n",
              "      <th>3</th>\n",
              "      <td>Sentence: 1</td>\n",
              "      <td>have</td>\n",
              "      <td>VBP</td>\n",
              "      <td>O</td>\n",
              "    </tr>\n",
              "    <tr>\n",
              "      <th>4</th>\n",
              "      <td>Sentence: 1</td>\n",
              "      <td>marched</td>\n",
              "      <td>VBN</td>\n",
              "      <td>O</td>\n",
              "    </tr>\n",
              "  </tbody>\n",
              "</table>\n",
              "</div>\n",
              "      <button class=\"colab-df-convert\" onclick=\"convertToInteractive('df-4dfd085e-1be9-49d7-acdf-458702f42aad')\"\n",
              "              title=\"Convert this dataframe to an interactive table.\"\n",
              "              style=\"display:none;\">\n",
              "        \n",
              "  <svg xmlns=\"http://www.w3.org/2000/svg\" height=\"24px\"viewBox=\"0 0 24 24\"\n",
              "       width=\"24px\">\n",
              "    <path d=\"M0 0h24v24H0V0z\" fill=\"none\"/>\n",
              "    <path d=\"M18.56 5.44l.94 2.06.94-2.06 2.06-.94-2.06-.94-.94-2.06-.94 2.06-2.06.94zm-11 1L8.5 8.5l.94-2.06 2.06-.94-2.06-.94L8.5 2.5l-.94 2.06-2.06.94zm10 10l.94 2.06.94-2.06 2.06-.94-2.06-.94-.94-2.06-.94 2.06-2.06.94z\"/><path d=\"M17.41 7.96l-1.37-1.37c-.4-.4-.92-.59-1.43-.59-.52 0-1.04.2-1.43.59L10.3 9.45l-7.72 7.72c-.78.78-.78 2.05 0 2.83L4 21.41c.39.39.9.59 1.41.59.51 0 1.02-.2 1.41-.59l7.78-7.78 2.81-2.81c.8-.78.8-2.07 0-2.86zM5.41 20L4 18.59l7.72-7.72 1.47 1.35L5.41 20z\"/>\n",
              "  </svg>\n",
              "      </button>\n",
              "      \n",
              "  <style>\n",
              "    .colab-df-container {\n",
              "      display:flex;\n",
              "      flex-wrap:wrap;\n",
              "      gap: 12px;\n",
              "    }\n",
              "\n",
              "    .colab-df-convert {\n",
              "      background-color: #E8F0FE;\n",
              "      border: none;\n",
              "      border-radius: 50%;\n",
              "      cursor: pointer;\n",
              "      display: none;\n",
              "      fill: #1967D2;\n",
              "      height: 32px;\n",
              "      padding: 0 0 0 0;\n",
              "      width: 32px;\n",
              "    }\n",
              "\n",
              "    .colab-df-convert:hover {\n",
              "      background-color: #E2EBFA;\n",
              "      box-shadow: 0px 1px 2px rgba(60, 64, 67, 0.3), 0px 1px 3px 1px rgba(60, 64, 67, 0.15);\n",
              "      fill: #174EA6;\n",
              "    }\n",
              "\n",
              "    [theme=dark] .colab-df-convert {\n",
              "      background-color: #3B4455;\n",
              "      fill: #D2E3FC;\n",
              "    }\n",
              "\n",
              "    [theme=dark] .colab-df-convert:hover {\n",
              "      background-color: #434B5C;\n",
              "      box-shadow: 0px 1px 3px 1px rgba(0, 0, 0, 0.15);\n",
              "      filter: drop-shadow(0px 1px 2px rgba(0, 0, 0, 0.3));\n",
              "      fill: #FFFFFF;\n",
              "    }\n",
              "  </style>\n",
              "\n",
              "      <script>\n",
              "        const buttonEl =\n",
              "          document.querySelector('#df-4dfd085e-1be9-49d7-acdf-458702f42aad button.colab-df-convert');\n",
              "        buttonEl.style.display =\n",
              "          google.colab.kernel.accessAllowed ? 'block' : 'none';\n",
              "\n",
              "        async function convertToInteractive(key) {\n",
              "          const element = document.querySelector('#df-4dfd085e-1be9-49d7-acdf-458702f42aad');\n",
              "          const dataTable =\n",
              "            await google.colab.kernel.invokeFunction('convertToInteractive',\n",
              "                                                     [key], {});\n",
              "          if (!dataTable) return;\n",
              "\n",
              "          const docLinkHtml = 'Like what you see? Visit the ' +\n",
              "            '<a target=\"_blank\" href=https://colab.research.google.com/notebooks/data_table.ipynb>data table notebook</a>'\n",
              "            + ' to learn more about interactive tables.';\n",
              "          element.innerHTML = '';\n",
              "          dataTable['output_type'] = 'display_data';\n",
              "          await google.colab.output.renderOutput(dataTable, element);\n",
              "          const docLink = document.createElement('div');\n",
              "          docLink.innerHTML = docLinkHtml;\n",
              "          element.appendChild(docLink);\n",
              "        }\n",
              "      </script>\n",
              "    </div>\n",
              "  </div>\n",
              "  "
            ]
          },
          "metadata": {},
          "execution_count": 6
        }
      ],
      "source": [
        "# Define a function `pre_processing` that takes a dataframe `data` and applies the `lower()` method to the \"Word\" column of the dataframe, which converts all words to lowercase. \n",
        "# Then, it returns the dataframe with the lowercase words.\n",
        "def pre_processing(data):\n",
        "    data['Word'] = data['Word'].apply(lambda x: x.lower())\n",
        "    return data\n",
        "\n",
        "# Call the `pre_processing` function with the argument `data`, which should be a dataframe containing words in a column called \"Word\". \n",
        "# The modified dataframe is stored in a new variable `dataPreProcess`, and the first five rows of this dataframe are displayed using the `head()` method.\n",
        "dataPreProcess = pre_processing(data)\n",
        "dataPreProcess.head(5)\n"
      ]
    },
    {
      "cell_type": "markdown",
      "metadata": {
        "id": "PIPM3ZblnIfB"
      },
      "source": [
        "First let's collect the unique words and the unique POS tags in the dataset, we will use this to construct the HMM later"
      ]
    },
    {
      "cell_type": "code",
      "execution_count": 7,
      "metadata": {
        "colab": {
          "base_uri": "https://localhost:8080/"
        },
        "id": "z8ztujKumbQb",
        "outputId": "da63abd1-a24f-44b2-9897-22421fd398c1"
      },
      "outputs": [
        {
          "output_type": "execute_result",
          "data": {
            "text/plain": [
              "(42, 31817)"
            ]
          },
          "metadata": {},
          "execution_count": 7
        }
      ],
      "source": [
        "tags = list(set(dataPreProcess.POS.values))  # Unique POS tags in the dataset\n",
        "words = list(set(dataPreProcess.Word.values))  # Unique words in the dataset\n",
        "len(tags), len(words)"
      ]
    },
    {
      "cell_type": "markdown",
      "metadata": {
        "id": "gXihLYTNnV84"
      },
      "source": [
        "### We have 42 different tags and 35,178 different words, so the HMM that we construct will have the following properties\n",
        "- The hidden states of the this HMM will correspond to the POS tags, so we will have 42 hidden states.\n",
        "- The Observations for this HMM will correspond to the sentences and their words.\n",
        "\n",
        "#### Before constructing the HMM, we will split the data into train and test."
      ]
    },
    {
      "cell_type": "code",
      "execution_count": 8,
      "metadata": {
        "id": "3Xb_rvZ6nQNH"
      },
      "outputs": [],
      "source": [
        "# Splitting the data into input features and target variable\n",
        "y = dataPreProcess.POS # Target variable (labels)\n",
        "X = dataPreProcess.drop('POS', axis=1) # Input features (datas)\n",
        "\n",
        "# Using GroupShuffleSplit to split the data into train and test sets\n",
        "gs = GroupShuffleSplit(n_splits=2, test_size=.33, random_state=42) # Initialize GroupShuffleSplit object : Split by 2 with 33% test and 0.66% train\n",
        "train_ix, test_ix = next(gs.split(X, y, groups=dataPreProcess['sentence'])) # Generate indices for train and test sets\n",
        "\n",
        "# Creating train and test sets using the generated indices\n",
        "data_train = dataPreProcess.loc[train_ix] # Train set \n",
        "data_test = dataPreProcess.loc[test_ix] # Test set"
      ]
    },
    {
      "cell_type": "code",
      "execution_count": 9,
      "metadata": {
        "id": "FhZFM-48t3OI",
        "colab": {
          "base_uri": "https://localhost:8080/",
          "height": 206
        },
        "outputId": "8ec016d2-646d-4d93-9886-2e795a2d900a"
      },
      "outputs": [
        {
          "output_type": "execute_result",
          "data": {
            "text/plain": [
              "       sentence      Word  POS Tag\n",
              "24  Sentence: 2  families  NNS   O\n",
              "25  Sentence: 2        of   IN   O\n",
              "26  Sentence: 2  soldiers  NNS   O\n",
              "27  Sentence: 2    killed  VBN   O\n",
              "28  Sentence: 2        in   IN   O"
            ],
            "text/html": [
              "\n",
              "  <div id=\"df-17fce89b-c20f-4bda-b92d-a027c6452658\">\n",
              "    <div class=\"colab-df-container\">\n",
              "      <div>\n",
              "<style scoped>\n",
              "    .dataframe tbody tr th:only-of-type {\n",
              "        vertical-align: middle;\n",
              "    }\n",
              "\n",
              "    .dataframe tbody tr th {\n",
              "        vertical-align: top;\n",
              "    }\n",
              "\n",
              "    .dataframe thead th {\n",
              "        text-align: right;\n",
              "    }\n",
              "</style>\n",
              "<table border=\"1\" class=\"dataframe\">\n",
              "  <thead>\n",
              "    <tr style=\"text-align: right;\">\n",
              "      <th></th>\n",
              "      <th>sentence</th>\n",
              "      <th>Word</th>\n",
              "      <th>POS</th>\n",
              "      <th>Tag</th>\n",
              "    </tr>\n",
              "  </thead>\n",
              "  <tbody>\n",
              "    <tr>\n",
              "      <th>24</th>\n",
              "      <td>Sentence: 2</td>\n",
              "      <td>families</td>\n",
              "      <td>NNS</td>\n",
              "      <td>O</td>\n",
              "    </tr>\n",
              "    <tr>\n",
              "      <th>25</th>\n",
              "      <td>Sentence: 2</td>\n",
              "      <td>of</td>\n",
              "      <td>IN</td>\n",
              "      <td>O</td>\n",
              "    </tr>\n",
              "    <tr>\n",
              "      <th>26</th>\n",
              "      <td>Sentence: 2</td>\n",
              "      <td>soldiers</td>\n",
              "      <td>NNS</td>\n",
              "      <td>O</td>\n",
              "    </tr>\n",
              "    <tr>\n",
              "      <th>27</th>\n",
              "      <td>Sentence: 2</td>\n",
              "      <td>killed</td>\n",
              "      <td>VBN</td>\n",
              "      <td>O</td>\n",
              "    </tr>\n",
              "    <tr>\n",
              "      <th>28</th>\n",
              "      <td>Sentence: 2</td>\n",
              "      <td>in</td>\n",
              "      <td>IN</td>\n",
              "      <td>O</td>\n",
              "    </tr>\n",
              "  </tbody>\n",
              "</table>\n",
              "</div>\n",
              "      <button class=\"colab-df-convert\" onclick=\"convertToInteractive('df-17fce89b-c20f-4bda-b92d-a027c6452658')\"\n",
              "              title=\"Convert this dataframe to an interactive table.\"\n",
              "              style=\"display:none;\">\n",
              "        \n",
              "  <svg xmlns=\"http://www.w3.org/2000/svg\" height=\"24px\"viewBox=\"0 0 24 24\"\n",
              "       width=\"24px\">\n",
              "    <path d=\"M0 0h24v24H0V0z\" fill=\"none\"/>\n",
              "    <path d=\"M18.56 5.44l.94 2.06.94-2.06 2.06-.94-2.06-.94-.94-2.06-.94 2.06-2.06.94zm-11 1L8.5 8.5l.94-2.06 2.06-.94-2.06-.94L8.5 2.5l-.94 2.06-2.06.94zm10 10l.94 2.06.94-2.06 2.06-.94-2.06-.94-.94-2.06-.94 2.06-2.06.94z\"/><path d=\"M17.41 7.96l-1.37-1.37c-.4-.4-.92-.59-1.43-.59-.52 0-1.04.2-1.43.59L10.3 9.45l-7.72 7.72c-.78.78-.78 2.05 0 2.83L4 21.41c.39.39.9.59 1.41.59.51 0 1.02-.2 1.41-.59l7.78-7.78 2.81-2.81c.8-.78.8-2.07 0-2.86zM5.41 20L4 18.59l7.72-7.72 1.47 1.35L5.41 20z\"/>\n",
              "  </svg>\n",
              "      </button>\n",
              "      \n",
              "  <style>\n",
              "    .colab-df-container {\n",
              "      display:flex;\n",
              "      flex-wrap:wrap;\n",
              "      gap: 12px;\n",
              "    }\n",
              "\n",
              "    .colab-df-convert {\n",
              "      background-color: #E8F0FE;\n",
              "      border: none;\n",
              "      border-radius: 50%;\n",
              "      cursor: pointer;\n",
              "      display: none;\n",
              "      fill: #1967D2;\n",
              "      height: 32px;\n",
              "      padding: 0 0 0 0;\n",
              "      width: 32px;\n",
              "    }\n",
              "\n",
              "    .colab-df-convert:hover {\n",
              "      background-color: #E2EBFA;\n",
              "      box-shadow: 0px 1px 2px rgba(60, 64, 67, 0.3), 0px 1px 3px 1px rgba(60, 64, 67, 0.15);\n",
              "      fill: #174EA6;\n",
              "    }\n",
              "\n",
              "    [theme=dark] .colab-df-convert {\n",
              "      background-color: #3B4455;\n",
              "      fill: #D2E3FC;\n",
              "    }\n",
              "\n",
              "    [theme=dark] .colab-df-convert:hover {\n",
              "      background-color: #434B5C;\n",
              "      box-shadow: 0px 1px 3px 1px rgba(0, 0, 0, 0.15);\n",
              "      filter: drop-shadow(0px 1px 2px rgba(0, 0, 0, 0.3));\n",
              "      fill: #FFFFFF;\n",
              "    }\n",
              "  </style>\n",
              "\n",
              "      <script>\n",
              "        const buttonEl =\n",
              "          document.querySelector('#df-17fce89b-c20f-4bda-b92d-a027c6452658 button.colab-df-convert');\n",
              "        buttonEl.style.display =\n",
              "          google.colab.kernel.accessAllowed ? 'block' : 'none';\n",
              "\n",
              "        async function convertToInteractive(key) {\n",
              "          const element = document.querySelector('#df-17fce89b-c20f-4bda-b92d-a027c6452658');\n",
              "          const dataTable =\n",
              "            await google.colab.kernel.invokeFunction('convertToInteractive',\n",
              "                                                     [key], {});\n",
              "          if (!dataTable) return;\n",
              "\n",
              "          const docLinkHtml = 'Like what you see? Visit the ' +\n",
              "            '<a target=\"_blank\" href=https://colab.research.google.com/notebooks/data_table.ipynb>data table notebook</a>'\n",
              "            + ' to learn more about interactive tables.';\n",
              "          element.innerHTML = '';\n",
              "          dataTable['output_type'] = 'display_data';\n",
              "          await google.colab.output.renderOutput(dataTable, element);\n",
              "          const docLink = document.createElement('div');\n",
              "          docLink.innerHTML = docLinkHtml;\n",
              "          element.appendChild(docLink);\n",
              "        }\n",
              "      </script>\n",
              "    </div>\n",
              "  </div>\n",
              "  "
            ]
          },
          "metadata": {},
          "execution_count": 9
        }
      ],
      "source": [
        "# Showing the first 5 rows of the train set\n",
        "data_train.head(5)"
      ]
    },
    {
      "cell_type": "code",
      "execution_count": 10,
      "metadata": {
        "id": "FMrZCuzut6ef",
        "colab": {
          "base_uri": "https://localhost:8080/",
          "height": 206
        },
        "outputId": "88a58a64-9ca8-4390-a12d-c676fa59fe8d"
      },
      "outputs": [
        {
          "output_type": "execute_result",
          "data": {
            "text/plain": [
              "      sentence           Word  POS Tag\n",
              "0  Sentence: 1      thousands  NNS   O\n",
              "1  Sentence: 1             of   IN   O\n",
              "2  Sentence: 1  demonstrators  NNS   O\n",
              "3  Sentence: 1           have  VBP   O\n",
              "4  Sentence: 1        marched  VBN   O"
            ],
            "text/html": [
              "\n",
              "  <div id=\"df-43aa7eb2-c805-421d-9552-340da6a761be\">\n",
              "    <div class=\"colab-df-container\">\n",
              "      <div>\n",
              "<style scoped>\n",
              "    .dataframe tbody tr th:only-of-type {\n",
              "        vertical-align: middle;\n",
              "    }\n",
              "\n",
              "    .dataframe tbody tr th {\n",
              "        vertical-align: top;\n",
              "    }\n",
              "\n",
              "    .dataframe thead th {\n",
              "        text-align: right;\n",
              "    }\n",
              "</style>\n",
              "<table border=\"1\" class=\"dataframe\">\n",
              "  <thead>\n",
              "    <tr style=\"text-align: right;\">\n",
              "      <th></th>\n",
              "      <th>sentence</th>\n",
              "      <th>Word</th>\n",
              "      <th>POS</th>\n",
              "      <th>Tag</th>\n",
              "    </tr>\n",
              "  </thead>\n",
              "  <tbody>\n",
              "    <tr>\n",
              "      <th>0</th>\n",
              "      <td>Sentence: 1</td>\n",
              "      <td>thousands</td>\n",
              "      <td>NNS</td>\n",
              "      <td>O</td>\n",
              "    </tr>\n",
              "    <tr>\n",
              "      <th>1</th>\n",
              "      <td>Sentence: 1</td>\n",
              "      <td>of</td>\n",
              "      <td>IN</td>\n",
              "      <td>O</td>\n",
              "    </tr>\n",
              "    <tr>\n",
              "      <th>2</th>\n",
              "      <td>Sentence: 1</td>\n",
              "      <td>demonstrators</td>\n",
              "      <td>NNS</td>\n",
              "      <td>O</td>\n",
              "    </tr>\n",
              "    <tr>\n",
              "      <th>3</th>\n",
              "      <td>Sentence: 1</td>\n",
              "      <td>have</td>\n",
              "      <td>VBP</td>\n",
              "      <td>O</td>\n",
              "    </tr>\n",
              "    <tr>\n",
              "      <th>4</th>\n",
              "      <td>Sentence: 1</td>\n",
              "      <td>marched</td>\n",
              "      <td>VBN</td>\n",
              "      <td>O</td>\n",
              "    </tr>\n",
              "  </tbody>\n",
              "</table>\n",
              "</div>\n",
              "      <button class=\"colab-df-convert\" onclick=\"convertToInteractive('df-43aa7eb2-c805-421d-9552-340da6a761be')\"\n",
              "              title=\"Convert this dataframe to an interactive table.\"\n",
              "              style=\"display:none;\">\n",
              "        \n",
              "  <svg xmlns=\"http://www.w3.org/2000/svg\" height=\"24px\"viewBox=\"0 0 24 24\"\n",
              "       width=\"24px\">\n",
              "    <path d=\"M0 0h24v24H0V0z\" fill=\"none\"/>\n",
              "    <path d=\"M18.56 5.44l.94 2.06.94-2.06 2.06-.94-2.06-.94-.94-2.06-.94 2.06-2.06.94zm-11 1L8.5 8.5l.94-2.06 2.06-.94-2.06-.94L8.5 2.5l-.94 2.06-2.06.94zm10 10l.94 2.06.94-2.06 2.06-.94-2.06-.94-.94-2.06-.94 2.06-2.06.94z\"/><path d=\"M17.41 7.96l-1.37-1.37c-.4-.4-.92-.59-1.43-.59-.52 0-1.04.2-1.43.59L10.3 9.45l-7.72 7.72c-.78.78-.78 2.05 0 2.83L4 21.41c.39.39.9.59 1.41.59.51 0 1.02-.2 1.41-.59l7.78-7.78 2.81-2.81c.8-.78.8-2.07 0-2.86zM5.41 20L4 18.59l7.72-7.72 1.47 1.35L5.41 20z\"/>\n",
              "  </svg>\n",
              "      </button>\n",
              "      \n",
              "  <style>\n",
              "    .colab-df-container {\n",
              "      display:flex;\n",
              "      flex-wrap:wrap;\n",
              "      gap: 12px;\n",
              "    }\n",
              "\n",
              "    .colab-df-convert {\n",
              "      background-color: #E8F0FE;\n",
              "      border: none;\n",
              "      border-radius: 50%;\n",
              "      cursor: pointer;\n",
              "      display: none;\n",
              "      fill: #1967D2;\n",
              "      height: 32px;\n",
              "      padding: 0 0 0 0;\n",
              "      width: 32px;\n",
              "    }\n",
              "\n",
              "    .colab-df-convert:hover {\n",
              "      background-color: #E2EBFA;\n",
              "      box-shadow: 0px 1px 2px rgba(60, 64, 67, 0.3), 0px 1px 3px 1px rgba(60, 64, 67, 0.15);\n",
              "      fill: #174EA6;\n",
              "    }\n",
              "\n",
              "    [theme=dark] .colab-df-convert {\n",
              "      background-color: #3B4455;\n",
              "      fill: #D2E3FC;\n",
              "    }\n",
              "\n",
              "    [theme=dark] .colab-df-convert:hover {\n",
              "      background-color: #434B5C;\n",
              "      box-shadow: 0px 1px 3px 1px rgba(0, 0, 0, 0.15);\n",
              "      filter: drop-shadow(0px 1px 2px rgba(0, 0, 0, 0.3));\n",
              "      fill: #FFFFFF;\n",
              "    }\n",
              "  </style>\n",
              "\n",
              "      <script>\n",
              "        const buttonEl =\n",
              "          document.querySelector('#df-43aa7eb2-c805-421d-9552-340da6a761be button.colab-df-convert');\n",
              "        buttonEl.style.display =\n",
              "          google.colab.kernel.accessAllowed ? 'block' : 'none';\n",
              "\n",
              "        async function convertToInteractive(key) {\n",
              "          const element = document.querySelector('#df-43aa7eb2-c805-421d-9552-340da6a761be');\n",
              "          const dataTable =\n",
              "            await google.colab.kernel.invokeFunction('convertToInteractive',\n",
              "                                                     [key], {});\n",
              "          if (!dataTable) return;\n",
              "\n",
              "          const docLinkHtml = 'Like what you see? Visit the ' +\n",
              "            '<a target=\"_blank\" href=https://colab.research.google.com/notebooks/data_table.ipynb>data table notebook</a>'\n",
              "            + ' to learn more about interactive tables.';\n",
              "          element.innerHTML = '';\n",
              "          dataTable['output_type'] = 'display_data';\n",
              "          await google.colab.output.renderOutput(dataTable, element);\n",
              "          const docLink = document.createElement('div');\n",
              "          docLink.innerHTML = docLinkHtml;\n",
              "          element.appendChild(docLink);\n",
              "        }\n",
              "      </script>\n",
              "    </div>\n",
              "  </div>\n",
              "  "
            ]
          },
          "metadata": {},
          "execution_count": 10
        }
      ],
      "source": [
        "# Showing the first 5 rows of the test set\n",
        "data_test.head(5)"
      ]
    },
    {
      "cell_type": "markdown",
      "metadata": {
        "id": "iu1fwHIzo0KU"
      },
      "source": [
        "Now lets encode the POS and Words to be used to generate the HMM."
      ]
    },
    {
      "cell_type": "code",
      "execution_count": 11,
      "metadata": {
        "colab": {
          "base_uri": "https://localhost:8080/"
        },
        "id": "yj8cnwcOoznK",
        "outputId": "e6da6aea-a4cb-4e34-b3f1-7f8db026cedb"
      },
      "outputs": [
        {
          "output_type": "execute_result",
          "data": {
            "text/plain": [
              "(42, 25100)"
            ]
          },
          "metadata": {},
          "execution_count": 11
        }
      ],
      "source": [
        "# Select a random sample of 15% of the training data\n",
        "dfupdate = data_train.sample(frac=.15, replace=False, random_state=42)\n",
        "\n",
        "# Replace the words in the selected sample with 'UNKNOWN'\n",
        "dfupdate.Word = 'UNKNOWN'\n",
        "\n",
        "# Update the training data with the modified sample\n",
        "data_train.update(dfupdate)\n",
        "\n",
        "# Collect the unique words in the modified training data\n",
        "words = list(set(data_train.Word.values))\n",
        "\n",
        "# Convert the unique words and tags into numerical IDs\n",
        "word2id = {w: i for i, w in enumerate(words)}\n",
        "tag2id = {t: i for i, t in enumerate(tags)}\n",
        "id2tag = {i: t for i, t in enumerate(tags)}\n",
        "\n",
        "# Get the number of unique tags and words in the dataset\n",
        "len(tags), len(words)"
      ]
    },
    {
      "cell_type": "markdown",
      "metadata": {
        "id": "koiN38BSpNZb"
      },
      "source": [
        "In your theory classes you might have seen that the Hidden Markov Models can be learned by using the Baum-Welch algorithm by just using the observations.\n",
        "Although we can learn the Hidden States (POS tags) using Baum-Welch algorithm,We cannot map them back the states (words) to the POS tag. So for this exercise we will skip using the BW algorithm and directly create the HMM.\n",
        "\n",
        "For creating the HMM we should build the following three parameters. \n",
        "- `startprob_`\n",
        "- `transmat_`\n",
        "- `emissionprob_`"
      ]
    },
    {
      "cell_type": "markdown",
      "metadata": {
        "id": "5RXWyEXlqD0B"
      },
      "source": [
        "To construct the above mentioned paramters let's first create some useful matrices that will assist us in creating the above three parameters"
      ]
    },
    {
      "cell_type": "code",
      "execution_count": 12,
      "metadata": {
        "id": "uiXtl641o76N",
        "colab": {
          "base_uri": "https://localhost:8080/"
        },
        "outputId": "9993dad3-4d99-44a8-e75e-b1f519fcf929"
      },
      "outputs": [
        {
          "output_type": "stream",
          "name": "stderr",
          "text": [
            "100%|██████████| 702936/702936 [00:00<00:00, 830181.48it/s]\n"
          ]
        }
      ],
      "source": [
        "# Compute the count of POS tags in the dataset\n",
        "count_tags = dict(data_train.POS.value_counts())\n",
        "\n",
        "# Compute the count of each word associated with each POS tag\n",
        "count_tags_to_words = data_train.groupby(['POS']).apply(\n",
        "    lambda grp: grp.groupby('Word')['POS'].count().to_dict()).to_dict()\n",
        "\n",
        "# Compute the count of each POS tag at the beginning of a sentence\n",
        "count_init_tags = dict(data_train.groupby('sentence').first().POS.value_counts())\n",
        "\n",
        "# Create a matrix to store the frequency of transitions between POS tags\n",
        "count_tags_to_next_tags = np.zeros((len(tags), len(tags)), dtype=int)\n",
        "\n",
        "# Loop over the sentences and update the matrix with transition frequencies\n",
        "sentences = list(data_train.sentence)\n",
        "pos = list(data_train.POS)\n",
        "for i in tqdm(range(len(sentences)), position=0, leave=True):\n",
        "    # Check if the current sentence is not the first in the dataset\n",
        "    if (i > 0) and (sentences[i] == sentences[i - 1]):\n",
        "        # Get the previous and current POS tags\n",
        "        prevtagid = tag2id[pos[i - 1]]\n",
        "        nexttagid = tag2id[pos[i]]\n",
        "        # Update the matrix with the transition frequency\n",
        "        count_tags_to_next_tags[prevtagid][nexttagid] += 1"
      ]
    },
    {
      "cell_type": "markdown",
      "metadata": {
        "id": "S67MQmn5sCWJ"
      },
      "source": [
        "Now Let's build the parameter matrices "
      ]
    },
    {
      "cell_type": "code",
      "execution_count": 13,
      "metadata": {
        "id": "LPV6pioBqaey",
        "colab": {
          "base_uri": "https://localhost:8080/"
        },
        "outputId": "f96c17d2-c614-4ac4-924f-7db03f7fa24d"
      },
      "outputs": [
        {
          "output_type": "stream",
          "name": "stderr",
          "text": [
            "100%|██████████| 42/42 [00:00<00:00, 58.69it/s]\n"
          ]
        }
      ],
      "source": [
        "# Initialize the parameter matrices\n",
        "startprob = np.zeros((len(tags),))      # Starting probability matrix for each tag with 0\n",
        "transmat = np.zeros((len(tags), len(tags)))   # Transition probability matrix for each tag with 0\n",
        "emissionprob = np.zeros((len(tags), len(words)))  # Emission probability matrix for each tag and word with 0\n",
        "\n",
        "# Calculate the total number of sentences\n",
        "num_sentences = sum(count_init_tags.values())\n",
        "\n",
        "# Calculate the sum of counts of transitions for each tag to the next tags\n",
        "sum_tags_to_next_tags = np.sum(count_tags_to_next_tags, axis=1)\n",
        "\n",
        "# Iterate over each tag and its corresponding tag id\n",
        "for tag, tagid in tqdm(tag2id.items(), position=0, leave=True):\n",
        "    \n",
        "    # Get the count of the tag\n",
        "    floatCountTag = float(count_tags.get(tag, 0))\n",
        "    \n",
        "    # Calculate the starting probability of the tag\n",
        "    startprob[tagid] = count_init_tags.get(tag, 0) / num_sentences\n",
        "    \n",
        "    # Calculate the emission probability of the tag for each word\n",
        "    for word, wordid in word2id.items():\n",
        "        emissionprob[tagid][wordid] = count_tags_to_words.get(tag, {}).get(word, 0) / floatCountTag\n",
        "    \n",
        "    # Calculate the transition probability of the tag to each of the other tags\n",
        "    for tag2, tagid2 in tag2id.items():\n",
        "        transmat[tagid][tagid2] = count_tags_to_next_tags[tagid][tagid2] / sum_tags_to_next_tags[tagid]"
      ]
    },
    {
      "cell_type": "markdown",
      "metadata": {
        "id": "Sbca__ogusIu"
      },
      "source": [
        "## Task 1: Similar to how we built the hidden state transition probability matrix as shown above, you will built the transition probability between the words. With this matrix write a function that can calculate the log likelihood given a sentence."
      ]
    },
    {
      "cell_type": "code",
      "execution_count": 14,
      "metadata": {
        "id": "Quj1lpeeurXC",
        "colab": {
          "base_uri": "https://localhost:8080/"
        },
        "outputId": "a8095997-adfe-421a-f134-b6c37cfe9990"
      },
      "outputs": [
        {
          "output_type": "stream",
          "name": "stderr",
          "text": [
            "100%|██████████| 32132/32132 [23:33<00:00, 22.73it/s]\n"
          ]
        }
      ],
      "source": [
        "# We import that because we had the NameError: name 'List' is not defined\n",
        "from typing import List\n",
        "\n",
        "# Create the word transition matrix\n",
        "word_transition_matrix = np.zeros((len(words), len(words)), dtype=np.float64)\n",
        "\n",
        "# Iterate over the sentences in the dataset\n",
        "for sentence_id in tqdm(data_train['sentence'].unique(), position=0, leave=True):\n",
        "    # Get the words of the sentence\n",
        "    sentence_words = data_train.loc[data_train['sentence'] == sentence_id, 'Word'].values\n",
        "    \n",
        "    # Iterate over the words of the sentence, except for the last word\n",
        "    for i in range(len(sentence_words) - 1):\n",
        "        # Get the ID of the current and next words\n",
        "        current_word_id = word2id[sentence_words[i]]\n",
        "        next_word_id = word2id[sentence_words[i + 1]]\n",
        "        \n",
        "        # Increment the count of the transition from the current to the next word\n",
        "        word_transition_matrix[current_word_id, next_word_id] += 1\n",
        "\n",
        "# Normalize each row of the word_transition_matrix\n",
        "for i in range(len(words)):\n",
        "    row_sum = np.sum(word_transition_matrix[i])\n",
        "    if row_sum > 0:\n",
        "        word_transition_matrix[i] /= row_sum\n",
        "\n",
        "# print(word_transition_matrix)\n"
      ]
    },
    {
      "cell_type": "markdown",
      "source": [
        "#### The log-likelihood function "
      ],
      "metadata": {
        "id": "vXkM5du01LNs"
      }
    },
    {
      "cell_type": "code",
      "source": [
        "def calculate_log_likelihood(sentence: List[str], word_transition_matrix) -> float:\n",
        "    \"\"\"\n",
        "    Calculate the log-likelihood of a given sentence using the word transition matrix.\n",
        "    \n",
        "    Args:\n",
        "        sentence (List[str]): A list of words representing the sentence.\n",
        "        word_transition_matrix : A word transition matrix.\n",
        "    \n",
        "    Returns:\n",
        "        float: The log-likelihood of the sentence.\n",
        "    \"\"\"\n",
        "    log_likelihood = 0\n",
        "    \n",
        "    # Iterate through the words in the sentence and calculate the log-likelihood\n",
        "    for i in range(len(sentence) - 1):\n",
        "\n",
        "        # Get the current word and next word from the sentence\n",
        "        current_word = sentence[i]\n",
        "        next_word = sentence[i + 1]\n",
        "\n",
        "        # Check if the current and next words are in word2id, otherwise use 'UNKNOWN'\n",
        "        current_word_id = word2id.get(current_word, word2id['UNKNOWN'])\n",
        "        next_word_id = word2id.get(next_word, word2id['UNKNOWN'])\n",
        "        \n",
        "        # Get the transition probability between the current and next words using their IDs\n",
        "        transition_probability = word_transition_matrix[current_word_id][next_word_id]\n",
        "        \n",
        "        # Check if the probability is zero to avoid calculating the logarithm of zero\n",
        "        if transition_probability == 0:\n",
        "            log_likelihood += 0\n",
        "        \n",
        "        # Calculate the log-likelihood for this pair of words\n",
        "        log_likelihood += np.log(transition_probability)\n",
        "    \n",
        "    return log_likelihood"
      ],
      "metadata": {
        "id": "uRvaT8dg1RjH"
      },
      "execution_count": 15,
      "outputs": []
    },
    {
      "cell_type": "markdown",
      "source": [
        "####Now let's try this function on some exemples :\n"
      ],
      "metadata": {
        "id": "g8i3psK5b6y3"
      }
    },
    {
      "cell_type": "code",
      "source": [
        "print(calculate_log_likelihood([\"this\", \"is\", \"a\", \"protest\", \"about\", \"how\", \"the\", \"new\", \"law\", \"is\", \"not\", \"in\", \"the\", \"interest\", \"of\", \"the\", \"people\"], word_transition_matrix))\n",
        "print(calculate_log_likelihood([\"the\", \"international\", \"conference\", \"will\", \"continue\", \"as\", \"planned\", \"on\", \"Friday\"], word_transition_matrix))\n",
        "print(calculate_log_likelihood([\"who\", \"are\", \"you\", \"?\"], word_transition_matrix))\n",
        "print(calculate_log_likelihood([\"you\", \"are\", \"not\", \"me\"], word_transition_matrix))\n",
        "print(calculate_log_likelihood([\"do\", \"you\", \"expect\", \"to\", \"be\", \"happy\", \"to\", \"work\", \"late\"], word_transition_matrix))"
      ],
      "metadata": {
        "colab": {
          "base_uri": "https://localhost:8080/"
        },
        "id": "LuW95qvBcWMo",
        "outputId": "cd050320-060b-4d10-949b-91c6825555c2"
      },
      "execution_count": 16,
      "outputs": [
        {
          "output_type": "stream",
          "name": "stdout",
          "text": [
            "-70.96470273464142\n",
            "-34.95037224672289\n",
            "-15.9902178018753\n",
            "-13.89888346686548\n",
            "-35.11892547319604\n"
          ]
        }
      ]
    },
    {
      "cell_type": "markdown",
      "metadata": {
        "id": "Edf1YAFvwgXV"
      },
      "source": [
        "#### Now we will continue to constructing the HMM.\n",
        "\n",
        "We will use the hmmlearn implementation to initialize the HMM Model"
      ]
    },
    {
      "cell_type": "code",
      "execution_count": 17,
      "metadata": {
        "id": "IjanyLMiwzPa"
      },
      "outputs": [],
      "source": [
        "# To check if the matrix was correctly fill\n",
        "# for i in range(len(words)):\n",
        "#   for y in range(len(words)):\n",
        "#     if word_transition_matrix[i, y] != 0:\n",
        "#       print(word_transition_matrix[i, y])\n",
        "\n",
        "model = hmm.MultinomialHMM(n_components=len(tags), algorithm='viterbi', random_state=42)\n",
        "model.startprob_ = startprob\n",
        "model.transmat_ = transmat\n",
        "model.emissionprob_ = emissionprob"
      ]
    },
    {
      "cell_type": "markdown",
      "metadata": {
        "id": "yYDvk4HEw_SO"
      },
      "source": [
        "#### Before using the HMM to predict the POS tags, we have to fix the training set as some of the words and tags in the test data might not appear in the training data so we collect this data to use it later."
      ]
    },
    {
      "cell_type": "code",
      "execution_count": 18,
      "metadata": {
        "id": "v_GGsS_-w-fc",
        "colab": {
          "base_uri": "https://localhost:8080/"
        },
        "outputId": "db0b7a7e-89bd-49de-80ba-0f7cc25d116f"
      },
      "outputs": [
        {
          "output_type": "stream",
          "name": "stderr",
          "text": [
            "100%|██████████| 345639/345639 [00:00<00:00, 1910549.02it/s]\n"
          ]
        },
        {
          "output_type": "stream",
          "name": "stdout",
          "text": [
            "[24, 21, 28, 25, 26, 22, 34, 23, 19, 25, 22, 35, 30, 24, 26, 39, 31, 7, 34, 8, 26, 32, 14, 30, 24, 11, 17, 29, 27, 7, 32, 25, 18, 18, 12, 28, 32, 22, 21, 26, 13, 25, 33, 20, 9, 27, 36, 40, 18, 24, 11, 17, 11, 26, 14, 20, 28, 21, 41, 25, 35, 18, 21, 30, 20, 17, 18, 27, 24, 25, 26, 17, 22, 14, 22, 27, 26, 24, 21, 30, 10, 14, 32, 30, 22, 17, 16, 23, 17, 29, 23, 16, 18, 22, 23, 25, 17, 24, 29, 15, 16, 46, 14, 27, 23, 24, 22, 20, 19, 7, 12, 21, 19, 19, 40, 13, 14, 26, 18, 27, 11, 31, 33, 21, 23, 9, 19, 20, 38, 26, 23, 18, 24, 26, 21, 17, 18, 24, 26, 24, 24, 37, 34, 15, 15, 17, 19, 25, 17, 9, 41, 24, 22, 18, 12, 37, 27, 12, 21, 29, 16, 24, 29, 23, 20, 33, 17, 17, 11, 19, 43, 31, 21, 42, 13, 31, 27, 35, 31, 13, 14, 38, 26, 24, 22, 32, 29, 62, 12, 9, 30, 15, 31, 28, 29, 13, 19, 13, 12, 12, 16, 27, 23, 32, 20, 10, 23, 27, 34, 15, 13, 19, 21, 11, 26, 28, 36, 14, 15, 18, 6, 30, 9, 18, 24, 32, 29, 25, 23, 22, 21, 20, 15, 26, 17, 29, 21, 20, 30, 18, 22, 21, 25, 38, 17, 11, 34, 27, 37, 13, 26, 26, 25, 25, 36, 19, 19, 20, 23, 23, 11, 27, 15, 29, 37, 26, 13, 23, 14, 18, 12, 16, 19, 20, 10, 18, 6, 14, 28, 37, 16, 25, 15, 21, 25, 24, 28, 29, 11, 13, 33, 24, 21, 38, 28, 22, 23, 15, 23, 20, 13, 28, 36, 16, 32, 27, 10, 11, 13, 35, 22, 17, 15, 35, 25, 26, 17, 18, 24, 12, 22, 23, 26, 43, 26, 22, 26, 21, 36, 26, 17, 15, 23, 32, 30, 22, 29, 24, 27, 18, 17, 10, 21, 25, 31, 17, 31, 19, 22, 27, 21, 21, 24, 20, 21, 10, 24, 20, 28, 15, 34, 21, 22, 6, 23, 40, 10, 19, 16, 17, 14, 38, 33, 27, 34, 16, 14, 13, 37, 15, 10, 20, 14, 28, 20, 10, 27, 29, 20, 22, 23, 25, 19, 13, 25, 14, 5, 28, 19, 20, 23, 29, 16, 32, 15, 49, 48, 17, 34, 27, 34, 21, 25, 25, 24, 24, 20, 24, 34, 9, 17, 26, 30, 25, 33, 30, 11, 19, 22, 13, 44, 29, 14, 6, 20, 25, 27, 25, 22, 15, 23, 21, 30, 23, 16, 21, 13, 8, 8, 28, 24, 39, 10, 43, 13, 28, 24, 10, 26, 26, 19, 24, 25, 38, 23, 25, 16, 20, 26, 29, 14, 15, 21, 23, 34, 28, 19, 8, 26, 21, 18, 26, 25, 25, 27, 19, 18, 20, 22, 24, 27, 27, 35, 8, 27, 17, 32, 11, 15, 34, 17, 21, 17, 24, 27, 23, 20, 19, 30, 31, 24, 23, 18, 22, 20, 14, 21, 11, 2, 35, 26, 14, 23, 19, 21, 13, 21, 29, 32, 24, 20, 11, 22, 12, 24, 14, 23, 16, 19, 11, 18, 24, 16, 21, 11, 27, 14, 25, 17, 16, 12, 22, 24, 28, 20, 19, 22, 13, 22, 19, 17, 17, 24, 11, 28, 17, 29, 32, 7, 15, 22, 14, 26, 28, 18, 27, 29, 14, 18, 22, 19, 27, 39, 23, 18, 27, 36, 23, 23, 35, 10, 29, 17, 9, 16, 9, 37, 18, 40, 20, 29, 18, 20, 28, 17, 21, 23, 18, 20, 31, 9, 30, 26, 21, 19, 25, 14, 9, 18, 15, 25, 31, 18, 11, 38, 25, 24, 21, 35, 34, 29, 12, 19, 14, 22, 20, 6, 25, 25, 25, 16, 13, 13, 17, 21, 18, 21, 21, 21, 28, 30, 15, 32, 15, 22, 18, 15, 31, 15, 30, 29, 18, 13, 24, 6, 22, 29, 15, 14, 25, 19, 20, 19, 24, 21, 27, 24, 8, 27, 16, 9, 14, 32, 7, 23, 18, 10, 22, 12, 12, 32, 13, 7, 24, 17, 26, 10, 14, 10, 30, 18, 9, 13, 14, 20, 24, 33, 22, 8, 24, 41, 22, 25, 32, 20, 33, 26, 26, 18, 32, 27, 26, 11, 21, 17, 23, 7, 14, 27, 21, 36, 13, 24, 33, 25, 25, 29, 10, 22, 31, 11, 9, 23, 15, 37, 19, 25, 30, 22, 17, 18, 40, 23, 26, 23, 24, 33, 28, 20, 21, 30, 15, 25, 31, 16, 34, 25, 16, 16, 23, 16, 32, 35, 23, 29, 22, 13, 16, 30, 10, 18, 22, 30, 24, 29, 14, 19, 16, 29, 19, 24, 18, 34, 33, 22, 25, 19, 19, 22, 17, 20, 12, 21, 15, 33, 17, 27, 32, 44, 28, 9, 25, 24, 9, 21, 18, 21, 25, 18, 20, 28, 20, 22, 21, 32, 6, 24, 27, 18, 16, 20, 17, 24, 13, 22, 18, 19, 21, 16, 22, 4, 18, 15, 26, 28, 23, 24, 21, 22, 23, 24, 17, 6, 27, 11, 9, 21, 25, 70, 13, 25, 22, 28, 28, 31, 30, 18, 26, 15, 19, 26, 24, 6, 25, 30, 22, 38, 15, 10, 16, 29, 35, 20, 15, 24, 29, 20, 16, 34, 17, 25, 25, 24, 21, 21, 14, 20, 25, 27, 29, 25, 36, 23, 19, 19, 19, 24, 23, 35, 19, 8, 18, 36, 11, 19, 10, 11, 29, 15, 19, 26, 27, 15, 22, 22, 30, 15, 18, 11, 21, 18, 29, 14, 13, 29, 23, 15, 25, 20, 18, 16, 27, 16, 20, 17, 16, 22, 20, 20, 22, 16, 21, 14, 20, 28, 17, 38, 12, 20, 8, 32, 6, 30, 22, 22, 15, 26, 31, 19, 31, 28, 27, 29, 17, 26, 16, 22, 31, 22, 22, 30, 32, 12, 23, 27, 30, 22, 23, 20, 30, 19, 19, 10, 29, 23, 37, 21, 22, 28, 7, 13, 12, 31, 17, 11, 19, 8, 9, 26, 20, 12, 16, 13, 13, 20, 30, 20, 15, 16, 13, 21, 22, 20, 17, 16, 24, 5, 13, 9, 22, 17, 14, 16, 25, 30, 12, 23, 21, 27, 10, 5, 23, 20, 8, 29, 25, 20, 29, 19, 22, 20, 15, 7, 8, 18, 10, 24, 23, 30, 38, 32, 26, 9, 26, 31, 14, 32, 21, 24, 22, 22, 26, 10, 31, 24, 14, 15, 35, 16, 20, 27, 20, 21, 11, 28, 25, 30, 29, 26, 37, 21, 24, 11, 13, 13, 19, 18, 28, 20, 44, 16, 21, 22, 23, 32, 20, 28, 14, 16, 21, 9, 20, 19, 28, 9, 13, 31, 19, 31, 25, 25, 23, 40, 26, 18, 25, 25, 15, 23, 22, 10, 20, 27, 17, 21, 7, 27, 27, 21, 22, 29, 30, 24, 25, 10, 14, 27, 25, 14, 19, 19, 41, 32, 29, 26, 24, 31, 21, 22, 19, 35, 22, 22, 16, 18, 27, 30, 11, 15, 15, 30, 12, 26, 23, 13, 18, 21, 30, 14, 14, 25, 19, 15, 29, 15, 15, 11, 12, 15, 21, 24, 14, 21, 12, 11, 27, 25, 34, 31, 22, 25, 38, 24, 10, 25, 21, 9, 8, 28, 20, 32, 28, 9, 13, 15, 22, 25, 7, 10, 22, 24, 13, 33, 28, 16, 24, 20, 23, 21, 21, 23, 35, 9, 18, 20, 23, 8, 18, 16, 26, 24, 20, 9, 35, 32, 28, 26, 26, 14, 25, 20, 28, 35, 31, 28, 21, 20, 11, 29, 29, 21, 35, 19, 19, 23, 23, 14, 25, 27, 11, 10, 17, 17, 29, 24, 26, 33, 23, 26, 23, 17, 35, 20, 18, 31, 13, 27, 32, 28, 21, 25, 20, 16, 34, 14, 26, 24, 30, 30, 28, 21, 24, 11, 14, 21, 32, 36, 26, 24, 26, 23, 23, 18, 24, 11, 24, 24, 24, 28, 33, 21, 38, 21, 33, 29, 36, 26, 15, 19, 15, 31, 19, 17, 15, 15, 23, 8, 25, 20, 22, 29, 19, 20, 16, 12, 13, 24, 13, 21, 17, 20, 28, 17, 30, 17, 27, 38, 23, 14, 24, 24, 24, 24, 17, 17, 15, 20, 36, 25, 21, 9, 27, 26, 27, 24, 35, 13, 20, 19, 18, 15, 29, 17, 18, 16, 32, 16, 27, 34, 12, 29, 31, 17, 27, 17, 15, 17, 26, 21, 14, 20, 21, 27, 26, 19, 21, 42, 17, 21, 26, 7, 13, 31, 26, 15, 32, 15, 25, 27, 38, 20, 14, 14, 27, 27, 30, 32, 25, 18, 32, 31, 18, 24, 23, 14, 7, 21, 22, 27, 21, 14, 19, 26, 15, 21, 20, 29, 39, 15, 24, 33, 14, 36, 24, 12, 28, 32, 33, 17, 29, 30, 19, 13, 29, 15, 16, 31, 23, 21, 20, 17, 25, 30, 23, 33, 25, 19, 19, 14, 23, 18, 21, 14, 18, 14, 37, 17, 18, 26, 14, 8, 30, 27, 25, 34, 14, 24, 36, 19, 21, 26, 14, 30, 21, 17, 26, 18, 12, 22, 20, 22, 24, 36, 22, 16, 37, 19, 24, 20, 15, 28, 21, 8, 24, 29, 53, 29, 28, 26, 16, 26, 19, 13, 21, 10, 27, 19, 24, 33, 25, 24, 10, 19, 27, 27, 19, 29, 18, 6, 18, 30, 19, 25, 23, 6, 23, 14, 21, 14, 28, 18, 13, 21, 20, 26, 34, 16, 19, 22, 28, 24, 23, 27, 24, 18, 29, 11, 21, 18, 20, 21, 20, 36, 35, 11, 26, 24, 11, 9, 21, 27, 29, 23, 24, 30, 20, 16, 7, 30, 19, 18, 28, 13, 22, 19, 15, 24, 28, 15, 7, 30, 25, 30, 21, 14, 20, 15, 24, 20, 12, 21, 24, 36, 12, 25, 20, 27, 23, 20, 28, 20, 27, 22, 13, 15, 36, 10, 13, 21, 17, 18, 20, 19, 17, 11, 19, 14, 24, 23, 36, 21, 6, 31, 22, 14, 31, 26, 27, 22, 26, 23, 27, 23, 32, 23, 28, 34, 36, 32, 29, 24, 31, 9, 15, 18, 25, 21, 17, 25, 20, 5, 26, 6, 26, 36, 18, 11, 20, 14, 26, 10, 24, 25, 21, 22, 19, 33, 23, 29, 25, 22, 28, 29, 15, 10, 23, 20, 15, 29, 27, 32, 22, 18, 24, 6, 26, 17, 15, 24, 25, 17, 32, 24, 21, 13, 15, 30, 12, 11, 23, 19, 26, 21, 12, 8, 29, 30, 18, 17, 17, 17, 20, 43, 18, 25, 25, 19, 18, 31, 31, 12, 25, 29, 18, 34, 27, 23, 25, 24, 17, 14, 18, 22, 31, 33, 11, 27, 31, 27, 27, 5, 15, 28, 17, 24, 20, 23, 22, 16, 19, 15, 15, 18, 19, 33, 35, 28, 25, 20, 33, 18, 23, 16, 19, 12, 21, 20, 24, 30, 7, 29, 28, 20, 19, 18, 19, 23, 22, 13, 25, 26, 16, 24, 22, 16, 8, 26, 32, 17, 28, 30, 28, 20, 24, 35, 8, 21, 34, 16, 27, 22, 25, 12, 29, 26, 18, 31, 30, 16, 11, 37, 31, 39, 20, 16, 23, 30, 38, 19, 24, 20, 20, 25, 15, 7, 29, 19, 20, 20, 11, 19, 26, 16, 34, 29, 14, 31, 27, 24, 15, 18, 17, 6, 31, 34, 15, 13, 18, 16, 15, 9, 6, 29, 17, 13, 27, 12, 18, 15, 21, 14, 13, 33, 50, 22, 24, 29, 19, 13, 9, 26, 28, 25, 13, 23, 18, 40, 24, 20, 12, 23, 23, 23, 19, 16, 16, 19, 25, 16, 23, 9, 17, 29, 12, 26, 28, 21, 15, 16, 20, 27, 27, 28, 24, 27, 25, 32, 25, 26, 14, 34, 17, 21, 26, 11, 22, 25, 11, 12, 18, 18, 11, 11, 31, 14, 15, 21, 10, 30, 14, 15, 24, 33, 29, 20, 17, 12, 16, 33, 10, 20, 19, 16, 19, 37, 25, 18, 16, 23, 19, 33, 32, 23, 18, 20, 30, 16, 7, 21, 14, 30, 22, 18, 20, 10, 23, 11, 39, 9, 29, 36, 14, 11, 22, 19, 22, 18, 17, 44, 14, 22, 15, 13, 19, 34, 19, 24, 12, 20, 20, 17, 29, 27, 31, 16, 20, 17, 15, 23, 13, 11, 34, 13, 33, 23, 23, 14, 23, 28, 15, 19, 21, 25, 31, 29, 16, 34, 21, 21, 15, 14, 13, 23, 18, 18, 13, 16, 23, 34, 8, 31, 14, 18, 17, 26, 24, 35, 19, 24, 24, 25, 29, 30, 24, 16, 28, 9, 28, 39, 31, 23, 12, 12, 20, 31, 13, 25, 12, 11, 28, 30, 19, 14, 23, 32, 32, 16, 33, 15, 35, 26, 21, 19, 15, 21, 31, 28, 31, 22, 17, 24, 23, 22, 14, 37, 11, 20, 21, 22, 28, 12, 9, 37, 18, 15, 22, 15, 20, 28, 21, 17, 20, 21, 22, 15, 18, 9, 18, 30, 18, 26, 42, 37, 13, 25, 43, 32, 29, 31, 25, 17, 23, 30, 25, 18, 27, 19, 31, 22, 18, 9, 26, 37, 24, 24, 25, 15, 26, 32, 28, 18, 24, 20, 15, 27, 27, 18, 22, 32, 18, 21, 14, 24, 36, 30, 18, 31, 36, 30, 28, 40, 12, 14, 19, 20, 16, 29, 18, 23, 14, 16, 26, 20, 6, 12, 24, 12, 17, 27, 13, 20, 26, 31, 11, 19, 51, 29, 34, 24, 18, 16, 11, 29, 28, 9, 10, 11, 7, 14, 24, 22, 25, 11, 20, 22, 27, 16, 33, 24, 16, 25, 18, 23, 29, 20, 22, 23, 38, 24, 18, 21, 10, 8, 19, 4, 41, 15, 17, 17, 33, 26, 28, 32, 12, 26, 18, 14, 38, 17, 24, 28, 14, 28, 38, 13, 24, 23, 27, 33, 18, 34, 32, 30, 28, 15, 22, 29, 6, 14, 15, 28, 20, 29, 24, 25, 15, 11, 31, 33, 21, 34, 20, 13, 42, 30, 18, 23, 34, 37, 22, 11, 23, 17, 19, 25, 21, 25, 23, 32, 29, 15, 33, 17, 22, 30, 22, 22, 20, 18, 17, 23, 11, 28, 9, 30, 25, 43, 11, 26, 18, 15, 17, 26, 11, 17, 19, 21, 18, 20, 25, 26, 24, 23, 26, 15, 27, 34, 13, 32, 29, 17, 29, 15, 48, 12, 34, 27, 28, 35, 39, 33, 28, 13, 25, 31, 19, 18, 38, 33, 34, 28, 23, 9, 24, 28, 13, 30, 16, 16, 18, 15, 25, 24, 23, 12, 30, 25, 18, 25, 29, 23, 31, 33, 15, 21, 12, 14, 17, 14, 11, 14, 24, 12, 21, 20, 22, 30, 18, 25, 11, 30, 20, 20, 16, 15, 20, 21, 16, 25, 22, 12, 18, 21, 14, 23, 34, 14, 25, 20, 11, 15, 15, 26, 17, 16, 32, 22, 12, 15, 24, 18, 10, 24, 32, 16, 22, 17, 9, 36, 13, 36, 17, 18, 24, 18, 10, 31, 9, 25, 19, 18, 17, 17, 12, 11, 16, 17, 18, 20, 17, 12, 12, 8, 12, 22, 12, 20, 15, 12, 10, 16, 41, 35, 18, 29, 16, 26, 16, 15, 18, 13, 10, 11, 18, 19, 16, 14, 24, 19, 23, 19, 34, 37, 16, 21, 23, 14, 29, 13, 18, 18, 20, 14, 18, 24, 24, 9, 11, 23, 18, 23, 14, 22, 12, 28, 12, 27, 10, 32, 26, 11, 23, 23, 27, 19, 16, 42, 17, 19, 24, 16, 24, 19, 28, 22, 11, 13, 12, 28, 18, 24, 29, 10, 46, 34, 38, 21, 31, 22, 25, 12, 8, 13, 12, 26, 26, 20, 19, 21, 21, 20, 27, 13, 21, 38, 24, 34, 29, 28, 22, 12, 19, 15, 11, 23, 18, 6, 27, 15, 35, 25, 9, 8, 8, 12, 32, 19, 15, 40, 16, 19, 24, 28, 18, 35, 27, 27, 19, 19, 29, 8, 23, 16, 26, 25, 26, 8, 31, 15, 39, 23, 23, 21, 13, 15, 29, 12, 27, 28, 30, 19, 33, 35, 10, 32, 29, 32, 20, 20, 26, 14, 10, 21, 17, 28, 18, 7, 14, 25, 9, 8, 10, 15, 27, 13, 13, 17, 25, 28, 25, 26, 16, 31, 34, 17, 27, 16, 18, 19, 29, 19, 15, 16, 24, 9, 19, 25, 18, 19, 13, 31, 8, 25, 22, 20, 17, 16, 38, 22, 19, 31, 18, 17, 15, 20, 12, 12, 29, 19, 28, 17, 15, 15, 22, 23, 5, 27, 11, 20, 21, 6, 26, 21, 8, 25, 17, 15, 24, 21, 7, 17, 28, 36, 22, 35, 33, 26, 22, 19, 34, 16, 8, 18, 14, 32, 32, 18, 20, 22, 16, 20, 36, 9, 22, 26, 21, 26, 22, 25, 25, 24, 24, 23, 20, 22, 21, 18, 24, 27, 28, 20, 11, 22, 15, 11, 14, 9, 31, 23, 19, 23, 19, 14, 32, 34, 17, 15, 18, 18, 19, 18, 24, 22, 24, 21, 34, 33, 25, 17, 21, 12, 35, 27, 32, 22, 14, 30, 15, 20, 34, 46, 42, 20, 38, 15, 31, 8, 24, 26, 26, 24, 11, 23, 36, 9, 19, 18, 14, 30, 25, 16, 19, 22, 18, 33, 21, 10, 25, 20, 21, 26, 24, 22, 16, 14, 15, 18, 45, 21, 9, 28, 23, 29, 20, 21, 12, 11, 16, 25, 16, 11, 15, 32, 12, 16, 25, 8, 16, 26, 25, 25, 23, 11, 26, 30, 19, 23, 21, 20, 10, 18, 12, 16, 26, 17, 29, 25, 13, 41, 26, 31, 23, 27, 15, 27, 23, 29, 19, 27, 15, 6, 23, 24, 26, 19, 24, 10, 19, 26, 29, 30, 13, 11, 11, 21, 22, 18, 36, 14, 10, 22, 22, 16, 24, 19, 16, 33, 21, 22, 27, 26, 17, 41, 12, 28, 31, 18, 23, 36, 25, 15, 24, 18, 34, 26, 22, 36, 13, 25, 23, 32, 33, 15, 15, 23, 22, 28, 20, 17, 19, 23, 22, 14, 14, 23, 7, 40, 30, 22, 16, 35, 33, 24, 24, 34, 30, 36, 8, 22, 24, 25, 28, 24, 26, 25, 17, 35, 23, 19, 25, 12, 19, 19, 22, 22, 16, 30, 23, 37, 35, 27, 16, 21, 12, 32, 17, 39, 34, 21, 17, 30, 19, 10, 29, 23, 26, 21, 17, 13, 21, 7, 9, 13, 16, 13, 21, 38, 20, 28, 15, 34, 17, 6, 24, 12, 31, 29, 30, 27, 19, 16, 29, 38, 29, 15, 30, 23, 28, 19, 23, 15, 41, 11, 33, 24, 25, 26, 27, 20, 36, 13, 8, 10, 10, 15, 9, 24, 13, 35, 24, 28, 18, 17, 7, 15, 12, 18, 21, 28, 9, 25, 7, 24, 20, 20, 30, 26, 33, 34, 31, 24, 11, 21, 35, 7, 23, 13, 28, 19, 18, 10, 11, 26, 9, 12, 31, 17, 15, 11, 32, 21, 28, 26, 40, 30, 26, 17, 21, 23, 8, 19, 20, 16, 19, 10, 30, 26, 29, 19, 12, 23, 9, 22, 25, 14, 20, 20, 21, 14, 26, 22, 25, 25, 24, 23, 13, 18, 31, 20, 9, 23, 19, 22, 13, 23, 17, 16, 29, 23, 28, 11, 25, 29, 26, 8, 18, 26, 20, 15, 21, 21, 33, 41, 36, 28, 26, 31, 25, 22, 21, 32, 24, 12, 22, 17, 16, 22, 20, 20, 23, 12, 22, 25, 18, 25, 21, 19, 24, 18, 25, 10, 21, 31, 10, 14, 10, 22, 18, 14, 27, 22, 29, 18, 13, 17, 14, 31, 15, 17, 17, 25, 18, 10, 25, 20, 22, 29, 13, 23, 15, 20, 21, 21, 24, 22, 50, 18, 27, 29, 20, 13, 21, 36, 20, 35, 20, 22, 26, 29, 19, 13, 18, 16, 24, 14, 10, 29, 31, 15, 16, 18, 25, 28, 28, 31, 25, 21, 25, 25, 31, 18, 20, 25, 17, 15, 21, 20, 27, 27, 27, 20, 15, 19, 25, 18, 16, 23, 40, 13, 13, 39, 26, 21, 7, 16, 16, 14, 10, 24, 31, 19, 13, 9, 32, 20, 15, 28, 25, 17, 35, 23, 18, 27, 47, 29, 17, 18, 20, 22, 29, 32, 41, 25, 35, 22, 7, 25, 35, 29, 26, 20, 22, 23, 13, 21, 35, 39, 19, 14, 54, 22, 25, 21, 24, 29, 12, 16, 18, 8, 20, 17, 34, 18, 27, 28, 41, 15, 13, 21, 21, 9, 16, 34, 31, 17, 25, 16, 33, 16, 10, 7, 14, 40, 7, 10, 39, 54, 27, 32, 19, 18, 21, 28, 33, 18, 23, 20, 9, 29, 27, 33, 20, 34, 19, 9, 21, 23, 21, 17, 27, 22, 14, 16, 22, 4, 25, 40, 20, 24, 15, 16, 18, 28, 23, 13, 18, 8, 24, 32, 16, 15, 16, 16, 21, 11, 20, 23, 31, 20, 11, 29, 23, 22, 20, 24, 30, 26, 17, 21, 24, 17, 9, 22, 21, 24, 36, 16, 18, 6, 31, 19, 7, 34, 30, 23, 38, 23, 21, 20, 27, 28, 29, 32, 24, 11, 11, 24, 10, 17, 24, 15, 10, 39, 33, 31, 15, 24, 23, 15, 27, 11, 18, 20, 19, 24, 20, 17, 14, 18, 9, 15, 12, 25, 13, 15, 27, 26, 17, 16, 24, 21, 17, 14, 23, 18, 17, 25, 24, 27, 29, 27, 43, 26, 29, 23, 28, 10, 9, 25, 23, 12, 31, 30, 25, 19, 23, 16, 24, 16, 29, 24, 25, 22, 34, 9, 24, 23, 37, 37, 23, 18, 22, 14, 15, 22, 35, 9, 37, 10, 22, 27, 27, 20, 33, 20, 24, 20, 20, 10, 28, 19, 19, 24, 28, 22, 24, 25, 23, 27, 9, 29, 27, 18, 27, 23, 14, 24, 30, 11, 24, 12, 19, 17, 14, 25, 23, 39, 30, 9, 17, 26, 13, 7, 28, 15, 20, 17, 19, 15, 18, 28, 23, 35, 10, 24, 25, 21, 21, 20, 18, 14, 20, 31, 25, 38, 20, 18, 18, 23, 32, 17, 13, 19, 22, 18, 27, 25, 31, 13, 10, 22, 34, 14, 14, 32, 10, 31, 25, 28, 15, 29, 17, 12, 20, 24, 15, 18, 20, 22, 24, 25, 30, 25, 20, 13, 27, 21, 23, 39, 32, 19, 30, 24, 16, 14, 10, 21, 21, 16, 23, 22, 21, 28, 21, 22, 33, 13, 30, 28, 18, 19, 28, 21, 26, 21, 9, 23, 7, 24, 23, 20, 25, 13, 8, 19, 20, 26, 19, 14, 27, 33, 21, 26, 23, 7, 25, 11, 26, 13, 22, 34, 12, 26, 24, 13, 13, 13, 33, 14, 29, 24, 6, 31, 25, 20, 30, 22, 18, 16, 16, 22, 25, 23, 25, 24, 21, 11, 20, 12, 12, 19, 27, 20, 21, 24, 20, 29, 16, 17, 20, 35, 19, 27, 18, 15, 25, 22, 27, 10, 19, 46, 19, 49, 48, 9, 33, 37, 24, 33, 12, 40, 21, 39, 29, 31, 14, 56, 31, 44, 25, 20, 23, 12, 23, 25, 19, 7, 14, 22, 25, 37, 23, 14, 32, 38, 27, 16, 12, 16, 15, 8, 28, 18, 22, 37, 36, 25, 18, 19, 23, 23, 20, 23, 25, 14, 32, 15, 39, 9, 18, 25, 29, 33, 21, 29, 14, 25, 28, 26, 18, 17, 29, 24, 27, 21, 22, 24, 24, 31, 39, 32, 27, 26, 14, 16, 33, 20, 19, 35, 23, 26, 28, 44, 30, 26, 18, 22, 23, 13, 19, 25, 11, 13, 24, 18, 28, 22, 5, 18, 15, 25, 28, 19, 24, 18, 22, 23, 17, 30, 15, 23, 19, 14, 12, 32, 22, 20, 34, 39, 21, 12, 34, 11, 14, 29, 30, 14, 44, 20, 19, 9, 35, 24, 30, 22, 22, 19, 17, 30, 33, 29, 15, 23, 35, 23, 25, 22, 36, 11, 7, 10, 20, 34, 20, 19, 11, 16, 35, 28, 20, 21, 8, 17, 30, 19, 23, 26, 34, 9, 24, 23, 22, 24, 24, 27, 9, 25, 44, 20, 14, 25, 32, 7, 23, 18, 24, 21, 21, 19, 26, 27, 31, 21, 20, 21, 30, 22, 17, 35, 22, 17, 17, 21, 17, 24, 25, 13, 28, 15, 27, 38, 17, 30, 26, 12, 21, 31, 29, 18, 14, 27, 18, 24, 23, 21, 27, 39, 12, 19, 11, 19, 12, 10, 22, 26, 25, 30, 49, 25, 39, 24, 24, 15, 12, 19, 45, 8, 15, 15, 11, 13, 6, 27, 19, 22, 22, 26, 8, 25, 14, 23, 14, 29, 27, 31, 35, 38, 13, 17, 35, 20, 18, 28, 18, 21, 11, 32, 35, 22, 26, 17, 27, 11, 28, 22, 19, 24, 9, 20, 18, 23, 11, 34, 19, 26, 21, 26, 18, 15, 25, 18, 29, 27, 16, 13, 12, 24, 33, 25, 27, 32, 15, 25, 17, 15, 19, 27, 19, 20, 34, 29, 24, 28, 20, 20, 16, 35, 22, 34, 30, 12, 10, 28, 25, 7, 12, 19, 29, 22, 14, 10, 21, 10, 17, 22, 21, 18, 16, 9, 15, 27, 20, 30, 33, 9, 34, 20, 24, 21, 6, 13, 27, 18, 22, 40, 24, 35, 19, 31, 9, 13, 24, 13, 20, 28, 18, 35, 20, 26, 17, 19, 25, 44, 35, 21, 26, 22, 29, 13, 8, 29, 16, 13, 19, 24, 26, 29, 15, 32, 23, 32, 20, 24, 14, 29, 15, 28, 17, 30, 21, 30, 11, 19, 29, 24, 21, 20, 26, 19, 27, 18, 28, 6, 6, 22, 29, 33, 16, 23, 9, 11, 16, 36, 20, 22, 27, 17, 29, 25, 32, 27, 19, 15, 29, 27, 32, 22, 26, 14, 11, 14, 11, 30, 41, 24, 33, 25, 27, 26, 16, 17, 48, 41, 20, 17, 20, 18, 19, 31, 21, 9, 34, 33, 11, 21, 29, 19, 32, 28, 12, 26, 10, 17, 11, 22, 7, 21, 24, 20, 10, 24, 15, 18, 15, 26, 28, 23, 32, 29, 16, 26, 23, 20, 11, 16, 20, 21, 13, 23, 31, 39, 16, 19, 23, 16, 17, 13, 28, 27, 20, 17, 23, 14, 20, 24, 16, 20, 15, 21, 25, 31, 28, 30, 22, 11, 31, 20, 8, 13, 7, 24, 27, 16, 23, 27, 35, 13, 22, 22, 20, 27, 33, 28, 32, 15, 22, 27, 23, 21, 15, 22, 34, 17, 17, 19, 32, 35, 14, 20, 10, 18, 23, 16, 40, 23, 31, 10, 26, 16, 28, 36, 17, 40, 35, 15, 29, 20, 15, 25, 36, 25, 23, 14, 36, 12, 14, 39, 24, 25, 11, 23, 20, 33, 21, 13, 30, 29, 14, 18, 25, 30, 11, 13, 23, 16, 34, 11, 23, 26, 37, 45, 24, 15, 13, 35, 26, 23, 18, 25, 18, 14, 31, 23, 27, 11, 41, 14, 11, 22, 15, 40, 30, 8, 18, 15, 18, 27, 15, 18, 17, 7, 20, 5, 20, 27, 20, 20, 21, 14, 18, 25, 13, 18, 25, 12, 23, 14, 27, 14, 20, 20, 22, 32, 21, 28, 15, 28, 17, 17, 17, 13, 12, 13, 17, 19, 47, 25, 26, 13, 20, 23, 27, 20, 10, 25, 11, 31, 23, 18, 30, 22, 26, 23, 16, 11, 24, 7, 26, 28, 28, 19, 18, 29, 23, 27, 10, 26, 25, 19, 10, 36, 14, 27, 18, 26, 19, 31, 18, 29, 30, 18, 14, 15, 14, 20, 25, 11, 31, 22, 23, 19, 32, 31, 24, 23, 30, 22, 32, 19, 6, 9, 21, 28, 37, 32, 15, 12, 10, 26, 30, 18, 19, 24, 14, 21, 24, 13, 12, 17, 13, 47, 20, 25, 19, 19, 14, 28, 14, 15, 25, 11, 15, 23, 28, 16, 21, 19, 19, 26, 19, 24, 22, 17, 27, 18, 16, 10, 16, 21, 25, 20, 13, 13, 19, 27, 20, 25, 14, 24, 29, 12, 24, 29, 17, 16, 28, 12, 22, 25, 25, 28, 16, 11, 15, 14, 28, 31, 9, 21, 17, 22, 18, 11, 16, 24, 26, 33, 27, 28, 24, 14, 10, 30, 19, 15, 26, 24, 14, 13, 12, 16, 17, 27, 39, 7, 16, 35, 14, 29, 31, 23, 37, 25, 23, 35, 15, 24, 14, 12, 29, 8, 27, 16, 45, 25, 8, 25, 10, 8, 8, 4, 5, 6, 6, 8, 44, 21, 31, 25, 25, 23, 35, 20, 8, 13, 20, 23, 28, 24, 12, 23, 18, 21, 19, 18, 21, 18, 25, 18, 30, 16, 28, 29, 17, 11, 22, 19, 15, 19, 25, 19, 15, 27, 26, 32, 25, 22, 31, 23, 23, 31, 19, 17, 7, 13, 23, 31, 32, 27, 9, 24, 19, 15, 19, 47, 27, 25, 31, 20, 29, 15, 22, 11, 24, 36, 26, 27, 11, 24, 40, 34, 13, 19, 16, 38, 24, 21, 22, 21, 19, 18, 24, 33, 21, 22, 24, 18, 34, 14, 32, 28, 31, 21, 27, 32, 7, 21, 17, 24, 10, 23, 19, 23, 19, 22, 23, 25, 23, 27, 27, 30, 15, 10, 26, 9, 28, 13, 14, 19, 4, 13, 29, 13, 25, 19, 17, 18, 17, 12, 40, 20, 25, 26, 29, 15, 17, 14, 19, 35, 8, 20, 30, 16, 26, 29, 31, 25, 24, 10, 22, 25, 15, 26, 32, 22, 11, 21, 22, 30, 8, 29, 9, 22, 21, 14, 29, 19, 34, 24, 23, 24, 62, 48, 11, 29, 35, 17, 18, 24, 20, 33, 11, 18, 33, 14, 12, 32, 31, 12, 16, 14, 18, 15, 25, 26, 19, 18, 16, 34, 18, 26, 17, 14, 12, 22, 29, 22, 22, 19, 25, 24, 22, 15, 24, 15, 30, 33, 22, 25, 8, 15, 11, 15, 44, 26, 30, 23, 8, 12, 21, 23, 32, 26, 13, 25, 28, 28, 20, 14, 47, 27, 23, 16, 6, 17, 21, 19, 26, 13, 35, 26, 29, 27, 24, 38, 24, 24, 15, 34, 14, 22, 21, 24, 17, 30, 22, 17, 19, 11, 22, 29, 14, 23, 13, 20, 11, 9, 23, 31, 19, 16, 22, 29, 28, 28, 19, 30, 13, 23, 26, 20, 17, 35, 28, 16, 29, 26, 26, 10, 10, 25, 27, 23, 17, 28, 14, 19, 15, 19, 27, 24, 25, 41, 34, 32, 33, 17, 9, 29, 13, 11, 15, 27, 32, 27, 24, 19, 17, 30, 33, 24, 19, 15, 6, 23, 42, 10, 10, 27, 32, 32, 13, 18, 33, 19, 22, 27, 28, 19, 20, 14, 12, 18, 33, 31, 23, 28, 17, 30, 36, 26, 23, 17, 24, 25, 11, 18, 24, 16, 46, 16, 25, 21, 33, 45, 43, 29, 28, 18, 19, 26, 27, 11, 23, 10, 28, 6, 6, 20, 22, 29, 21, 16, 30, 27, 35, 22, 17, 22, 29, 13, 26, 24, 18, 21, 31, 19, 28, 20, 13, 16, 9, 14, 24, 22, 30, 20, 39, 16, 26, 14, 19, 20, 15, 33, 28, 23, 26, 27, 24, 25, 31, 19, 37, 20, 13, 25, 20, 17, 34, 15, 4, 34, 20, 22, 17, 28, 15, 15, 12, 33, 23, 11, 24, 18, 22, 26, 26, 34, 19, 20, 20, 15, 30, 17, 25, 11, 27, 22, 5, 16, 24, 11, 28, 16, 36, 12, 19, 18, 11, 30, 20, 13, 30, 13, 17, 22, 32, 11, 25, 14, 19, 32, 18, 22, 18, 29, 24, 25, 17, 21, 28, 35, 28, 31, 28, 20, 19, 17, 30, 17, 18, 18, 13, 23, 6, 24, 17, 20, 22, 35, 38, 11, 35, 26, 20, 8, 17, 17, 24, 30, 40, 39, 16, 22, 21, 32, 29, 13, 26, 30, 10, 15, 12, 11, 23, 35, 33, 25, 25, 21, 11, 14, 24, 14, 34, 19, 16, 20, 31, 48, 10, 26, 18, 15, 15, 18, 20, 22, 39, 32, 19, 25, 25, 27, 21, 17, 14, 27, 22, 31, 33, 31, 28, 25, 22, 18, 22, 9, 37, 26, 36, 13, 13, 34, 13, 30, 17, 40, 33, 13, 34, 35, 36, 19, 23, 18, 12, 12, 9, 23, 26, 17, 23, 24, 22, 12, 29, 18, 28, 20, 25, 20, 18, 22, 21, 22, 13, 24, 13, 18, 17, 17, 21, 25, 18, 10, 27, 17, 11, 20, 21, 25, 28, 19, 29, 25, 20, 28, 21, 12, 30, 20, 23, 19, 17, 15, 20, 17, 33, 24, 22, 22, 24, 25, 11, 18, 12, 18, 27, 9, 23, 22, 37, 22, 22, 33, 21, 24, 26, 18, 31, 24, 16, 31, 20, 25, 26, 29, 30, 32, 15, 31, 36, 36, 19, 13, 13, 17, 18, 24, 25, 14, 33, 30, 28, 28, 26, 20, 21, 7, 21, 23, 27, 17, 10, 19, 9, 16, 25, 32, 12, 13, 16, 15, 21, 14, 13, 28, 19, 17, 21, 13, 14, 11, 6, 28, 17, 25, 13, 28, 12, 17, 32, 30, 24, 14, 29, 20, 17, 20, 26, 17, 24, 15, 32, 21, 12, 13, 23, 18, 15, 19, 17, 24, 23, 17, 15, 4, 23, 11, 12, 22, 23, 10, 28, 22, 21, 25, 22, 26, 5, 13, 9, 13, 26, 22, 8, 23, 19, 17, 5, 31, 12, 8, 32, 17, 22, 19, 16, 16, 17, 10, 13, 8, 14, 22, 46, 31, 18, 16, 31, 22, 23, 17, 28, 18, 24, 22, 27, 19, 17, 44, 4, 38, 59, 22, 38, 30, 19, 24, 27, 25, 16, 11, 22, 30, 20, 20, 8, 20, 22, 30, 21, 31, 34, 23, 15, 17, 29, 18, 21, 28, 18, 12, 19, 8, 23, 26, 19, 18, 30, 22, 26, 18, 24, 25, 26, 34, 31, 6, 35, 14, 19, 18, 18, 23, 20, 14, 19, 19, 21, 30, 28, 7, 25, 8, 14, 18, 28, 20, 8, 28, 23, 16, 8, 20, 29, 19, 30, 23, 26, 18, 24, 21, 23, 26, 26, 26, 17, 25, 15, 22, 33, 33, 9, 28, 21, 33, 28, 9, 22, 33, 15, 6, 31, 19, 19, 22, 32, 23, 37, 25, 16, 36, 25, 11, 21, 19, 20, 18, 9, 27, 34, 26, 27, 19, 18, 13, 41, 34, 28, 30, 6, 12, 26, 23, 8, 25, 20, 22, 29, 20, 13, 18, 13, 35, 15, 34, 17, 20, 19, 17, 22, 30, 28, 35, 18, 30, 9, 28, 22, 14, 7, 27, 9, 25, 17, 27, 17, 34, 39, 30, 37, 20, 10, 33, 19, 11, 24, 31, 27, 6, 38, 21, 39, 31, 19, 24, 18, 22, 11, 34, 27, 16, 35, 21, 25, 15, 17, 23, 36, 17, 20, 24, 23, 6, 17, 19, 13, 8, 21, 15, 21, 31, 19, 22, 10, 33, 14, 10, 16, 23, 26, 30, 14, 31, 7, 8, 24, 21, 19, 5, 33, 22, 22, 29, 27, 20, 35, 11, 13, 11, 18, 23, 23, 15, 19, 23, 25, 28, 18, 17, 26, 16, 31, 12, 13, 15, 18, 10, 20, 18, 22, 34, 31, 17, 20, 28, 24, 23, 24, 16, 31, 28, 30, 19, 12, 40, 21, 21, 20, 14, 15, 29, 11, 21, 29, 28, 26, 25, 24, 19, 23, 36, 32, 47, 26, 29, 24, 12, 27, 27, 18, 32, 14, 25, 13, 21, 23, 21, 31, 11, 30, 14, 21, 18, 16, 39, 21, 24, 26, 17, 18, 17, 22, 24, 18, 18, 30, 25, 25, 25, 39, 15, 18, 8, 16, 23, 31, 32, 10, 28, 20, 11, 26, 11, 25, 20, 15, 24, 16, 31, 13, 18, 12, 15, 39, 15, 25, 13, 15, 9, 33, 20, 35, 29, 31, 34, 15, 28, 27, 30, 28, 25, 28, 7, 14, 14, 37, 34, 28, 44, 28, 38, 15, 16, 30, 18, 48, 26, 13, 17, 21, 16, 9, 38, 24, 23, 22, 19, 12, 15, 25, 22, 15, 33, 16, 19, 24, 26, 38, 17, 18, 19, 21, 19, 24, 21, 28, 16, 23, 19, 11, 19, 21, 27, 27, 26, 24, 25, 9, 17, 22, 37, 35, 19, 28, 38, 31, 20, 24, 20, 25, 21, 31, 29, 23, 17, 30, 22, 30, 19, 27, 19, 25, 17, 27, 17, 11, 18, 28, 30, 26, 25, 12, 25, 14, 17, 25, 22, 23, 31, 33, 13, 4, 12, 20, 34, 23, 35, 25, 17, 29, 8, 34, 18, 20, 19, 17, 26, 26, 6, 15, 24, 17, 22, 23, 18, 21, 24, 19, 24, 27, 23, 16, 26, 24, 16, 18, 25, 14, 30, 29, 13, 16, 25, 26, 29, 27, 24, 19, 15, 11, 10, 18, 29, 22, 42, 17, 19, 24, 26, 13, 38, 20, 20, 18, 24, 13, 21, 18, 38, 24, 19, 14, 18, 22, 18, 33, 14, 29, 26, 15, 25, 18, 14, 23, 24, 12, 12, 22, 30, 19, 37, 24, 28, 28, 54, 46, 22, 17, 14, 15, 24, 31, 29, 25, 11, 24, 23, 25, 21, 33, 25, 24, 23, 29, 38, 15, 24, 26, 23, 20, 25, 25, 27, 8, 15, 11, 15, 25, 45, 27, 19, 21, 31, 27, 21, 10, 34, 25, 17, 25, 29, 23, 20, 28, 27, 12, 27, 21, 23, 11, 32, 21, 24, 17, 9, 19, 17, 10, 32, 31, 12, 17, 27, 31, 8, 6, 21, 28, 11, 34, 20, 14, 22, 21, 27, 28, 19, 35, 23, 12, 22, 18, 31, 40, 30, 21, 36, 9, 21, 19, 22, 23, 22, 35, 24, 21, 17, 20, 19, 27, 12, 25, 8, 18, 19, 20, 18, 37, 33, 9, 20, 26, 6, 28, 29, 21, 17, 14, 15, 17, 23, 19, 35, 14, 15, 17, 14, 20, 23, 12, 24, 15, 28, 18, 31, 20, 21, 15, 21, 8, 22, 22, 32, 18, 30, 40, 17, 19, 16, 32, 22, 26, 33, 13, 38, 18, 18, 23, 31, 32, 32, 27, 35, 19, 18, 33, 27, 28, 26, 23, 23, 16, 24, 32, 22, 16, 29, 39, 24, 25, 28, 20, 15, 19, 13, 21, 23, 12, 22, 25, 17, 18, 13, 35, 43, 12, 20, 20, 29, 32, 11, 30, 11, 29, 9, 20, 20, 35, 30, 32, 17, 18, 18, 25, 25, 19, 32, 17, 17, 26, 18, 22, 11, 24, 20, 33, 20, 28, 16, 27, 22, 26, 6, 15, 21, 19, 27, 26, 6, 33, 20, 23, 17, 24, 11, 18, 21, 18, 24, 19, 14, 31, 15, 21, 21, 29, 21, 25, 21, 15, 30, 31, 20, 12, 15, 27, 19, 30, 7, 17, 20, 18, 9, 7, 16, 24, 34, 21, 29, 34, 31, 18, 19, 21, 25, 20, 16, 25, 21, 32, 14, 21, 29, 25, 14, 33, 10, 20, 22, 23, 17, 19, 27, 23, 14, 13, 19, 26, 24, 34, 7, 11, 28, 20, 18, 25, 34, 8, 15, 20, 16, 19, 15, 12, 24, 24, 7, 17, 13, 10, 29, 19, 37, 18, 19, 16, 15, 23, 30, 13, 19, 22, 24, 25, 15, 17, 29, 20, 18, 23, 31, 28, 11, 28, 9, 23, 26, 27, 23, 8, 26, 22, 12, 23, 28, 12, 13, 16, 23, 30, 14, 15, 30, 34, 19, 17, 18, 17, 22, 15, 31, 19, 22, 26, 27, 33, 22, 13, 28, 8, 15, 21, 15, 32, 22, 17, 26, 36, 13, 27, 38, 23, 14, 17, 19, 15, 21, 12, 31, 14, 30, 24, 21, 13, 13, 14, 24, 34, 46, 27, 25, 17, 28, 13, 22, 19, 47, 9, 33, 7, 18, 18, 36, 25, 20, 26, 19, 14, 24, 25, 20, 12, 28, 25, 17, 32, 29, 18, 22, 17, 24, 14, 16, 21, 19, 20, 25, 11, 33, 24, 18, 17, 27, 26, 28, 14, 24, 27, 29, 16, 22, 36, 39, 19, 15, 20, 27, 25, 15, 18, 24, 10, 17, 18, 22, 21, 26, 31, 9, 21, 18, 32, 29, 6, 21, 20, 19, 27, 20, 22, 20, 13, 7, 10, 15, 21, 30, 21, 14, 18, 21, 44, 22, 34, 19, 24, 10, 9, 36, 17, 5, 30, 23, 29, 51, 24, 31, 22, 21, 9, 28, 21, 26, 15, 26, 13, 13, 33, 31, 13, 32, 36, 30, 15, 19, 21, 12, 27, 27, 22, 26, 17, 12, 33, 16, 20, 8, 23, 20, 35, 20, 27, 25, 31, 28, 18, 26, 24, 24, 28, 22, 15, 36, 21, 26, 8, 14, 32, 17, 12, 16, 22, 20, 21, 22, 8, 16, 17, 31, 24, 33, 24, 19, 22, 13, 18, 12, 20, 13, 25, 29, 28, 11, 34, 35, 22, 20, 16, 18, 16, 18, 32, 16, 36, 26, 23, 40, 30, 34, 21, 26, 9, 22, 34, 30, 11, 31, 16, 25, 35, 17, 18, 17, 14, 9, 15, 21, 19, 14, 12, 12, 9, 11, 12, 24, 20, 31, 12, 31, 16, 12, 27, 25, 29, 26, 21, 11, 26, 29, 26, 12, 19, 13, 26, 20, 18, 20, 17, 15, 28, 23, 16, 26, 27, 35, 26, 13, 31, 21, 16, 21, 28, 22, 41, 19, 29, 20, 12, 29, 15, 23, 16, 9, 12, 21, 23, 17, 26, 32, 25, 14, 20, 15, 24, 21, 28, 18, 18, 27, 35, 25, 14, 21, 27, 7, 24, 13, 23, 23, 15, 22, 14, 17, 26, 24, 21, 11, 31, 22, 23, 9, 27, 19, 21, 15, 24, 17, 11, 25, 16, 22, 24, 13, 18, 23, 22, 22, 31, 19, 20, 24, 15, 14, 16, 13, 22, 25, 16, 24, 30, 31, 12, 21, 19, 13, 10, 18, 26, 21, 32, 14, 36, 19, 20, 22, 14, 22, 28, 24, 10, 16, 13, 8, 42, 21, 30, 17, 21, 7, 27, 24, 17, 18, 15, 20, 26, 30, 16, 15, 21, 15, 22, 18, 18, 27, 33, 18, 21, 18, 24, 23, 15, 25, 18, 14, 29, 22, 28, 20, 24, 6, 18, 22, 24, 25, 38, 23, 14, 23, 33, 23, 23, 11, 15, 28, 23, 14, 32, 9, 21, 20, 15, 27, 8, 15, 18, 27, 11, 21, 17, 29, 15, 13, 19, 11, 28, 20, 22, 28, 22, 15, 21, 24, 17, 24, 28, 37, 20, 17, 25, 21, 22, 22, 33, 15, 12, 46, 43, 26, 14, 28, 13, 15, 25, 31, 21, 29, 17, 25, 26, 30, 36, 26, 22, 5, 31, 14, 21, 28, 25, 9, 13, 14, 27, 36, 17, 25, 20, 31, 17, 17, 12, 37, 29, 4, 12, 13, 28, 25, 22, 26, 16, 18, 18, 12, 25, 35, 22, 18, 17, 23, 19, 19, 8, 15, 23, 18, 12, 16, 17, 25, 20, 17, 22, 13, 22, 10, 35, 13, 29, 10, 14, 35, 20, 17, 26, 26, 25, 20, 39, 8, 16, 25, 14, 14, 11, 10, 8, 27, 35, 22, 12, 24, 30, 28, 23, 35, 37, 30, 19, 38, 25, 21, 30, 22, 23, 15, 23, 27, 14, 19, 26, 20, 28, 24, 31, 12, 24, 28, 30, 25, 24, 28, 40, 14, 21, 28, 13, 37, 27, 21, 30, 23, 13, 9, 17, 35, 28, 35, 16, 25, 22, 9, 28, 23, 9, 20, 28, 19, 13, 25, 19, 26, 16, 27, 25, 33, 9, 19, 13, 13, 13, 34, 22, 21, 29, 21, 34, 11, 31, 6, 23, 11, 18, 19, 18, 21, 12, 16, 25, 22, 29, 22, 29, 13, 41, 25, 11, 21, 20, 11, 11, 25, 25, 14, 23, 15, 16, 15, 22, 21, 13, 31, 21, 12, 18, 10, 15, 17, 19, 12, 22, 21, 16, 18, 13, 29, 18, 22, 22, 19, 21, 18, 25, 18, 25, 21, 15, 26, 24, 18, 15, 18, 25, 25, 29, 26, 40, 17, 15, 16, 18, 27, 27, 17, 10, 21, 18, 20, 27, 51, 42, 31, 14, 28, 18, 26, 25, 34, 18, 18, 23, 13, 27, 15, 20, 25, 20, 22, 29, 18, 11, 11, 19, 16, 19, 20, 20, 32, 19, 23, 55, 33, 27, 25, 12, 28, 7, 15, 13, 25, 17, 13, 20, 29, 33, 22, 13, 34, 26, 20, 14, 12, 23, 21, 21, 17, 41, 33, 18, 41, 8, 23, 17, 34, 27, 36, 36, 30, 22, 40, 21, 15, 17, 37, 26, 21, 25, 19, 24, 16, 14, 23, 24, 27, 39, 35, 23, 21, 17, 27, 20, 19, 14, 10, 16, 7, 6, 14, 20, 11, 14, 8, 25, 20, 12, 28, 33, 11, 18, 29, 29, 32, 19, 37, 20, 13, 13, 33, 33, 21, 28, 27, 24, 20, 12, 28, 23, 21, 28, 19, 8, 13, 15, 27, 19, 21, 20, 21, 12, 9, 20, 20, 16, 21, 24, 29, 27, 39, 16, 29, 12, 22, 17, 18, 19, 20, 22, 10, 30, 29, 16, 28, 19, 18, 15, 27, 28, 21, 14, 16, 28, 23, 16, 22, 22, 23, 11, 10, 5, 19, 27, 21, 25, 17, 23, 23, 14, 31, 33, 24, 23, 22, 11, 13, 33, 18, 7, 15, 19, 23, 22, 14, 27, 13, 7, 9, 23, 35, 30, 13, 18, 19, 25, 25, 20, 27, 33, 23, 22, 35, 29, 13, 10, 42, 18, 13, 13, 18, 15, 12, 30, 26, 15, 36, 30, 29, 14, 23, 15, 9, 20, 26, 26, 20, 31, 29, 9, 7, 14, 13, 22, 20, 15, 15, 23, 38, 26, 24, 22, 25, 26, 24, 22, 16, 20, 15, 16, 23, 11, 33, 25, 19, 25, 27, 12, 23, 6, 16, 44, 35, 19, 34, 13, 8, 31, 20, 28, 27, 37, 39, 66, 20, 26, 12, 16, 9, 13, 34, 13, 23, 36, 25, 22, 15, 12, 24, 19, 15, 15, 30, 25, 22, 12, 17, 26, 14, 15, 21, 29, 31, 21, 15, 29, 15, 30, 23, 25, 18, 13, 23, 18, 21, 10, 10, 32, 12, 25, 27, 22, 4, 21, 18, 21, 12, 39, 20, 27, 25, 33, 22, 20, 40, 28, 21, 42, 20, 18, 19, 18, 13, 22, 19, 21, 23, 11, 27, 12, 15, 19, 31, 8, 30, 18, 8, 33, 12, 9, 32, 26, 25, 28, 21, 47, 14, 33, 6, 34, 31, 28, 33, 9, 19, 24, 12, 30, 12, 31, 26, 15, 32, 16, 10, 15, 15, 26, 21, 16, 23, 16, 22, 20, 17, 20, 37, 19, 16, 30, 18, 15, 11, 41, 20, 26, 35, 23, 20, 26, 24, 17, 23, 19, 29, 21, 14, 28, 14, 22, 33, 7, 30, 23, 14, 22, 18, 40, 34, 28, 25, 20, 13, 29, 17, 37, 27, 35, 15, 16, 33, 31, 40, 27, 23, 24, 18, 18, 28, 35, 29, 18, 27, 13, 27, 17, 11, 14, 34, 21, 25, 12, 24, 18, 19, 20, 26, 11, 11, 32, 20, 25, 21, 19, 18, 28, 16, 34, 25, 17, 16, 29, 27, 17, 23, 20, 23, 23, 29, 15, 26, 24, 47, 33, 20, 16, 33, 28, 23, 15, 45, 12, 22, 24, 18, 25, 29, 19, 35, 17, 19, 26, 26, 21, 36, 20, 20, 22, 18, 29, 19, 12, 22, 24, 10, 28, 23, 15, 33, 24, 33, 24, 26, 40, 23, 30, 25, 17, 23, 20, 20, 28, 13, 7, 27, 21, 24, 18, 33, 23, 10, 8, 23, 20, 15, 18, 23, 29, 19, 12, 31, 11, 23, 33, 24, 31, 26, 13, 27, 16, 13, 12, 10, 27, 18, 20, 42, 19, 21, 11, 33, 22, 28, 27, 12, 13, 28, 9, 22, 17, 19, 29, 24, 35, 33, 21, 15, 22, 14, 24, 15, 32, 35, 22, 28, 12, 39, 24, 18, 11, 30, 20, 25, 12, 33, 5, 19, 15, 21, 38, 22, 19, 20, 22, 14, 24, 9, 16, 22, 31, 15, 32, 41, 14, 27, 13, 18, 24, 19, 23, 23, 11, 14, 38, 17, 23, 8, 21, 35, 9, 19, 21, 22, 15, 20, 12, 9, 29, 30, 19, 26, 34, 23, 19, 13, 21, 14, 16, 11, 27, 21, 21, 24, 15, 19, 16, 7, 19, 16, 20, 24, 13, 23, 29, 9, 37, 23, 15, 23, 15, 17, 36, 21, 44, 20, 10, 32, 23, 32, 21, 31, 20, 20, 11, 48, 27, 16, 17, 13, 17, 33, 14, 23, 9, 28, 27, 10, 25, 13, 16, 18, 35, 10, 32, 34, 20, 9, 21, 16, 25, 22, 20, 9, 31, 35, 13, 22, 19, 16, 31, 29, 16, 25, 14, 13, 12, 27, 20, 25, 17, 16, 30, 12, 16, 32, 24, 21, 21, 17, 29, 25, 13, 28, 26, 9, 31, 26, 28, 14, 6, 12, 15, 33, 28, 24, 20, 35, 21, 21, 24, 33, 14, 24, 23, 15, 29, 31, 17, 26, 30, 13, 19, 49, 25, 21, 36, 27, 15, 27, 23, 17, 18, 32, 11, 16, 26, 17, 10, 24, 19, 25, 24, 19, 12, 19, 32, 26, 30, 17, 22, 12, 13, 19, 14, 19, 30, 17, 19, 32, 26, 23, 25, 18, 20, 16, 14, 18, 17, 24, 25, 19, 16, 18, 18, 23, 31, 13, 6, 16, 22, 21, 14, 22, 27, 25, 22, 32, 26, 16, 7, 11, 14, 15, 27, 14, 10, 28, 35, 17, 24, 27, 31, 26, 30, 39, 22, 36, 13, 34, 30, 28, 24, 10, 22, 16, 13, 13, 26, 28, 36, 26, 15, 19, 20, 27, 52, 10, 24, 11, 30, 20, 25, 17, 18, 20, 21, 19, 11, 13, 11, 21, 33, 31, 43, 19, 10, 25, 22, 22, 20, 21, 15, 15, 31, 28, 18, 16, 21, 13, 21, 41, 32, 15, 21, 23, 18, 22, 18, 12, 13, 25, 27, 26, 32, 22, 30, 30, 40, 8, 21, 21, 13, 18, 10, 15, 16, 28, 17, 26, 34, 30, 30, 13, 22, 18, 31, 22, 14, 16, 16, 17, 15, 11, 10, 25, 28, 24, 15, 15, 28, 26, 33, 22, 14, 23, 11, 8, 21, 20, 30, 34, 21, 16, 33, 23, 29, 26, 34, 15, 25, 13, 35, 10, 7, 22, 19, 28, 14, 19, 31, 18, 36, 23, 20, 25, 31, 19, 29, 25, 29, 22, 19, 34, 19, 24, 30, 8, 26, 25, 14, 21, 28, 23, 23, 20, 29, 24, 26, 17, 26, 28, 19, 31, 31, 23, 34, 18, 14, 19, 16, 22, 25, 24, 14, 21, 19, 14, 23, 33, 13, 27, 19, 27, 26, 29, 17, 16, 18, 29, 16, 21, 20, 24, 12, 38, 36, 12, 27, 18, 23, 21, 26, 25, 13, 40, 21, 26, 28, 34, 19, 26, 20, 24, 11, 21, 37, 42, 22, 16, 24, 12, 30, 28, 19, 37, 24, 24, 21, 23, 27, 28, 24, 24, 24, 15, 22, 53, 13, 18, 7, 41, 19, 32, 34, 15, 23, 14, 24, 26, 19, 10, 27, 25, 20, 17, 25, 42, 29, 23, 9, 27, 26, 21, 15, 17, 30, 27, 29, 30, 27, 13, 16, 22, 11, 24, 8, 21, 20, 25, 34, 16, 21, 29, 19, 23, 16, 6, 19, 15, 18, 24, 29, 21, 24, 23, 29, 26, 9, 29, 28, 11, 13, 17, 22, 20, 8, 30, 27, 33, 22, 25, 33, 19, 7, 22, 13, 10, 26, 17, 10, 10, 21, 9, 6, 17, 15, 19, 15, 18, 25, 20, 32, 20, 28, 20, 22, 14, 24, 30, 17, 25, 20, 18, 26, 38, 28, 8, 10, 30, 31, 48, 41, 32, 19, 14, 31, 18, 21, 23, 22, 20, 24, 17, 15, 11, 26, 35, 13, 22, 21, 26, 33, 21, 39, 30, 8, 32, 11, 24, 21, 26, 26, 22, 27, 21, 17, 24, 14, 22, 22, 19, 11, 27, 19, 27, 17, 20, 23, 38, 24, 35, 13, 22, 31, 20, 29, 20, 21, 16, 25, 32, 28, 14, 26, 34, 50, 15, 20, 14, 28, 14, 24, 23, 27, 24, 19, 29, 26, 30, 45, 46, 39, 27, 13, 25, 44, 31, 30, 11, 19, 23, 29, 8, 34, 31, 17, 26, 14, 19, 22, 31, 16, 25, 9, 19, 26, 25, 32, 29, 24, 27, 19, 25, 24, 10, 13, 30, 15, 17, 23, 32, 22, 15, 22, 16, 10, 29, 25, 18, 21, 8, 35, 11, 31, 14, 28, 27, 29, 27, 18, 24, 10, 16, 23, 36, 10, 25, 25, 35, 15, 12, 13, 27, 11, 9, 24, 6, 12, 26, 17, 23, 44, 22, 27, 26, 8, 26, 10, 23, 18, 20, 17, 24, 13, 12, 12, 14, 11, 17, 14, 27, 30, 15, 16, 18, 29, 22, 24, 9, 22, 20, 24, 26, 14, 23, 31, 34, 22, 8, 19, 23, 22, 20, 18, 24, 8, 19, 18, 15, 31, 8, 19, 18, 28, 32, 28, 26, 19, 27, 16, 14, 30, 23, 25, 31, 21, 10, 17, 20, 39, 27, 16, 7, 17, 23, 34, 27, 17, 21, 37, 25, 25, 23, 14, 37, 34, 8, 24, 19, 25, 15, 17, 34, 32, 34, 28, 21, 34, 30, 25, 14, 29, 21, 20, 20, 23, 21, 20, 22, 20, 14, 14, 26, 20, 27, 33, 15, 21, 28, 17, 23, 14, 32, 24, 17, 24, 26, 10, 24, 18, 13, 16, 19, 13, 18, 15, 14, 29, 11, 21, 17, 9, 19, 21, 12, 18, 26, 10, 22, 24, 19, 30, 8, 8, 21, 16, 28, 29, 16, 8, 8, 26, 22, 23, 27, 23, 33, 19, 28, 18, 16, 38, 27, 27, 29, 24, 28, 31, 29, 31, 26, 26, 9, 22, 29, 12, 11, 23, 8, 15, 18, 27, 16, 17, 34, 12, 26, 14, 26, 32, 9, 15, 19, 32, 32, 13, 21, 24, 22, 30, 22, 16, 12, 17, 23, 21, 21, 18, 25, 26, 15, 24, 16, 23, 24, 23, 24, 17, 24, 24, 16, 9, 31, 18, 13, 28, 18, 17, 24, 20, 12, 22, 20, 25, 23, 27, 11, 21, 12, 17, 25, 19, 22, 35, 36, 24, 13, 27, 26, 28, 36, 26, 39, 23, 19, 20, 24, 29, 12, 33, 20, 10, 22, 10, 19, 23, 23, 27, 22, 26, 10, 29, 32, 24, 23, 18, 29, 24, 16, 23, 9, 28, 26, 30, 50, 15, 27, 39, 22, 27, 23, 15, 20, 39, 15, 25, 40, 24, 28, 21, 26, 25, 25, 11, 32, 43, 29, 16, 16, 10, 22, 28, 30, 24, 18, 17, 21, 20, 27, 22, 6, 32, 17, 31, 37, 18, 33, 16, 30, 22, 18, 31, 14, 28, 12, 23, 11, 26, 25, 32, 11, 23, 24, 24, 27, 22, 27, 34, 18, 39, 21, 24, 17, 21, 17, 21, 26, 18, 16, 27, 19, 23, 40, 15, 18, 32, 24, 25, 21, 16, 23, 18, 19, 25, 27, 30, 20, 24, 20, 18, 49, 10, 17, 13, 24, 37, 30, 28, 25, 23, 32, 21, 26, 34, 21, 26, 38, 37, 18, 23, 23, 23, 36, 33, 18, 35, 25, 32, 28, 31, 8, 42, 24, 10, 8, 23, 17, 25, 4, 9, 26, 17, 7, 23, 21, 22, 14, 19, 17, 11, 10, 15, 24, 31, 27, 16, 11, 20, 23, 17, 33, 22, 25, 27, 30, 26, 9, 19, 34, 21, 18, 10, 18, 12, 8, 11, 17, 28, 18, 19, 10, 24, 31, 17, 7, 26, 21, 32, 27, 16, 9, 29, 23, 23, 9, 35, 39, 19, 21, 15, 13, 35, 34, 26, 58, 14, 18, 19, 10, 29, 22, 24, 20, 16, 27, 19, 12, 11, 16, 18, 31, 27, 24, 24, 11, 25, 4, 34, 12, 34, 24, 12, 30, 14, 9, 21, 15, 32, 19, 24, 30, 12, 5, 12, 17, 16, 19, 21, 25, 20, 22, 22, 15, 18, 15, 23, 24, 27, 17, 18, 21, 18, 23, 11, 13, 28, 21, 31, 37, 14, 14, 24, 15, 19, 21, 15, 12, 18, 28, 25, 25, 25, 19, 20, 12, 25, 32, 35, 27, 19, 24, 41, 16, 14, 34, 20, 12, 19, 16, 23, 13, 27, 29, 16, 18, 30, 17, 9, 22, 15, 8, 14, 14, 27, 6, 19, 20, 24, 34, 9, 27, 18, 27, 26, 18, 25, 18, 27, 25, 16, 10, 19, 29, 12, 19, 9, 18, 10, 25, 14, 33, 19, 30, 14, 32, 26, 27, 15, 24, 11, 28, 30, 23, 20, 12, 26, 25, 18, 12, 20, 21, 19, 30, 20, 14, 30, 11, 31, 18, 27, 22, 7, 19, 12, 12, 31, 26, 30, 17, 18, 39, 22, 14, 35, 43, 34, 24, 22, 17, 15, 34, 30, 40, 46, 49, 36, 15, 13, 18, 17, 35, 16, 11, 19, 8, 13, 28, 24, 19, 13, 10, 27, 27, 23, 25, 25, 21, 26, 18, 15, 30, 31, 6, 15, 11, 36, 16, 26, 11, 12, 13, 15, 7, 17, 18, 23, 18, 12, 27, 30, 41, 18, 31, 28, 22, 13, 8, 34, 16, 36, 34, 15, 27, 10, 17, 10, 28, 21, 22, 24, 32, 21, 18, 29, 22, 21, 13, 18, 38, 35, 22, 9, 29, 21, 24, 21, 8, 13, 24, 14, 22, 25, 17, 21, 22, 16, 25, 15, 27, 21, 18, 17, 8, 15, 14, 29, 23, 20, 23, 31, 30, 28, 32, 24, 30, 20, 32, 10, 34, 10, 11, 10, 31, 18, 23, 27, 31, 27, 21, 23, 13, 20, 15, 30, 9, 21, 30, 24, 17, 22, 24, 26, 30, 11, 21, 7, 12, 19, 20, 22, 14, 19, 22, 21, 22, 7, 5, 18, 33, 24, 10, 23, 29, 21, 18, 34, 19, 11, 21, 26, 32, 17, 21, 29, 12, 18, 11, 22, 18, 23, 24, 28, 20, 22, 55, 15, 25, 36, 42, 38, 38, 37, 30, 14, 13, 22, 22, 17, 29, 37, 13, 25, 27, 26, 36, 13, 21, 22, 16, 28, 14, 20, 7, 25, 29, 26, 17, 23, 7, 29, 13, 34, 20, 20, 27, 29, 14, 24, 29, 26, 33, 21, 32, 10, 21, 35, 23, 26, 30, 30, 6, 16, 21, 18, 28, 13, 28, 14, 21, 15, 20, 30, 20, 17, 22, 15, 11, 33, 35, 33, 35, 18, 16, 14, 22, 42, 23, 24, 29, 25, 15, 27, 12, 21, 36, 12, 18, 13, 13, 26, 23, 15, 13, 25, 24, 13, 22, 24, 11, 19, 18, 29, 20, 15, 15, 8, 13, 5, 24, 26, 27, 27, 24, 10, 18, 19, 34, 14, 18, 20, 30, 13, 9, 20, 25, 21, 20, 19, 8, 20, 23, 10, 11, 20, 26, 12, 39, 25, 29, 13, 13, 20, 34, 23, 21, 21, 9, 30, 20, 13, 31, 19, 21, 27, 4, 19, 27, 27, 22, 26, 28, 7, 30, 19, 13, 22, 31, 21, 27, 26, 22, 15, 10, 15, 10, 18, 25, 13, 15, 29, 28, 22, 23, 20, 14, 35, 14, 24, 15, 18, 24, 15, 17, 18, 12, 9, 41, 28, 29, 13, 20, 21, 27, 27, 18, 14, 21, 12, 22, 24, 32, 13, 22, 25, 26, 33, 24, 28, 17, 26, 21, 14, 17, 19, 30, 11, 11, 32, 21, 21, 22, 39, 18, 27, 18, 20, 20, 34, 29, 32, 35, 24, 31, 24, 27, 23, 24, 23, 28, 28, 39, 23, 23, 26, 25, 11, 20, 24, 22, 25, 24, 18, 18, 21, 29, 38, 13, 23, 26, 15, 29, 43, 24, 35, 12, 36, 30, 27, 22, 13, 16, 26, 20, 40, 17, 21, 19, 18, 33, 25, 5, 21, 14, 28, 25, 23, 20, 40, 27, 21, 27, 37, 7, 38, 14, 21, 14, 28, 28, 22, 27, 28, 17, 18, 23, 19, 37, 34, 19, 21, 21, 22, 18, 16, 30, 19, 32, 21, 20, 26, 28, 34, 25, 14, 8, 30, 21, 19, 29, 21, 10, 14, 9, 19, 16, 10, 32, 23, 22, 13, 13, 28, 27, 23, 24, 12, 19, 20, 15, 21, 24, 13, 11, 18, 14, 28, 25, 29, 29, 27, 19, 21, 32, 37, 27, 25, 19, 39, 17, 20, 15, 24, 51, 21, 36, 13, 12, 22, 25, 37, 27, 13, 40, 10, 25, 15, 13, 7, 21, 21, 19, 17, 20, 33, 11, 31, 41, 24, 24, 18, 27, 6, 23, 15, 26, 24, 32, 24, 27, 32, 17, 33, 18, 16, 15, 33, 20, 19, 18, 19, 27, 30, 22, 19, 24, 24, 26, 8, 37, 17, 23, 19, 14, 25, 10, 22, 31, 21, 38, 13, 17, 27, 26, 29, 32, 21, 30, 24, 18, 11, 19, 9, 20, 26, 22, 13, 19, 11, 24, 21, 18, 24, 15, 23, 25, 12, 16, 12, 14, 25, 10, 16, 28, 39, 24, 18, 15, 25, 10, 24, 21, 15, 20, 14, 26, 31, 22, 22, 16, 32, 22, 19, 23, 22, 40, 22, 28, 13, 32, 29, 28, 24, 22, 22, 21, 19, 26, 27, 27, 13, 23, 11, 30, 21, 26, 24, 30, 23, 18, 30, 19, 23, 9, 27, 20, 25, 19, 14, 34, 36, 9, 28, 33, 14, 34, 24, 29, 10, 18, 19, 17, 9, 20, 18, 19, 29, 29, 14, 18, 18, 29, 24, 29, 21, 25, 15, 22, 18, 33, 36, 18, 18, 16, 20, 15, 20, 17, 20, 17, 20, 21, 15, 28, 28, 22, 15, 17, 21, 19, 29, 38, 17, 9, 24, 41, 30, 17, 15, 9, 23, 26, 17, 20, 29, 20, 21, 26, 13, 21, 24, 10, 15, 21, 23, 16, 17, 18, 13, 26, 30, 35, 19, 17, 14, 26, 27, 16, 25, 24, 21, 24, 35, 38, 14, 17, 14, 12, 29, 38, 20, 23, 20, 32, 23, 11, 29, 13, 16, 24, 24, 18, 21, 23, 22, 22, 38, 20, 19, 23, 15, 13, 22, 26, 22, 11, 26, 19, 17, 4, 8, 28, 6, 27, 17, 7, 15, 27, 30, 13, 10, 20, 21, 22, 18, 18, 28, 34, 14, 26, 27, 27, 13, 17, 27, 31, 8, 24, 29, 27, 21, 8, 22, 25, 35, 13, 34, 15, 18, 24, 35, 26, 23, 18, 18, 18, 14, 16, 30, 18, 23, 22, 29, 18, 26, 23, 24, 15, 25, 35, 24, 31, 26, 6, 14, 8, 13, 25, 17, 21, 16, 21, 16, 23, 22, 20, 22, 6, 20, 34, 21, 20, 23, 17, 5, 23, 21, 9, 13, 18, 25, 23, 9, 30, 17, 20, 12, 13, 24, 34, 32, 26, 24, 25, 19, 29, 13, 26, 15, 32, 18, 15, 30, 16, 28, 20, 19, 29, 19, 18, 21, 19, 18, 15, 25, 24, 17, 20, 33, 39, 36, 30, 11, 20, 15, 25, 20, 35, 41, 30, 15, 11, 20, 17, 26, 38, 18, 18, 18, 19, 20, 21, 19, 8, 13, 19, 56, 21, 19, 37, 12, 23, 17, 29, 21, 18, 14, 22, 15, 38, 13, 8, 24, 25, 9, 22, 18, 23, 27, 19, 33, 28, 23, 20, 22, 9, 8, 16, 27, 32, 30, 26, 15, 21, 20, 26, 23, 12, 21, 19, 19, 17, 23, 24, 14, 24, 30, 34, 39, 23, 27, 18, 19, 11, 17, 10, 29, 16, 25, 27, 27, 23, 36, 23, 17, 10, 9, 15, 13, 11, 15, 17, 31, 17, 18, 13, 26, 23, 29, 26, 12, 18, 31, 21, 11, 13, 6, 10, 25, 23, 14, 14, 18, 12, 7, 21, 14, 22, 34, 9, 17, 27, 36, 19, 18, 31, 26, 33, 29, 15, 8, 16, 21, 27, 14, 21, 33, 25, 45, 13, 17, 20, 18, 38, 21, 13, 9, 26, 9, 19, 16, 5, 24, 18, 12, 39, 28, 15, 11, 23, 13, 11, 14, 28, 15, 16, 11, 29, 11, 28, 17, 39, 16, 21, 11, 37, 42, 19, 25, 18, 11, 24, 22, 24, 13, 13, 19, 29, 26, 18, 11, 21, 28, 27, 12, 31, 20, 16, 13, 11, 19, 7, 46, 33, 25, 31, 8, 27, 17, 27, 13, 13, 17, 17, 21, 15, 21, 26, 27, 13, 11, 8, 35, 22, 30, 26, 18, 4, 13, 6, 13, 23, 33, 25, 22, 22, 40, 18, 29, 21, 22, 22, 24, 25, 30, 29, 21, 22, 19, 21, 16, 7, 31, 10, 33, 27, 6, 18, 25, 30, 30, 13, 25, 27, 24, 17, 25, 13, 21, 28, 22, 37, 19, 29, 29, 9, 19, 19, 28, 18, 34, 15, 9, 21, 23, 17, 26, 18, 20, 28, 27, 24, 16, 28, 27, 25, 27, 12, 8, 14, 19, 10, 16, 30, 28, 19, 20, 26, 24, 19, 27, 9, 26, 10, 6, 18, 21, 24, 25, 33, 9, 23, 27, 25, 25, 23, 26, 19, 16, 26, 3, 18, 35, 21, 23, 29, 22, 19, 18, 17, 35, 20, 20, 8, 16, 15, 15, 8, 16, 23, 20, 26, 17, 34, 20, 30, 18, 11, 16, 12, 17, 23, 12, 24, 16, 36, 30, 16, 16, 19, 14, 11, 29, 16, 26, 7, 20, 15, 25, 26, 17, 32, 30, 38, 17, 18, 9, 42, 22, 9, 19, 36, 28, 12, 22, 10, 11, 41, 25, 56, 14, 22, 43, 8, 11, 14, 21, 24, 35, 12, 13, 38, 27, 30, 23, 11, 20, 18, 26, 30, 31, 17, 28, 36, 8, 22, 34, 16, 19, 13, 25, 30, 13, 27, 12, 13, 20, 24, 31, 13, 18, 23, 26, 11, 17, 13, 17, 20, 14, 18, 21, 25, 15, 16, 13, 17, 17, 26, 32, 25, 27, 17, 14, 20, 16, 26, 26, 30, 34, 28, 28, 29, 31, 9, 24, 8, 24, 34, 29, 36, 8, 23, 16, 31, 28, 21, 27, 14, 27, 29, 16, 27, 41, 8, 18, 26, 18, 26, 29, 22, 8, 15, 23, 9, 22, 13, 28, 20, 18, 13, 16, 39, 13, 7, 16, 13, 24, 30, 25, 28, 7, 24, 22, 32, 20, 23, 28, 39, 11, 19, 22, 17, 19, 14, 19, 26, 21, 29, 26, 24, 22, 18, 21, 17, 30, 26, 21, 40, 29, 28, 24, 25, 21, 18, 25, 27, 15, 25, 32, 29, 25, 20, 27, 17, 17, 20, 28, 9, 17, 26, 20, 29, 21, 17, 24, 27, 17, 30, 18, 28, 18, 8, 9, 23, 10, 18, 39, 24, 35, 16, 24, 20, 23, 11, 20, 11, 28, 17, 34, 23, 22, 21, 20, 19, 23, 18, 22, 26, 17, 19, 13, 26, 9, 26, 23, 13, 21, 29, 37, 26, 21, 34, 28, 17, 37, 20, 22, 22, 16, 25, 21, 30, 21, 27, 17, 27, 33, 24, 24, 20, 15, 16, 29, 12, 23, 18, 14, 23, 13, 20, 28, 29, 29, 20, 25, 41, 21, 15, 31, 26, 30, 39, 25, 23, 21, 18, 23, 14, 14, 18, 19, 17, 16, 26, 9, 23, 26, 18, 18, 18, 15, 22, 31, 20, 22, 27, 15, 22, 28, 19, 15, 12, 22, 13, 19, 24, 17, 9, 18, 23, 28, 11, 20, 29, 24, 18, 20, 25, 19, 26, 23, 22, 14, 25, 23, 10, 10, 20, 22, 22, 16, 16, 17, 21, 14, 34, 26, 28, 16, 30, 24, 21, 15, 22, 15, 27, 31, 18, 30, 17, 27, 27, 10, 15, 32, 24, 24, 13, 26, 35, 26, 21, 21, 23, 32, 21, 7, 23, 27, 21, 18, 31, 8, 12, 18, 20, 11, 24, 13, 32, 20, 12, 19, 26, 19, 27, 24, 16, 42, 30, 14, 20, 17, 17, 21, 43, 23, 28, 12, 29, 24, 25, 25, 21, 21, 16, 34, 26, 9, 17, 13, 20, 26, 9, 12, 9, 20, 23, 18, 24, 13, 22, 18, 11, 19, 26, 17, 16, 49, 26, 23, 19, 10, 19, 27, 25, 24, 29, 32, 28, 13, 9, 24, 40, 10, 13, 13, 28, 21, 13, 31, 18, 24, 11, 32, 29, 18, 17, 44, 10, 14, 8, 28, 11, 19, 28, 23, 28, 19, 10, 26, 28, 8, 29, 33, 19, 18, 12, 23, 31, 30, 23, 30, 22, 12, 19, 21, 15, 23, 38, 8, 33, 32, 31, 29, 39, 34, 31, 17, 10, 25, 27, 26, 17, 20, 26, 19, 18, 8, 28, 14, 15, 26, 15, 19, 24, 14, 36, 12, 30, 31, 29, 20, 19, 10, 25, 13, 29, 20, 26, 18, 15, 28, 15, 32, 26, 18, 20, 17, 15, 22, 38, 24, 16, 22, 18, 17, 17, 26, 26, 18, 24, 20, 12, 34, 24, 24, 15, 19, 28, 39, 23, 7, 10, 13, 39, 23, 19, 18, 19, 30, 13, 35, 17, 9, 8, 23, 26, 19, 28, 13, 12, 33, 23, 15, 12, 19, 23, 12, 13, 14, 62, 25, 18, 12, 33, 18, 31, 27, 22, 17, 33, 26, 19, 22, 18, 25, 18, 16, 29, 18, 36, 20, 49, 5, 19, 32, 13, 7, 12, 19, 27, 17, 19, 32, 31, 16, 15, 17, 16, 27, 27, 28, 25, 13, 23, 19, 25, 10, 18, 18, 22, 39, 26, 29, 19, 40, 17, 31, 15, 22, 34, 12, 24, 40, 16, 25, 19, 27, 18, 17, 20, 27, 38, 22, 20, 15, 41, 27, 17, 22, 30, 13, 21, 25, 23, 18, 22, 18, 14, 17, 47, 25, 13, 19, 22, 32, 30, 42, 19, 16, 13, 26, 20, 34, 22, 31, 12, 21, 34, 13, 31, 16, 14, 21, 34, 11, 21, 18, 13, 7, 36, 18, 17, 26, 28, 28, 11, 20, 16, 11, 22, 21, 10, 31, 30, 20, 17, 12, 18, 30, 25, 18, 21, 18, 18, 28, 27, 8, 10, 25, 34, 22, 31, 28, 29, 26, 8, 19, 17, 23, 26, 16, 12, 32, 14, 21, 22, 33, 24, 27, 11, 25, 17, 4, 23, 37, 12, 12, 17, 21, 9, 25, 29, 18, 22, 28, 36, 20, 14, 30, 13, 17, 37, 26, 19, 42, 23, 21, 23, 25, 26, 16, 27, 28, 8, 14, 24, 33, 36, 30, 22, 23, 20, 21, 28, 19, 29, 38, 20, 17, 15, 29, 25, 13, 19, 33, 13, 31, 22, 21, 30, 24, 19, 22, 22, 15, 24, 22, 21, 22, 21, 17, 29, 14, 17, 31, 30, 24, 26, 15, 20, 10, 8, 44, 7, 23, 8, 35, 14, 32, 20, 10, 17, 15, 13, 34, 23, 32, 28, 12, 19, 31, 27, 25, 28, 14, 28, 23, 26, 19, 21, 7, 25, 13, 25, 38, 10, 20, 36, 8, 16, 17, 22, 25, 25, 16, 18, 29, 28, 19, 29, 18, 19, 23, 28, 38, 21, 21, 14, 10, 26, 24, 23, 19, 23, 13, 19, 24, 20, 21, 16, 16, 22, 16, 29, 24, 30, 15, 20, 15, 23, 35, 34, 11, 9, 22, 24, 12, 20, 26, 15, 36, 24, 31, 16, 16, 17, 10, 27, 17, 9, 31, 25, 20, 19, 7, 14, 21, 29, 22, 28, 14, 32, 24, 14, 22, 14, 22, 9, 18, 9, 28, 37, 24, 22, 10, 25, 33, 26, 17, 28, 11, 12, 31, 31, 22, 23, 31, 34, 17, 28, 11, 23, 16, 15, 34, 24, 11, 33, 25, 9, 25, 42, 17, 12, 23, 6, 30, 32, 26, 17, 16, 24, 25, 15, 33, 13, 15, 12, 28, 11, 17, 24, 21, 21, 8, 20, 10, 16, 29, 14, 10, 19, 31, 17, 14, 18, 17, 30, 22, 34, 22, 18, 25, 24, 17, 28, 30, 22, 28, 25, 14, 16, 12, 25, 15, 15, 26, 14, 22, 18, 9, 29, 29, 13, 37, 17, 21, 28, 28, 20, 38, 30, 8, 23, 29, 17, 25, 22, 25, 36, 13, 21, 27, 20, 25, 35, 18, 21, 22, 15, 22, 6, 21, 28, 32, 23, 18, 17, 20, 16, 19, 27, 20, 14, 19, 14, 22, 14, 14, 21, 19, 7, 15, 21, 15, 11, 16, 11, 30, 27, 25, 20, 31, 22, 33, 11, 42, 11, 30, 32, 13, 25, 19, 30, 22, 21, 33, 17, 28, 21, 27, 36, 20, 27, 31, 13, 14, 27, 31, 28, 28, 22, 20, 29, 27, 18, 19, 15, 19, 19, 17, 23, 34, 29, 19, 18, 29, 25, 13, 27, 36, 27, 13, 19, 19, 24, 22, 23, 43, 17, 33, 41, 25, 17, 17, 27, 12, 22, 19, 23, 8, 17, 9, 32, 30, 23, 28, 10, 13, 10, 33, 15, 13, 34, 17, 19, 16, 41, 23, 33, 25, 22, 29, 14, 20, 13, 22, 29, 21, 14, 12, 16, 17, 11, 11, 17, 25, 27, 22, 23, 30, 9, 22, 18, 26, 18, 14, 22, 11, 27, 24, 23, 8, 21, 27, 25, 14, 17, 15, 19, 22, 31, 19, 31, 27, 32, 14, 25, 18, 9, 25, 12, 18, 25, 23, 32, 34, 22, 12, 10, 13, 13, 26, 9, 27, 30, 39, 14, 33, 24, 15, 20, 15, 20, 18, 27, 24, 14, 12, 16, 21, 33, 9, 16, 23, 31, 14, 15, 22, 31, 30, 27, 24, 15, 23, 18, 38, 15, 22, 16, 24, 21, 25, 23, 26, 22, 25, 23, 18, 19, 33, 27, 25, 38, 28, 17, 32, 12, 10, 14, 26, 6, 20, 19, 16, 20, 20, 15, 28, 11, 18, 4, 25, 10, 11, 25, 22, 23, 34, 11, 16, 27, 22, 28, 21, 31, 27, 26, 26, 27, 13, 13, 24, 25, 11, 27, 15, 45, 15, 24, 20, 20, 17, 27, 21, 22, 23, 30, 23, 26, 13, 27, 26, 18, 11, 19, 29, 17, 35, 23, 27, 16, 31, 26, 14, 9, 17, 10, 22, 21, 17, 16, 7, 23, 32, 25, 15, 14, 26, 11, 24, 25, 39, 24, 18, 32, 21, 20, 14, 34, 45, 59, 25, 7, 22, 49, 29, 25, 22, 34, 38, 23, 27, 22, 34, 23, 23, 25, 11, 19, 26, 17, 19, 27, 30, 15, 34, 22, 32, 22, 13, 12, 19, 23, 23, 7, 13, 11, 19, 18, 9, 19, 23, 27, 28, 15, 30, 19, 37, 26, 10, 21, 9, 26, 26, 23, 23, 11, 19, 19, 22, 20, 19, 33, 10, 10, 27, 17, 14, 41, 17, 24, 10, 28, 18, 36, 19, 29, 14, 27, 18, 9, 25, 17, 15, 30, 27, 28, 17, 29, 15, 19, 20, 21, 21, 27, 24, 13, 17, 20, 30, 24, 20, 12, 52, 18, 28, 28, 31, 18, 19, 19, 25, 20, 25, 23, 16, 19, 9, 17, 25, 33, 17, 13, 29, 33, 23, 35, 10, 31, 35, 23, 33, 27, 21, 26, 24, 36, 26, 17, 20, 34, 16, 18, 25, 25, 22, 23, 13, 35, 19, 11, 16, 26, 17, 20, 37, 26, 32, 18, 5, 15, 20, 15, 12, 20, 15, 20, 18, 26, 13, 14, 28, 15, 24, 13, 19, 11, 19, 20, 13, 21, 19, 18, 19, 19, 11, 18, 23, 17, 22, 36, 29, 30, 30, 10, 28, 18, 25, 30, 13, 21, 19, 36, 16, 27, 7, 31, 13, 25, 9, 19, 36, 8, 15, 18, 16, 17, 17, 5, 13, 21, 18, 15, 28, 23, 29, 12, 30, 18, 34, 28, 27, 24, 19, 10, 18, 26, 23, 24, 25, 18, 23, 11, 22, 10, 26, 26, 26, 19, 13, 29, 16, 9, 11, 21, 19, 15, 16, 21, 12, 12, 20, 23, 20, 38, 30, 19, 25, 16, 16, 39, 29, 35, 30, 27, 22, 22, 27, 25, 20, 8, 22, 12, 12, 34, 27, 24, 26, 21, 18, 15, 29, 22, 28, 10, 28, 20, 21, 16, 17, 10, 23, 16, 35, 32, 34, 26, 17, 21, 24, 18, 16, 26, 20, 24, 26, 19, 27, 20, 15, 14, 25, 26, 18, 28, 12, 18, 7, 34, 26, 9, 25, 34, 17, 19, 25, 23, 39, 11, 23, 19, 9, 39, 23, 13, 39, 12, 37, 23, 24, 23, 8, 25, 24, 19, 29, 24, 22, 11, 4, 11, 15, 31, 11, 23, 30, 36, 30, 20, 12, 27, 30, 25, 25, 6, 24, 21, 19, 19, 21, 12, 5, 19, 26, 33, 24, 21, 19, 13, 8, 14, 35, 16, 32, 19, 22, 23, 18, 31, 33, 23, 30, 32, 5, 17, 24, 21, 21, 24, 24, 16, 36, 39, 22, 16, 30, 22, 20, 19, 27, 38, 22, 30, 17, 10, 28, 36, 33, 35, 19, 18, 23, 27, 26, 21, 25, 30, 23, 19, 20, 4, 11, 7, 34, 20, 16, 27, 19, 10, 8, 28, 14, 13, 11, 26, 8, 21, 27, 26, 22, 36, 23, 14, 29, 22, 19, 27, 21, 17, 26, 21, 19, 27, 13, 16, 16, 25, 14, 23, 17, 21, 23, 32, 21, 8, 22, 28, 10, 8, 20, 24, 14, 23, 20, 20, 22, 27, 23, 14, 20, 7, 20, 20, 29, 24, 10, 16, 28, 24, 27, 17, 24, 17, 29, 25, 25, 19, 15, 12, 14, 17, 31, 12, 16, 10, 15, 26, 21, 13, 24, 31, 11, 20, 24, 19, 17, 33, 19, 28, 19, 18, 25, 10, 26, 21, 18, 34, 6, 21, 28, 35, 11, 29, 24, 15, 17, 18, 36, 28, 27, 18, 26, 23, 20, 19, 22, 18, 35, 30, 27, 25, 36, 41, 29, 23, 29, 16, 24, 10, 19, 23, 16, 15, 22, 30, 9, 23, 17, 32, 27, 25, 31, 17, 14, 37, 17, 26, 15, 24, 15, 24, 9, 22, 11, 21, 33, 14, 21, 21, 36, 10, 21, 16, 27, 28, 6, 26, 26, 29, 41, 24, 35, 10, 26, 13, 23, 24, 16, 22, 5, 24, 31, 17, 22, 23, 27, 28, 29, 17, 16, 26, 6, 19, 15, 14, 13, 14, 18, 12, 12, 25, 25, 22, 13, 9, 7, 41, 30, 13, 56, 22, 19, 25, 21, 44, 49, 15, 18, 15, 20, 7, 29, 20, 26, 25, 20, 20, 24, 25, 22, 14, 34, 22, 17, 10, 16, 35, 32, 13, 38, 37, 23, 25, 27, 27, 23, 32, 23, 12, 32, 14, 27, 23, 36, 29, 16, 31, 21, 24, 30, 35, 25, 28, 25, 25, 28, 17, 29, 24, 32, 21, 28, 14, 27, 32, 23, 20, 11, 21, 24, 21, 24, 9, 19, 39, 19, 21, 27, 20, 28, 17, 22, 23, 25, 22, 19, 22, 39, 18, 18, 31, 30, 26, 17, 20, 36, 38, 8, 38, 22, 12, 11, 9, 17, 25, 39, 20, 10, 9, 22, 24, 29, 27, 17, 20, 22, 28, 30, 21, 27, 16, 23, 36, 23, 27, 14, 28, 23, 23, 24, 32, 34, 29, 31, 24, 13, 16, 31, 46, 17, 16, 20, 16, 36, 17, 19, 26, 42, 21, 18, 27, 30, 8, 19, 23, 14, 30, 29, 15, 29, 22, 25, 35, 27, 33, 25, 22, 27, 25, 15, 23, 5, 22, 23, 19, 31, 18, 20, 24, 27, 15, 32, 18, 47, 19, 34, 30, 20, 34, 13, 26, 24, 28, 17, 25, 9, 21, 21, 14, 38, 11, 7, 9, 21, 11, 5, 26, 22, 18, 20, 36, 17, 14, 36, 24, 21, 23, 23, 18, 23, 25, 34, 17, 17, 19, 18, 19, 14, 27, 31, 29, 32, 19, 32, 20, 11, 21, 13, 13, 13, 11, 24, 12, 22, 13, 13, 9, 22, 26, 23, 38, 31, 9, 18, 20, 22, 25, 28, 13, 19, 18, 14, 30, 29, 22, 31, 24, 15, 11, 15, 12, 23, 20, 15, 15, 26, 28, 27, 36, 16, 18, 33, 11, 21, 19, 20, 14, 16, 26, 23, 33, 26, 21, 18, 31, 48, 27, 14, 21, 14, 29, 28, 23, 32, 26, 7, 38, 23, 21, 22, 14, 16, 26, 13, 15, 17, 11, 20, 19, 22, 22, 25, 30, 27, 29, 21, 18, 30, 17, 37, 14, 25, 19, 29, 8, 24, 23, 18, 25, 24, 23, 14, 20, 7, 26, 14, 22, 28, 14, 9, 13, 13, 48, 30, 21, 39, 14, 21, 18, 28, 21, 19, 22, 17, 19, 20, 12, 16, 29, 26, 22, 5, 7, 29, 23, 22, 20, 9, 22, 11, 17, 22, 23, 21, 6, 19, 17, 8, 14, 30, 28, 29, 10, 35, 21, 33, 11, 23, 19, 30, 22, 29, 31, 14, 21, 28, 24, 19, 27, 20, 16, 35, 13, 16, 25, 27, 38, 21, 25, 18, 13, 30, 13, 27, 22, 22, 16, 21, 15, 21, 25, 22, 42, 35, 21, 23, 15, 9, 22, 11, 17, 24, 17, 17, 14, 28, 12, 25, 10, 20, 31, 14, 30, 28, 30, 20, 27, 25, 24, 16, 19, 24, 30, 26, 32, 20, 20, 18, 13, 14, 23, 12, 24, 21, 15, 32, 20, 10, 9, 23, 10, 8, 18, 17, 41, 36, 20, 25, 14, 22, 19, 17, 32, 30, 23, 25, 34, 14, 16, 21, 18, 28, 37, 32, 19, 26, 39, 13, 23, 36, 31, 15, 14, 26, 16, 25, 19, 31, 30, 29, 16, 31, 26, 34, 19, 29, 27, 31, 23, 19, 18, 23, 22, 21, 29, 35, 20, 40, 32, 15, 24, 20, 27, 26, 13, 13, 21, 27, 15, 16, 22, 30, 22, 15, 21, 10, 25, 19, 17, 42, 20, 23, 5, 10, 15, 36, 16, 18, 21, 49, 24, 12, 13, 34, 33, 15, 32, 24, 26, 5, 27, 19, 9, 26, 21, 15, 16, 16, 24, 23, 18, 16, 33, 24, 32, 31, 27, 17, 24, 37, 25, 25, 8, 16, 19, 21, 27, 28, 19, 31, 27, 21, 32, 21, 20, 16, 22, 23, 15, 22, 17, 31, 25, 13, 5, 20, 20, 10, 52, 29, 22, 33, 32, 42, 24, 25, 18, 10, 14, 6, 7, 36, 32, 10, 33, 32, 22, 26, 23, 45, 6, 30, 11, 32, 14, 9, 17, 27, 39, 8, 27, 8, 27, 24, 14, 29, 23, 7, 17, 35, 38, 26, 33, 9, 20, 33, 12, 20, 19, 14, 15, 13, 24, 27, 22, 16, 21, 21, 33, 24, 25, 25, 19, 20, 32, 29, 17, 23, 27, 17, 31, 23, 27, 18, 26, 24, 25, 15, 23, 11, 18, 11, 10, 27, 22, 24, 19, 25, 23, 23, 28, 20, 19, 26, 16, 13, 21, 21, 16, 20, 28, 23, 21, 46, 14, 21, 27, 25, 21, 20, 27, 28, 19, 10, 22, 34, 11, 27, 30, 20, 15, 15, 24, 15, 23, 38, 12, 6, 13, 27, 14, 20, 27, 21, 18, 16, 12, 16, 18, 14, 13, 26, 26, 13, 31, 23, 12, 21, 16, 14, 24, 21, 21, 21, 20, 18, 24, 13, 12, 19, 39, 27, 20, 16, 9, 13, 17, 12, 37, 32, 26, 24, 30, 23, 15, 29, 16, 23, 24, 21, 26, 17, 27, 24, 25, 33, 36, 9, 43, 41, 42, 28, 43, 13, 24, 29, 11, 13, 40, 23, 33, 40, 19, 19, 22, 21, 34, 10, 22, 25, 29, 29, 22, 29, 20, 16, 19, 26, 15, 44, 15, 27, 33, 11, 22, 7, 30, 14, 8, 13, 20, 18, 25, 17, 10, 14, 18, 15, 16, 26, 26, 26, 13, 33, 14, 25, 25, 22, 44, 10, 18, 25, 20, 30, 14, 37, 16, 28, 13, 43, 25, 32, 21, 25, 30, 23, 28, 15, 12, 28, 26, 25, 29, 32, 15, 27, 6, 13, 25, 22, 34, 19, 29, 15, 17, 13, 22, 19, 21, 25, 25, 16, 39, 17, 26, 20, 13, 9, 22, 22, 16, 19, 39, 16, 24, 17, 8, 12, 14, 33, 44, 21, 34, 17, 19, 24, 15, 28, 12, 18, 27, 27, 29, 19, 8, 10, 14, 16, 9, 15, 16, 14, 14, 19, 18, 21, 22, 26, 25, 9, 28, 23, 24, 15, 16, 17, 15, 36, 23, 16, 17, 18, 13, 16, 20, 27, 11, 11, 7, 10, 15, 18, 6, 19, 8, 19, 19, 24, 6, 32, 27, 27, 6, 33, 35, 20, 17, 15, 19, 24, 34, 21, 23, 20, 11, 16, 23, 24, 10, 11, 14, 23, 25, 28, 27, 27, 22, 24, 20, 31, 10, 21, 19, 33, 19, 21, 11, 19, 12, 15, 31, 24, 19, 22, 25, 32, 9, 28, 37, 32, 45, 30, 35, 50, 25, 15, 31, 34, 53, 21, 14, 15, 43, 21, 42, 29, 25, 12, 19, 19, 22, 28, 12, 13, 51, 14, 18, 23, 16, 31, 26, 15, 18, 18, 30, 35, 25, 20, 29, 19, 18, 21, 8, 24, 16, 42, 39, 14, 18, 11, 26, 29, 9, 26, 24, 11, 20, 16, 21, 24, 17, 29, 16, 23, 12, 20, 14, 22, 16, 25, 18, 26, 22, 36, 20, 41, 24, 30, 30, 15, 27, 18, 26, 17, 26, 27, 26, 15, 20, 27, 21, 24, 27, 20, 11, 17, 16, 17, 26, 18, 27, 27, 14, 30, 31, 29, 27, 13, 20, 14, 19, 17, 10, 12, 14, 11, 21, 25, 23, 27, 22, 19, 21, 23, 13, 20, 22, 40, 36, 19, 33, 17, 25, 15, 29, 14, 12, 53, 25, 36, 41, 21, 22, 23, 13, 5, 20, 28, 34, 41, 12, 17, 26, 9, 23, 30, 30, 23, 35, 28, 33, 27, 23, 36, 28, 19, 33, 37, 30, 18, 30, 35, 6, 26, 16, 24, 27, 26, 19, 27, 24, 25, 7, 24, 35, 30, 14, 19, 16, 20, 27, 8, 12, 13, 23, 29, 38, 15, 13, 14, 35, 37, 27, 19, 16, 20, 20, 14, 7, 25, 16, 27, 29, 25, 22, 49, 22, 31, 26, 24, 14, 29, 18, 41, 16, 10, 27, 23, 23, 18, 23, 16, 26, 35, 31, 23, 30, 21, 20, 12, 11, 19, 34, 41, 21, 14, 18, 32, 16, 28, 13, 32, 26, 25, 26, 15, 27, 25, 19, 24, 17, 15, 19, 23, 21, 21, 14, 38, 19, 29, 9, 13, 11, 38, 22, 20, 16, 20, 17, 28, 17, 23, 23, 27, 34, 14, 24, 21, 17, 27, 32, 21, 19, 13, 28, 17, 17, 21, 26, 13, 29, 27, 27, 40, 23, 22, 21, 20, 16, 26, 20, 24, 41, 22, 28, 25, 19, 22, 15, 10, 16, 13, 24, 25, 27, 35, 18, 32, 32, 20, 8, 23, 35, 8, 7, 37, 18, 28, 29, 22, 35, 18, 20, 32, 21, 20, 19, 26, 8, 13, 20, 24, 18, 16, 12, 28, 16, 12, 21, 15, 17, 31, 18, 19, 23, 17, 15, 28, 19, 22, 32, 24, 13, 22, 9, 34, 17, 23, 29, 20, 27, 33, 16, 21, 15, 14, 22, 31, 32, 25, 8, 24, 33, 15, 27, 29, 27, 25, 12, 19, 6, 13, 15, 29, 18, 13, 15, 16, 38, 13, 24, 12, 14, 26, 46, 20, 21, 42, 26, 31, 18, 27, 27, 13, 38, 27, 44, 18, 14, 43, 8, 14, 14, 14, 43, 14, 33, 18, 8, 24, 10, 28, 15, 13, 27, 21, 30, 15, 23, 25, 21, 31, 23, 11, 17, 19, 19, 42, 21, 37, 16, 22, 17, 6, 21, 32, 14, 34, 34, 25, 21, 29, 19, 18, 24, 30, 8, 26, 16, 23, 28, 35, 23, 20, 9, 28, 28, 13, 35, 18, 9, 28, 34, 25, 13, 26, 15, 17, 20, 15, 17, 12, 11, 18, 6, 23, 16, 11, 27, 37, 20, 24, 27, 10, 21, 12, 34, 21, 34, 14, 30, 4, 20, 25, 20, 17, 14, 9, 26, 25, 7, 8, 15, 32, 21, 20, 25, 19, 28, 12, 27, 22, 15, 11, 22, 19, 12, 29, 18, 14, 39, 14, 18, 28, 24, 19, 27, 17, 17, 36, 21, 28, 27, 31, 17, 24, 19, 26, 32, 33, 15, 19, 16, 13, 14, 23, 21, 26, 18, 26, 20, 13, 19, 23, 21, 15, 14, 14, 11, 13, 27, 22, 32, 32, 21, 20, 18, 18, 19, 16, 17, 21, 26, 24, 15, 9, 33, 32, 22, 20, 14, 25, 21, 23, 20, 27, 13, 27, 6, 38, 16, 34, 27, 12, 13, 16, 7, 30, 8, 31, 16, 14, 22, 11, 27, 25, 18, 23, 20, 37, 24, 27, 29, 23, 15, 19, 11, 30, 10, 31, 25, 7, 22, 14, 40, 29, 29, 21, 17, 13, 19, 31, 17, 20, 16, 17, 17, 23, 23, 21, 27, 15, 35, 9, 28, 31, 21, 24, 35, 20, 18, 15, 20, 23, 16, 26, 27, 14, 19, 43, 21, 31, 41, 22, 17, 17, 27, 5, 19, 24, 29, 27, 28, 10, 27, 19, 14, 14, 10, 34, 28, 24, 25, 17, 31, 26, 36, 23, 16, 29, 17, 23, 45, 27, 25, 19, 23, 19, 28, 22, 27, 21, 9, 10, 27, 23, 20, 26, 34, 23, 11, 22, 13, 6, 19, 22, 25, 27, 11, 21, 23, 22, 39, 27, 29, 25, 37, 16, 17, 39, 18, 23, 12, 14, 23, 19, 34, 21, 19, 19, 22, 21, 11, 9, 20, 16, 20, 32, 36, 27, 16, 18, 25, 11, 32, 28, 10, 17, 32, 31, 23, 22, 13, 24, 19, 12, 31, 13, 10, 33, 16, 13, 22, 25, 20, 17, 15, 27, 27, 9, 27, 40, 17, 8, 19, 21, 28, 19, 16, 22, 35, 17, 26, 27, 32, 43, 14, 14, 23, 27, 28, 23, 22, 12, 22, 18, 14, 11, 32, 21, 21, 13, 24, 27, 12, 20, 32, 27, 32, 27, 28, 15, 12, 17, 15, 14, 17, 24, 23, 11, 23, 16, 19, 16, 22, 21, 21, 10, 16, 15, 23, 39, 17, 20, 12, 28, 24, 16, 12, 5, 5, 14, 27, 29, 19, 15, 14, 24, 10, 28, 23, 20, 14, 23, 33, 15, 18, 27, 25, 30, 16, 16, 27, 23, 31, 24, 14, 20, 27, 10, 12, 20, 13, 19, 13, 14, 10, 17, 38, 18, 7, 26, 24, 11, 23, 14, 16, 14, 8, 12, 28, 20, 9, 16, 16, 13, 52, 24, 10, 29, 26, 23, 28, 28, 12, 8, 31, 46, 25, 24, 19, 27, 32, 12, 12, 9, 11, 14, 31, 21, 11, 28, 24, 14, 33, 24, 27, 31, 25, 18, 27, 30, 34, 24, 33, 14, 11, 11, 27, 17, 27, 7, 15, 20, 19, 23, 25, 8, 13, 16, 29, 14, 16, 30, 24, 29, 33, 16, 19, 40, 18, 13, 17, 25, 21, 27, 8, 22, 31, 18, 26, 8, 15, 13, 27, 27, 15, 41, 13, 11, 23, 39, 11, 20, 27, 20, 38, 15, 33, 25, 24, 19, 15, 26, 9, 22, 26, 23, 25, 19, 25, 17, 19, 19, 23, 20, 22, 25, 25, 23, 11, 21, 22, 15, 29, 23, 28, 11, 11, 24, 25, 24, 27, 26, 21, 21, 23, 37, 29, 20, 33, 16, 11, 37, 32, 24, 26, 10, 11, 21, 21, 21, 26, 12, 27, 29, 32, 16, 21, 22, 28, 9, 24, 18, 39, 15, 44, 24, 26, 19, 23, 9, 19, 13, 27, 38, 27, 18, 20, 37, 25, 17, 22, 12, 23, 10, 21, 25, 28, 20, 17, 20, 27, 19, 25, 33, 15, 23, 31, 29, 21, 15, 30, 20, 28, 20, 17, 28, 19, 22, 24, 13, 18, 8, 24, 16, 14, 13, 26, 25, 18, 24, 10, 27, 22, 35, 18, 24, 19, 12, 13, 20, 24, 10, 32, 16, 25, 31, 31, 20, 24, 11, 46, 16, 25, 30, 16, 32, 26, 6, 33, 24, 25, 20, 32, 14, 26, 28, 20, 19, 23, 18, 13, 25, 26, 28, 14, 39, 21, 23, 22, 25, 36, 24, 12, 17, 12, 15, 7, 13, 16, 14, 11, 9, 17, 20, 18, 10, 21, 17, 17, 17, 29, 17, 23, 20, 22, 23, 39, 26, 28, 30, 14, 32, 15, 21, 21, 37, 16, 18, 14, 25, 21, 24, 30, 14, 36, 6, 24, 11, 9, 29, 28, 38, 21, 23, 21, 20, 31, 19, 16, 26, 28, 15, 26, 30, 20, 11, 11, 18, 6, 19, 19, 27, 19, 17, 31, 27, 16, 17, 35, 27, 23, 18, 13, 14, 30, 28, 28, 27, 17, 22, 25, 14, 17, 27, 21, 24, 14, 23, 24, 18, 19, 18, 12, 18, 17, 26, 18, 16, 20, 19, 18, 28, 8, 34, 25, 22, 19, 30, 17, 25, 29, 27, 12, 20, 14, 22, 27, 13, 14, 37, 10, 34, 29, 18, 23, 18, 17, 21, 22, 18, 6, 30, 18, 20, 24, 31, 28, 26, 9, 33, 13, 28, 14, 17, 13, 15, 14, 31, 28, 18, 25, 16, 22, 11, 27, 29, 30, 6, 29, 23, 15, 19, 24, 8, 16, 25, 9, 36, 20, 28, 26, 30, 17, 13, 15, 32, 35, 7, 40, 17, 19, 20, 19, 24, 27, 10, 7, 38, 40, 24, 21, 23, 32, 21, 23, 22, 22, 10, 37, 27, 16, 23, 27, 25, 27, 23, 30, 29, 18, 30, 43, 18, 18, 28, 19, 27, 30, 15, 23, 24, 17, 11, 20, 22, 15, 33, 10, 42, 30, 16, 26, 12, 40, 21, 22, 28, 27, 21, 17, 18, 22, 29, 25, 14, 17, 28, 21, 36, 23, 21, 14, 7, 21, 23, 16, 19, 17, 30, 16, 20, 18, 20, 29, 16, 17, 24, 19, 24, 23, 17, 21, 13, 11, 7, 31, 23, 20, 24, 11, 18, 28, 25, 17, 34, 25, 14, 26, 24, 20, 25, 36, 27, 32, 7, 25, 33, 26, 21, 22, 17, 20, 38, 14, 23, 21, 22, 24, 8, 21, 30, 24, 36, 23, 22, 22, 17, 30, 16, 16, 19, 34, 30, 30, 6, 32, 34, 7, 40, 25, 20, 26, 23, 31, 21, 18, 28, 25, 25, 38, 31, 31, 24, 11, 24, 36, 22, 19, 18, 8, 27, 30, 16, 25, 22, 9, 29, 11, 10, 35, 42, 36, 11, 24, 12, 27, 15, 22, 18, 10, 17, 22, 28, 31, 27, 17, 34, 14, 22, 11, 25, 16, 24, 26, 14, 22, 19, 32, 45, 24, 20, 26, 34, 18, 22, 16, 15, 17, 20, 24, 26, 21, 20, 21, 40, 30, 18, 18, 27, 26, 20, 26, 19, 24, 13, 15, 27, 20, 27, 9, 20, 31, 26, 16, 34, 23, 15, 20, 19, 16, 14, 25, 34, 11, 21, 30, 17, 17, 24, 21, 16, 26, 14, 13, 27, 14, 24, 22, 20, 25, 23, 32, 25, 20, 31, 24, 17, 35, 30, 22, 12, 18, 14, 13, 12, 34, 29, 25, 24, 15, 12, 26, 16, 16, 27, 26, 11, 30, 15, 27, 13, 28, 23, 31, 26, 31, 31, 6, 15, 9, 14, 25, 12, 18, 24, 20, 24, 20, 14, 27, 39, 17, 32, 24, 16, 41, 18, 15, 21, 22, 34, 33, 23, 11, 26, 27, 15, 39, 30, 50, 12, 21, 15, 25, 31, 17, 14, 21, 16, 16, 29, 16, 17, 33, 27, 29, 31, 17, 15, 26, 18, 22, 18, 25, 35, 22, 13, 27, 49, 25, 44, 22, 14, 29, 32, 26, 39, 48, 24, 33, 38, 30, 35, 25, 25, 31, 23, 13, 28, 26, 17, 19, 29, 16, 20, 23, 12, 22, 11, 23, 26, 9, 12, 20, 37, 18, 10, 13, 26, 42, 28, 34, 18, 7, 29, 21, 10, 12, 17, 16, 25, 23, 13, 10, 29, 21, 8, 19, 23, 26, 25, 17, 20, 18, 21, 21, 20, 10, 11, 23, 15, 28, 15, 27, 22, 7, 15, 49, 13, 20, 17, 33, 28, 9, 24, 18, 29, 35, 32, 36, 16, 16, 22, 29, 15, 30, 26, 30, 11, 29, 24, 9, 27, 32, 12, 22, 23, 17, 15, 24, 16, 5, 30, 21, 18, 34, 25, 26, 14, 17, 13, 40, 33, 22, 29, 15, 32, 35, 30, 18, 38, 22, 28, 13, 30, 34, 29, 14, 9, 30, 38, 22, 27, 22, 32, 9, 15, 10, 22, 13, 33, 28, 35, 5, 16, 6, 24, 21, 17, 16, 28, 18, 16, 27, 24, 17, 20, 10, 27, 20, 33, 11, 21, 26, 21, 25, 31, 18, 7, 38, 17, 22, 22, 18, 12, 33, 23, 11, 27, 20, 12, 25, 24, 30, 19, 19, 14, 10, 28, 26, 22, 14, 13, 17, 30, 32, 22, 22, 26, 36, 26, 14, 21, 16, 20, 23, 22, 12, 23, 17, 19, 36, 20, 34, 17, 28, 26, 28, 25, 27, 19, 22, 18, 18, 12, 18, 24, 32, 24, 27, 29, 15, 18, 24, 22, 24, 17, 18, 18, 21, 32, 12, 20, 16, 29, 25, 24, 30, 17, 21, 14, 13, 20, 35, 10, 20, 20, 26, 23, 21, 28, 24, 26, 16, 18, 19, 29, 39, 16, 16, 29]\n",
            "[24, 21, 28, 25, 26, 22, 34, 23, 19, 25, 22, 35, 30, 24, 26, 39, 31, 7, 34, 8, 26, 32, 14, 30, 24, 11, 17, 29, 27, 7, 32, 25, 18, 18, 12, 28, 32, 22, 21, 26, 13, 25, 33, 20, 9, 27, 36, 40, 18, 24, 11, 17, 11, 26, 14, 20, 28, 21, 41, 25, 35, 18, 21, 30, 20, 17, 18, 27, 24, 25, 26, 17, 22, 14, 22, 27, 26, 24, 21, 30, 10, 14, 32, 30, 22, 17, 16, 23, 17, 29, 23, 16, 18, 22, 23, 25, 17, 24, 29, 15, 16, 46, 14, 27, 23, 24, 22, 20, 19, 7, 12, 21, 19, 19, 40, 13, 14, 26, 18, 27, 11, 31, 33, 21, 23, 9, 19, 20, 38, 26, 23, 18, 24, 26, 21, 17, 18, 24, 26, 24, 24, 37, 34, 15, 15, 17, 19, 25, 17, 9, 41, 24, 22, 18, 12, 37, 27, 12, 21, 29, 16, 24, 29, 23, 20, 33, 17, 17, 11, 19, 43, 31, 21, 42, 13, 31, 27, 35, 31, 13, 14, 38, 26, 24, 22, 32, 29, 62, 12, 9, 30, 15, 31, 28, 29, 13, 19, 13, 12, 12, 16, 27, 23, 32, 20, 10, 23, 27, 34, 15, 13, 19, 21, 11, 26, 28, 36, 14, 15, 18, 6, 30, 9, 18, 24, 32, 29, 25, 23, 22, 21, 20, 15, 26, 17, 29, 21, 20, 30, 18, 22, 21, 25, 38, 17, 11, 34, 27, 37, 13, 26, 26, 25, 25, 36, 19, 19, 20, 23, 23, 11, 27, 15, 29, 37, 26, 13, 23, 14, 18, 12, 16, 19, 20, 10, 18, 6, 14, 28, 37, 16, 25, 15, 21, 25, 24, 28, 29, 11, 13, 33, 24, 21, 38, 28, 22, 23, 15, 23, 20, 13, 28, 36, 16, 32, 27, 10, 11, 13, 35, 22, 17, 15, 35, 25, 26, 17, 18, 24, 12, 22, 23, 26, 43, 26, 22, 26, 21, 36, 26, 17, 15, 23, 32, 30, 22, 29, 24, 27, 18, 17, 10, 21, 25, 31, 17, 31, 19, 22, 27, 21, 21, 24, 20, 21, 10, 24, 20, 28, 15, 34, 21, 22, 6, 23, 40, 10, 19, 16, 17, 14, 38, 33, 27, 34, 16, 14, 13, 37, 15, 10, 20, 14, 28, 20, 10, 27, 29, 20, 22, 23, 25, 19, 13, 25, 14, 5, 28, 19, 20, 23, 29, 16, 32, 15, 49, 48, 17, 34, 27, 34, 21, 25, 25, 24, 24, 20, 24, 34, 9, 17, 26, 30, 25, 33, 30, 11, 19, 22, 13, 44, 29, 14, 6, 20, 25, 27, 25, 22, 15, 23, 21, 30, 23, 16, 21, 13, 8, 8, 28, 24, 39, 10, 43, 13, 28, 24, 10, 26, 26, 19, 24, 25, 38, 23, 25, 16, 20, 26, 29, 14, 15, 21, 23, 34, 28, 19, 8, 26, 21, 18, 26, 25, 25, 27, 19, 18, 20, 22, 24, 27, 27, 35, 8, 27, 17, 32, 11, 15, 34, 17, 21, 17, 24, 27, 23, 20, 19, 30, 31, 24, 23, 18, 22, 20, 14, 21, 11, 2, 35, 26, 14, 23, 19, 21, 13, 21, 29, 32, 24, 20, 11, 22, 12, 24, 14, 23, 16, 19, 11, 18, 24, 16, 21, 11, 27, 14, 25, 17, 16, 12, 22, 24, 28, 20, 19, 22, 13, 22, 19, 17, 17, 24, 11, 28, 17, 29, 32, 7, 15, 22, 14, 26, 28, 18, 27, 29, 14, 18, 22, 19, 27, 39, 23, 18, 27, 36, 23, 23, 35, 10, 29, 17, 9, 16, 9, 37, 18, 40, 20, 29, 18, 20, 28, 17, 21, 23, 18, 20, 31, 9, 30, 26, 21, 19, 25, 14, 9, 18, 15, 25, 31, 18, 11, 38, 25, 24, 21, 35, 34, 29, 12, 19, 14, 22, 20, 6, 25, 25, 25, 16, 13, 13, 17, 21, 18, 21, 21, 21, 28, 30, 15, 32, 15, 22, 18, 15, 31, 15, 30, 29, 18, 13, 24, 6, 22, 29, 15, 14, 25, 19, 20, 19, 24, 21, 27, 24, 8, 27, 16, 9, 14, 32, 7, 23, 18, 10, 22, 12, 12, 32, 13, 7, 24, 17, 26, 10, 14, 10, 30, 18, 9, 13, 14, 20, 24, 33, 22, 8, 24, 41, 22, 25, 32, 20, 33, 26, 26, 18, 32, 27, 26, 11, 21, 17, 23, 7, 14, 27, 21, 36, 13, 24, 33, 25, 25, 29, 10, 22, 31, 11, 9, 23, 15, 37, 19, 25, 30, 22, 17, 18, 40, 23, 26, 23, 24, 33, 28, 20, 21, 30, 15, 25, 31, 16, 34, 25, 16, 16, 23, 16, 32, 35, 23, 29, 22, 13, 16, 30, 10, 18, 22, 30, 24, 29, 14, 19, 16, 29, 19, 24, 18, 34, 33, 22, 25, 19, 19, 22, 17, 20, 12, 21, 15, 33, 17, 27, 32, 44, 28, 9, 25, 24, 9, 21, 18, 21, 25, 18, 20, 28, 20, 22, 21, 32, 6, 24, 27, 18, 16, 20, 17, 24, 13, 22, 18, 19, 21, 16, 22, 4, 18, 15, 26, 28, 23, 24, 21, 22, 23, 24, 17, 6, 27, 11, 9, 21, 25, 70, 13, 25, 22, 28, 28, 31, 30, 18, 26, 15, 19, 26, 24, 6, 25, 30, 22, 38, 15, 10, 16, 29, 35, 20, 15, 24, 29, 20, 16, 34, 17, 25, 25, 24, 21, 21, 14, 20, 25, 27, 29, 25, 36, 23, 19, 19, 19, 24, 23, 35, 19, 8, 18, 36, 11, 19, 10, 11, 29, 15, 19, 26, 27, 15, 22, 22, 30, 15, 18, 11, 21, 18, 29, 14, 13, 29, 23, 15, 25, 20, 18, 16, 27, 16, 20, 17, 16, 22, 20, 20, 22, 16, 21, 14, 20, 28, 17, 38, 12, 20, 8, 32, 6, 30, 22, 22, 15, 26, 31, 19, 31, 28, 27, 29, 17, 26, 16, 22, 31, 22, 22, 30, 32, 12, 23, 27, 30, 22, 23, 20, 30, 19, 19, 10, 29, 23, 37, 21, 22, 28, 7, 13, 12, 31, 17, 11, 19, 8, 9, 26, 20, 12, 16, 13, 13, 20, 30, 20, 15, 16, 13, 21, 22, 20, 17, 16, 24, 5, 13, 9, 22, 17, 14, 16, 25, 30, 12, 23, 21, 27, 10, 5, 23, 20, 8, 29, 25, 20, 29, 19, 22, 20, 15, 7, 8, 18, 10, 24, 23, 30, 38, 32, 26, 9, 26, 31, 14, 32, 21, 24, 22, 22, 26, 10, 31, 24, 14, 15, 35, 16, 20, 27, 20, 21, 11, 28, 25, 30, 29, 26, 37, 21, 24, 11, 13, 13, 19, 18, 28, 20, 44, 16, 21, 22, 23, 32, 20, 28, 14, 16, 21, 9, 20, 19, 28, 9, 13, 31, 19, 31, 25, 25, 23, 40, 26, 18, 25, 25, 15, 23, 22, 10, 20, 27, 17, 21, 7, 27, 27, 21, 22, 29, 30, 24, 25, 10, 14, 27, 25, 14, 19, 19, 41, 32, 29, 26, 24, 31, 21, 22, 19, 35, 22, 22, 16, 18, 27, 30, 11, 15, 15, 30, 12, 26, 23, 13, 18, 21, 30, 14, 14, 25, 19, 15, 29, 15, 15, 11, 12, 15, 21, 24, 14, 21, 12, 11, 27, 25, 34, 31, 22, 25, 38, 24, 10, 25, 21, 9, 8, 28, 20, 32, 28, 9, 13, 15, 22, 25, 7, 10, 22, 24, 13, 33, 28, 16, 24, 20, 23, 21, 21, 23, 35, 9, 18, 20, 23, 8, 18, 16, 26, 24, 20, 9, 35, 32, 28, 26, 26, 14, 25, 20, 28, 35, 31, 28, 21, 20, 11, 29, 29, 21, 35, 19, 19, 23, 23, 14, 25, 27, 11, 10, 17, 17, 29, 24, 26, 33, 23, 26, 23, 17, 35, 20, 18, 31, 13, 27, 32, 28, 21, 25, 20, 16, 34, 14, 26, 24, 30, 30, 28, 21, 24, 11, 14, 21, 32, 36, 26, 24, 26, 23, 23, 18, 24, 11, 24, 24, 24, 28, 33, 21, 38, 21, 33, 29, 36, 26, 15, 19, 15, 31, 19, 17, 15, 15, 23, 8, 25, 20, 22, 29, 19, 20, 16, 12, 13, 24, 13, 21, 17, 20, 28, 17, 30, 17, 27, 38, 23, 14, 24, 24, 24, 24, 17, 17, 15, 20, 36, 25, 21, 9, 27, 26, 27, 24, 35, 13, 20, 19, 18, 15, 29, 17, 18, 16, 32, 16, 27, 34, 12, 29, 31, 17, 27, 17, 15, 17, 26, 21, 14, 20, 21, 27, 26, 19, 21, 42, 17, 21, 26, 7, 13, 31, 26, 15, 32, 15, 25, 27, 38, 20, 14, 14, 27, 27, 30, 32, 25, 18, 32, 31, 18, 24, 23, 14, 7, 21, 22, 27, 21, 14, 19, 26, 15, 21, 20, 29, 39, 15, 24, 33, 14, 36, 24, 12, 28, 32, 33, 17, 29, 30, 19, 13, 29, 15, 16, 31, 23, 21, 20, 17, 25, 30, 23, 33, 25, 19, 19, 14, 23, 18, 21, 14, 18, 14, 37, 17, 18, 26, 14, 8, 30, 27, 25, 34, 14, 24, 36, 19, 21, 26, 14, 30, 21, 17, 26, 18, 12, 22, 20, 22, 24, 36, 22, 16, 37, 19, 24, 20, 15, 28, 21, 8, 24, 29, 53, 29, 28, 26, 16, 26, 19, 13, 21, 10, 27, 19, 24, 33, 25, 24, 10, 19, 27, 27, 19, 29, 18, 6, 18, 30, 19, 25, 23, 6, 23, 14, 21, 14, 28, 18, 13, 21, 20, 26, 34, 16, 19, 22, 28, 24, 23, 27, 24, 18, 29, 11, 21, 18, 20, 21, 20, 36, 35, 11, 26, 24, 11, 9, 21, 27, 29, 23, 24, 30, 20, 16, 7, 30, 19, 18, 28, 13, 22, 19, 15, 24, 28, 15, 7, 30, 25, 30, 21, 14, 20, 15, 24, 20, 12, 21, 24, 36, 12, 25, 20, 27, 23, 20, 28, 20, 27, 22, 13, 15, 36, 10, 13, 21, 17, 18, 20, 19, 17, 11, 19, 14, 24, 23, 36, 21, 6, 31, 22, 14, 31, 26, 27, 22, 26, 23, 27, 23, 32, 23, 28, 34, 36, 32, 29, 24, 31, 9, 15, 18, 25, 21, 17, 25, 20, 5, 26, 6, 26, 36, 18, 11, 20, 14, 26, 10, 24, 25, 21, 22, 19, 33, 23, 29, 25, 22, 28, 29, 15, 10, 23, 20, 15, 29, 27, 32, 22, 18, 24, 6, 26, 17, 15, 24, 25, 17, 32, 24, 21, 13, 15, 30, 12, 11, 23, 19, 26, 21, 12, 8, 29, 30, 18, 17, 17, 17, 20, 43, 18, 25, 25, 19, 18, 31, 31, 12, 25, 29, 18, 34, 27, 23, 25, 24, 17, 14, 18, 22, 31, 33, 11, 27, 31, 27, 27, 5, 15, 28, 17, 24, 20, 23, 22, 16, 19, 15, 15, 18, 19, 33, 35, 28, 25, 20, 33, 18, 23, 16, 19, 12, 21, 20, 24, 30, 7, 29, 28, 20, 19, 18, 19, 23, 22, 13, 25, 26, 16, 24, 22, 16, 8, 26, 32, 17, 28, 30, 28, 20, 24, 35, 8, 21, 34, 16, 27, 22, 25, 12, 29, 26, 18, 31, 30, 16, 11, 37, 31, 39, 20, 16, 23, 30, 38, 19, 24, 20, 20, 25, 15, 7, 29, 19, 20, 20, 11, 19, 26, 16, 34, 29, 14, 31, 27, 24, 15, 18, 17, 6, 31, 34, 15, 13, 18, 16, 15, 9, 6, 29, 17, 13, 27, 12, 18, 15, 21, 14, 13, 33, 50, 22, 24, 29, 19, 13, 9, 26, 28, 25, 13, 23, 18, 40, 24, 20, 12, 23, 23, 23, 19, 16, 16, 19, 25, 16, 23, 9, 17, 29, 12, 26, 28, 21, 15, 16, 20, 27, 27, 28, 24, 27, 25, 32, 25, 26, 14, 34, 17, 21, 26, 11, 22, 25, 11, 12, 18, 18, 11, 11, 31, 14, 15, 21, 10, 30, 14, 15, 24, 33, 29, 20, 17, 12, 16, 33, 10, 20, 19, 16, 19, 37, 25, 18, 16, 23, 19, 33, 32, 23, 18, 20, 30, 16, 7, 21, 14, 30, 22, 18, 20, 10, 23, 11, 39, 9, 29, 36, 14, 11, 22, 19, 22, 18, 17, 44, 14, 22, 15, 13, 19, 34, 19, 24, 12, 20, 20, 17, 29, 27, 31, 16, 20, 17, 15, 23, 13, 11, 34, 13, 33, 23, 23, 14, 23, 28, 15, 19, 21, 25, 31, 29, 16, 34, 21, 21, 15, 14, 13, 23, 18, 18, 13, 16, 23, 34, 8, 31, 14, 18, 17, 26, 24, 35, 19, 24, 24, 25, 29, 30, 24, 16, 28, 9, 28, 39, 31, 23, 12, 12, 20, 31, 13, 25, 12, 11, 28, 30, 19, 14, 23, 32, 32, 16, 33, 15, 35, 26, 21, 19, 15, 21, 31, 28, 31, 22, 17, 24, 23, 22, 14, 37, 11, 20, 21, 22, 28, 12, 9, 37, 18, 15, 22, 15, 20, 28, 21, 17, 20, 21, 22, 15, 18, 9, 18, 30, 18, 26, 42, 37, 13, 25, 43, 32, 29, 31, 25, 17, 23, 30, 25, 18, 27, 19, 31, 22, 18, 9, 26, 37, 24, 24, 25, 15, 26, 32, 28, 18, 24, 20, 15, 27, 27, 18, 22, 32, 18, 21, 14, 24, 36, 30, 18, 31, 36, 30, 28, 40, 12, 14, 19, 20, 16, 29, 18, 23, 14, 16, 26, 20, 6, 12, 24, 12, 17, 27, 13, 20, 26, 31, 11, 19, 51, 29, 34, 24, 18, 16, 11, 29, 28, 9, 10, 11, 7, 14, 24, 22, 25, 11, 20, 22, 27, 16, 33, 24, 16, 25, 18, 23, 29, 20, 22, 23, 38, 24, 18, 21, 10, 8, 19, 4, 41, 15, 17, 17, 33, 26, 28, 32, 12, 26, 18, 14, 38, 17, 24, 28, 14, 28, 38, 13, 24, 23, 27, 33, 18, 34, 32, 30, 28, 15, 22, 29, 6, 14, 15, 28, 20, 29, 24, 25, 15, 11, 31, 33, 21, 34, 20, 13, 42, 30, 18, 23, 34, 37, 22, 11, 23, 17, 19, 25, 21, 25, 23, 32, 29, 15, 33, 17, 22, 30, 22, 22, 20, 18, 17, 23, 11, 28, 9, 30, 25, 43, 11, 26, 18, 15, 17, 26, 11, 17, 19, 21, 18, 20, 25, 26, 24, 23, 26, 15, 27, 34, 13, 32, 29, 17, 29, 15, 48, 12, 34, 27, 28, 35, 39, 33, 28, 13, 25, 31, 19, 18, 38, 33, 34, 28, 23, 9, 24, 28, 13, 30, 16, 16, 18, 15, 25, 24, 23, 12, 30, 25, 18, 25, 29, 23, 31, 33, 15, 21, 12, 14, 17, 14, 11, 14, 24, 12, 21, 20, 22, 30, 18, 25, 11, 30, 20, 20, 16, 15, 20, 21, 16, 25, 22, 12, 18, 21, 14, 23, 34, 14, 25, 20, 11, 15, 15, 26, 17, 16, 32, 22, 12, 15, 24, 18, 10, 24, 32, 16, 22, 17, 9, 36, 13, 36, 17, 18, 24, 18, 10, 31, 9, 25, 19, 18, 17, 17, 12, 11, 16, 17, 18, 20, 17, 12, 12, 8, 12, 22, 12, 20, 15, 12, 10, 16, 41, 35, 18, 29, 16, 26, 16, 15, 18, 13, 10, 11, 18, 19, 16, 14, 24, 19, 23, 19, 34, 37, 16, 21, 23, 14, 29, 13, 18, 18, 20, 14, 18, 24, 24, 9, 11, 23, 18, 23, 14, 22, 12, 28, 12, 27, 10, 32, 26, 11, 23, 23, 27, 19, 16, 42, 17, 19, 24, 16, 24, 19, 28, 22, 11, 13, 12, 28, 18, 24, 29, 10, 46, 34, 38, 21, 31, 22, 25, 12, 8, 13, 12, 26, 26, 20, 19, 21, 21, 20, 27, 13, 21, 38, 24, 34, 29, 28, 22, 12, 19, 15, 11, 23, 18, 6, 27, 15, 35, 25, 9, 8, 8, 12, 32, 19, 15, 40, 16, 19, 24, 28, 18, 35, 27, 27, 19, 19, 29, 8, 23, 16, 26, 25, 26, 8, 31, 15, 39, 23, 23, 21, 13, 15, 29, 12, 27, 28, 30, 19, 33, 35, 10, 32, 29, 32, 20, 20, 26, 14, 10, 21, 17, 28, 18, 7, 14, 25, 9, 8, 10, 15, 27, 13, 13, 17, 25, 28, 25, 26, 16, 31, 34, 17, 27, 16, 18, 19, 29, 19, 15, 16, 24, 9, 19, 25, 18, 19, 13, 31, 8, 25, 22, 20, 17, 16, 38, 22, 19, 31, 18, 17, 15, 20, 12, 12, 29, 19, 28, 17, 15, 15, 22, 23, 5, 27, 11, 20, 21, 6, 26, 21, 8, 25, 17, 15, 24, 21, 7, 17, 28, 36, 22, 35, 33, 26, 22, 19, 34, 16, 8, 18, 14, 32, 32, 18, 20, 22, 16, 20, 36, 9, 22, 26, 21, 26, 22, 25, 25, 24, 24, 23, 20, 22, 21, 18, 24, 27, 28, 20, 11, 22, 15, 11, 14, 9, 31, 23, 19, 23, 19, 14, 32, 34, 17, 15, 18, 18, 19, 18, 24, 22, 24, 21, 34, 33, 25, 17, 21, 12, 35, 27, 32, 22, 14, 30, 15, 20, 34, 46, 42, 20, 38, 15, 31, 8, 24, 26, 26, 24, 11, 23, 36, 9, 19, 18, 14, 30, 25, 16, 19, 22, 18, 33, 21, 10, 25, 20, 21, 26, 24, 22, 16, 14, 15, 18, 45, 21, 9, 28, 23, 29, 20, 21, 12, 11, 16, 25, 16, 11, 15, 32, 12, 16, 25, 8, 16, 26, 25, 25, 23, 11, 26, 30, 19, 23, 21, 20, 10, 18, 12, 16, 26, 17, 29, 25, 13, 41, 26, 31, 23, 27, 15, 27, 23, 29, 19, 27, 15, 6, 23, 24, 26, 19, 24, 10, 19, 26, 29, 30, 13, 11, 11, 21, 22, 18, 36, 14, 10, 22, 22, 16, 24, 19, 16, 33, 21, 22, 27, 26, 17, 41, 12, 28, 31, 18, 23, 36, 25, 15, 24, 18, 34, 26, 22, 36, 13, 25, 23, 32, 33, 15, 15, 23, 22, 28, 20, 17, 19, 23, 22, 14, 14, 23, 7, 40, 30, 22, 16, 35, 33, 24, 24, 34, 30, 36, 8, 22, 24, 25, 28, 24, 26, 25, 17, 35, 23, 19, 25, 12, 19, 19, 22, 22, 16, 30, 23, 37, 35, 27, 16, 21, 12, 32, 17, 39, 34, 21, 17, 30, 19, 10, 29, 23, 26, 21, 17, 13, 21, 7, 9, 13, 16, 13, 21, 38, 20, 28, 15, 34, 17, 6, 24, 12, 31, 29, 30, 27, 19, 16, 29, 38, 29, 15, 30, 23, 28, 19, 23, 15, 41, 11, 33, 24, 25, 26, 27, 20, 36, 13, 8, 10, 10, 15, 9, 24, 13, 35, 24, 28, 18, 17, 7, 15, 12, 18, 21, 28, 9, 25, 7, 24, 20, 20, 30, 26, 33, 34, 31, 24, 11, 21, 35, 7, 23, 13, 28, 19, 18, 10, 11, 26, 9, 12, 31, 17, 15, 11, 32, 21, 28, 26, 40, 30, 26, 17, 21, 23, 8, 19, 20, 16, 19, 10, 30, 26, 29, 19, 12, 23, 9, 22, 25, 14, 20, 20, 21, 14, 26, 22, 25, 25, 24, 23, 13, 18, 31, 20, 9, 23, 19, 22, 13, 23, 17, 16, 29, 23, 28, 11, 25, 29, 26, 8, 18, 26, 20, 15, 21, 21, 33, 41, 36, 28, 26, 31, 25, 22, 21, 32, 24, 12, 22, 17, 16, 22, 20, 20, 23, 12, 22, 25, 18, 25, 21, 19, 24, 18, 25, 10, 21, 31, 10, 14, 10, 22, 18, 14, 27, 22, 29, 18, 13, 17, 14, 31, 15, 17, 17, 25, 18, 10, 25, 20, 22, 29, 13, 23, 15, 20, 21, 21, 24, 22, 50, 18, 27, 29, 20, 13, 21, 36, 20, 35, 20, 22, 26, 29, 19, 13, 18, 16, 24, 14, 10, 29, 31, 15, 16, 18, 25, 28, 28, 31, 25, 21, 25, 25, 31, 18, 20, 25, 17, 15, 21, 20, 27, 27, 27, 20, 15, 19, 25, 18, 16, 23, 40, 13, 13, 39, 26, 21, 7, 16, 16, 14, 10, 24, 31, 19, 13, 9, 32, 20, 15, 28, 25, 17, 35, 23, 18, 27, 47, 29, 17, 18, 20, 22, 29, 32, 41, 25, 35, 22, 7, 25, 35, 29, 26, 20, 22, 23, 13, 21, 35, 39, 19, 14, 54, 22, 25, 21, 24, 29, 12, 16, 18, 8, 20, 17, 34, 18, 27, 28, 41, 15, 13, 21, 21, 9, 16, 34, 31, 17, 25, 16, 33, 16, 10, 7, 14, 40, 7, 10, 39, 54, 27, 32, 19, 18, 21, 28, 33, 18, 23, 20, 9, 29, 27, 33, 20, 34, 19, 9, 21, 23, 21, 17, 27, 22, 14, 16, 22, 4, 25, 40, 20, 24, 15, 16, 18, 28, 23, 13, 18, 8, 24, 32, 16, 15, 16, 16, 21, 11, 20, 23, 31, 20, 11, 29, 23, 22, 20, 24, 30, 26, 17, 21, 24, 17, 9, 22, 21, 24, 36, 16, 18, 6, 31, 19, 7, 34, 30, 23, 38, 23, 21, 20, 27, 28, 29, 32, 24, 11, 11, 24, 10, 17, 24, 15, 10, 39, 33, 31, 15, 24, 23, 15, 27, 11, 18, 20, 19, 24, 20, 17, 14, 18, 9, 15, 12, 25, 13, 15, 27, 26, 17, 16, 24, 21, 17, 14, 23, 18, 17, 25, 24, 27, 29, 27, 43, 26, 29, 23, 28, 10, 9, 25, 23, 12, 31, 30, 25, 19, 23, 16, 24, 16, 29, 24, 25, 22, 34, 9, 24, 23, 37, 37, 23, 18, 22, 14, 15, 22, 35, 9, 37, 10, 22, 27, 27, 20, 33, 20, 24, 20, 20, 10, 28, 19, 19, 24, 28, 22, 24, 25, 23, 27, 9, 29, 27, 18, 27, 23, 14, 24, 30, 11, 24, 12, 19, 17, 14, 25, 23, 39, 30, 9, 17, 26, 13, 7, 28, 15, 20, 17, 19, 15, 18, 28, 23, 35, 10, 24, 25, 21, 21, 20, 18, 14, 20, 31, 25, 38, 20, 18, 18, 23, 32, 17, 13, 19, 22, 18, 27, 25, 31, 13, 10, 22, 34, 14, 14, 32, 10, 31, 25, 28, 15, 29, 17, 12, 20, 24, 15, 18, 20, 22, 24, 25, 30, 25, 20, 13, 27, 21, 23, 39, 32, 19, 30, 24, 16, 14, 10, 21, 21, 16, 23, 22, 21, 28, 21, 22, 33, 13, 30, 28, 18, 19, 28, 21, 26, 21, 9, 23, 7, 24, 23, 20, 25, 13, 8, 19, 20, 26, 19, 14, 27, 33, 21, 26, 23, 7, 25, 11, 26, 13, 22, 34, 12, 26, 24, 13, 13, 13, 33, 14, 29, 24, 6, 31, 25, 20, 30, 22, 18, 16, 16, 22, 25, 23, 25, 24, 21, 11, 20, 12, 12, 19, 27, 20, 21, 24, 20, 29, 16, 17, 20, 35, 19, 27, 18, 15, 25, 22, 27, 10, 19, 46, 19, 49, 48, 9, 33, 37, 24, 33, 12, 40, 21, 39, 29, 31, 14, 56, 31, 44, 25, 20, 23, 12, 23, 25, 19, 7, 14, 22, 25, 37, 23, 14, 32, 38, 27, 16, 12, 16, 15, 8, 28, 18, 22, 37, 36, 25, 18, 19, 23, 23, 20, 23, 25, 14, 32, 15, 39, 9, 18, 25, 29, 33, 21, 29, 14, 25, 28, 26, 18, 17, 29, 24, 27, 21, 22, 24, 24, 31, 39, 32, 27, 26, 14, 16, 33, 20, 19, 35, 23, 26, 28, 44, 30, 26, 18, 22, 23, 13, 19, 25, 11, 13, 24, 18, 28, 22, 5, 18, 15, 25, 28, 19, 24, 18, 22, 23, 17, 30, 15, 23, 19, 14, 12, 32, 22, 20, 34, 39, 21, 12, 34, 11, 14, 29, 30, 14, 44, 20, 19, 9, 35, 24, 30, 22, 22, 19, 17, 30, 33, 29, 15, 23, 35, 23, 25, 22, 36, 11, 7, 10, 20, 34, 20, 19, 11, 16, 35, 28, 20, 21, 8, 17, 30, 19, 23, 26, 34, 9, 24, 23, 22, 24, 24, 27, 9, 25, 44, 20, 14, 25, 32, 7, 23, 18, 24, 21, 21, 19, 26, 27, 31, 21, 20, 21, 30, 22, 17, 35, 22, 17, 17, 21, 17, 24, 25, 13, 28, 15, 27, 38, 17, 30, 26, 12, 21, 31, 29, 18, 14, 27, 18, 24, 23, 21, 27, 39, 12, 19, 11, 19, 12, 10, 22, 26, 25, 30, 49, 25, 39, 24, 24, 15, 12, 19, 45, 8, 15, 15, 11, 13, 6, 27, 19, 22, 22, 26, 8, 25, 14, 23, 14, 29, 27, 31, 35, 38, 13, 17, 35, 20, 18, 28, 18, 21, 11, 32, 35, 22, 26, 17, 27, 11, 28, 22, 19, 24, 9, 20, 18, 23, 11, 34, 19, 26, 21, 26, 18, 15, 25, 18, 29, 27, 16, 13, 12, 24, 33, 25, 27, 32, 15, 25, 17, 15, 19, 27, 19, 20, 34, 29, 24, 28, 20, 20, 16, 35, 22, 34, 30, 12, 10, 28, 25, 7, 12, 19, 29, 22, 14, 10, 21, 10, 17, 22, 21, 18, 16, 9, 15, 27, 20, 30, 33, 9, 34, 20, 24, 21, 6, 13, 27, 18, 22, 40, 24, 35, 19, 31, 9, 13, 24, 13, 20, 28, 18, 35, 20, 26, 17, 19, 25, 44, 35, 21, 26, 22, 29, 13, 8, 29, 16, 13, 19, 24, 26, 29, 15, 32, 23, 32, 20, 24, 14, 29, 15, 28, 17, 30, 21, 30, 11, 19, 29, 24, 21, 20, 26, 19, 27, 18, 28, 6, 6, 22, 29, 33, 16, 23, 9, 11, 16, 36, 20, 22, 27, 17, 29, 25, 32, 27, 19, 15, 29, 27, 32, 22, 26, 14, 11, 14, 11, 30, 41, 24, 33, 25, 27, 26, 16, 17, 48, 41, 20, 17, 20, 18, 19, 31, 21, 9, 34, 33, 11, 21, 29, 19, 32, 28, 12, 26, 10, 17, 11, 22, 7, 21, 24, 20, 10, 24, 15, 18, 15, 26, 28, 23, 32, 29, 16, 26, 23, 20, 11, 16, 20, 21, 13, 23, 31, 39, 16, 19, 23, 16, 17, 13, 28, 27, 20, 17, 23, 14, 20, 24, 16, 20, 15, 21, 25, 31, 28, 30, 22, 11, 31, 20, 8, 13, 7, 24, 27, 16, 23, 27, 35, 13, 22, 22, 20, 27, 33, 28, 32, 15, 22, 27, 23, 21, 15, 22, 34, 17, 17, 19, 32, 35, 14, 20, 10, 18, 23, 16, 40, 23, 31, 10, 26, 16, 28, 36, 17, 40, 35, 15, 29, 20, 15, 25, 36, 25, 23, 14, 36, 12, 14, 39, 24, 25, 11, 23, 20, 33, 21, 13, 30, 29, 14, 18, 25, 30, 11, 13, 23, 16, 34, 11, 23, 26, 37, 45, 24, 15, 13, 35, 26, 23, 18, 25, 18, 14, 31, 23, 27, 11, 41, 14, 11, 22, 15, 40, 30, 8, 18, 15, 18, 27, 15, 18, 17, 7, 20, 5, 20, 27, 20, 20, 21, 14, 18, 25, 13, 18, 25, 12, 23, 14, 27, 14, 20, 20, 22, 32, 21, 28, 15, 28, 17, 17, 17, 13, 12, 13, 17, 19, 47, 25, 26, 13, 20, 23, 27, 20, 10, 25, 11, 31, 23, 18, 30, 22, 26, 23, 16, 11, 24, 7, 26, 28, 28, 19, 18, 29, 23, 27, 10, 26, 25, 19, 10, 36, 14, 27, 18, 26, 19, 31, 18, 29, 30, 18, 14, 15, 14, 20, 25, 11, 31, 22, 23, 19, 32, 31, 24, 23, 30, 22, 32, 19, 6, 9, 21, 28, 37, 32, 15, 12, 10, 26, 30, 18, 19, 24, 14, 21, 24, 13, 12, 17, 13, 47, 20, 25, 19, 19, 14, 28, 14, 15, 25, 11, 15, 23, 28, 16, 21, 19, 19, 26, 19, 24, 22, 17, 27, 18, 16, 10, 16, 21, 25, 20, 13, 13, 19, 27, 20, 25, 14, 24, 29, 12, 24, 29, 17, 16, 28, 12, 22, 25, 25, 28, 16, 11, 15, 14, 28, 31, 9, 21, 17, 22, 18, 11, 16, 24, 26, 33, 27, 28, 24, 14, 10, 30, 19, 15, 26, 24, 14, 13, 12, 16, 17, 27, 39, 7, 16, 35, 14, 29, 31, 23, 37, 25, 23, 35, 15, 24, 14, 12, 29, 8, 27, 16, 45, 25, 8, 25, 10, 8, 8, 4, 5, 6, 6, 8, 44, 21, 31, 25, 25, 23, 35, 20, 8, 13, 20, 23, 28, 24, 12, 23, 18, 21, 19, 18, 21, 18, 25, 18, 30, 16, 28, 29, 17, 11, 22, 19, 15, 19, 25, 19, 15, 27, 26, 32, 25, 22, 31, 23, 23, 31, 19, 17, 7, 13, 23, 31, 32, 27, 9, 24, 19, 15, 19, 47, 27, 25, 31, 20, 29, 15, 22, 11, 24, 36, 26, 27, 11, 24, 40, 34, 13, 19, 16, 38, 24, 21, 22, 21, 19, 18, 24, 33, 21, 22, 24, 18, 34, 14, 32, 28, 31, 21, 27, 32, 7, 21, 17, 24, 10, 23, 19, 23, 19, 22, 23, 25, 23, 27, 27, 30, 15, 10, 26, 9, 28, 13, 14, 19, 4, 13, 29, 13, 25, 19, 17, 18, 17, 12, 40, 20, 25, 26, 29, 15, 17, 14, 19, 35, 8, 20, 30, 16, 26, 29, 31, 25, 24, 10, 22, 25, 15, 26, 32, 22, 11, 21, 22, 30, 8, 29, 9, 22, 21, 14, 29, 19, 34, 24, 23, 24, 62, 48, 11, 29, 35, 17, 18, 24, 20, 33, 11, 18, 33, 14, 12, 32, 31, 12, 16, 14, 18, 15, 25, 26, 19, 18, 16, 34, 18, 26, 17, 14, 12, 22, 29, 22, 22, 19, 25, 24, 22, 15, 24, 15, 30, 33, 22, 25, 8, 15, 11, 15, 44, 26, 30, 23, 8, 12, 21, 23, 32, 26, 13, 25, 28, 28, 20, 14, 47, 27, 23, 16, 6, 17, 21, 19, 26, 13, 35, 26, 29, 27, 24, 38, 24, 24, 15, 34, 14, 22, 21, 24, 17, 30, 22, 17, 19, 11, 22, 29, 14, 23, 13, 20, 11, 9, 23, 31, 19, 16, 22, 29, 28, 28, 19, 30, 13, 23, 26, 20, 17, 35, 28, 16, 29, 26, 26, 10, 10, 25, 27, 23, 17, 28, 14, 19, 15, 19, 27, 24, 25, 41, 34, 32, 33, 17, 9, 29, 13, 11, 15, 27, 32, 27, 24, 19, 17, 30, 33, 24, 19, 15, 6, 23, 42, 10, 10, 27, 32, 32, 13, 18, 33, 19, 22, 27, 28, 19, 20, 14, 12, 18, 33, 31, 23, 28, 17, 30, 36, 26, 23, 17, 24, 25, 11, 18, 24, 16, 46, 16, 25, 21, 33, 45, 43, 29, 28, 18, 19, 26, 27, 11, 23, 10, 28, 6, 6, 20, 22, 29, 21, 16, 30, 27, 35, 22, 17, 22, 29, 13, 26, 24, 18, 21, 31, 19, 28, 20, 13, 16, 9, 14, 24, 22, 30, 20, 39, 16, 26, 14, 19, 20, 15, 33, 28, 23, 26, 27, 24, 25, 31, 19, 37, 20, 13, 25, 20, 17, 34, 15, 4, 34, 20, 22, 17, 28, 15, 15, 12, 33, 23, 11, 24, 18, 22, 26, 26, 34, 19, 20, 20, 15, 30, 17, 25, 11, 27, 22, 5, 16, 24, 11, 28, 16, 36, 12, 19, 18, 11, 30, 20, 13, 30, 13, 17, 22, 32, 11, 25, 14, 19, 32, 18, 22, 18, 29, 24, 25, 17, 21, 28, 35, 28, 31, 28, 20, 19, 17, 30, 17, 18, 18, 13, 23, 6, 24, 17, 20, 22, 35, 38, 11, 35, 26, 20, 8, 17, 17, 24, 30, 40, 39, 16, 22, 21, 32, 29, 13, 26, 30, 10, 15, 12, 11, 23, 35, 33, 25, 25, 21, 11, 14, 24, 14, 34, 19, 16, 20, 31, 48, 10, 26, 18, 15, 15, 18, 20, 22, 39, 32, 19, 25, 25, 27, 21, 17, 14, 27, 22, 31, 33, 31, 28, 25, 22, 18, 22, 9, 37, 26, 36, 13, 13, 34, 13, 30, 17, 40, 33, 13, 34, 35, 36, 19, 23, 18, 12, 12, 9, 23, 26, 17, 23, 24, 22, 12, 29, 18, 28, 20, 25, 20, 18, 22, 21, 22, 13, 24, 13, 18, 17, 17, 21, 25, 18, 10, 27, 17, 11, 20, 21, 25, 28, 19, 29, 25, 20, 28, 21, 12, 30, 20, 23, 19, 17, 15, 20, 17, 33, 24, 22, 22, 24, 25, 11, 18, 12, 18, 27, 9, 23, 22, 37, 22, 22, 33, 21, 24, 26, 18, 31, 24, 16, 31, 20, 25, 26, 29, 30, 32, 15, 31, 36, 36, 19, 13, 13, 17, 18, 24, 25, 14, 33, 30, 28, 28, 26, 20, 21, 7, 21, 23, 27, 17, 10, 19, 9, 16, 25, 32, 12, 13, 16, 15, 21, 14, 13, 28, 19, 17, 21, 13, 14, 11, 6, 28, 17, 25, 13, 28, 12, 17, 32, 30, 24, 14, 29, 20, 17, 20, 26, 17, 24, 15, 32, 21, 12, 13, 23, 18, 15, 19, 17, 24, 23, 17, 15, 4, 23, 11, 12, 22, 23, 10, 28, 22, 21, 25, 22, 26, 5, 13, 9, 13, 26, 22, 8, 23, 19, 17, 5, 31, 12, 8, 32, 17, 22, 19, 16, 16, 17, 10, 13, 8, 14, 22, 46, 31, 18, 16, 31, 22, 23, 17, 28, 18, 24, 22, 27, 19, 17, 44, 4, 38, 59, 22, 38, 30, 19, 24, 27, 25, 16, 11, 22, 30, 20, 20, 8, 20, 22, 30, 21, 31, 34, 23, 15, 17, 29, 18, 21, 28, 18, 12, 19, 8, 23, 26, 19, 18, 30, 22, 26, 18, 24, 25, 26, 34, 31, 6, 35, 14, 19, 18, 18, 23, 20, 14, 19, 19, 21, 30, 28, 7, 25, 8, 14, 18, 28, 20, 8, 28, 23, 16, 8, 20, 29, 19, 30, 23, 26, 18, 24, 21, 23, 26, 26, 26, 17, 25, 15, 22, 33, 33, 9, 28, 21, 33, 28, 9, 22, 33, 15, 6, 31, 19, 19, 22, 32, 23, 37, 25, 16, 36, 25, 11, 21, 19, 20, 18, 9, 27, 34, 26, 27, 19, 18, 13, 41, 34, 28, 30, 6, 12, 26, 23, 8, 25, 20, 22, 29, 20, 13, 18, 13, 35, 15, 34, 17, 20, 19, 17, 22, 30, 28, 35, 18, 30, 9, 28, 22, 14, 7, 27, 9, 25, 17, 27, 17, 34, 39, 30, 37, 20, 10, 33, 19, 11, 24, 31, 27, 6, 38, 21, 39, 31, 19, 24, 18, 22, 11, 34, 27, 16, 35, 21, 25, 15, 17, 23, 36, 17, 20, 24, 23, 6, 17, 19, 13, 8, 21, 15, 21, 31, 19, 22, 10, 33, 14, 10, 16, 23, 26, 30, 14, 31, 7, 8, 24, 21, 19, 5, 33, 22, 22, 29, 27, 20, 35, 11, 13, 11, 18, 23, 23, 15, 19, 23, 25, 28, 18, 17, 26, 16, 31, 12, 13, 15, 18, 10, 20, 18, 22, 34, 31, 17, 20, 28, 24, 23, 24, 16, 31, 28, 30, 19, 12, 40, 21, 21, 20, 14, 15, 29, 11, 21, 29, 28, 26, 25, 24, 19, 23, 36, 32, 47, 26, 29, 24, 12, 27, 27, 18, 32, 14, 25, 13, 21, 23, 21, 31, 11, 30, 14, 21, 18, 16, 39, 21, 24, 26, 17, 18, 17, 22, 24, 18, 18, 30, 25, 25, 25, 39, 15, 18, 8, 16, 23, 31, 32, 10, 28, 20, 11, 26, 11, 25, 20, 15, 24, 16, 31, 13, 18, 12, 15, 39, 15, 25, 13, 15, 9, 33, 20, 35, 29, 31, 34, 15, 28, 27, 30, 28, 25, 28, 7, 14, 14, 37, 34, 28, 44, 28, 38, 15, 16, 30, 18, 48, 26, 13, 17, 21, 16, 9, 38, 24, 23, 22, 19, 12, 15, 25, 22, 15, 33, 16, 19, 24, 26, 38, 17, 18, 19, 21, 19, 24, 21, 28, 16, 23, 19, 11, 19, 21, 27, 27, 26, 24, 25, 9, 17, 22, 37, 35, 19, 28, 38, 31, 20, 24, 20, 25, 21, 31, 29, 23, 17, 30, 22, 30, 19, 27, 19, 25, 17, 27, 17, 11, 18, 28, 30, 26, 25, 12, 25, 14, 17, 25, 22, 23, 31, 33, 13, 4, 12, 20, 34, 23, 35, 25, 17, 29, 8, 34, 18, 20, 19, 17, 26, 26, 6, 15, 24, 17, 22, 23, 18, 21, 24, 19, 24, 27, 23, 16, 26, 24, 16, 18, 25, 14, 30, 29, 13, 16, 25, 26, 29, 27, 24, 19, 15, 11, 10, 18, 29, 22, 42, 17, 19, 24, 26, 13, 38, 20, 20, 18, 24, 13, 21, 18, 38, 24, 19, 14, 18, 22, 18, 33, 14, 29, 26, 15, 25, 18, 14, 23, 24, 12, 12, 22, 30, 19, 37, 24, 28, 28, 54, 46, 22, 17, 14, 15, 24, 31, 29, 25, 11, 24, 23, 25, 21, 33, 25, 24, 23, 29, 38, 15, 24, 26, 23, 20, 25, 25, 27, 8, 15, 11, 15, 25, 45, 27, 19, 21, 31, 27, 21, 10, 34, 25, 17, 25, 29, 23, 20, 28, 27, 12, 27, 21, 23, 11, 32, 21, 24, 17, 9, 19, 17, 10, 32, 31, 12, 17, 27, 31, 8, 6, 21, 28, 11, 34, 20, 14, 22, 21, 27, 28, 19, 35, 23, 12, 22, 18, 31, 40, 30, 21, 36, 9, 21, 19, 22, 23, 22, 35, 24, 21, 17, 20, 19, 27, 12, 25, 8, 18, 19, 20, 18, 37, 33, 9, 20, 26, 6, 28, 29, 21, 17, 14, 15, 17, 23, 19, 35, 14, 15, 17, 14, 20, 23, 12, 24, 15, 28, 18, 31, 20, 21, 15, 21, 8, 22, 22, 32, 18, 30, 40, 17, 19, 16, 32, 22, 26, 33, 13, 38, 18, 18, 23, 31, 32, 32, 27, 35, 19, 18, 33, 27, 28, 26, 23, 23, 16, 24, 32, 22, 16, 29, 39, 24, 25, 28, 20, 15, 19, 13, 21, 23, 12, 22, 25, 17, 18, 13, 35, 43, 12, 20, 20, 29, 32, 11, 30, 11, 29, 9, 20, 20, 35, 30, 32, 17, 18, 18, 25, 25, 19, 32, 17, 17, 26, 18, 22, 11, 24, 20, 33, 20, 28, 16, 27, 22, 26, 6, 15, 21, 19, 27, 26, 6, 33, 20, 23, 17, 24, 11, 18, 21, 18, 24, 19, 14, 31, 15, 21, 21, 29, 21, 25, 21, 15, 30, 31, 20, 12, 15, 27, 19, 30, 7, 17, 20, 18, 9, 7, 16, 24, 34, 21, 29, 34, 31, 18, 19, 21, 25, 20, 16, 25, 21, 32, 14, 21, 29, 25, 14, 33, 10, 20, 22, 23, 17, 19, 27, 23, 14, 13, 19, 26, 24, 34, 7, 11, 28, 20, 18, 25, 34, 8, 15, 20, 16, 19, 15, 12, 24, 24, 7, 17, 13, 10, 29, 19, 37, 18, 19, 16, 15, 23, 30, 13, 19, 22, 24, 25, 15, 17, 29, 20, 18, 23, 31, 28, 11, 28, 9, 23, 26, 27, 23, 8, 26, 22, 12, 23, 28, 12, 13, 16, 23, 30, 14, 15, 30, 34, 19, 17, 18, 17, 22, 15, 31, 19, 22, 26, 27, 33, 22, 13, 28, 8, 15, 21, 15, 32, 22, 17, 26, 36, 13, 27, 38, 23, 14, 17, 19, 15, 21, 12, 31, 14, 30, 24, 21, 13, 13, 14, 24, 34, 46, 27, 25, 17, 28, 13, 22, 19, 47, 9, 33, 7, 18, 18, 36, 25, 20, 26, 19, 14, 24, 25, 20, 12, 28, 25, 17, 32, 29, 18, 22, 17, 24, 14, 16, 21, 19, 20, 25, 11, 33, 24, 18, 17, 27, 26, 28, 14, 24, 27, 29, 16, 22, 36, 39, 19, 15, 20, 27, 25, 15, 18, 24, 10, 17, 18, 22, 21, 26, 31, 9, 21, 18, 32, 29, 6, 21, 20, 19, 27, 20, 22, 20, 13, 7, 10, 15, 21, 30, 21, 14, 18, 21, 44, 22, 34, 19, 24, 10, 9, 36, 17, 5, 30, 23, 29, 51, 24, 31, 22, 21, 9, 28, 21, 26, 15, 26, 13, 13, 33, 31, 13, 32, 36, 30, 15, 19, 21, 12, 27, 27, 22, 26, 17, 12, 33, 16, 20, 8, 23, 20, 35, 20, 27, 25, 31, 28, 18, 26, 24, 24, 28, 22, 15, 36, 21, 26, 8, 14, 32, 17, 12, 16, 22, 20, 21, 22, 8, 16, 17, 31, 24, 33, 24, 19, 22, 13, 18, 12, 20, 13, 25, 29, 28, 11, 34, 35, 22, 20, 16, 18, 16, 18, 32, 16, 36, 26, 23, 40, 30, 34, 21, 26, 9, 22, 34, 30, 11, 31, 16, 25, 35, 17, 18, 17, 14, 9, 15, 21, 19, 14, 12, 12, 9, 11, 12, 24, 20, 31, 12, 31, 16, 12, 27, 25, 29, 26, 21, 11, 26, 29, 26, 12, 19, 13, 26, 20, 18, 20, 17, 15, 28, 23, 16, 26, 27, 35, 26, 13, 31, 21, 16, 21, 28, 22, 41, 19, 29, 20, 12, 29, 15, 23, 16, 9, 12, 21, 23, 17, 26, 32, 25, 14, 20, 15, 24, 21, 28, 18, 18, 27, 35, 25, 14, 21, 27, 7, 24, 13, 23, 23, 15, 22, 14, 17, 26, 24, 21, 11, 31, 22, 23, 9, 27, 19, 21, 15, 24, 17, 11, 25, 16, 22, 24, 13, 18, 23, 22, 22, 31, 19, 20, 24, 15, 14, 16, 13, 22, 25, 16, 24, 30, 31, 12, 21, 19, 13, 10, 18, 26, 21, 32, 14, 36, 19, 20, 22, 14, 22, 28, 24, 10, 16, 13, 8, 42, 21, 30, 17, 21, 7, 27, 24, 17, 18, 15, 20, 26, 30, 16, 15, 21, 15, 22, 18, 18, 27, 33, 18, 21, 18, 24, 23, 15, 25, 18, 14, 29, 22, 28, 20, 24, 6, 18, 22, 24, 25, 38, 23, 14, 23, 33, 23, 23, 11, 15, 28, 23, 14, 32, 9, 21, 20, 15, 27, 8, 15, 18, 27, 11, 21, 17, 29, 15, 13, 19, 11, 28, 20, 22, 28, 22, 15, 21, 24, 17, 24, 28, 37, 20, 17, 25, 21, 22, 22, 33, 15, 12, 46, 43, 26, 14, 28, 13, 15, 25, 31, 21, 29, 17, 25, 26, 30, 36, 26, 22, 5, 31, 14, 21, 28, 25, 9, 13, 14, 27, 36, 17, 25, 20, 31, 17, 17, 12, 37, 29, 4, 12, 13, 28, 25, 22, 26, 16, 18, 18, 12, 25, 35, 22, 18, 17, 23, 19, 19, 8, 15, 23, 18, 12, 16, 17, 25, 20, 17, 22, 13, 22, 10, 35, 13, 29, 10, 14, 35, 20, 17, 26, 26, 25, 20, 39, 8, 16, 25, 14, 14, 11, 10, 8, 27, 35, 22, 12, 24, 30, 28, 23, 35, 37, 30, 19, 38, 25, 21, 30, 22, 23, 15, 23, 27, 14, 19, 26, 20, 28, 24, 31, 12, 24, 28, 30, 25, 24, 28, 40, 14, 21, 28, 13, 37, 27, 21, 30, 23, 13, 9, 17, 35, 28, 35, 16, 25, 22, 9, 28, 23, 9, 20, 28, 19, 13, 25, 19, 26, 16, 27, 25, 33, 9, 19, 13, 13, 13, 34, 22, 21, 29, 21, 34, 11, 31, 6, 23, 11, 18, 19, 18, 21, 12, 16, 25, 22, 29, 22, 29, 13, 41, 25, 11, 21, 20, 11, 11, 25, 25, 14, 23, 15, 16, 15, 22, 21, 13, 31, 21, 12, 18, 10, 15, 17, 19, 12, 22, 21, 16, 18, 13, 29, 18, 22, 22, 19, 21, 18, 25, 18, 25, 21, 15, 26, 24, 18, 15, 18, 25, 25, 29, 26, 40, 17, 15, 16, 18, 27, 27, 17, 10, 21, 18, 20, 27, 51, 42, 31, 14, 28, 18, 26, 25, 34, 18, 18, 23, 13, 27, 15, 20, 25, 20, 22, 29, 18, 11, 11, 19, 16, 19, 20, 20, 32, 19, 23, 55, 33, 27, 25, 12, 28, 7, 15, 13, 25, 17, 13, 20, 29, 33, 22, 13, 34, 26, 20, 14, 12, 23, 21, 21, 17, 41, 33, 18, 41, 8, 23, 17, 34, 27, 36, 36, 30, 22, 40, 21, 15, 17, 37, 26, 21, 25, 19, 24, 16, 14, 23, 24, 27, 39, 35, 23, 21, 17, 27, 20, 19, 14, 10, 16, 7, 6, 14, 20, 11, 14, 8, 25, 20, 12, 28, 33, 11, 18, 29, 29, 32, 19, 37, 20, 13, 13, 33, 33, 21, 28, 27, 24, 20, 12, 28, 23, 21, 28, 19, 8, 13, 15, 27, 19, 21, 20, 21, 12, 9, 20, 20, 16, 21, 24, 29, 27, 39, 16, 29, 12, 22, 17, 18, 19, 20, 22, 10, 30, 29, 16, 28, 19, 18, 15, 27, 28, 21, 14, 16, 28, 23, 16, 22, 22, 23, 11, 10, 5, 19, 27, 21, 25, 17, 23, 23, 14, 31, 33, 24, 23, 22, 11, 13, 33, 18, 7, 15, 19, 23, 22, 14, 27, 13, 7, 9, 23, 35, 30, 13, 18, 19, 25, 25, 20, 27, 33, 23, 22, 35, 29, 13, 10, 42, 18, 13, 13, 18, 15, 12, 30, 26, 15, 36, 30, 29, 14, 23, 15, 9, 20, 26, 26, 20, 31, 29, 9, 7, 14, 13, 22, 20, 15, 15, 23, 38, 26, 24, 22, 25, 26, 24, 22, 16, 20, 15, 16, 23, 11, 33, 25, 19, 25, 27, 12, 23, 6, 16, 44, 35, 19, 34, 13, 8, 31, 20, 28, 27, 37, 39, 66, 20, 26, 12, 16, 9, 13, 34, 13, 23, 36, 25, 22, 15, 12, 24, 19, 15, 15, 30, 25, 22, 12, 17, 26, 14, 15, 21, 29, 31, 21, 15, 29, 15, 30, 23, 25, 18, 13, 23, 18, 21, 10, 10, 32, 12, 25, 27, 22, 4, 21, 18, 21, 12, 39, 20, 27, 25, 33, 22, 20, 40, 28, 21, 42, 20, 18, 19, 18, 13, 22, 19, 21, 23, 11, 27, 12, 15, 19, 31, 8, 30, 18, 8, 33, 12, 9, 32, 26, 25, 28, 21, 47, 14, 33, 6, 34, 31, 28, 33, 9, 19, 24, 12, 30, 12, 31, 26, 15, 32, 16, 10, 15, 15, 26, 21, 16, 23, 16, 22, 20, 17, 20, 37, 19, 16, 30, 18, 15, 11, 41, 20, 26, 35, 23, 20, 26, 24, 17, 23, 19, 29, 21, 14, 28, 14, 22, 33, 7, 30, 23, 14, 22, 18, 40, 34, 28, 25, 20, 13, 29, 17, 37, 27, 35, 15, 16, 33, 31, 40, 27, 23, 24, 18, 18, 28, 35, 29, 18, 27, 13, 27, 17, 11, 14, 34, 21, 25, 12, 24, 18, 19, 20, 26, 11, 11, 32, 20, 25, 21, 19, 18, 28, 16, 34, 25, 17, 16, 29, 27, 17, 23, 20, 23, 23, 29, 15, 26, 24, 47, 33, 20, 16, 33, 28, 23, 15, 45, 12, 22, 24, 18, 25, 29, 19, 35, 17, 19, 26, 26, 21, 36, 20, 20, 22, 18, 29, 19, 12, 22, 24, 10, 28, 23, 15, 33, 24, 33, 24, 26, 40, 23, 30, 25, 17, 23, 20, 20, 28, 13, 7, 27, 21, 24, 18, 33, 23, 10, 8, 23, 20, 15, 18, 23, 29, 19, 12, 31, 11, 23, 33, 24, 31, 26, 13, 27, 16, 13, 12, 10, 27, 18, 20, 42, 19, 21, 11, 33, 22, 28, 27, 12, 13, 28, 9, 22, 17, 19, 29, 24, 35, 33, 21, 15, 22, 14, 24, 15, 32, 35, 22, 28, 12, 39, 24, 18, 11, 30, 20, 25, 12, 33, 5, 19, 15, 21, 38, 22, 19, 20, 22, 14, 24, 9, 16, 22, 31, 15, 32, 41, 14, 27, 13, 18, 24, 19, 23, 23, 11, 14, 38, 17, 23, 8, 21, 35, 9, 19, 21, 22, 15, 20, 12, 9, 29, 30, 19, 26, 34, 23, 19, 13, 21, 14, 16, 11, 27, 21, 21, 24, 15, 19, 16, 7, 19, 16, 20, 24, 13, 23, 29, 9, 37, 23, 15, 23, 15, 17, 36, 21, 44, 20, 10, 32, 23, 32, 21, 31, 20, 20, 11, 48, 27, 16, 17, 13, 17, 33, 14, 23, 9, 28, 27, 10, 25, 13, 16, 18, 35, 10, 32, 34, 20, 9, 21, 16, 25, 22, 20, 9, 31, 35, 13, 22, 19, 16, 31, 29, 16, 25, 14, 13, 12, 27, 20, 25, 17, 16, 30, 12, 16, 32, 24, 21, 21, 17, 29, 25, 13, 28, 26, 9, 31, 26, 28, 14, 6, 12, 15, 33, 28, 24, 20, 35, 21, 21, 24, 33, 14, 24, 23, 15, 29, 31, 17, 26, 30, 13, 19, 49, 25, 21, 36, 27, 15, 27, 23, 17, 18, 32, 11, 16, 26, 17, 10, 24, 19, 25, 24, 19, 12, 19, 32, 26, 30, 17, 22, 12, 13, 19, 14, 19, 30, 17, 19, 32, 26, 23, 25, 18, 20, 16, 14, 18, 17, 24, 25, 19, 16, 18, 18, 23, 31, 13, 6, 16, 22, 21, 14, 22, 27, 25, 22, 32, 26, 16, 7, 11, 14, 15, 27, 14, 10, 28, 35, 17, 24, 27, 31, 26, 30, 39, 22, 36, 13, 34, 30, 28, 24, 10, 22, 16, 13, 13, 26, 28, 36, 26, 15, 19, 20, 27, 52, 10, 24, 11, 30, 20, 25, 17, 18, 20, 21, 19, 11, 13, 11, 21, 33, 31, 43, 19, 10, 25, 22, 22, 20, 21, 15, 15, 31, 28, 18, 16, 21, 13, 21, 41, 32, 15, 21, 23, 18, 22, 18, 12, 13, 25, 27, 26, 32, 22, 30, 30, 40, 8, 21, 21, 13, 18, 10, 15, 16, 28, 17, 26, 34, 30, 30, 13, 22, 18, 31, 22, 14, 16, 16, 17, 15, 11, 10, 25, 28, 24, 15, 15, 28, 26, 33, 22, 14, 23, 11, 8, 21, 20, 30, 34, 21, 16, 33, 23, 29, 26, 34, 15, 25, 13, 35, 10, 7, 22, 19, 28, 14, 19, 31, 18, 36, 23, 20, 25, 31, 19, 29, 25, 29, 22, 19, 34, 19, 24, 30, 8, 26, 25, 14, 21, 28, 23, 23, 20, 29, 24, 26, 17, 26, 28, 19, 31, 31, 23, 34, 18, 14, 19, 16, 22, 25, 24, 14, 21, 19, 14, 23, 33, 13, 27, 19, 27, 26, 29, 17, 16, 18, 29, 16, 21, 20, 24, 12, 38, 36, 12, 27, 18, 23, 21, 26, 25, 13, 40, 21, 26, 28, 34, 19, 26, 20, 24, 11, 21, 37, 42, 22, 16, 24, 12, 30, 28, 19, 37, 24, 24, 21, 23, 27, 28, 24, 24, 24, 15, 22, 53, 13, 18, 7, 41, 19, 32, 34, 15, 23, 14, 24, 26, 19, 10, 27, 25, 20, 17, 25, 42, 29, 23, 9, 27, 26, 21, 15, 17, 30, 27, 29, 30, 27, 13, 16, 22, 11, 24, 8, 21, 20, 25, 34, 16, 21, 29, 19, 23, 16, 6, 19, 15, 18, 24, 29, 21, 24, 23, 29, 26, 9, 29, 28, 11, 13, 17, 22, 20, 8, 30, 27, 33, 22, 25, 33, 19, 7, 22, 13, 10, 26, 17, 10, 10, 21, 9, 6, 17, 15, 19, 15, 18, 25, 20, 32, 20, 28, 20, 22, 14, 24, 30, 17, 25, 20, 18, 26, 38, 28, 8, 10, 30, 31, 48, 41, 32, 19, 14, 31, 18, 21, 23, 22, 20, 24, 17, 15, 11, 26, 35, 13, 22, 21, 26, 33, 21, 39, 30, 8, 32, 11, 24, 21, 26, 26, 22, 27, 21, 17, 24, 14, 22, 22, 19, 11, 27, 19, 27, 17, 20, 23, 38, 24, 35, 13, 22, 31, 20, 29, 20, 21, 16, 25, 32, 28, 14, 26, 34, 50, 15, 20, 14, 28, 14, 24, 23, 27, 24, 19, 29, 26, 30, 45, 46, 39, 27, 13, 25, 44, 31, 30, 11, 19, 23, 29, 8, 34, 31, 17, 26, 14, 19, 22, 31, 16, 25, 9, 19, 26, 25, 32, 29, 24, 27, 19, 25, 24, 10, 13, 30, 15, 17, 23, 32, 22, 15, 22, 16, 10, 29, 25, 18, 21, 8, 35, 11, 31, 14, 28, 27, 29, 27, 18, 24, 10, 16, 23, 36, 10, 25, 25, 35, 15, 12, 13, 27, 11, 9, 24, 6, 12, 26, 17, 23, 44, 22, 27, 26, 8, 26, 10, 23, 18, 20, 17, 24, 13, 12, 12, 14, 11, 17, 14, 27, 30, 15, 16, 18, 29, 22, 24, 9, 22, 20, 24, 26, 14, 23, 31, 34, 22, 8, 19, 23, 22, 20, 18, 24, 8, 19, 18, 15, 31, 8, 19, 18, 28, 32, 28, 26, 19, 27, 16, 14, 30, 23, 25, 31, 21, 10, 17, 20, 39, 27, 16, 7, 17, 23, 34, 27, 17, 21, 37, 25, 25, 23, 14, 37, 34, 8, 24, 19, 25, 15, 17, 34, 32, 34, 28, 21, 34, 30, 25, 14, 29, 21, 20, 20, 23, 21, 20, 22, 20, 14, 14, 26, 20, 27, 33, 15, 21, 28, 17, 23, 14, 32, 24, 17, 24, 26, 10, 24, 18, 13, 16, 19, 13, 18, 15, 14, 29, 11, 21, 17, 9, 19, 21, 12, 18, 26, 10, 22, 24, 19, 30, 8, 8, 21, 16, 28, 29, 16, 8, 8, 26, 22, 23, 27, 23, 33, 19, 28, 18, 16, 38, 27, 27, 29, 24, 28, 31, 29, 31, 26, 26, 9, 22, 29, 12, 11, 23, 8, 15, 18, 27, 16, 17, 34, 12, 26, 14, 26, 32, 9, 15, 19, 32, 32, 13, 21, 24, 22, 30, 22, 16, 12, 17, 23, 21, 21, 18, 25, 26, 15, 24, 16, 23, 24, 23, 24, 17, 24, 24, 16, 9, 31, 18, 13, 28, 18, 17, 24, 20, 12, 22, 20, 25, 23, 27, 11, 21, 12, 17, 25, 19, 22, 35, 36, 24, 13, 27, 26, 28, 36, 26, 39, 23, 19, 20, 24, 29, 12, 33, 20, 10, 22, 10, 19, 23, 23, 27, 22, 26, 10, 29, 32, 24, 23, 18, 29, 24, 16, 23, 9, 28, 26, 30, 50, 15, 27, 39, 22, 27, 23, 15, 20, 39, 15, 25, 40, 24, 28, 21, 26, 25, 25, 11, 32, 43, 29, 16, 16, 10, 22, 28, 30, 24, 18, 17, 21, 20, 27, 22, 6, 32, 17, 31, 37, 18, 33, 16, 30, 22, 18, 31, 14, 28, 12, 23, 11, 26, 25, 32, 11, 23, 24, 24, 27, 22, 27, 34, 18, 39, 21, 24, 17, 21, 17, 21, 26, 18, 16, 27, 19, 23, 40, 15, 18, 32, 24, 25, 21, 16, 23, 18, 19, 25, 27, 30, 20, 24, 20, 18, 49, 10, 17, 13, 24, 37, 30, 28, 25, 23, 32, 21, 26, 34, 21, 26, 38, 37, 18, 23, 23, 23, 36, 33, 18, 35, 25, 32, 28, 31, 8, 42, 24, 10, 8, 23, 17, 25, 4, 9, 26, 17, 7, 23, 21, 22, 14, 19, 17, 11, 10, 15, 24, 31, 27, 16, 11, 20, 23, 17, 33, 22, 25, 27, 30, 26, 9, 19, 34, 21, 18, 10, 18, 12, 8, 11, 17, 28, 18, 19, 10, 24, 31, 17, 7, 26, 21, 32, 27, 16, 9, 29, 23, 23, 9, 35, 39, 19, 21, 15, 13, 35, 34, 26, 58, 14, 18, 19, 10, 29, 22, 24, 20, 16, 27, 19, 12, 11, 16, 18, 31, 27, 24, 24, 11, 25, 4, 34, 12, 34, 24, 12, 30, 14, 9, 21, 15, 32, 19, 24, 30, 12, 5, 12, 17, 16, 19, 21, 25, 20, 22, 22, 15, 18, 15, 23, 24, 27, 17, 18, 21, 18, 23, 11, 13, 28, 21, 31, 37, 14, 14, 24, 15, 19, 21, 15, 12, 18, 28, 25, 25, 25, 19, 20, 12, 25, 32, 35, 27, 19, 24, 41, 16, 14, 34, 20, 12, 19, 16, 23, 13, 27, 29, 16, 18, 30, 17, 9, 22, 15, 8, 14, 14, 27, 6, 19, 20, 24, 34, 9, 27, 18, 27, 26, 18, 25, 18, 27, 25, 16, 10, 19, 29, 12, 19, 9, 18, 10, 25, 14, 33, 19, 30, 14, 32, 26, 27, 15, 24, 11, 28, 30, 23, 20, 12, 26, 25, 18, 12, 20, 21, 19, 30, 20, 14, 30, 11, 31, 18, 27, 22, 7, 19, 12, 12, 31, 26, 30, 17, 18, 39, 22, 14, 35, 43, 34, 24, 22, 17, 15, 34, 30, 40, 46, 49, 36, 15, 13, 18, 17, 35, 16, 11, 19, 8, 13, 28, 24, 19, 13, 10, 27, 27, 23, 25, 25, 21, 26, 18, 15, 30, 31, 6, 15, 11, 36, 16, 26, 11, 12, 13, 15, 7, 17, 18, 23, 18, 12, 27, 30, 41, 18, 31, 28, 22, 13, 8, 34, 16, 36, 34, 15, 27, 10, 17, 10, 28, 21, 22, 24, 32, 21, 18, 29, 22, 21, 13, 18, 38, 35, 22, 9, 29, 21, 24, 21, 8, 13, 24, 14, 22, 25, 17, 21, 22, 16, 25, 15, 27, 21, 18, 17, 8, 15, 14, 29, 23, 20, 23, 31, 30, 28, 32, 24, 30, 20, 32, 10, 34, 10, 11, 10, 31, 18, 23, 27, 31, 27, 21, 23, 13, 20, 15, 30, 9, 21, 30, 24, 17, 22, 24, 26, 30, 11, 21, 7, 12, 19, 20, 22, 14, 19, 22, 21, 22, 7, 5, 18, 33, 24, 10, 23, 29, 21, 18, 34, 19, 11, 21, 26, 32, 17, 21, 29, 12, 18, 11, 22, 18, 23, 24, 28, 20, 22, 55, 15, 25, 36, 42, 38, 38, 37, 30, 14, 13, 22, 22, 17, 29, 37, 13, 25, 27, 26, 36, 13, 21, 22, 16, 28, 14, 20, 7, 25, 29, 26, 17, 23, 7, 29, 13, 34, 20, 20, 27, 29, 14, 24, 29, 26, 33, 21, 32, 10, 21, 35, 23, 26, 30, 30, 6, 16, 21, 18, 28, 13, 28, 14, 21, 15, 20, 30, 20, 17, 22, 15, 11, 33, 35, 33, 35, 18, 16, 14, 22, 42, 23, 24, 29, 25, 15, 27, 12, 21, 36, 12, 18, 13, 13, 26, 23, 15, 13, 25, 24, 13, 22, 24, 11, 19, 18, 29, 20, 15, 15, 8, 13, 5, 24, 26, 27, 27, 24, 10, 18, 19, 34, 14, 18, 20, 30, 13, 9, 20, 25, 21, 20, 19, 8, 20, 23, 10, 11, 20, 26, 12, 39, 25, 29, 13, 13, 20, 34, 23, 21, 21, 9, 30, 20, 13, 31, 19, 21, 27, 4, 19, 27, 27, 22, 26, 28, 7, 30, 19, 13, 22, 31, 21, 27, 26, 22, 15, 10, 15, 10, 18, 25, 13, 15, 29, 28, 22, 23, 20, 14, 35, 14, 24, 15, 18, 24, 15, 17, 18, 12, 9, 41, 28, 29, 13, 20, 21, 27, 27, 18, 14, 21, 12, 22, 24, 32, 13, 22, 25, 26, 33, 24, 28, 17, 26, 21, 14, 17, 19, 30, 11, 11, 32, 21, 21, 22, 39, 18, 27, 18, 20, 20, 34, 29, 32, 35, 24, 31, 24, 27, 23, 24, 23, 28, 28, 39, 23, 23, 26, 25, 11, 20, 24, 22, 25, 24, 18, 18, 21, 29, 38, 13, 23, 26, 15, 29, 43, 24, 35, 12, 36, 30, 27, 22, 13, 16, 26, 20, 40, 17, 21, 19, 18, 33, 25, 5, 21, 14, 28, 25, 23, 20, 40, 27, 21, 27, 37, 7, 38, 14, 21, 14, 28, 28, 22, 27, 28, 17, 18, 23, 19, 37, 34, 19, 21, 21, 22, 18, 16, 30, 19, 32, 21, 20, 26, 28, 34, 25, 14, 8, 30, 21, 19, 29, 21, 10, 14, 9, 19, 16, 10, 32, 23, 22, 13, 13, 28, 27, 23, 24, 12, 19, 20, 15, 21, 24, 13, 11, 18, 14, 28, 25, 29, 29, 27, 19, 21, 32, 37, 27, 25, 19, 39, 17, 20, 15, 24, 51, 21, 36, 13, 12, 22, 25, 37, 27, 13, 40, 10, 25, 15, 13, 7, 21, 21, 19, 17, 20, 33, 11, 31, 41, 24, 24, 18, 27, 6, 23, 15, 26, 24, 32, 24, 27, 32, 17, 33, 18, 16, 15, 33, 20, 19, 18, 19, 27, 30, 22, 19, 24, 24, 26, 8, 37, 17, 23, 19, 14, 25, 10, 22, 31, 21, 38, 13, 17, 27, 26, 29, 32, 21, 30, 24, 18, 11, 19, 9, 20, 26, 22, 13, 19, 11, 24, 21, 18, 24, 15, 23, 25, 12, 16, 12, 14, 25, 10, 16, 28, 39, 24, 18, 15, 25, 10, 24, 21, 15, 20, 14, 26, 31, 22, 22, 16, 32, 22, 19, 23, 22, 40, 22, 28, 13, 32, 29, 28, 24, 22, 22, 21, 19, 26, 27, 27, 13, 23, 11, 30, 21, 26, 24, 30, 23, 18, 30, 19, 23, 9, 27, 20, 25, 19, 14, 34, 36, 9, 28, 33, 14, 34, 24, 29, 10, 18, 19, 17, 9, 20, 18, 19, 29, 29, 14, 18, 18, 29, 24, 29, 21, 25, 15, 22, 18, 33, 36, 18, 18, 16, 20, 15, 20, 17, 20, 17, 20, 21, 15, 28, 28, 22, 15, 17, 21, 19, 29, 38, 17, 9, 24, 41, 30, 17, 15, 9, 23, 26, 17, 20, 29, 20, 21, 26, 13, 21, 24, 10, 15, 21, 23, 16, 17, 18, 13, 26, 30, 35, 19, 17, 14, 26, 27, 16, 25, 24, 21, 24, 35, 38, 14, 17, 14, 12, 29, 38, 20, 23, 20, 32, 23, 11, 29, 13, 16, 24, 24, 18, 21, 23, 22, 22, 38, 20, 19, 23, 15, 13, 22, 26, 22, 11, 26, 19, 17, 4, 8, 28, 6, 27, 17, 7, 15, 27, 30, 13, 10, 20, 21, 22, 18, 18, 28, 34, 14, 26, 27, 27, 13, 17, 27, 31, 8, 24, 29, 27, 21, 8, 22, 25, 35, 13, 34, 15, 18, 24, 35, 26, 23, 18, 18, 18, 14, 16, 30, 18, 23, 22, 29, 18, 26, 23, 24, 15, 25, 35, 24, 31, 26, 6, 14, 8, 13, 25, 17, 21, 16, 21, 16, 23, 22, 20, 22, 6, 20, 34, 21, 20, 23, 17, 5, 23, 21, 9, 13, 18, 25, 23, 9, 30, 17, 20, 12, 13, 24, 34, 32, 26, 24, 25, 19, 29, 13, 26, 15, 32, 18, 15, 30, 16, 28, 20, 19, 29, 19, 18, 21, 19, 18, 15, 25, 24, 17, 20, 33, 39, 36, 30, 11, 20, 15, 25, 20, 35, 41, 30, 15, 11, 20, 17, 26, 38, 18, 18, 18, 19, 20, 21, 19, 8, 13, 19, 56, 21, 19, 37, 12, 23, 17, 29, 21, 18, 14, 22, 15, 38, 13, 8, 24, 25, 9, 22, 18, 23, 27, 19, 33, 28, 23, 20, 22, 9, 8, 16, 27, 32, 30, 26, 15, 21, 20, 26, 23, 12, 21, 19, 19, 17, 23, 24, 14, 24, 30, 34, 39, 23, 27, 18, 19, 11, 17, 10, 29, 16, 25, 27, 27, 23, 36, 23, 17, 10, 9, 15, 13, 11, 15, 17, 31, 17, 18, 13, 26, 23, 29, 26, 12, 18, 31, 21, 11, 13, 6, 10, 25, 23, 14, 14, 18, 12, 7, 21, 14, 22, 34, 9, 17, 27, 36, 19, 18, 31, 26, 33, 29, 15, 8, 16, 21, 27, 14, 21, 33, 25, 45, 13, 17, 20, 18, 38, 21, 13, 9, 26, 9, 19, 16, 5, 24, 18, 12, 39, 28, 15, 11, 23, 13, 11, 14, 28, 15, 16, 11, 29, 11, 28, 17, 39, 16, 21, 11, 37, 42, 19, 25, 18, 11, 24, 22, 24, 13, 13, 19, 29, 26, 18, 11, 21, 28, 27, 12, 31, 20, 16, 13, 11, 19, 7, 46, 33, 25, 31, 8, 27, 17, 27, 13, 13, 17, 17, 21, 15, 21, 26, 27, 13, 11, 8, 35, 22, 30, 26, 18, 4, 13, 6, 13, 23, 33, 25, 22, 22, 40, 18, 29, 21, 22, 22, 24, 25, 30, 29, 21, 22, 19, 21, 16, 7, 31, 10, 33, 27, 6, 18, 25, 30, 30, 13, 25, 27, 24, 17, 25, 13, 21, 28, 22, 37, 19, 29, 29, 9, 19, 19, 28, 18, 34, 15, 9, 21, 23, 17, 26, 18, 20, 28, 27, 24, 16, 28, 27, 25, 27, 12, 8, 14, 19, 10, 16, 30, 28, 19, 20, 26, 24, 19, 27, 9, 26, 10, 6, 18, 21, 24, 25, 33, 9, 23, 27, 25, 25, 23, 26, 19, 16, 26, 3, 18, 35, 21, 23, 29, 22, 19, 18, 17, 35, 20, 20, 8, 16, 15, 15, 8, 16, 23, 20, 26, 17, 34, 20, 30, 18, 11, 16, 12, 17, 23, 12, 24, 16, 36, 30, 16, 16, 19, 14, 11, 29, 16, 26, 7, 20, 15, 25, 26, 17, 32, 30, 38, 17, 18, 9, 42, 22, 9, 19, 36, 28, 12, 22, 10, 11, 41, 25, 56, 14, 22, 43, 8, 11, 14, 21, 24, 35, 12, 13, 38, 27, 30, 23, 11, 20, 18, 26, 30, 31, 17, 28, 36, 8, 22, 34, 16, 19, 13, 25, 30, 13, 27, 12, 13, 20, 24, 31, 13, 18, 23, 26, 11, 17, 13, 17, 20, 14, 18, 21, 25, 15, 16, 13, 17, 17, 26, 32, 25, 27, 17, 14, 20, 16, 26, 26, 30, 34, 28, 28, 29, 31, 9, 24, 8, 24, 34, 29, 36, 8, 23, 16, 31, 28, 21, 27, 14, 27, 29, 16, 27, 41, 8, 18, 26, 18, 26, 29, 22, 8, 15, 23, 9, 22, 13, 28, 20, 18, 13, 16, 39, 13, 7, 16, 13, 24, 30, 25, 28, 7, 24, 22, 32, 20, 23, 28, 39, 11, 19, 22, 17, 19, 14, 19, 26, 21, 29, 26, 24, 22, 18, 21, 17, 30, 26, 21, 40, 29, 28, 24, 25, 21, 18, 25, 27, 15, 25, 32, 29, 25, 20, 27, 17, 17, 20, 28, 9, 17, 26, 20, 29, 21, 17, 24, 27, 17, 30, 18, 28, 18, 8, 9, 23, 10, 18, 39, 24, 35, 16, 24, 20, 23, 11, 20, 11, 28, 17, 34, 23, 22, 21, 20, 19, 23, 18, 22, 26, 17, 19, 13, 26, 9, 26, 23, 13, 21, 29, 37, 26, 21, 34, 28, 17, 37, 20, 22, 22, 16, 25, 21, 30, 21, 27, 17, 27, 33, 24, 24, 20, 15, 16, 29, 12, 23, 18, 14, 23, 13, 20, 28, 29, 29, 20, 25, 41, 21, 15, 31, 26, 30, 39, 25, 23, 21, 18, 23, 14, 14, 18, 19, 17, 16, 26, 9, 23, 26, 18, 18, 18, 15, 22, 31, 20, 22, 27, 15, 22, 28, 19, 15, 12, 22, 13, 19, 24, 17, 9, 18, 23, 28, 11, 20, 29, 24, 18, 20, 25, 19, 26, 23, 22, 14, 25, 23, 10, 10, 20, 22, 22, 16, 16, 17, 21, 14, 34, 26, 28, 16, 30, 24, 21, 15, 22, 15, 27, 31, 18, 30, 17, 27, 27, 10, 15, 32, 24, 24, 13, 26, 35, 26, 21, 21, 23, 32, 21, 7, 23, 27, 21, 18, 31, 8, 12, 18, 20, 11, 24, 13, 32, 20, 12, 19, 26, 19, 27, 24, 16, 42, 30, 14, 20, 17, 17, 21, 43, 23, 28, 12, 29, 24, 25, 25, 21, 21, 16, 34, 26, 9, 17, 13, 20, 26, 9, 12, 9, 20, 23, 18, 24, 13, 22, 18, 11, 19, 26, 17, 16, 49, 26, 23, 19, 10, 19, 27, 25, 24, 29, 32, 28, 13, 9, 24, 40, 10, 13, 13, 28, 21, 13, 31, 18, 24, 11, 32, 29, 18, 17, 44, 10, 14, 8, 28, 11, 19, 28, 23, 28, 19, 10, 26, 28, 8, 29, 33, 19, 18, 12, 23, 31, 30, 23, 30, 22, 12, 19, 21, 15, 23, 38, 8, 33, 32, 31, 29, 39, 34, 31, 17, 10, 25, 27, 26, 17, 20, 26, 19, 18, 8, 28, 14, 15, 26, 15, 19, 24, 14, 36, 12, 30, 31, 29, 20, 19, 10, 25, 13, 29, 20, 26, 18, 15, 28, 15, 32, 26, 18, 20, 17, 15, 22, 38, 24, 16, 22, 18, 17, 17, 26, 26, 18, 24, 20, 12, 34, 24, 24, 15, 19, 28, 39, 23, 7, 10, 13, 39, 23, 19, 18, 19, 30, 13, 35, 17, 9, 8, 23, 26, 19, 28, 13, 12, 33, 23, 15, 12, 19, 23, 12, 13, 14, 62, 25, 18, 12, 33, 18, 31, 27, 22, 17, 33, 26, 19, 22, 18, 25, 18, 16, 29, 18, 36, 20, 49, 5, 19, 32, 13, 7, 12, 19, 27, 17, 19, 32, 31, 16, 15, 17, 16, 27, 27, 28, 25, 13, 23, 19, 25, 10, 18, 18, 22, 39, 26, 29, 19, 40, 17, 31, 15, 22, 34, 12, 24, 40, 16, 25, 19, 27, 18, 17, 20, 27, 38, 22, 20, 15, 41, 27, 17, 22, 30, 13, 21, 25, 23, 18, 22, 18, 14, 17, 47, 25, 13, 19, 22, 32, 30, 42, 19, 16, 13, 26, 20, 34, 22, 31, 12, 21, 34, 13, 31, 16, 14, 21, 34, 11, 21, 18, 13, 7, 36, 18, 17, 26, 28, 28, 11, 20, 16, 11, 22, 21, 10, 31, 30, 20, 17, 12, 18, 30, 25, 18, 21, 18, 18, 28, 27, 8, 10, 25, 34, 22, 31, 28, 29, 26, 8, 19, 17, 23, 26, 16, 12, 32, 14, 21, 22, 33, 24, 27, 11, 25, 17, 4, 23, 37, 12, 12, 17, 21, 9, 25, 29, 18, 22, 28, 36, 20, 14, 30, 13, 17, 37, 26, 19, 42, 23, 21, 23, 25, 26, 16, 27, 28, 8, 14, 24, 33, 36, 30, 22, 23, 20, 21, 28, 19, 29, 38, 20, 17, 15, 29, 25, 13, 19, 33, 13, 31, 22, 21, 30, 24, 19, 22, 22, 15, 24, 22, 21, 22, 21, 17, 29, 14, 17, 31, 30, 24, 26, 15, 20, 10, 8, 44, 7, 23, 8, 35, 14, 32, 20, 10, 17, 15, 13, 34, 23, 32, 28, 12, 19, 31, 27, 25, 28, 14, 28, 23, 26, 19, 21, 7, 25, 13, 25, 38, 10, 20, 36, 8, 16, 17, 22, 25, 25, 16, 18, 29, 28, 19, 29, 18, 19, 23, 28, 38, 21, 21, 14, 10, 26, 24, 23, 19, 23, 13, 19, 24, 20, 21, 16, 16, 22, 16, 29, 24, 30, 15, 20, 15, 23, 35, 34, 11, 9, 22, 24, 12, 20, 26, 15, 36, 24, 31, 16, 16, 17, 10, 27, 17, 9, 31, 25, 20, 19, 7, 14, 21, 29, 22, 28, 14, 32, 24, 14, 22, 14, 22, 9, 18, 9, 28, 37, 24, 22, 10, 25, 33, 26, 17, 28, 11, 12, 31, 31, 22, 23, 31, 34, 17, 28, 11, 23, 16, 15, 34, 24, 11, 33, 25, 9, 25, 42, 17, 12, 23, 6, 30, 32, 26, 17, 16, 24, 25, 15, 33, 13, 15, 12, 28, 11, 17, 24, 21, 21, 8, 20, 10, 16, 29, 14, 10, 19, 31, 17, 14, 18, 17, 30, 22, 34, 22, 18, 25, 24, 17, 28, 30, 22, 28, 25, 14, 16, 12, 25, 15, 15, 26, 14, 22, 18, 9, 29, 29, 13, 37, 17, 21, 28, 28, 20, 38, 30, 8, 23, 29, 17, 25, 22, 25, 36, 13, 21, 27, 20, 25, 35, 18, 21, 22, 15, 22, 6, 21, 28, 32, 23, 18, 17, 20, 16, 19, 27, 20, 14, 19, 14, 22, 14, 14, 21, 19, 7, 15, 21, 15, 11, 16, 11, 30, 27, 25, 20, 31, 22, 33, 11, 42, 11, 30, 32, 13, 25, 19, 30, 22, 21, 33, 17, 28, 21, 27, 36, 20, 27, 31, 13, 14, 27, 31, 28, 28, 22, 20, 29, 27, 18, 19, 15, 19, 19, 17, 23, 34, 29, 19, 18, 29, 25, 13, 27, 36, 27, 13, 19, 19, 24, 22, 23, 43, 17, 33, 41, 25, 17, 17, 27, 12, 22, 19, 23, 8, 17, 9, 32, 30, 23, 28, 10, 13, 10, 33, 15, 13, 34, 17, 19, 16, 41, 23, 33, 25, 22, 29, 14, 20, 13, 22, 29, 21, 14, 12, 16, 17, 11, 11, 17, 25, 27, 22, 23, 30, 9, 22, 18, 26, 18, 14, 22, 11, 27, 24, 23, 8, 21, 27, 25, 14, 17, 15, 19, 22, 31, 19, 31, 27, 32, 14, 25, 18, 9, 25, 12, 18, 25, 23, 32, 34, 22, 12, 10, 13, 13, 26, 9, 27, 30, 39, 14, 33, 24, 15, 20, 15, 20, 18, 27, 24, 14, 12, 16, 21, 33, 9, 16, 23, 31, 14, 15, 22, 31, 30, 27, 24, 15, 23, 18, 38, 15, 22, 16, 24, 21, 25, 23, 26, 22, 25, 23, 18, 19, 33, 27, 25, 38, 28, 17, 32, 12, 10, 14, 26, 6, 20, 19, 16, 20, 20, 15, 28, 11, 18, 4, 25, 10, 11, 25, 22, 23, 34, 11, 16, 27, 22, 28, 21, 31, 27, 26, 26, 27, 13, 13, 24, 25, 11, 27, 15, 45, 15, 24, 20, 20, 17, 27, 21, 22, 23, 30, 23, 26, 13, 27, 26, 18, 11, 19, 29, 17, 35, 23, 27, 16, 31, 26, 14, 9, 17, 10, 22, 21, 17, 16, 7, 23, 32, 25, 15, 14, 26, 11, 24, 25, 39, 24, 18, 32, 21, 20, 14, 34, 45, 59, 25, 7, 22, 49, 29, 25, 22, 34, 38, 23, 27, 22, 34, 23, 23, 25, 11, 19, 26, 17, 19, 27, 30, 15, 34, 22, 32, 22, 13, 12, 19, 23, 23, 7, 13, 11, 19, 18, 9, 19, 23, 27, 28, 15, 30, 19, 37, 26, 10, 21, 9, 26, 26, 23, 23, 11, 19, 19, 22, 20, 19, 33, 10, 10, 27, 17, 14, 41, 17, 24, 10, 28, 18, 36, 19, 29, 14, 27, 18, 9, 25, 17, 15, 30, 27, 28, 17, 29, 15, 19, 20, 21, 21, 27, 24, 13, 17, 20, 30, 24, 20, 12, 52, 18, 28, 28, 31, 18, 19, 19, 25, 20, 25, 23, 16, 19, 9, 17, 25, 33, 17, 13, 29, 33, 23, 35, 10, 31, 35, 23, 33, 27, 21, 26, 24, 36, 26, 17, 20, 34, 16, 18, 25, 25, 22, 23, 13, 35, 19, 11, 16, 26, 17, 20, 37, 26, 32, 18, 5, 15, 20, 15, 12, 20, 15, 20, 18, 26, 13, 14, 28, 15, 24, 13, 19, 11, 19, 20, 13, 21, 19, 18, 19, 19, 11, 18, 23, 17, 22, 36, 29, 30, 30, 10, 28, 18, 25, 30, 13, 21, 19, 36, 16, 27, 7, 31, 13, 25, 9, 19, 36, 8, 15, 18, 16, 17, 17, 5, 13, 21, 18, 15, 28, 23, 29, 12, 30, 18, 34, 28, 27, 24, 19, 10, 18, 26, 23, 24, 25, 18, 23, 11, 22, 10, 26, 26, 26, 19, 13, 29, 16, 9, 11, 21, 19, 15, 16, 21, 12, 12, 20, 23, 20, 38, 30, 19, 25, 16, 16, 39, 29, 35, 30, 27, 22, 22, 27, 25, 20, 8, 22, 12, 12, 34, 27, 24, 26, 21, 18, 15, 29, 22, 28, 10, 28, 20, 21, 16, 17, 10, 23, 16, 35, 32, 34, 26, 17, 21, 24, 18, 16, 26, 20, 24, 26, 19, 27, 20, 15, 14, 25, 26, 18, 28, 12, 18, 7, 34, 26, 9, 25, 34, 17, 19, 25, 23, 39, 11, 23, 19, 9, 39, 23, 13, 39, 12, 37, 23, 24, 23, 8, 25, 24, 19, 29, 24, 22, 11, 4, 11, 15, 31, 11, 23, 30, 36, 30, 20, 12, 27, 30, 25, 25, 6, 24, 21, 19, 19, 21, 12, 5, 19, 26, 33, 24, 21, 19, 13, 8, 14, 35, 16, 32, 19, 22, 23, 18, 31, 33, 23, 30, 32, 5, 17, 24, 21, 21, 24, 24, 16, 36, 39, 22, 16, 30, 22, 20, 19, 27, 38, 22, 30, 17, 10, 28, 36, 33, 35, 19, 18, 23, 27, 26, 21, 25, 30, 23, 19, 20, 4, 11, 7, 34, 20, 16, 27, 19, 10, 8, 28, 14, 13, 11, 26, 8, 21, 27, 26, 22, 36, 23, 14, 29, 22, 19, 27, 21, 17, 26, 21, 19, 27, 13, 16, 16, 25, 14, 23, 17, 21, 23, 32, 21, 8, 22, 28, 10, 8, 20, 24, 14, 23, 20, 20, 22, 27, 23, 14, 20, 7, 20, 20, 29, 24, 10, 16, 28, 24, 27, 17, 24, 17, 29, 25, 25, 19, 15, 12, 14, 17, 31, 12, 16, 10, 15, 26, 21, 13, 24, 31, 11, 20, 24, 19, 17, 33, 19, 28, 19, 18, 25, 10, 26, 21, 18, 34, 6, 21, 28, 35, 11, 29, 24, 15, 17, 18, 36, 28, 27, 18, 26, 23, 20, 19, 22, 18, 35, 30, 27, 25, 36, 41, 29, 23, 29, 16, 24, 10, 19, 23, 16, 15, 22, 30, 9, 23, 17, 32, 27, 25, 31, 17, 14, 37, 17, 26, 15, 24, 15, 24, 9, 22, 11, 21, 33, 14, 21, 21, 36, 10, 21, 16, 27, 28, 6, 26, 26, 29, 41, 24, 35, 10, 26, 13, 23, 24, 16, 22, 5, 24, 31, 17, 22, 23, 27, 28, 29, 17, 16, 26, 6, 19, 15, 14, 13, 14, 18, 12, 12, 25, 25, 22, 13, 9, 7, 41, 30, 13, 56, 22, 19, 25, 21, 44, 49, 15, 18, 15, 20, 7, 29, 20, 26, 25, 20, 20, 24, 25, 22, 14, 34, 22, 17, 10, 16, 35, 32, 13, 38, 37, 23, 25, 27, 27, 23, 32, 23, 12, 32, 14, 27, 23, 36, 29, 16, 31, 21, 24, 30, 35, 25, 28, 25, 25, 28, 17, 29, 24, 32, 21, 28, 14, 27, 32, 23, 20, 11, 21, 24, 21, 24, 9, 19, 39, 19, 21, 27, 20, 28, 17, 22, 23, 25, 22, 19, 22, 39, 18, 18, 31, 30, 26, 17, 20, 36, 38, 8, 38, 22, 12, 11, 9, 17, 25, 39, 20, 10, 9, 22, 24, 29, 27, 17, 20, 22, 28, 30, 21, 27, 16, 23, 36, 23, 27, 14, 28, 23, 23, 24, 32, 34, 29, 31, 24, 13, 16, 31, 46, 17, 16, 20, 16, 36, 17, 19, 26, 42, 21, 18, 27, 30, 8, 19, 23, 14, 30, 29, 15, 29, 22, 25, 35, 27, 33, 25, 22, 27, 25, 15, 23, 5, 22, 23, 19, 31, 18, 20, 24, 27, 15, 32, 18, 47, 19, 34, 30, 20, 34, 13, 26, 24, 28, 17, 25, 9, 21, 21, 14, 38, 11, 7, 9, 21, 11, 5, 26, 22, 18, 20, 36, 17, 14, 36, 24, 21, 23, 23, 18, 23, 25, 34, 17, 17, 19, 18, 19, 14, 27, 31, 29, 32, 19, 32, 20, 11, 21, 13, 13, 13, 11, 24, 12, 22, 13, 13, 9, 22, 26, 23, 38, 31, 9, 18, 20, 22, 25, 28, 13, 19, 18, 14, 30, 29, 22, 31, 24, 15, 11, 15, 12, 23, 20, 15, 15, 26, 28, 27, 36, 16, 18, 33, 11, 21, 19, 20, 14, 16, 26, 23, 33, 26, 21, 18, 31, 48, 27, 14, 21, 14, 29, 28, 23, 32, 26, 7, 38, 23, 21, 22, 14, 16, 26, 13, 15, 17, 11, 20, 19, 22, 22, 25, 30, 27, 29, 21, 18, 30, 17, 37, 14, 25, 19, 29, 8, 24, 23, 18, 25, 24, 23, 14, 20, 7, 26, 14, 22, 28, 14, 9, 13, 13, 48, 30, 21, 39, 14, 21, 18, 28, 21, 19, 22, 17, 19, 20, 12, 16, 29, 26, 22, 5, 7, 29, 23, 22, 20, 9, 22, 11, 17, 22, 23, 21, 6, 19, 17, 8, 14, 30, 28, 29, 10, 35, 21, 33, 11, 23, 19, 30, 22, 29, 31, 14, 21, 28, 24, 19, 27, 20, 16, 35, 13, 16, 25, 27, 38, 21, 25, 18, 13, 30, 13, 27, 22, 22, 16, 21, 15, 21, 25, 22, 42, 35, 21, 23, 15, 9, 22, 11, 17, 24, 17, 17, 14, 28, 12, 25, 10, 20, 31, 14, 30, 28, 30, 20, 27, 25, 24, 16, 19, 24, 30, 26, 32, 20, 20, 18, 13, 14, 23, 12, 24, 21, 15, 32, 20, 10, 9, 23, 10, 8, 18, 17, 41, 36, 20, 25, 14, 22, 19, 17, 32, 30, 23, 25, 34, 14, 16, 21, 18, 28, 37, 32, 19, 26, 39, 13, 23, 36, 31, 15, 14, 26, 16, 25, 19, 31, 30, 29, 16, 31, 26, 34, 19, 29, 27, 31, 23, 19, 18, 23, 22, 21, 29, 35, 20, 40, 32, 15, 24, 20, 27, 26, 13, 13, 21, 27, 15, 16, 22, 30, 22, 15, 21, 10, 25, 19, 17, 42, 20, 23, 5, 10, 15, 36, 16, 18, 21, 49, 24, 12, 13, 34, 33, 15, 32, 24, 26, 5, 27, 19, 9, 26, 21, 15, 16, 16, 24, 23, 18, 16, 33, 24, 32, 31, 27, 17, 24, 37, 25, 25, 8, 16, 19, 21, 27, 28, 19, 31, 27, 21, 32, 21, 20, 16, 22, 23, 15, 22, 17, 31, 25, 13, 5, 20, 20, 10, 52, 29, 22, 33, 32, 42, 24, 25, 18, 10, 14, 6, 7, 36, 32, 10, 33, 32, 22, 26, 23, 45, 6, 30, 11, 32, 14, 9, 17, 27, 39, 8, 27, 8, 27, 24, 14, 29, 23, 7, 17, 35, 38, 26, 33, 9, 20, 33, 12, 20, 19, 14, 15, 13, 24, 27, 22, 16, 21, 21, 33, 24, 25, 25, 19, 20, 32, 29, 17, 23, 27, 17, 31, 23, 27, 18, 26, 24, 25, 15, 23, 11, 18, 11, 10, 27, 22, 24, 19, 25, 23, 23, 28, 20, 19, 26, 16, 13, 21, 21, 16, 20, 28, 23, 21, 46, 14, 21, 27, 25, 21, 20, 27, 28, 19, 10, 22, 34, 11, 27, 30, 20, 15, 15, 24, 15, 23, 38, 12, 6, 13, 27, 14, 20, 27, 21, 18, 16, 12, 16, 18, 14, 13, 26, 26, 13, 31, 23, 12, 21, 16, 14, 24, 21, 21, 21, 20, 18, 24, 13, 12, 19, 39, 27, 20, 16, 9, 13, 17, 12, 37, 32, 26, 24, 30, 23, 15, 29, 16, 23, 24, 21, 26, 17, 27, 24, 25, 33, 36, 9, 43, 41, 42, 28, 43, 13, 24, 29, 11, 13, 40, 23, 33, 40, 19, 19, 22, 21, 34, 10, 22, 25, 29, 29, 22, 29, 20, 16, 19, 26, 15, 44, 15, 27, 33, 11, 22, 7, 30, 14, 8, 13, 20, 18, 25, 17, 10, 14, 18, 15, 16, 26, 26, 26, 13, 33, 14, 25, 25, 22, 44, 10, 18, 25, 20, 30, 14, 37, 16, 28, 13, 43, 25, 32, 21, 25, 30, 23, 28, 15, 12, 28, 26, 25, 29, 32, 15, 27, 6, 13, 25, 22, 34, 19, 29, 15, 17, 13, 22, 19, 21, 25, 25, 16, 39, 17, 26, 20, 13, 9, 22, 22, 16, 19, 39, 16, 24, 17, 8, 12, 14, 33, 44, 21, 34, 17, 19, 24, 15, 28, 12, 18, 27, 27, 29, 19, 8, 10, 14, 16, 9, 15, 16, 14, 14, 19, 18, 21, 22, 26, 25, 9, 28, 23, 24, 15, 16, 17, 15, 36, 23, 16, 17, 18, 13, 16, 20, 27, 11, 11, 7, 10, 15, 18, 6, 19, 8, 19, 19, 24, 6, 32, 27, 27, 6, 33, 35, 20, 17, 15, 19, 24, 34, 21, 23, 20, 11, 16, 23, 24, 10, 11, 14, 23, 25, 28, 27, 27, 22, 24, 20, 31, 10, 21, 19, 33, 19, 21, 11, 19, 12, 15, 31, 24, 19, 22, 25, 32, 9, 28, 37, 32, 45, 30, 35, 50, 25, 15, 31, 34, 53, 21, 14, 15, 43, 21, 42, 29, 25, 12, 19, 19, 22, 28, 12, 13, 51, 14, 18, 23, 16, 31, 26, 15, 18, 18, 30, 35, 25, 20, 29, 19, 18, 21, 8, 24, 16, 42, 39, 14, 18, 11, 26, 29, 9, 26, 24, 11, 20, 16, 21, 24, 17, 29, 16, 23, 12, 20, 14, 22, 16, 25, 18, 26, 22, 36, 20, 41, 24, 30, 30, 15, 27, 18, 26, 17, 26, 27, 26, 15, 20, 27, 21, 24, 27, 20, 11, 17, 16, 17, 26, 18, 27, 27, 14, 30, 31, 29, 27, 13, 20, 14, 19, 17, 10, 12, 14, 11, 21, 25, 23, 27, 22, 19, 21, 23, 13, 20, 22, 40, 36, 19, 33, 17, 25, 15, 29, 14, 12, 53, 25, 36, 41, 21, 22, 23, 13, 5, 20, 28, 34, 41, 12, 17, 26, 9, 23, 30, 30, 23, 35, 28, 33, 27, 23, 36, 28, 19, 33, 37, 30, 18, 30, 35, 6, 26, 16, 24, 27, 26, 19, 27, 24, 25, 7, 24, 35, 30, 14, 19, 16, 20, 27, 8, 12, 13, 23, 29, 38, 15, 13, 14, 35, 37, 27, 19, 16, 20, 20, 14, 7, 25, 16, 27, 29, 25, 22, 49, 22, 31, 26, 24, 14, 29, 18, 41, 16, 10, 27, 23, 23, 18, 23, 16, 26, 35, 31, 23, 30, 21, 20, 12, 11, 19, 34, 41, 21, 14, 18, 32, 16, 28, 13, 32, 26, 25, 26, 15, 27, 25, 19, 24, 17, 15, 19, 23, 21, 21, 14, 38, 19, 29, 9, 13, 11, 38, 22, 20, 16, 20, 17, 28, 17, 23, 23, 27, 34, 14, 24, 21, 17, 27, 32, 21, 19, 13, 28, 17, 17, 21, 26, 13, 29, 27, 27, 40, 23, 22, 21, 20, 16, 26, 20, 24, 41, 22, 28, 25, 19, 22, 15, 10, 16, 13, 24, 25, 27, 35, 18, 32, 32, 20, 8, 23, 35, 8, 7, 37, 18, 28, 29, 22, 35, 18, 20, 32, 21, 20, 19, 26, 8, 13, 20, 24, 18, 16, 12, 28, 16, 12, 21, 15, 17, 31, 18, 19, 23, 17, 15, 28, 19, 22, 32, 24, 13, 22, 9, 34, 17, 23, 29, 20, 27, 33, 16, 21, 15, 14, 22, 31, 32, 25, 8, 24, 33, 15, 27, 29, 27, 25, 12, 19, 6, 13, 15, 29, 18, 13, 15, 16, 38, 13, 24, 12, 14, 26, 46, 20, 21, 42, 26, 31, 18, 27, 27, 13, 38, 27, 44, 18, 14, 43, 8, 14, 14, 14, 43, 14, 33, 18, 8, 24, 10, 28, 15, 13, 27, 21, 30, 15, 23, 25, 21, 31, 23, 11, 17, 19, 19, 42, 21, 37, 16, 22, 17, 6, 21, 32, 14, 34, 34, 25, 21, 29, 19, 18, 24, 30, 8, 26, 16, 23, 28, 35, 23, 20, 9, 28, 28, 13, 35, 18, 9, 28, 34, 25, 13, 26, 15, 17, 20, 15, 17, 12, 11, 18, 6, 23, 16, 11, 27, 37, 20, 24, 27, 10, 21, 12, 34, 21, 34, 14, 30, 4, 20, 25, 20, 17, 14, 9, 26, 25, 7, 8, 15, 32, 21, 20, 25, 19, 28, 12, 27, 22, 15, 11, 22, 19, 12, 29, 18, 14, 39, 14, 18, 28, 24, 19, 27, 17, 17, 36, 21, 28, 27, 31, 17, 24, 19, 26, 32, 33, 15, 19, 16, 13, 14, 23, 21, 26, 18, 26, 20, 13, 19, 23, 21, 15, 14, 14, 11, 13, 27, 22, 32, 32, 21, 20, 18, 18, 19, 16, 17, 21, 26, 24, 15, 9, 33, 32, 22, 20, 14, 25, 21, 23, 20, 27, 13, 27, 6, 38, 16, 34, 27, 12, 13, 16, 7, 30, 8, 31, 16, 14, 22, 11, 27, 25, 18, 23, 20, 37, 24, 27, 29, 23, 15, 19, 11, 30, 10, 31, 25, 7, 22, 14, 40, 29, 29, 21, 17, 13, 19, 31, 17, 20, 16, 17, 17, 23, 23, 21, 27, 15, 35, 9, 28, 31, 21, 24, 35, 20, 18, 15, 20, 23, 16, 26, 27, 14, 19, 43, 21, 31, 41, 22, 17, 17, 27, 5, 19, 24, 29, 27, 28, 10, 27, 19, 14, 14, 10, 34, 28, 24, 25, 17, 31, 26, 36, 23, 16, 29, 17, 23, 45, 27, 25, 19, 23, 19, 28, 22, 27, 21, 9, 10, 27, 23, 20, 26, 34, 23, 11, 22, 13, 6, 19, 22, 25, 27, 11, 21, 23, 22, 39, 27, 29, 25, 37, 16, 17, 39, 18, 23, 12, 14, 23, 19, 34, 21, 19, 19, 22, 21, 11, 9, 20, 16, 20, 32, 36, 27, 16, 18, 25, 11, 32, 28, 10, 17, 32, 31, 23, 22, 13, 24, 19, 12, 31, 13, 10, 33, 16, 13, 22, 25, 20, 17, 15, 27, 27, 9, 27, 40, 17, 8, 19, 21, 28, 19, 16, 22, 35, 17, 26, 27, 32, 43, 14, 14, 23, 27, 28, 23, 22, 12, 22, 18, 14, 11, 32, 21, 21, 13, 24, 27, 12, 20, 32, 27, 32, 27, 28, 15, 12, 17, 15, 14, 17, 24, 23, 11, 23, 16, 19, 16, 22, 21, 21, 10, 16, 15, 23, 39, 17, 20, 12, 28, 24, 16, 12, 5, 5, 14, 27, 29, 19, 15, 14, 24, 10, 28, 23, 20, 14, 23, 33, 15, 18, 27, 25, 30, 16, 16, 27, 23, 31, 24, 14, 20, 27, 10, 12, 20, 13, 19, 13, 14, 10, 17, 38, 18, 7, 26, 24, 11, 23, 14, 16, 14, 8, 12, 28, 20, 9, 16, 16, 13, 52, 24, 10, 29, 26, 23, 28, 28, 12, 8, 31, 46, 25, 24, 19, 27, 32, 12, 12, 9, 11, 14, 31, 21, 11, 28, 24, 14, 33, 24, 27, 31, 25, 18, 27, 30, 34, 24, 33, 14, 11, 11, 27, 17, 27, 7, 15, 20, 19, 23, 25, 8, 13, 16, 29, 14, 16, 30, 24, 29, 33, 16, 19, 40, 18, 13, 17, 25, 21, 27, 8, 22, 31, 18, 26, 8, 15, 13, 27, 27, 15, 41, 13, 11, 23, 39, 11, 20, 27, 20, 38, 15, 33, 25, 24, 19, 15, 26, 9, 22, 26, 23, 25, 19, 25, 17, 19, 19, 23, 20, 22, 25, 25, 23, 11, 21, 22, 15, 29, 23, 28, 11, 11, 24, 25, 24, 27, 26, 21, 21, 23, 37, 29, 20, 33, 16, 11, 37, 32, 24, 26, 10, 11, 21, 21, 21, 26, 12, 27, 29, 32, 16, 21, 22, 28, 9, 24, 18, 39, 15, 44, 24, 26, 19, 23, 9, 19, 13, 27, 38, 27, 18, 20, 37, 25, 17, 22, 12, 23, 10, 21, 25, 28, 20, 17, 20, 27, 19, 25, 33, 15, 23, 31, 29, 21, 15, 30, 20, 28, 20, 17, 28, 19, 22, 24, 13, 18, 8, 24, 16, 14, 13, 26, 25, 18, 24, 10, 27, 22, 35, 18, 24, 19, 12, 13, 20, 24, 10, 32, 16, 25, 31, 31, 20, 24, 11, 46, 16, 25, 30, 16, 32, 26, 6, 33, 24, 25, 20, 32, 14, 26, 28, 20, 19, 23, 18, 13, 25, 26, 28, 14, 39, 21, 23, 22, 25, 36, 24, 12, 17, 12, 15, 7, 13, 16, 14, 11, 9, 17, 20, 18, 10, 21, 17, 17, 17, 29, 17, 23, 20, 22, 23, 39, 26, 28, 30, 14, 32, 15, 21, 21, 37, 16, 18, 14, 25, 21, 24, 30, 14, 36, 6, 24, 11, 9, 29, 28, 38, 21, 23, 21, 20, 31, 19, 16, 26, 28, 15, 26, 30, 20, 11, 11, 18, 6, 19, 19, 27, 19, 17, 31, 27, 16, 17, 35, 27, 23, 18, 13, 14, 30, 28, 28, 27, 17, 22, 25, 14, 17, 27, 21, 24, 14, 23, 24, 18, 19, 18, 12, 18, 17, 26, 18, 16, 20, 19, 18, 28, 8, 34, 25, 22, 19, 30, 17, 25, 29, 27, 12, 20, 14, 22, 27, 13, 14, 37, 10, 34, 29, 18, 23, 18, 17, 21, 22, 18, 6, 30, 18, 20, 24, 31, 28, 26, 9, 33, 13, 28, 14, 17, 13, 15, 14, 31, 28, 18, 25, 16, 22, 11, 27, 29, 30, 6, 29, 23, 15, 19, 24, 8, 16, 25, 9, 36, 20, 28, 26, 30, 17, 13, 15, 32, 35, 7, 40, 17, 19, 20, 19, 24, 27, 10, 7, 38, 40, 24, 21, 23, 32, 21, 23, 22, 22, 10, 37, 27, 16, 23, 27, 25, 27, 23, 30, 29, 18, 30, 43, 18, 18, 28, 19, 27, 30, 15, 23, 24, 17, 11, 20, 22, 15, 33, 10, 42, 30, 16, 26, 12, 40, 21, 22, 28, 27, 21, 17, 18, 22, 29, 25, 14, 17, 28, 21, 36, 23, 21, 14, 7, 21, 23, 16, 19, 17, 30, 16, 20, 18, 20, 29, 16, 17, 24, 19, 24, 23, 17, 21, 13, 11, 7, 31, 23, 20, 24, 11, 18, 28, 25, 17, 34, 25, 14, 26, 24, 20, 25, 36, 27, 32, 7, 25, 33, 26, 21, 22, 17, 20, 38, 14, 23, 21, 22, 24, 8, 21, 30, 24, 36, 23, 22, 22, 17, 30, 16, 16, 19, 34, 30, 30, 6, 32, 34, 7, 40, 25, 20, 26, 23, 31, 21, 18, 28, 25, 25, 38, 31, 31, 24, 11, 24, 36, 22, 19, 18, 8, 27, 30, 16, 25, 22, 9, 29, 11, 10, 35, 42, 36, 11, 24, 12, 27, 15, 22, 18, 10, 17, 22, 28, 31, 27, 17, 34, 14, 22, 11, 25, 16, 24, 26, 14, 22, 19, 32, 45, 24, 20, 26, 34, 18, 22, 16, 15, 17, 20, 24, 26, 21, 20, 21, 40, 30, 18, 18, 27, 26, 20, 26, 19, 24, 13, 15, 27, 20, 27, 9, 20, 31, 26, 16, 34, 23, 15, 20, 19, 16, 14, 25, 34, 11, 21, 30, 17, 17, 24, 21, 16, 26, 14, 13, 27, 14, 24, 22, 20, 25, 23, 32, 25, 20, 31, 24, 17, 35, 30, 22, 12, 18, 14, 13, 12, 34, 29, 25, 24, 15, 12, 26, 16, 16, 27, 26, 11, 30, 15, 27, 13, 28, 23, 31, 26, 31, 31, 6, 15, 9, 14, 25, 12, 18, 24, 20, 24, 20, 14, 27, 39, 17, 32, 24, 16, 41, 18, 15, 21, 22, 34, 33, 23, 11, 26, 27, 15, 39, 30, 50, 12, 21, 15, 25, 31, 17, 14, 21, 16, 16, 29, 16, 17, 33, 27, 29, 31, 17, 15, 26, 18, 22, 18, 25, 35, 22, 13, 27, 49, 25, 44, 22, 14, 29, 32, 26, 39, 48, 24, 33, 38, 30, 35, 25, 25, 31, 23, 13, 28, 26, 17, 19, 29, 16, 20, 23, 12, 22, 11, 23, 26, 9, 12, 20, 37, 18, 10, 13, 26, 42, 28, 34, 18, 7, 29, 21, 10, 12, 17, 16, 25, 23, 13, 10, 29, 21, 8, 19, 23, 26, 25, 17, 20, 18, 21, 21, 20, 10, 11, 23, 15, 28, 15, 27, 22, 7, 15, 49, 13, 20, 17, 33, 28, 9, 24, 18, 29, 35, 32, 36, 16, 16, 22, 29, 15, 30, 26, 30, 11, 29, 24, 9, 27, 32, 12, 22, 23, 17, 15, 24, 16, 5, 30, 21, 18, 34, 25, 26, 14, 17, 13, 40, 33, 22, 29, 15, 32, 35, 30, 18, 38, 22, 28, 13, 30, 34, 29, 14, 9, 30, 38, 22, 27, 22, 32, 9, 15, 10, 22, 13, 33, 28, 35, 5, 16, 6, 24, 21, 17, 16, 28, 18, 16, 27, 24, 17, 20, 10, 27, 20, 33, 11, 21, 26, 21, 25, 31, 18, 7, 38, 17, 22, 22, 18, 12, 33, 23, 11, 27, 20, 12, 25, 24, 30, 19, 19, 14, 10, 28, 26, 22, 14, 13, 17, 30, 32, 22, 22, 26, 36, 26, 14, 21, 16, 20, 23, 22, 12, 23, 17, 19, 36, 20, 34, 17, 28, 26, 28, 25, 27, 19, 22, 18, 18, 12, 18, 24, 32, 24, 27, 29, 15, 18, 24, 22, 24, 17, 18, 18, 21, 32, 12, 20, 16, 29, 25, 24, 30, 17, 21, 14, 13, 20, 35, 10, 20, 20, 26, 23, 21, 28, 24, 26, 16, 18, 19, 29, 39, 16, 16, 29, 24]\n"
          ]
        }
      ],
      "source": [
        "# Replace words in data_test not in the 'words' set with 'UNKNOWN'\n",
        "data_test.loc[~data_test['Word'].isin(words), 'Word'] = 'UNKNOWN'\n",
        "# Convert the 'Word' column of data_test into a list\n",
        "word_test = list(data_test.Word)\n",
        "# Initialize an empty list for samples\n",
        "samples = []\n",
        "# For each word in word_test, append its word ID to samples\n",
        "for i, val in enumerate(word_test):\n",
        "    samples.append([word2id[val]])\n",
        "\n",
        "# Non-pandas solution for sentence lengths\n",
        "lengths = []\n",
        "count = 0\n",
        "sentences = list(data_test.sentence)\n",
        "for i in tqdm(range(len(sentences)), position=0, leave=True):\n",
        "    if (i > 0) and (sentences[i] == sentences[i - 1]):\n",
        "        count += 1\n",
        "    elif i > 0:\n",
        "        lengths.append(count)\n",
        "        count = 1\n",
        "    else:\n",
        "        count = 1\n",
        "\n",
        "# Pandas solution for sentence lengths\n",
        "# Create a new column 'is_start_of_sentence' that marks the start of a new sentence\n",
        "# We use pandas' 'ne' function to compare each sentence value with the previous one (using 'shift()')\n",
        "# This results in a boolean series where 'True' indicates the start of a new sentence\n",
        "data_test['is_start_of_sentence'] = data_test['sentence'].ne(data_test['sentence'].shift())\n",
        "# Group data_test by cumulative sum of 'is_start_of_sentence'\n",
        "# We use pandas' 'cumsum()' function to create a running sum of 'True' values, effectively labeling each group of sentences\n",
        "# Then, we use 'groupby()' to group the data by these labels\n",
        "grouped = data_test.groupby(data_test['is_start_of_sentence'].cumsum())\n",
        "# Calculate the size (number of rows) of each group using pandas' 'size()' function and reset the index\n",
        "sentence_lengths = grouped.size().reset_index(drop=True)\n",
        "# Convert the group sizes into a list\n",
        "lengthsPanda = sentence_lengths.tolist()\n",
        "\n",
        "# Print the sentence lengths obtained using both methods\n",
        "print(lengths)\n",
        "print(lengthsPanda)"
      ]
    },
    {
      "cell_type": "markdown",
      "metadata": {
        "id": "t3UGvRN9x2fn"
      },
      "source": [
        "Now that we have the HMM ready lets predict the best path from them."
      ]
    },
    {
      "cell_type": "code",
      "execution_count": 19,
      "metadata": {
        "colab": {
          "base_uri": "https://localhost:8080/"
        },
        "id": "_5PGjZaXx6xS",
        "outputId": "378aa236-3929-49d2-930b-b4b9058b06fc"
      },
      "outputs": [
        {
          "output_type": "stream",
          "name": "stdout",
          "text": [
            "[ 5  0  5 ... 39 41 14]\n"
          ]
        }
      ],
      "source": [
        "# Use the 'predict' method of the 'model' object (HMM) to predict the POS tags for the 'samples' (words) \n",
        "# We also pass 'lengths' as an argument to inform the model about the sentence boundaries\n",
        "pos_predict = model.predict(samples, lengths)\n",
        "# Print the predicted POS tags for the given sentences\n",
        "print(pos_predict)"
      ]
    },
    {
      "cell_type": "markdown",
      "metadata": {
        "id": "_CZUVE2n1BVI"
      },
      "source": [
        "The hmmlearn predict function will give the best probable path for the given sentence using the Viterbi algorithm.\n",
        "\n",
        "## Task 2: Using the model parameters (startprob_, transmat_, emissionprob_) write the viterbi algorithm from scratch to calculate the best probable path and compare it with the hmmlearn implementation."
      ]
    },
    {
      "cell_type": "markdown",
      "metadata": {
        "id": "2G279w_RtjJ-"
      },
      "source": [
        "Now before using these matrices "
      ]
    },
    {
      "cell_type": "code",
      "execution_count": 20,
      "metadata": {
        "id": "bUzYlQjHqcXH"
      },
      "outputs": [],
      "source": [
        "def Viterbi(pi: np.array, a: np.array, b: np.array, obs: List) -> np.array:\n",
        "    \"\"\"\n",
        "    Viterbi algorithm implementation to find the best probable path.\n",
        "    \n",
        "    Args:\n",
        "        pi: Initial probabilities.\n",
        "        a: Transition probabilities.\n",
        "        b: Emission probabilities.\n",
        "        obs: List of observations.\n",
        "        \n",
        "    Returns:\n",
        "        np.array: Array of the indices of the best hidden states.\n",
        "    \"\"\"\n",
        "    # Initialize the dynamic programming table (dp) with zeros\n",
        "    # The table has N rows (number of hidden states) and T columns (number of observations)\n",
        "    T = len(obs)\n",
        "    N = a.shape[0]\n",
        "    dp = np.zeros((N, T))\n",
        "\n",
        "    # Initialize the backpointers table to store the most probable previous states\n",
        "    backpointers = np.zeros((N, T), dtype=int)\n",
        "\n",
        "    # Initialize the first column of the DP table by multiplying the initial probabilities (pi)\n",
        "    # with the emission probabilities for the first observation (obs[0])\n",
        "    dp[:, 0] = pi * b[:, obs[0]]\n",
        "\n",
        "    # Iterate through the observations (from the second observation to the last one)\n",
        "    for t in range(1, T):\n",
        "        # Iterate through each hidden state\n",
        "        for s in range(N):\n",
        "            # For each hidden state, calculate the maximum probability by considering\n",
        "            # the probability of the previous state (dp[prev_s, t-1]), the transition\n",
        "            # probability from the previous state to the current state (a[prev_s, s]),\n",
        "            # and the emission probability of the current observation (b[s, obs[t]])\n",
        "            max_prob, max_state = max((dp[prev_s, t-1] * a[prev_s, s] * b[s, obs[t]], prev_s) for prev_s in range(N))\n",
        "            \n",
        "            # Store the maximum probability in the corresponding cell of the DP table (dp[s, t])\n",
        "            dp[s, t] = max_prob\n",
        "            \n",
        "            # Store the index of the previous state that led to the maximum probability\n",
        "            # in the backpointers table (backpointers[s, t])\n",
        "            backpointers[s, t] = max_state\n",
        "\n",
        "    # After filling the DP table, find the index of the final hidden state with the highest probability\n",
        "    final_state = np.argmax(dp[:, -1])\n",
        "\n",
        "    # Backtrack through the backpointers table to find the best hidden state sequence\n",
        "    # Start with the final state found above and add it to the best_path list\n",
        "    best_path = [final_state]\n",
        "\n",
        "    # Iterate backward through the backpointers table, starting from the last observation (T-1)\n",
        "    # and going to the first observation (1)\n",
        "    for t in range(T-1, 0, -1):\n",
        "        # For each observation, find the most probable previous state that led to the current state\n",
        "        # (backpointers[best_path[-1], t]) and add it to the best_path list\n",
        "        best_path.append(backpointers[best_path[-1], t])\n",
        "        \n",
        "    # The best_path list is currently in reverse order, so reverse it to get the correct order\n",
        "    best_path = best_path[::-1]\n",
        "\n",
        "    # Convert the best_path list to a numpy array and return it\n",
        "    return np.array(best_path)"
      ]
    },
    {
      "cell_type": "markdown",
      "source": [
        "#### We test the viterbi algorithm and compare it with the hmmlearn implementation"
      ],
      "metadata": {
        "id": "XJjZygPXvgqZ"
      }
    },
    {
      "cell_type": "code",
      "source": [
        "# Prepare input data for Viterbi function\n",
        "# We start by defining a sample sentence as a list of words\n",
        "sample_sentence = [\"You\", \"are\", \"not\", \"me\"]\n",
        "\n",
        "# Next, we convert each word in the sample_sentence to its corresponding index (ID) using the word2id dictionary\n",
        "# If the word is not in the word2id dictionary (unknown word), we use the index for 'UNKNOWN'\n",
        "sample_indices = [word2id.get(word, word2id['UNKNOWN']) for word in sample_sentence]\n",
        "\n",
        "# Convert the sample_indices into a 2D array for compatibility with hmmlearn's predict method\n",
        "sample_indices_2d = np.array([sample_indices])\n",
        "\n",
        "# Call Viterbi function and hmmlearn implementation with the same input data and compare results\n",
        "viterbi_result = Viterbi(model.startprob_, model.transmat_, model.emissionprob_, sample_indices)\n",
        "hmmlearn_result = model.predict(sample_indices_2d, [len(sample_indices_2d)])\n",
        "\n",
        "\n",
        "\n",
        "print(\"Custom Viterbi result:\", viterbi_result)\n",
        "print(\"hmmlearn result:\", hmmlearn_result)"
      ],
      "metadata": {
        "colab": {
          "base_uri": "https://localhost:8080/"
        },
        "id": "ST3W2IbeveJk",
        "outputId": "3aa88f61-a98e-4062-e79c-6e0c660a177b"
      },
      "execution_count": 21,
      "outputs": [
        {
          "output_type": "stream",
          "name": "stdout",
          "text": [
            "Custom Viterbi result: [ 5 12 25  2]\n",
            "hmmlearn result: [ 5 12 25  2]\n"
          ]
        }
      ]
    },
    {
      "cell_type": "markdown",
      "metadata": {
        "id": "lnHjHcLJ4Kz1"
      },
      "source": [
        "### Task 3: Let's try to form our own HMM\n",
        "In this task you will try to formulate your own HMM. Image a toy example that you think that closely relates to a Hidden Markov Model.\n",
        "\n",
        "Steps:\n",
        " 1. Define your hidden states\n",
        " 2. Define your observable states\n",
        " 3. Randomly generate your observations\n",
        "\n",
        "Below is an example to demonstrate:\n",
        "\n",
        "-In this toy HMM example, we have two hidden states 'healthy' and 'sick' these states relate to the state of a pet. In this example we cannot exactly know the situation of the pet if it is 'healthy' or 'sick'\n",
        "\n",
        "-The observable states in this formulation is the what our pet is doing, whether it is sleeping, eating or pooping. We ideally want to determine if the pet is sick or not using these observable states\n",
        "\n",
        "\n",
        "```python\n",
        "hidden_states = ['healthy', 'sick']\n",
        "observable_states = ['sleeping', 'eating', 'pooping']\n",
        "observations = []\n",
        "for i in range(100):\n",
        "  observations.append(random.choice(observable_states))\n",
        "```"
      ]
    },
    {
      "cell_type": "markdown",
      "metadata": {
        "id": "Q2WAl5Pw7Oud"
      },
      "source": [
        "###TASK 3: Now try to formulate your HMM here."
      ]
    },
    {
      "cell_type": "markdown",
      "source": [
        "####**Our example :**\n",
        "Our HMM example is related to video games, we will attempt to determine the hidden state of a player based on their observable actions within the game\n",
        "\n",
        "####**Hidden states :**\n",
        "In this example, we have two hidden states for a  player : **\"beginner\"** and **\"expert\"**. These states represent thbe player's skill level. We cannot directly know the player's skill level, but we can try to deduce it from their actions in the game.\n",
        "\n",
        "####**Observable states :**\n",
        "The observable states in this formulation are the actions the player performs in the game, such as **\"attack\"**, **\"defend\"**, and **\"use item\"**. We ideally want to determine the player's skill level based on these observable states."
      ],
      "metadata": {
        "id": "52tvnux8oiOo"
      }
    },
    {
      "cell_type": "code",
      "source": [
        "import random\n",
        "\n",
        "# Define the hidden states representing the player's skill level\n",
        "hidden_states_own_HMM = ['beginner', 'expert']\n",
        "\n",
        "# Define the observable states representing the actions performed by the player in the game\n",
        "observable_states_own_HMM = ['attack', 'defend', 'use item']\n",
        "\n",
        "# Generate a list of 100 random observations from the observable states\n",
        "observations_own_HMM = []\n",
        "for i in range(100):\n",
        "  observations_own_HMM.append(random.choice(observable_states_own_HMM))\n",
        "\n",
        "print(observations_own_HMM)"
      ],
      "metadata": {
        "colab": {
          "base_uri": "https://localhost:8080/"
        },
        "id": "Dv5h9_HFs1i6",
        "outputId": "a300e815-78a7-4fcf-cb77-2c24e9c38a88"
      },
      "execution_count": 23,
      "outputs": [
        {
          "output_type": "stream",
          "name": "stdout",
          "text": [
            "['attack', 'use item', 'attack', 'defend', 'use item', 'defend', 'use item', 'defend', 'use item', 'attack', 'defend', 'use item', 'attack', 'use item', 'attack', 'attack', 'attack', 'defend', 'attack', 'use item', 'use item', 'use item', 'defend', 'attack', 'use item', 'defend', 'defend', 'attack', 'defend', 'use item', 'use item', 'defend', 'use item', 'defend', 'attack', 'attack', 'attack', 'defend', 'attack', 'use item', 'attack', 'defend', 'attack', 'use item', 'defend', 'use item', 'use item', 'defend', 'use item', 'defend', 'attack', 'use item', 'use item', 'attack', 'attack', 'defend', 'defend', 'attack', 'attack', 'attack', 'use item', 'attack', 'use item', 'attack', 'attack', 'use item', 'use item', 'defend', 'attack', 'defend', 'defend', 'attack', 'use item', 'defend', 'defend', 'attack', 'attack', 'use item', 'attack', 'attack', 'attack', 'use item', 'attack', 'use item', 'defend', 'use item', 'use item', 'attack', 'defend', 'use item', 'use item', 'defend', 'defend', 'attack', 'defend', 'attack', 'defend', 'attack', 'use item', 'defend']\n"
          ]
        }
      ]
    },
    {
      "cell_type": "markdown",
      "metadata": {
        "id": "eWCJyGjS7hKp"
      },
      "source": [
        "Even tough we have generated the data randomly, for the learning purposes, let's try to learn an HMM from this data. For this we have to construct the Baum-Welch algorithm from scratch. Below is the skeleton of the Baum-Welch learning algorithm.\n",
        "\n",
        "## TASK 4: Complete the forward and backward probs functions in the Baum-Welch algorithm and try it with your formulated HMM."
      ]
    },
    {
      "cell_type": "code",
      "execution_count": 25,
      "metadata": {
        "id": "v6mJpFUg7K2V",
        "pycharm": {
          "is_executing": true
        },
        "colab": {
          "base_uri": "https://localhost:8080/"
        },
        "outputId": "914f8d8e-14ee-4c24-d744-7cca256f218f"
      },
      "outputs": [
        {
          "output_type": "stream",
          "name": "stderr",
          "text": [
            "100%|██████████| 2000/2000 [00:10<00:00, 187.65it/s]"
          ]
        },
        {
          "output_type": "stream",
          "name": "stdout",
          "text": [
            "[[0.5 0.5]\n",
            " [0.5 0.5]]\n",
            "[[0.28 0.35 0.37]\n",
            " [0.28 0.35 0.37]]\n"
          ]
        },
        {
          "output_type": "stream",
          "name": "stderr",
          "text": [
            "\n"
          ]
        }
      ],
      "source": [
        "import numpy as np\n",
        "\n",
        "\n",
        "def baum_welch(observations, observations_vocab, n_hidden_states):\n",
        "    \"\"\"\n",
        "    Baum-Welch algorithm for estimating the HMM parameters\n",
        "    :param observations: observations\n",
        "    :param observations_vocab: observations vocabulary\n",
        "    :param n_hidden_states: number of hidden states to estimate\n",
        "    :return: a, b (transition matrix and emission matrix)\n",
        "    \"\"\"\n",
        "\n",
        "    def forward_probs(observations, observations_vocab, n_hidden_states, a_, b_) -> np.array:\n",
        "        \"\"\"\n",
        "        forward pass to calculate alpha\n",
        "        :param observations: observations\n",
        "        :param observations_vocab: observation vocabulary\n",
        "        :param n_hidden_states: number of hidden states\n",
        "        :param a_: estimated alpha\n",
        "        :param b_: estimated beta\n",
        "        :return: refined alpha_\n",
        "        \"\"\"\n",
        "\n",
        "        # Calculate the start probability\n",
        "        a_start = 1 / n_hidden_states\n",
        "\n",
        "        # Initialize alpha with zeros\n",
        "        alpha_ = np.zeros((n_hidden_states, len(observations)), dtype=float)\n",
        "\n",
        "        # Initialize the first column of alpha with the initial probabilities\n",
        "        alpha_[:, 0] = a_start * b_[:, observations[0]]\n",
        "\n",
        "        # Calculate alpha for the rest of the observations\n",
        "        for t in range(1, len(observations)):\n",
        "          # Iterate through each time step in the observations sequence, starting from the second time step (t = 1)\n",
        "          for j in range(n_hidden_states):\n",
        "            # Iterate through each hidden state\n",
        "\n",
        "            # Calculate the sum of probabilities for each hidden state at time t-1, multiplied by the transition probabilities\n",
        "            # from the previous hidden state to the current hidden state (j)\n",
        "            proba_sum = sum(alpha_[:, t-1] * a_[:, j])\n",
        "\n",
        "            # Update alpha with the calculated probability, multiplied by the emission probability\n",
        "            # of observing the current observation (observations[t]) given the current hidden state (j)\n",
        "            alpha_[j, t] = proba_sum * b_[j, observations[t]]\n",
        " \n",
        "        # Return the alpha\n",
        "        return alpha_\n",
        "\n",
        "    def backward_probs(observations, observations_vocab, n_hidden_states, a_, b_) -> np.array:\n",
        "        \"\"\"\n",
        "        backward pass to calculate alpha\n",
        "        :param observations: observations\n",
        "        :param observations_vocab: observation vocabulary\n",
        "        :param n_hidden_states: number of hidden states\n",
        "        :param a_: estimated alpha\n",
        "        :param b_: estimated beta\n",
        "        :return: refined beta_\n",
        "        \"\"\"\n",
        "\n",
        "        # Initialize beta with zeros\n",
        "        beta_ = np.zeros((n_hidden_states, len(observations)), dtype=float)\n",
        "\n",
        "        # Set the last column of beta to 1 (Initialisation)\n",
        "        beta_[:, -1:] = 1\n",
        "\n",
        "        # Calculate beta for the rest of the observations\n",
        "        for t in range(len(observations) -2, -1, -1):\n",
        "          # The -2 : Start from the second to last observation, as the last one is already initialized\n",
        "          # The -1 : Iterate until index 0 (inclusive)\n",
        "          # The -1 : Iterate in reverse order (from the end to the beginning)\n",
        "          for i in range(n_hidden_states):\n",
        "            # Calculate the sum of probabilities for each hidden state\n",
        "            proba_sum = sum(a_[i, :] * b_[:, observations[t + 1]] * beta_[:, t + 1])\n",
        "            # Update beta with the calculated probability\n",
        "            beta_[i, t] = proba_sum\n",
        "\n",
        "        # We return the beta_\n",
        "        return beta_\n",
        "\n",
        "    def compute_gamma(alfa, beta, observations, vocab, n_samples, a_, b_) -> np.array:\n",
        "        \"\"\"\n",
        "\n",
        "        :param alfa:\n",
        "        :param beta:\n",
        "        :param observations:\n",
        "        :param vocab:\n",
        "        :param n_samples:\n",
        "        :param a_:\n",
        "        :param b_:\n",
        "        :return:\n",
        "        \"\"\"\n",
        "        # gamma_prob = np.zeros(n_samples, len(observations))\n",
        "        gamma_prob = np.multiply(alfa, beta) / sum(np.multiply(alfa, beta))\n",
        "        return gamma_prob\n",
        "\n",
        "    def compute_sigma(alfa, beta, observations, vocab, n_samples, a_, b_) -> np.array:\n",
        "        \"\"\"\n",
        "\n",
        "        :param alfa:\n",
        "        :param beta:\n",
        "        :param observations:\n",
        "        :param vocab:\n",
        "        :param n_samples:\n",
        "        :param a_:\n",
        "        :param b_:\n",
        "        :return:\n",
        "        \"\"\"\n",
        "        sigma_prob = np.zeros((n_samples, len(observations) - 1, n_samples), dtype=float)\n",
        "        denomenator = np.multiply(alfa, beta)\n",
        "        for i in range(len(observations) - 1):\n",
        "            for j in range(n_samples):\n",
        "                for k in range(n_samples):\n",
        "                    index_in_vocab = np.where(vocab == observations[i + 1])[0][0]\n",
        "                    sigma_prob[j, i, k] = (alfa[j, i] * beta[k, i + 1] * a_[j, k] * b_[k, index_in_vocab]) / sum(\n",
        "                        denomenator[:, j])\n",
        "        return sigma_prob\n",
        "\n",
        "    # initialize A ,B\n",
        "    a = np.ones((n_hidden_states, n_hidden_states)) / n_hidden_states\n",
        "    b = np.ones((n_hidden_states, len(observations_vocab))) / len(observations_vocab)\n",
        "    for iter in tqdm(range(2000), position=0, leave=True):\n",
        "\n",
        "        # E-step caclculating sigma and gamma\n",
        "        alfa_prob = forward_probs(observations, observations_vocab, n_hidden_states, a, b)  #\n",
        "        beta_prob = backward_probs(observations, observations_vocab, n_hidden_states, a, b)  # , beta_val\n",
        "        gamma_prob = compute_gamma(alfa_prob, beta_prob, observations, observations_vocab, n_hidden_states, a, b)\n",
        "        sigma_prob = compute_sigma(alfa_prob, beta_prob, observations, observations_vocab, n_hidden_states, a, b)\n",
        "\n",
        "        # M-step caclculating A, B matrices\n",
        "        a_model = np.zeros((n_hidden_states, n_hidden_states))\n",
        "        for j in range(n_hidden_states):  # calculate A-model\n",
        "            for i in range(n_hidden_states):\n",
        "                for t in range(len(observations) - 1):\n",
        "                    a_model[j, i] = a_model[j, i] + sigma_prob[j, t, i]\n",
        "                normalize_a = [sigma_prob[j, t_current, i_current] for t_current in range(len(observations) - 1) for\n",
        "                               i_current in range(n_hidden_states)]\n",
        "                normalize_a = sum(normalize_a)\n",
        "                if normalize_a == 0:\n",
        "                    a_model[j, i] = 0\n",
        "                else:\n",
        "                    a_model[j, i] = a_model[j, i] / normalize_a\n",
        "\n",
        "        b_model = np.zeros((n_hidden_states, len(observations_vocab)))\n",
        "\n",
        "        for j in range(n_hidden_states):\n",
        "            for i in range(len(observations_vocab)):\n",
        "                indices = [idx for idx, val in enumerate(observations) if val == observations_vocab[i]]\n",
        "                numerator_b = sum(gamma_prob[j, indices])\n",
        "                denominator_b = sum(gamma_prob[j, :])\n",
        "                if denominator_b == 0:\n",
        "                    b_model[j, i] = 0\n",
        "                else:\n",
        "                    b_model[j, i] = numerator_b / denominator_b\n",
        "\n",
        "        a = a_model\n",
        "        b = b_model\n",
        "    return a, b\n",
        "\n",
        "\n",
        "import random\n",
        "\n",
        "hidden_states = ['healthy', 'sick']\n",
        "observable_states = ['sleeping', 'eating', 'pooping']\n",
        "observable_map = {'sleeping': 0, 'eating': 1, 'pooping': 2}\n",
        "observations = []\n",
        "for i in range(100):\n",
        "    observations.append(observable_map[random.choice(observable_states)])\n",
        "\n",
        "A, B = baum_welch(observations=observations, observations_vocab=np.array(list(observable_map.values())),\n",
        "                  n_hidden_states=2)\n",
        "\n",
        "print(A)\n",
        "print(B)\n"
      ]
    },
    {
      "cell_type": "code",
      "execution_count": 27,
      "metadata": {
        "id": "SJzrpdwJEf0c",
        "colab": {
          "base_uri": "https://localhost:8080/"
        },
        "outputId": "ee7c7dd3-1f6e-48a7-fd54-2005b719f444"
      },
      "outputs": [
        {
          "output_type": "stream",
          "name": "stdout",
          "text": [
            "[0, 1, 1, 0, 2, 0, 2, 1, 2, 1, 2, 0, 2, 0, 1, 1, 1, 0, 0, 1, 1, 0, 2, 0, 0, 0, 1, 2, 0, 2, 0, 0, 1, 0, 1, 0, 0, 0, 0, 2, 1, 1, 2, 1, 1, 0, 0, 1, 0, 0, 2, 2, 0, 2, 2, 2, 1, 1, 1, 0, 1, 0, 1, 2, 2, 1, 2, 2, 0, 0, 2, 0, 1, 1, 1, 1, 1, 0, 2, 1, 1, 1, 1, 2, 2, 2, 0, 1, 1, 0, 2, 0, 2, 2, 2, 0, 0, 0, 0, 2]\n"
          ]
        },
        {
          "output_type": "stream",
          "name": "stderr",
          "text": [
            "100%|██████████| 2000/2000 [00:10<00:00, 184.02it/s]"
          ]
        },
        {
          "output_type": "stream",
          "name": "stdout",
          "text": [
            "[[0.5 0.5]\n",
            " [0.5 0.5]]\n",
            "[[0.37 0.34 0.29]\n",
            " [0.37 0.34 0.29]]\n"
          ]
        },
        {
          "output_type": "stream",
          "name": "stderr",
          "text": [
            "\n"
          ]
        }
      ],
      "source": [
        "#TASK 4: Now try it with your HMM\n",
        "\n",
        "import random\n",
        "\n",
        "# Define the hidden states representing the player's skill level\n",
        "hidden_states_own_HMM = ['beginner', 'expert']\n",
        "\n",
        "# Define the observable states representing the actions performed by the player in the game\n",
        "observable_states_own_HMM = ['attack', 'defend', 'use item']\n",
        "\n",
        "# Define the map of the observable state\n",
        "observable_map_own_HMM = {'attack': 0, 'defend': 1, 'use item': 2}\n",
        "\n",
        "# Generate a list of 100 random observations from the observable states\n",
        "observations_own_HMM = []\n",
        "for i in range(100):\n",
        "  observations_own_HMM.append(observable_map_own_HMM[random.choice(observable_states_own_HMM)])\n",
        "\n",
        "print(observations_own_HMM)\n",
        "\n",
        "\n",
        "A, B = baum_welch(observations=observations_own_HMM, observations_vocab=np.array(list(observable_map_own_HMM.values())),\n",
        "                  n_hidden_states=2)\n",
        "\n",
        "print(A)\n",
        "print(B)"
      ]
    }
  ],
  "metadata": {
    "colab": {
      "provenance": []
    },
    "kernelspec": {
      "display_name": "Python 3 (ipykernel)",
      "language": "python",
      "name": "python3"
    },
    "language_info": {
      "codemirror_mode": {
        "name": "ipython",
        "version": 3
      },
      "file_extension": ".py",
      "mimetype": "text/x-python",
      "name": "python",
      "nbconvert_exporter": "python",
      "pygments_lexer": "ipython3",
      "version": "3.9.7"
    }
  },
  "nbformat": 4,
  "nbformat_minor": 0
}