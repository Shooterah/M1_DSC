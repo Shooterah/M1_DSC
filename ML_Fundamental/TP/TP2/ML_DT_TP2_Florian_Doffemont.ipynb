{
 "cells": [
  {
   "cell_type": "markdown",
   "metadata": {
    "lang": "en"
   },
   "source": [
    "# ML Fondamentals - MLDM & DSC first year Master\n",
    "# Decision Trees\n",
    "\n",
    "The Scikit-Learn documentation on Decision Trees can be found here: http://scikit-learn.org/stable/modules/tree.html\n",
    "\n",
    "In this lab, we are going to use 2 classic datasets, coming from the [UCI](https://archive.ics.uci.edu/ml/index.php) databases."
   ]
  },
  {
   "cell_type": "markdown",
   "metadata": {
    "lang": "en"
   },
   "source": [
    "## Car data\n",
    "In this dataset, it is a question of the acceptability of cars according to 6 criteria (so our data is in dimension 6, to which is added a seventh corresponding to the class).\n",
    "\n",
    "The 1726 data are sorted into 4 classes: not acceptable (*unacc*), acceptable (*acc*), good (*good*), very good (*vgood*). For more details, the web page describing the data can be found [here](https://archive.ics.uci.edu/ml/datasets/Car+Evaluation).\n",
    "### Data recovery and preparation\n",
    "\n",
    "We first need to retrieve the data - available in the form of a .csv - (a line in a notebook starting with '!' authorizes the use of any shell command):"
   ]
  },
  {
   "cell_type": "code",
   "execution_count": 26,
   "metadata": {
    "colab": {
     "base_uri": "https://localhost:8080/",
     "height": 208
    },
    "colab_type": "code",
    "id": "nB9YYWKE06bm",
    "outputId": "1e419329-492e-4e38-ecea-19efdef7aa31"
   },
   "outputs": [
    {
     "name": "stderr",
     "output_type": "stream",
     "text": [
      "'wget' n'est pas reconnu en tant que commande interne\n",
      "ou externe, un programme ex‚cutable ou un fichier de commandes.\n"
     ]
    }
   ],
   "source": [
    "! wget https://archive.ics.uci.edu/ml/machine-learning-databases/car/car.data \n",
    "    #only for linux (and apple?) users... The others have to see how to download the data and store it in this folder"
   ]
  },
  {
   "cell_type": "markdown",
   "metadata": {
    "lang": "en"
   },
   "source": [
    "The data is structured this way:\n",
    "- one data per line\n",
    "- each line is composed of the respective values for each attribute, separated by commas\n",
    "- the last value is the class"
   ]
  },
  {
   "cell_type": "code",
   "execution_count": 27,
   "metadata": {
    "colab": {
     "base_uri": "https://localhost:8080/",
     "height": 30027
    },
    "colab_type": "code",
    "id": "MOelfhNt06b6",
    "outputId": "e90ad114-acc4-4fb8-f42a-31f6f9e87320"
   },
   "outputs": [
    {
     "data": {
      "text/html": [
       "<div>\n",
       "<style scoped>\n",
       "    .dataframe tbody tr th:only-of-type {\n",
       "        vertical-align: middle;\n",
       "    }\n",
       "\n",
       "    .dataframe tbody tr th {\n",
       "        vertical-align: top;\n",
       "    }\n",
       "\n",
       "    .dataframe thead th {\n",
       "        text-align: right;\n",
       "    }\n",
       "</style>\n",
       "<table border=\"1\" class=\"dataframe\">\n",
       "  <thead>\n",
       "    <tr style=\"text-align: right;\">\n",
       "      <th></th>\n",
       "      <th>vhigh</th>\n",
       "      <th>vhigh.1</th>\n",
       "      <th>2</th>\n",
       "      <th>2.1</th>\n",
       "      <th>small</th>\n",
       "      <th>low</th>\n",
       "      <th>unacc</th>\n",
       "    </tr>\n",
       "  </thead>\n",
       "  <tbody>\n",
       "    <tr>\n",
       "      <th>0</th>\n",
       "      <td>vhigh</td>\n",
       "      <td>vhigh</td>\n",
       "      <td>2</td>\n",
       "      <td>2</td>\n",
       "      <td>small</td>\n",
       "      <td>med</td>\n",
       "      <td>unacc</td>\n",
       "    </tr>\n",
       "    <tr>\n",
       "      <th>1</th>\n",
       "      <td>vhigh</td>\n",
       "      <td>vhigh</td>\n",
       "      <td>2</td>\n",
       "      <td>2</td>\n",
       "      <td>small</td>\n",
       "      <td>high</td>\n",
       "      <td>unacc</td>\n",
       "    </tr>\n",
       "    <tr>\n",
       "      <th>2</th>\n",
       "      <td>vhigh</td>\n",
       "      <td>vhigh</td>\n",
       "      <td>2</td>\n",
       "      <td>2</td>\n",
       "      <td>med</td>\n",
       "      <td>low</td>\n",
       "      <td>unacc</td>\n",
       "    </tr>\n",
       "    <tr>\n",
       "      <th>3</th>\n",
       "      <td>vhigh</td>\n",
       "      <td>vhigh</td>\n",
       "      <td>2</td>\n",
       "      <td>2</td>\n",
       "      <td>med</td>\n",
       "      <td>med</td>\n",
       "      <td>unacc</td>\n",
       "    </tr>\n",
       "    <tr>\n",
       "      <th>4</th>\n",
       "      <td>vhigh</td>\n",
       "      <td>vhigh</td>\n",
       "      <td>2</td>\n",
       "      <td>2</td>\n",
       "      <td>med</td>\n",
       "      <td>high</td>\n",
       "      <td>unacc</td>\n",
       "    </tr>\n",
       "    <tr>\n",
       "      <th>...</th>\n",
       "      <td>...</td>\n",
       "      <td>...</td>\n",
       "      <td>...</td>\n",
       "      <td>...</td>\n",
       "      <td>...</td>\n",
       "      <td>...</td>\n",
       "      <td>...</td>\n",
       "    </tr>\n",
       "    <tr>\n",
       "      <th>1722</th>\n",
       "      <td>low</td>\n",
       "      <td>low</td>\n",
       "      <td>5more</td>\n",
       "      <td>more</td>\n",
       "      <td>med</td>\n",
       "      <td>med</td>\n",
       "      <td>good</td>\n",
       "    </tr>\n",
       "    <tr>\n",
       "      <th>1723</th>\n",
       "      <td>low</td>\n",
       "      <td>low</td>\n",
       "      <td>5more</td>\n",
       "      <td>more</td>\n",
       "      <td>med</td>\n",
       "      <td>high</td>\n",
       "      <td>vgood</td>\n",
       "    </tr>\n",
       "    <tr>\n",
       "      <th>1724</th>\n",
       "      <td>low</td>\n",
       "      <td>low</td>\n",
       "      <td>5more</td>\n",
       "      <td>more</td>\n",
       "      <td>big</td>\n",
       "      <td>low</td>\n",
       "      <td>unacc</td>\n",
       "    </tr>\n",
       "    <tr>\n",
       "      <th>1725</th>\n",
       "      <td>low</td>\n",
       "      <td>low</td>\n",
       "      <td>5more</td>\n",
       "      <td>more</td>\n",
       "      <td>big</td>\n",
       "      <td>med</td>\n",
       "      <td>good</td>\n",
       "    </tr>\n",
       "    <tr>\n",
       "      <th>1726</th>\n",
       "      <td>low</td>\n",
       "      <td>low</td>\n",
       "      <td>5more</td>\n",
       "      <td>more</td>\n",
       "      <td>big</td>\n",
       "      <td>high</td>\n",
       "      <td>vgood</td>\n",
       "    </tr>\n",
       "  </tbody>\n",
       "</table>\n",
       "<p>1727 rows × 7 columns</p>\n",
       "</div>"
      ],
      "text/plain": [
       "      vhigh vhigh.1      2   2.1  small   low  unacc\n",
       "0     vhigh   vhigh      2     2  small   med  unacc\n",
       "1     vhigh   vhigh      2     2  small  high  unacc\n",
       "2     vhigh   vhigh      2     2    med   low  unacc\n",
       "3     vhigh   vhigh      2     2    med   med  unacc\n",
       "4     vhigh   vhigh      2     2    med  high  unacc\n",
       "...     ...     ...    ...   ...    ...   ...    ...\n",
       "1722    low     low  5more  more    med   med   good\n",
       "1723    low     low  5more  more    med  high  vgood\n",
       "1724    low     low  5more  more    big   low  unacc\n",
       "1725    low     low  5more  more    big   med   good\n",
       "1726    low     low  5more  more    big  high  vgood\n",
       "\n",
       "[1727 rows x 7 columns]"
      ]
     },
     "execution_count": 27,
     "metadata": {},
     "output_type": "execute_result"
    }
   ],
   "source": [
    "import pandas as pd\n",
    "df = pd.read_csv(\"car.data\")\n",
    "df     # with this command you can see your file\n"
   ]
  },
  {
   "cell_type": "markdown",
   "metadata": {
    "colab_type": "text",
    "id": "VjOwOGel06cI",
    "lang": "fr"
   },
   "source": [
    "Avant de commencer, on peut analyser les données en regardant leurs caractéristiques :\n",
    "\n",
    "<p>Nombre d'attribus: 6</p>\n",
    "<p>Valeurs d'attribut manquantes : aucune</p>\n",
    "<table>\n",
    "<thead>\n",
    "<tr>\n",
    "<th>Attribut</th>\n",
    "<th>Valeurs</th>\n",
    "</tr>\n",
    "</thead>\n",
    "<tbody>\n",
    "<tr>\n",
    "<td>buying</td>\n",
    "<td>v-high, high, med, low</td>\n",
    "</tr>\n",
    "<tr>\n",
    "<td>maint</td>\n",
    "<td>v-high, high, med, low</td>\n",
    "</tr>\n",
    "<tr>\n",
    "<td>doors</td>\n",
    "<td>2, 3, 4, 5-more</td>\n",
    "</tr>\n",
    "<tr>\n",
    "<td>persons</td>\n",
    "<td>2, 4, more</td>\n",
    "</tr>\n",
    "<tr>\n",
    "<td>lug_boot</td>\n",
    "<td>small, med, big</td>\n",
    "</tr>\n",
    "<tr>\n",
    "<td>safety</td>\n",
    "<td>low, med, high</td>\n",
    "</tr>\n",
    "</tbody>\n",
    "</table>\n",
    "\n",
    "<p>Nombre de données : 1728 </p>\n",
    "<table>\n",
    "<thead>\n",
    "<tr>\n",
    "<th>classe</th>\n",
    "<th>Nombre</th>\n",
    "<th>Nombre[%]</th>\n",
    "</tr>\n",
    "</thead>\n",
    "<tbody>\n",
    "<tr>\n",
    "<td>unacc</td>\n",
    "<td>1210</td>\n",
    "<td>70.023 %</td>\n",
    "</tr>\n",
    "<tr>\n",
    "<td>acc</td>\n",
    "<td>384</td>\n",
    "<td>22.222 %</td>\n",
    "</tr>\n",
    "<tr>\n",
    "<td>good</td>\n",
    "<td>69</td>\n",
    "<td>3.993 %</td>\n",
    "</tr>\n",
    "<tr>\n",
    "<td>v-good</td>\n",
    "<td>65</td>\n",
    "<td>3.762 %</td>\n",
    "</tr>\n",
    "</table>\n",
    "<p>Nous avons donc des données très déséquilibrées au niveau des classes.</p>\n",
    "<p>Pour pouvoir travailler avec, il nous faut commencer par mettre les données dans un format utile à scikit-learn :</p>"
   ]
  },
  {
   "cell_type": "markdown",
   "metadata": {
    "lang": "en"
   },
   "source": [
    "Before starting, we can analyze the data by looking at their characteristics:\n",
    "\n",
    "<p>Number of attributes: 6</p>\n",
    "<p>Missing values : aucune</p>\n",
    "<table>\n",
    "<thead>\n",
    "<tr>\n",
    "<th>Attribute</th>\n",
    "<th>Values</th>\n",
    "</tr>\n",
    "</thead>\n",
    "<tbody>\n",
    "<tr>\n",
    "<td>buying</td>\n",
    "<td>v-high, high, med, low</td>\n",
    "</tr>\n",
    "<tr>\n",
    "<td>maint</td>\n",
    "<td>v-high, high, med, low</td>\n",
    "</tr>\n",
    "<tr>\n",
    "<td>doors</td>\n",
    "undefined, 3, 4, 5-more</td>\n",
    "</tr>\n",
    "<tr>\n",
    "<td>persons</td>\n",
    "undefined, 4, more</td>\n",
    "</tr>\n",
    "<tr>\n",
    "<td>lug_boot</td>\n",
    "<td>small, med, big</td>\n",
    "</tr>\n",
    "<tr>\n",
    "<td>safety</td>\n",
    "<td>low, med, high</td>\n",
    "</tr>\n",
    "</tbody>\n",
    "</table>\n",
    "\n",
    "<p>Number of data : 1728 </p>\n",
    "<table>\n",
    "<thead>\n",
    "<tr>\n",
    "<th>class</th>\n",
    "<th>Number</th>\n",
    "<th>Number[%]</th>\n",
    "</tr>\n",
    "</thead>\n",
    "<tbody>\n",
    "<tr>\n",
    "<td>unacc</td>\n",
    "undefined</td>\n",
    "undefined.023 %</td>\n",
    "</tr>\n",
    "<tr>\n",
    "<td>acc</td>\n",
    "undefined</td>\n",
    "undefined.222 %</td>\n",
    "</tr>\n",
    "<tr>\n",
    "<td>good</td>\n",
    "undefined</td>\n",
    "undefined.993 %</td>\n",
    "</tr>\n",
    "<tr>\n",
    "<td>v-good</td>\n",
    "undefined</td>\n",
    "undefined.762 %</td>\n",
    "</tr>\n",
    "</table>\n",
    "<p>There exists thus a huge difference between classes.</p>\n",
    "<p>To use this dataset, we first need to transform it into a scikit-learn format:</p>"
   ]
  },
  {
   "cell_type": "code",
   "execution_count": 28,
   "metadata": {
    "colab": {},
    "colab_type": "code",
    "id": "-PzzRZM006cL"
   },
   "outputs": [
    {
     "data": {
      "text/plain": [
       "array([[3, 3, 0, 0, 2, 1],\n",
       "       [3, 3, 0, 0, 2, 2],\n",
       "       [3, 3, 0, 0, 2, 0],\n",
       "       ...,\n",
       "       [1, 1, 3, 2, 0, 1],\n",
       "       [1, 1, 3, 2, 0, 2],\n",
       "       [1, 1, 3, 2, 0, 0]])"
      ]
     },
     "execution_count": 28,
     "metadata": {},
     "output_type": "execute_result"
    }
   ],
   "source": [
    "import numpy as np\n",
    "\n",
    "nom_attributs = [\"buying\", \"maint\", \"doors\", \"persons\", \"lug_boot\", \"safety\"]\n",
    "# get data in strings format:\n",
    "donnees = np.genfromtxt(fname = \"car.data\", delimiter = ',', dtype=\"U\")\n",
    "X_string = donnees[:, :-1]\n",
    "\n",
    "# Transformation into float\n",
    "from sklearn.preprocessing import OrdinalEncoder\n",
    "codage = OrdinalEncoder()\n",
    "codage.fit(X_string)\n",
    "X = codage.transform(X_string)\n",
    "X = X.astype(int) #transform float into int\n",
    "X"
   ]
  },
  {
   "cell_type": "markdown",
   "metadata": {
    "lang": "en"
   },
   "source": [
    "**Q.** Do the same with the classes to obtain a vector *y* of integers."
   ]
  },
  {
   "cell_type": "code",
   "execution_count": 29,
   "metadata": {
    "colab": {},
    "colab_type": "code",
    "id": "-v3yMwfM06ce"
   },
   "outputs": [],
   "source": [
    "# your turn\n",
    "\n",
    "# Importation des données en format de chaînes de caractères:\n",
    "donnees = np.genfromtxt(fname = \"car.data\", delimiter = ',', dtype=\"U\")\n",
    "\n",
    "# Sélection de la dernière colonne, qui contient les labels:\n",
    "Y_string = donnees[:, -1]\n",
    "\n",
    "# Création d'un objet OrdinalEncoder pour codage des labels:\n",
    "codage = OrdinalEncoder()\n",
    "\n",
    "# Entraînement de l'encodeur sur les labels:\n",
    "codage.fit(Y_string.reshape(-1, 1))\n",
    "\n",
    "# Codage des labels en entiers:\n",
    "Y = codage.transform(Y_string.reshape(-1, 1))\n",
    "\n",
    "# Conversion des valeurs en entiers:\n",
    "y = Y.astype(int)"
   ]
  },
  {
   "cell_type": "markdown",
   "metadata": {
    "lang": "en"
   },
   "source": [
    "### Learning decision trees\n",
    "#### Pre-processing\n",
    "Now that they have a format acceptable to scikit-learn, we will split the data into a test set and a training set. Do you remember the train_test_split function?."
   ]
  },
  {
   "cell_type": "code",
   "execution_count": 30,
   "metadata": {
    "colab": {},
    "colab_type": "code",
    "id": "oJIWlvwd06cz"
   },
   "outputs": [],
   "source": [
    "# your turn\n",
    "\n",
    "# Import de la librairie\n",
    "from sklearn.model_selection import train_test_split\n",
    "\n",
    "# On split les données avec 75% d'ezntrainement et 25% de test\n",
    "X_train, X_test, y_train, y_test = train_test_split(X,y,test_size=0.25, random_state=42) "
   ]
  },
  {
   "cell_type": "markdown",
   "metadata": {
    "lang": "en"
   },
   "source": [
    "We will use the *sklearn.tree.DecisionTreeClassifier* class which contains everything needed for supervised classification using decision trees. You can find its documentation here: http://scikit-learn.org/stable/modules/generated/sklearn.tree.DecisionTreeClassifier.html\n",
    "\n",
    "To use without moderation !\n",
    "\n",
    "#### Learning\n",
    "Let's start by creating an instance of the class:"
   ]
  },
  {
   "cell_type": "code",
   "execution_count": 31,
   "metadata": {
    "colab": {},
    "colab_type": "code",
    "id": "MlKH5Ats06dJ"
   },
   "outputs": [],
   "source": [
    "from sklearn.tree import DecisionTreeClassifier\n",
    "clf = DecisionTreeClassifier(random_state=42)"
   ]
  },
  {
   "cell_type": "markdown",
   "metadata": {
    "lang": "en"
   },
   "source": [
    "Now that the classifier has been created, we need to train it on the data, i.e. perform the training:"
   ]
  },
  {
   "cell_type": "code",
   "execution_count": 32,
   "metadata": {
    "colab": {
     "base_uri": "https://localhost:8080/",
     "height": 121
    },
    "colab_type": "code",
    "id": "mVX-Dnkz06dT",
    "outputId": "31595f26-aed2-4cc8-d9e2-44f568a8fc17"
   },
   "outputs": [
    {
     "data": {
      "text/plain": [
       "DecisionTreeClassifier(random_state=42)"
      ]
     },
     "execution_count": 32,
     "metadata": {},
     "output_type": "execute_result"
    }
   ],
   "source": [
    "clf.fit(X_train,y_train)"
   ]
  },
  {
   "cell_type": "markdown",
   "metadata": {
    "lang": "en"
   },
   "source": [
    "Let's evaluate the performance on the test sample:"
   ]
  },
  {
   "cell_type": "code",
   "execution_count": 33,
   "metadata": {
    "colab": {
     "base_uri": "https://localhost:8080/",
     "height": 139
    },
    "colab_type": "code",
    "id": "2lYNjhkI06df",
    "outputId": "3ebb775e-d17c-4084-ee8d-5c5e9537e0a0"
   },
   "outputs": [
    {
     "name": "stdout",
     "output_type": "stream",
     "text": [
      "Accuracy (rate of correct classification) : 0.979167\n",
      "F-score global : 0.979167 \n",
      "F-score global (weighted) : 0.931971 \n",
      "F-score for the class 0 : 0.955224\n",
      "F-score for the class 1 : 0.800000\n",
      "F-score for the class 2 : 0.998302\n",
      "F-score for the class 3 : 0.974359\n"
     ]
    }
   ],
   "source": [
    "print(\"Accuracy (rate of correct classification) : %f\" %clf.score(X_test, y_test))\n",
    "\n",
    "# Calcul du F-score\n",
    "from sklearn.metrics import f1_score\n",
    "y_predits = clf.predict(X_test)\n",
    "print(\"F-score global : %f \" %f1_score(y_test, y_predits, average='micro'))\n",
    "print(\"F-score global (weighted) : %f \" %f1_score(y_test, y_predits, average='macro'))\n",
    "F_scores = f1_score(y_test, y_predits, average=None)\n",
    "for i in range(4):\n",
    "    print(\"F-score for the class %i : %f\" %(i, F_scores[i]))"
   ]
  },
  {
   "cell_type": "markdown",
   "metadata": {
    "lang": "en"
   },
   "source": [
    "It's not bad, right?\n",
    "\n",
    "#### Display\n",
    "The advantage of decision trees is that they offer a graphical representation. But to be able to display it, we will need to install 2 additional packages:"
   ]
  },
  {
   "cell_type": "code",
   "execution_count": 37,
   "metadata": {
    "colab": {
     "base_uri": "https://localhost:8080/",
     "height": 260
    },
    "colab_type": "code",
    "id": "oPAFPBmY06dq",
    "outputId": "6f3644bd-4d61-4bab-a6f5-6b46438e5e85"
   },
   "outputs": [
    {
     "name": "stdout",
     "output_type": "stream",
     "text": [
      "Requirement already satisfied: pydotplus in c:\\users\\flori\\appdata\\roaming\\python\\python39\\site-packages (2.0.2)\n",
      "Requirement already satisfied: pyparsing>=2.0.1 in c:\\users\\flori\\anaconda3\\lib\\site-packages (from pydotplus) (3.0.4)\n",
      "Requirement already satisfied: graphviz in c:\\users\\flori\\appdata\\roaming\\python\\python39\\site-packages (0.20.1)\n"
     ]
    }
   ],
   "source": [
    "!pip3 install pydotplus\n",
    "!pip3 install graphviz"
   ]
  },
  {
   "cell_type": "markdown",
   "metadata": {
    "lang": "en"
   },
   "source": [
    "We can then display the learned tree. As we will often need to display a tree, we create a function:"
   ]
  },
  {
   "cell_type": "code",
   "execution_count": 35,
   "metadata": {
    "colab": {
     "base_uri": "https://localhost:8080/",
     "height": 377
    },
    "colab_type": "code",
    "id": "9tnf1cW506eO",
    "outputId": "637ce508-dde4-43f3-b9bd-a96b4bfdfa7b"
   },
   "outputs": [
    {
     "ename": "ModuleNotFoundError",
     "evalue": "No module named 'pydotplus'",
     "output_type": "error",
     "traceback": [
      "\u001b[1;31m---------------------------------------------------------------------------\u001b[0m",
      "\u001b[1;31mModuleNotFoundError\u001b[0m                       Traceback (most recent call last)",
      "\u001b[1;32m~\\AppData\\Local\\Temp/ipykernel_16216/1456870567.py\u001b[0m in \u001b[0;36m<module>\u001b[1;34m\u001b[0m\n\u001b[1;32m----> 1\u001b[1;33m \u001b[1;32mimport\u001b[0m \u001b[0mpydotplus\u001b[0m\u001b[1;33m\u001b[0m\u001b[1;33m\u001b[0m\u001b[0m\n\u001b[0m\u001b[0;32m      2\u001b[0m \u001b[1;32mfrom\u001b[0m \u001b[0msklearn\u001b[0m\u001b[1;33m.\u001b[0m\u001b[0mtree\u001b[0m \u001b[1;32mimport\u001b[0m \u001b[0mexport_graphviz\u001b[0m\u001b[1;33m\u001b[0m\u001b[1;33m\u001b[0m\u001b[0m\n\u001b[0;32m      3\u001b[0m \u001b[1;32mfrom\u001b[0m \u001b[0mIPython\u001b[0m\u001b[1;33m.\u001b[0m\u001b[0mdisplay\u001b[0m \u001b[1;32mimport\u001b[0m \u001b[0mImage\u001b[0m\u001b[1;33m\u001b[0m\u001b[1;33m\u001b[0m\u001b[0m\n\u001b[0;32m      4\u001b[0m \u001b[1;33m\u001b[0m\u001b[0m\n\u001b[0;32m      5\u001b[0m \u001b[1;32mdef\u001b[0m \u001b[0maffiche_arbre\u001b[0m\u001b[1;33m(\u001b[0m\u001b[0mclassifieur\u001b[0m\u001b[1;33m,\u001b[0m \u001b[0mnom_attributs\u001b[0m\u001b[1;33m)\u001b[0m\u001b[1;33m:\u001b[0m\u001b[1;33m\u001b[0m\u001b[1;33m\u001b[0m\u001b[0m\n",
      "\u001b[1;31mModuleNotFoundError\u001b[0m: No module named 'pydotplus'"
     ]
    }
   ],
   "source": [
    "import pydotplus\n",
    "from sklearn.tree import export_graphviz\n",
    "from IPython.display import Image\n",
    "\n",
    "def affiche_arbre(classifieur, nom_attributs):\n",
    "    dot_data = export_graphviz(classifieur,\n",
    "                            feature_names=nom_attributs,\n",
    "                            out_file=None,\n",
    "                            filled=True,\n",
    "                            rounded=True)\n",
    "    return pydotplus.graph_from_dot_data(dot_data)\n",
    "\n",
    "# La bibliothèque ne marche pas chez moi pour aucune raison"
   ]
  },
  {
   "cell_type": "code",
   "execution_count": 38,
   "metadata": {
    "colab": {
     "base_uri": "https://localhost:8080/",
     "height": 429
    },
    "colab_type": "code",
    "id": "9v1R3FPZ06ej",
    "outputId": "26bb961b-aafe-46ee-8761-64d7ccaf74b7"
   },
   "outputs": [
    {
     "ename": "NameError",
     "evalue": "name 'affiche_arbre' is not defined",
     "output_type": "error",
     "traceback": [
      "\u001b[1;31m---------------------------------------------------------------------------\u001b[0m",
      "\u001b[1;31mNameError\u001b[0m                                 Traceback (most recent call last)",
      "\u001b[1;32m~\\AppData\\Local\\Temp/ipykernel_16216/1075724528.py\u001b[0m in \u001b[0;36m<module>\u001b[1;34m\u001b[0m\n\u001b[1;32m----> 1\u001b[1;33m \u001b[0mgraph\u001b[0m \u001b[1;33m=\u001b[0m \u001b[0maffiche_arbre\u001b[0m\u001b[1;33m(\u001b[0m\u001b[0mclf\u001b[0m\u001b[1;33m,\u001b[0m \u001b[0mnom_attributs\u001b[0m\u001b[1;33m)\u001b[0m\u001b[1;33m\u001b[0m\u001b[1;33m\u001b[0m\u001b[0m\n\u001b[0m\u001b[0;32m      2\u001b[0m \u001b[0mImage\u001b[0m\u001b[1;33m(\u001b[0m\u001b[0mgraph\u001b[0m\u001b[1;33m.\u001b[0m\u001b[0mcreate_png\u001b[0m\u001b[1;33m(\u001b[0m\u001b[1;33m)\u001b[0m\u001b[1;33m)\u001b[0m\u001b[1;33m\u001b[0m\u001b[1;33m\u001b[0m\u001b[0m\n",
      "\u001b[1;31mNameError\u001b[0m: name 'affiche_arbre' is not defined"
     ]
    }
   ],
   "source": [
    "graph = affiche_arbre(clf, nom_attributs) \n",
    "Image(graph.create_png())"
   ]
  },
  {
   "cell_type": "markdown",
   "metadata": {
    "lang": "en"
   },
   "source": [
    "## Cross Validation\n",
    "\n",
    "If you were curious, you may have already tried this:"
   ]
  },
  {
   "cell_type": "code",
   "execution_count": 39,
   "metadata": {
    "colab": {
     "base_uri": "https://localhost:8080/",
     "height": 121
    },
    "colab_type": "code",
    "id": "SrTk6Nyz06ex",
    "outputId": "8cc175d9-f653-45c2-dc1b-a130fde60fc6"
   },
   "outputs": [
    {
     "data": {
      "text/plain": [
       "DecisionTreeClassifier(random_state=42)"
      ]
     },
     "execution_count": 39,
     "metadata": {},
     "output_type": "execute_result"
    }
   ],
   "source": [
    "clf"
   ]
  },
  {
   "cell_type": "markdown",
   "metadata": {
    "lang": "en"
   },
   "source": [
    "So there are 13 initialization parameters for the classifier. We propose to study the impact of 3 of them on learning:\n",
    "- *criterion* which by default is 'gini' but can also be 'entropy'\n",
    "- *max_depth* which allows to prune the tree by stopping the recursive call of the learning algorithm when the current node is at this depth\n",
    "- *max_leaf_nodes* which also prunes the tree by keeping only this number of leaves (the purest ones, i.e. with the least data of different classes)\n",
    "\n",
    "The data on the cars being too simple to appreciate the power of the decision trees, we will use another one: the *digits*, already included into scikit-learn:"
   ]
  },
  {
   "cell_type": "code",
   "execution_count": 40,
   "metadata": {
    "colab": {},
    "colab_type": "code",
    "id": "QOzbGdDQ06fC"
   },
   "outputs": [],
   "source": [
    "from sklearn.datasets import load_digits  #importation de la commande\n",
    "digits = load_digits()\n",
    "X = digits.data\n",
    "y = digits.target"
   ]
  },
  {
   "cell_type": "markdown",
   "metadata": {
    "lang": "en"
   },
   "source": [
    "It's time to see if you've followed this far. You need to: set aside 30% for the test, create a classifier based on decision trees, learn it on the training data, calculate the rate of good classification, and the different variants of the F-score on the 10 digit classes using test data."
   ]
  },
  {
   "cell_type": "code",
   "execution_count": 44,
   "metadata": {
    "colab": {},
    "colab_type": "code",
    "id": "GM9JK9Gr06fV"
   },
   "outputs": [
    {
     "name": "stdout",
     "output_type": "stream",
     "text": [
      "Taux de classification correct : 0.85\n",
      "Score F1 par classe : [0.92156863 0.78787879 0.80434783 0.8        0.85245902 0.88549618\n",
      " 0.90909091 0.87037037 0.82352941 0.82758621]\n"
     ]
    }
   ],
   "source": [
    "# Your turn\n",
    "\n",
    "from sklearn.model_selection import train_test_split\n",
    "from sklearn.tree import DecisionTreeClassifier\n",
    "from sklearn.metrics import accuracy_score, f1_score, classification_report\n",
    "\n",
    "# Séparer les données en jeu d'entraînement et de test (30% de test)\n",
    "X_train, X_test, y_train, y_test = train_test_split(X, y, test_size=0.3, random_state=42)\n",
    "\n",
    "# Créer un classifieur basé sur les arbres de décision\n",
    "clf = DecisionTreeClassifier()\n",
    "\n",
    "# Apprentissage sur les données d'entraînement\n",
    "clf.fit(X_train, y_train)\n",
    "\n",
    "# Prédiction sur les données de test\n",
    "y_pred = clf.predict(X_test)\n",
    "\n",
    "# Calcule du taux de classification correct\n",
    "accuracy = accuracy_score(y_test, y_pred)\n",
    "print(\"Taux de classification correct :\", accuracy)\n",
    "\n",
    "# Calcule du score F1 pour chacune des classes (labels 1..9)\n",
    "f1 = f1_score(y_test, y_pred, average=None)\n",
    "print(\"Score F1 par classe :\", f1)"
   ]
  },
  {
   "cell_type": "markdown",
   "metadata": {
    "lang": "en"
   },
   "source": [
    "Now that we have measured the quality for the default values ​​of the hyperparameters, we will perform **cross-validation** on the training set (*train*). Once we have found the best parameters, we will train a tree on the complete training set with these parameters and we will evaluate the quality of this final training on the test set.\n",
    "\n",
    "We start by evaluating the impact of the test choice criterion (*criteriom*):"
   ]
  },
  {
   "cell_type": "code",
   "execution_count": 45,
   "metadata": {
    "colab": {
     "base_uri": "https://localhost:8080/",
     "height": 156
    },
    "colab_type": "code",
    "id": "EeHuCpTe06fl",
    "outputId": "73c19c9d-3370-4f35-e463-63aab6fae159"
   },
   "outputs": [
    {
     "name": "stdout",
     "output_type": "stream",
     "text": [
      "For gini :\n",
      " \t Accuracy : 0.844102 (+/-) 0.024983\n",
      "       \t F-score (global) : 0.843556 (+/-) 0.023918\n",
      " \n",
      "For the entropy :\n",
      " \t Accuracy : 0.852038 (+/-) 0.033138\n",
      "       \t F-score (global) : 0.850469 (+/-) 0.033004\n",
      " \n"
     ]
    }
   ],
   "source": [
    "from sklearn.model_selection import cross_val_score\n",
    "\n",
    "clf_gini = DecisionTreeClassifier(random_state=42)\n",
    "reussite_gini = cross_val_score(clf_gini, X_train, y_train, cv = 10)\n",
    "f1_gini = cross_val_score(clf_gini, X_train, y_train, cv = 10, scoring='f1_macro')\n",
    "print(\"For gini :\\n \\t Accuracy : %f (+/-) %f\\n \\\n",
    "      \\t F-score (global) : %f (+/-) %f\\n \" \n",
    "      %(reussite_gini.mean(), reussite_gini.std(), f1_gini.mean(), f1_gini.std()) )\n",
    "\n",
    "clf_entropy = DecisionTreeClassifier(criterion='entropy', random_state=42)\n",
    "reussite_entropy = cross_val_score(clf_entropy, X_train, y_train, cv = 10)\n",
    "f1_entropy = cross_val_score(clf_entropy, X_train, y_train, cv = 10, scoring='f1_macro')\n",
    "print(\"For the entropy :\\n \\t Accuracy : %f (+/-) %f\\n \\\n",
    "      \\t F-score (global) : %f (+/-) %f\\n \" \n",
    "      %(reussite_entropy.mean(), reussite_entropy.std(), f1_entropy.mean(), f1_entropy.std()) )"
   ]
  },
  {
   "cell_type": "markdown",
   "metadata": {
    "lang": "en"
   },
   "source": [
    "What to deduce? Is the entropy statistically better on this dataset? Choose a criterion: this will be the only one that will be used later.\n",
    "\n",
    "We must now look at the impact of the other 2 parameters:\n",
    "- *max_depth* that we will vary between 5 and 20\n",
    "- *max_leaf_nodes* that we want to vary between 20 and 200 in steps of 20 (i.e. 20, 40, 60, ..., 200).\n",
    "We propose to study the impact of these parameters independently, with entropy as a selection criterion.\n",
    "\n",
    "It will be necessary to produce 4 curves showing the evolutions of the success rate and the overall F-score with each of the parameters. It will also be necessary to show the standard deviation on the curves: the use of the pyplot *errorbar* function (https://matplotlib.org/api/pyplot_api.html#matplotlib.pyplot.errorbar) is strongly recommended."
   ]
  },
  {
   "cell_type": "code",
   "execution_count": 49,
   "metadata": {
    "colab": {},
    "colab_type": "code",
    "id": "ao4mxTvP06f9",
    "scrolled": false
   },
   "outputs": [
    {
     "data": {
      "image/png": "[encoded data removed]",
      "text/plain": [
       "<Figure size 432x288 with 1 Axes>"
      ]
     },
     "metadata": {
      "needs_background": "light"
     },
     "output_type": "display_data"
    },
    {
     "data": {
      "image/png": "[encoded data removed]",
      "text/plain": [
       "<Figure size 432x288 with 1 Axes>"
      ]
     },
     "metadata": {
      "needs_background": "light"
     },
     "output_type": "display_data"
    }
   ],
   "source": [
    "# your turn\n",
    "\n",
    "# Entropy est statistiquement meilleure, on vas donc l'utiliser comme criterion\n",
    "\n",
    "import matplotlib.pyplot as plt\n",
    "import numpy as np\n",
    "\n",
    "from sklearn.tree import DecisionTreeClassifier\n",
    "from sklearn.model_selection import cross_val_score\n",
    "\n",
    "# On définit les valeurs de max_depth à tester\n",
    "max_depth_range = range(5, 21)\n",
    "\n",
    "# On définit les valeurs de max_leaf_nodes à tester\n",
    "max_leaf_nodes_range = range(20, 201, 20)\n",
    "\n",
    "# On initialise les listes qui vont stocker les résultats\n",
    "accuracy_scores = []\n",
    "f1_scores = []\n",
    "\n",
    "# Boucle pour tester les différentes valeurs de max_depth\n",
    "for max_depth in max_depth_range:\n",
    "    clf = DecisionTreeClassifier(criterion='entropy', max_depth=max_depth, random_state=42)\n",
    "    \n",
    "    accuracy = cross_val_score(clf, X_train, y_train, cv=10)\n",
    "    accuracy_scores.append(accuracy.mean())\n",
    "    \n",
    "    f1 = cross_val_score(clf, X_train, y_train, cv=10, scoring='f1_macro')\n",
    "    f1_scores.append(f1.mean())\n",
    "\n",
    "# Affichage du graphique pour l'impact de max_depth sur la performance (aide de stackoverflow pour paramétrer l'affichage)\n",
    "plt.errorbar(max_depth_range, accuracy_scores, yerr=np.std(accuracy_scores), label='Accuracy', fmt='-o')\n",
    "plt.errorbar(max_depth_range, f1_scores, yerr=np.std(f1_scores), label='F1 Score', fmt='-o')\n",
    "plt.xlabel('max_depth')\n",
    "plt.ylabel('Score')\n",
    "plt.legend()\n",
    "plt.show()\n",
    "\n",
    "# On réinitialise les listes qui vont stocker les résultats\n",
    "accuracy_scores = []\n",
    "f1_scores = []\n",
    "\n",
    "# Boucle pour tester les différentes valeurs de max_leaf_nodes\n",
    "for max_leaf_nodes in max_leaf_nodes_range:\n",
    "    clf = DecisionTreeClassifier(criterion='entropy', max_leaf_nodes=max_leaf_nodes, random_state=42)\n",
    "    \n",
    "    accuracy = cross_val_score(clf, X_train, y_train, cv=10)\n",
    "    accuracy_scores.append(accuracy.mean())\n",
    "    \n",
    "    f1 = cross_val_score(clf, X_train, y_train, cv=10, scoring='f1_macro')\n",
    "    f1_scores.append(f1.mean())\n",
    "    \n",
    "# Affichage du graphique pour l'impact de max_leaf_nodes sur la performance\n",
    "plt.errorbar(max_leaf_nodes_range, accuracy_scores, yerr=np.std(accuracy_scores), label='Accuracy', fmt='-o')\n",
    "plt.errorbar(max_leaf_nodes_range, f1_scores, yerr=np.std(f1_scores), label='F1 Score', fmt='-o')\n",
    "plt.xlabel('max_leaf_nodes')\n",
    "plt.ylabel('Score')\n",
    "plt.legend()\n",
    "plt.show()"
   ]
  },
  {
   "cell_type": "markdown",
   "metadata": {
    "lang": "en"
   },
   "source": [
    "Deduce the optimal values ​​of the 3 parameters and use them to learn a decision tree on the entire training set, then evaluate the quality of learning on the test set."
   ]
  },
  {
   "cell_type": "code",
   "execution_count": 50,
   "metadata": {
    "colab": {},
    "colab_type": "code",
    "id": "HmIOs7rA06gf"
   },
   "outputs": [],
   "source": [
    "# Your turn\n",
    "\n",
    "# Les valeurs optimals sont :\n",
    "#  - criterion : Entropy\n",
    "#  - max_depth : 10\n",
    "#  - max_leaf_nodes : 100"
   ]
  },
  {
   "cell_type": "markdown",
   "metadata": {
    "lang": "en"
   },
   "source": [
    "## Data Preparation & Random Forests\n",
    "We continue to increase the difficulty, this time downloading a dataset from Portuguese banks, described [here](https://archive.ics.uci.edu/ml/datasets/Bank+Marketing):"
   ]
  },
  {
   "cell_type": "code",
   "execution_count": 51,
   "metadata": {
    "colab": {
     "base_uri": "https://localhost:8080/",
     "height": 208
    },
    "colab_type": "code",
    "id": "O-nNrOX-06gq",
    "outputId": "1c50f57a-a05b-4921-8bed-cfc8d2dfec54"
   },
   "outputs": [
    {
     "name": "stderr",
     "output_type": "stream",
     "text": [
      "'wget' n'est pas reconnu en tant que commande interne\n",
      "ou externe, un programme ex‚cutable ou un fichier de commandes.\n"
     ]
    }
   ],
   "source": [
    "! wget https://remieyraud.github.io/bank-additional.csv"
   ]
  },
  {
   "cell_type": "markdown",
   "metadata": {
    "lang": "en"
   },
   "source": [
    "### Pandas\n",
    "Unlike car data, we are going to use a very useful python package to prepare and perform a first data analysis: *pandas*. It is possible that this package is not installed on the machines:"
   ]
  },
  {
   "cell_type": "code",
   "execution_count": 52,
   "metadata": {
    "colab": {
     "base_uri": "https://localhost:8080/",
     "height": 104
    },
    "colab_type": "code",
    "id": "bDlGpw4m06gv",
    "outputId": "d2e21f9d-4371-48e6-ea7e-077082c6099c"
   },
   "outputs": [
    {
     "name": "stdout",
     "output_type": "stream",
     "text": [
      "Requirement already satisfied: pandas in c:\\users\\flori\\anaconda3\\lib\\site-packages (1.3.4)\n",
      "Requirement already satisfied: numpy>=1.17.3 in c:\\users\\flori\\anaconda3\\lib\\site-packages (from pandas) (1.20.3)\n",
      "Requirement already satisfied: pytz>=2017.3 in c:\\users\\flori\\anaconda3\\lib\\site-packages (from pandas) (2021.3)\n",
      "Requirement already satisfied: python-dateutil>=2.7.3 in c:\\users\\flori\\anaconda3\\lib\\site-packages (from pandas) (2.8.2)\n",
      "Requirement already satisfied: six>=1.5 in c:\\users\\flori\\anaconda3\\lib\\site-packages (from python-dateutil>=2.7.3->pandas) (1.16.0)\n"
     ]
    }
   ],
   "source": [
    "!pip3 install pandas"
   ]
  },
  {
   "cell_type": "markdown",
   "metadata": {
    "lang": "en"
   },
   "source": [
    "You can then import the package, then use the function that allows you to transform a csv file like the one you just downloaded into a *dataframe*. This type, unique to *pandas*, allows data to be presented in a very useful form."
   ]
  },
  {
   "cell_type": "code",
   "execution_count": 53,
   "metadata": {
    "colab": {},
    "colab_type": "code",
    "id": "TtRa5qbI06g4"
   },
   "outputs": [],
   "source": [
    "import pandas as pd\n",
    "df = pd.read_csv('./bank-additional.csv', sep=';')"
   ]
  },
  {
   "cell_type": "markdown",
   "metadata": {
    "lang": "en"
   },
   "source": [
    "Now that we have a dataframe, we can easily see what the data looks like, by looking at the first 4:"
   ]
  },
  {
   "cell_type": "code",
   "execution_count": 54,
   "metadata": {
    "colab": {
     "base_uri": "https://localhost:8080/",
     "height": 273
    },
    "colab_type": "code",
    "id": "W_jDyA2006g8",
    "outputId": "d15adde2-faf5-4260-b65a-0b9544484d25"
   },
   "outputs": [
    {
     "data": {
      "text/html": [
       "<div>\n",
       "<style scoped>\n",
       "    .dataframe tbody tr th:only-of-type {\n",
       "        vertical-align: middle;\n",
       "    }\n",
       "\n",
       "    .dataframe tbody tr th {\n",
       "        vertical-align: top;\n",
       "    }\n",
       "\n",
       "    .dataframe thead th {\n",
       "        text-align: right;\n",
       "    }\n",
       "</style>\n",
       "<table border=\"1\" class=\"dataframe\">\n",
       "  <thead>\n",
       "    <tr style=\"text-align: right;\">\n",
       "      <th></th>\n",
       "      <th>age</th>\n",
       "      <th>job</th>\n",
       "      <th>marital</th>\n",
       "      <th>education</th>\n",
       "      <th>default</th>\n",
       "      <th>housing</th>\n",
       "      <th>loan</th>\n",
       "      <th>contact</th>\n",
       "      <th>month</th>\n",
       "      <th>day_of_week</th>\n",
       "      <th>...</th>\n",
       "      <th>campaign</th>\n",
       "      <th>pdays</th>\n",
       "      <th>previous</th>\n",
       "      <th>poutcome</th>\n",
       "      <th>emp.var.rate</th>\n",
       "      <th>cons.price.idx</th>\n",
       "      <th>cons.conf.idx</th>\n",
       "      <th>euribor3m</th>\n",
       "      <th>nr.employed</th>\n",
       "      <th>y</th>\n",
       "    </tr>\n",
       "  </thead>\n",
       "  <tbody>\n",
       "    <tr>\n",
       "      <th>0</th>\n",
       "      <td>30</td>\n",
       "      <td>blue-collar</td>\n",
       "      <td>married</td>\n",
       "      <td>basic.9y</td>\n",
       "      <td>no</td>\n",
       "      <td>yes</td>\n",
       "      <td>no</td>\n",
       "      <td>cellular</td>\n",
       "      <td>may</td>\n",
       "      <td>fri</td>\n",
       "      <td>...</td>\n",
       "      <td>2</td>\n",
       "      <td>999</td>\n",
       "      <td>0</td>\n",
       "      <td>nonexistent</td>\n",
       "      <td>-1.8</td>\n",
       "      <td>92.893</td>\n",
       "      <td>-46.2</td>\n",
       "      <td>1.313</td>\n",
       "      <td>5099.1</td>\n",
       "      <td>no</td>\n",
       "    </tr>\n",
       "    <tr>\n",
       "      <th>1</th>\n",
       "      <td>39</td>\n",
       "      <td>services</td>\n",
       "      <td>single</td>\n",
       "      <td>high.school</td>\n",
       "      <td>no</td>\n",
       "      <td>no</td>\n",
       "      <td>no</td>\n",
       "      <td>telephone</td>\n",
       "      <td>may</td>\n",
       "      <td>fri</td>\n",
       "      <td>...</td>\n",
       "      <td>4</td>\n",
       "      <td>999</td>\n",
       "      <td>0</td>\n",
       "      <td>nonexistent</td>\n",
       "      <td>1.1</td>\n",
       "      <td>93.994</td>\n",
       "      <td>-36.4</td>\n",
       "      <td>4.855</td>\n",
       "      <td>5191.0</td>\n",
       "      <td>no</td>\n",
       "    </tr>\n",
       "    <tr>\n",
       "      <th>2</th>\n",
       "      <td>25</td>\n",
       "      <td>services</td>\n",
       "      <td>married</td>\n",
       "      <td>high.school</td>\n",
       "      <td>no</td>\n",
       "      <td>yes</td>\n",
       "      <td>no</td>\n",
       "      <td>telephone</td>\n",
       "      <td>jun</td>\n",
       "      <td>wed</td>\n",
       "      <td>...</td>\n",
       "      <td>1</td>\n",
       "      <td>999</td>\n",
       "      <td>0</td>\n",
       "      <td>nonexistent</td>\n",
       "      <td>1.4</td>\n",
       "      <td>94.465</td>\n",
       "      <td>-41.8</td>\n",
       "      <td>4.962</td>\n",
       "      <td>5228.1</td>\n",
       "      <td>no</td>\n",
       "    </tr>\n",
       "    <tr>\n",
       "      <th>3</th>\n",
       "      <td>38</td>\n",
       "      <td>services</td>\n",
       "      <td>married</td>\n",
       "      <td>basic.9y</td>\n",
       "      <td>no</td>\n",
       "      <td>unknown</td>\n",
       "      <td>unknown</td>\n",
       "      <td>telephone</td>\n",
       "      <td>jun</td>\n",
       "      <td>fri</td>\n",
       "      <td>...</td>\n",
       "      <td>3</td>\n",
       "      <td>999</td>\n",
       "      <td>0</td>\n",
       "      <td>nonexistent</td>\n",
       "      <td>1.4</td>\n",
       "      <td>94.465</td>\n",
       "      <td>-41.8</td>\n",
       "      <td>4.959</td>\n",
       "      <td>5228.1</td>\n",
       "      <td>no</td>\n",
       "    </tr>\n",
       "    <tr>\n",
       "      <th>4</th>\n",
       "      <td>47</td>\n",
       "      <td>admin.</td>\n",
       "      <td>married</td>\n",
       "      <td>university.degree</td>\n",
       "      <td>no</td>\n",
       "      <td>yes</td>\n",
       "      <td>no</td>\n",
       "      <td>cellular</td>\n",
       "      <td>nov</td>\n",
       "      <td>mon</td>\n",
       "      <td>...</td>\n",
       "      <td>1</td>\n",
       "      <td>999</td>\n",
       "      <td>0</td>\n",
       "      <td>nonexistent</td>\n",
       "      <td>-0.1</td>\n",
       "      <td>93.200</td>\n",
       "      <td>-42.0</td>\n",
       "      <td>4.191</td>\n",
       "      <td>5195.8</td>\n",
       "      <td>no</td>\n",
       "    </tr>\n",
       "  </tbody>\n",
       "</table>\n",
       "<p>5 rows × 21 columns</p>\n",
       "</div>"
      ],
      "text/plain": [
       "   age          job  marital          education default  housing     loan  \\\n",
       "0   30  blue-collar  married           basic.9y      no      yes       no   \n",
       "1   39     services   single        high.school      no       no       no   \n",
       "2   25     services  married        high.school      no      yes       no   \n",
       "3   38     services  married           basic.9y      no  unknown  unknown   \n",
       "4   47       admin.  married  university.degree      no      yes       no   \n",
       "\n",
       "     contact month day_of_week  ...  campaign  pdays  previous     poutcome  \\\n",
       "0   cellular   may         fri  ...         2    999         0  nonexistent   \n",
       "1  telephone   may         fri  ...         4    999         0  nonexistent   \n",
       "2  telephone   jun         wed  ...         1    999         0  nonexistent   \n",
       "3  telephone   jun         fri  ...         3    999         0  nonexistent   \n",
       "4   cellular   nov         mon  ...         1    999         0  nonexistent   \n",
       "\n",
       "  emp.var.rate  cons.price.idx  cons.conf.idx  euribor3m  nr.employed   y  \n",
       "0         -1.8          92.893          -46.2      1.313       5099.1  no  \n",
       "1          1.1          93.994          -36.4      4.855       5191.0  no  \n",
       "2          1.4          94.465          -41.8      4.962       5228.1  no  \n",
       "3          1.4          94.465          -41.8      4.959       5228.1  no  \n",
       "4         -0.1          93.200          -42.0      4.191       5195.8  no  \n",
       "\n",
       "[5 rows x 21 columns]"
      ]
     },
     "execution_count": 54,
     "metadata": {},
     "output_type": "execute_result"
    }
   ],
   "source": [
    "df.head()"
   ]
  },
  {
   "cell_type": "markdown",
   "metadata": {
    "lang": "en"
   },
   "source": [
    "We can transpose it to read it more simply:"
   ]
  },
  {
   "cell_type": "code",
   "execution_count": 55,
   "metadata": {
    "colab": {
     "base_uri": "https://localhost:8080/",
     "height": 708
    },
    "colab_type": "code",
    "id": "WwaUe-qD06hK",
    "outputId": "8bc8f1f2-25bb-4728-a650-392207b2d632"
   },
   "outputs": [
    {
     "data": {
      "text/html": [
       "<div>\n",
       "<style scoped>\n",
       "    .dataframe tbody tr th:only-of-type {\n",
       "        vertical-align: middle;\n",
       "    }\n",
       "\n",
       "    .dataframe tbody tr th {\n",
       "        vertical-align: top;\n",
       "    }\n",
       "\n",
       "    .dataframe thead th {\n",
       "        text-align: right;\n",
       "    }\n",
       "</style>\n",
       "<table border=\"1\" class=\"dataframe\">\n",
       "  <thead>\n",
       "    <tr style=\"text-align: right;\">\n",
       "      <th></th>\n",
       "      <th>0</th>\n",
       "      <th>1</th>\n",
       "      <th>2</th>\n",
       "      <th>3</th>\n",
       "      <th>4</th>\n",
       "    </tr>\n",
       "  </thead>\n",
       "  <tbody>\n",
       "    <tr>\n",
       "      <th>age</th>\n",
       "      <td>30</td>\n",
       "      <td>39</td>\n",
       "      <td>25</td>\n",
       "      <td>38</td>\n",
       "      <td>47</td>\n",
       "    </tr>\n",
       "    <tr>\n",
       "      <th>job</th>\n",
       "      <td>blue-collar</td>\n",
       "      <td>services</td>\n",
       "      <td>services</td>\n",
       "      <td>services</td>\n",
       "      <td>admin.</td>\n",
       "    </tr>\n",
       "    <tr>\n",
       "      <th>marital</th>\n",
       "      <td>married</td>\n",
       "      <td>single</td>\n",
       "      <td>married</td>\n",
       "      <td>married</td>\n",
       "      <td>married</td>\n",
       "    </tr>\n",
       "    <tr>\n",
       "      <th>education</th>\n",
       "      <td>basic.9y</td>\n",
       "      <td>high.school</td>\n",
       "      <td>high.school</td>\n",
       "      <td>basic.9y</td>\n",
       "      <td>university.degree</td>\n",
       "    </tr>\n",
       "    <tr>\n",
       "      <th>default</th>\n",
       "      <td>no</td>\n",
       "      <td>no</td>\n",
       "      <td>no</td>\n",
       "      <td>no</td>\n",
       "      <td>no</td>\n",
       "    </tr>\n",
       "    <tr>\n",
       "      <th>housing</th>\n",
       "      <td>yes</td>\n",
       "      <td>no</td>\n",
       "      <td>yes</td>\n",
       "      <td>unknown</td>\n",
       "      <td>yes</td>\n",
       "    </tr>\n",
       "    <tr>\n",
       "      <th>loan</th>\n",
       "      <td>no</td>\n",
       "      <td>no</td>\n",
       "      <td>no</td>\n",
       "      <td>unknown</td>\n",
       "      <td>no</td>\n",
       "    </tr>\n",
       "    <tr>\n",
       "      <th>contact</th>\n",
       "      <td>cellular</td>\n",
       "      <td>telephone</td>\n",
       "      <td>telephone</td>\n",
       "      <td>telephone</td>\n",
       "      <td>cellular</td>\n",
       "    </tr>\n",
       "    <tr>\n",
       "      <th>month</th>\n",
       "      <td>may</td>\n",
       "      <td>may</td>\n",
       "      <td>jun</td>\n",
       "      <td>jun</td>\n",
       "      <td>nov</td>\n",
       "    </tr>\n",
       "    <tr>\n",
       "      <th>day_of_week</th>\n",
       "      <td>fri</td>\n",
       "      <td>fri</td>\n",
       "      <td>wed</td>\n",
       "      <td>fri</td>\n",
       "      <td>mon</td>\n",
       "    </tr>\n",
       "    <tr>\n",
       "      <th>duration</th>\n",
       "      <td>487</td>\n",
       "      <td>346</td>\n",
       "      <td>227</td>\n",
       "      <td>17</td>\n",
       "      <td>58</td>\n",
       "    </tr>\n",
       "    <tr>\n",
       "      <th>campaign</th>\n",
       "      <td>2</td>\n",
       "      <td>4</td>\n",
       "      <td>1</td>\n",
       "      <td>3</td>\n",
       "      <td>1</td>\n",
       "    </tr>\n",
       "    <tr>\n",
       "      <th>pdays</th>\n",
       "      <td>999</td>\n",
       "      <td>999</td>\n",
       "      <td>999</td>\n",
       "      <td>999</td>\n",
       "      <td>999</td>\n",
       "    </tr>\n",
       "    <tr>\n",
       "      <th>previous</th>\n",
       "      <td>0</td>\n",
       "      <td>0</td>\n",
       "      <td>0</td>\n",
       "      <td>0</td>\n",
       "      <td>0</td>\n",
       "    </tr>\n",
       "    <tr>\n",
       "      <th>poutcome</th>\n",
       "      <td>nonexistent</td>\n",
       "      <td>nonexistent</td>\n",
       "      <td>nonexistent</td>\n",
       "      <td>nonexistent</td>\n",
       "      <td>nonexistent</td>\n",
       "    </tr>\n",
       "    <tr>\n",
       "      <th>emp.var.rate</th>\n",
       "      <td>-1.8</td>\n",
       "      <td>1.1</td>\n",
       "      <td>1.4</td>\n",
       "      <td>1.4</td>\n",
       "      <td>-0.1</td>\n",
       "    </tr>\n",
       "    <tr>\n",
       "      <th>cons.price.idx</th>\n",
       "      <td>92.893</td>\n",
       "      <td>93.994</td>\n",
       "      <td>94.465</td>\n",
       "      <td>94.465</td>\n",
       "      <td>93.2</td>\n",
       "    </tr>\n",
       "    <tr>\n",
       "      <th>cons.conf.idx</th>\n",
       "      <td>-46.2</td>\n",
       "      <td>-36.4</td>\n",
       "      <td>-41.8</td>\n",
       "      <td>-41.8</td>\n",
       "      <td>-42.0</td>\n",
       "    </tr>\n",
       "    <tr>\n",
       "      <th>euribor3m</th>\n",
       "      <td>1.313</td>\n",
       "      <td>4.855</td>\n",
       "      <td>4.962</td>\n",
       "      <td>4.959</td>\n",
       "      <td>4.191</td>\n",
       "    </tr>\n",
       "    <tr>\n",
       "      <th>nr.employed</th>\n",
       "      <td>5099.1</td>\n",
       "      <td>5191.0</td>\n",
       "      <td>5228.1</td>\n",
       "      <td>5228.1</td>\n",
       "      <td>5195.8</td>\n",
       "    </tr>\n",
       "    <tr>\n",
       "      <th>y</th>\n",
       "      <td>no</td>\n",
       "      <td>no</td>\n",
       "      <td>no</td>\n",
       "      <td>no</td>\n",
       "      <td>no</td>\n",
       "    </tr>\n",
       "  </tbody>\n",
       "</table>\n",
       "</div>"
      ],
      "text/plain": [
       "                          0            1            2            3  \\\n",
       "age                      30           39           25           38   \n",
       "job             blue-collar     services     services     services   \n",
       "marital             married       single      married      married   \n",
       "education          basic.9y  high.school  high.school     basic.9y   \n",
       "default                  no           no           no           no   \n",
       "housing                 yes           no          yes      unknown   \n",
       "loan                     no           no           no      unknown   \n",
       "contact            cellular    telephone    telephone    telephone   \n",
       "month                   may          may          jun          jun   \n",
       "day_of_week             fri          fri          wed          fri   \n",
       "duration                487          346          227           17   \n",
       "campaign                  2            4            1            3   \n",
       "pdays                   999          999          999          999   \n",
       "previous                  0            0            0            0   \n",
       "poutcome        nonexistent  nonexistent  nonexistent  nonexistent   \n",
       "emp.var.rate           -1.8          1.1          1.4          1.4   \n",
       "cons.price.idx       92.893       93.994       94.465       94.465   \n",
       "cons.conf.idx         -46.2        -36.4        -41.8        -41.8   \n",
       "euribor3m             1.313        4.855        4.962        4.959   \n",
       "nr.employed          5099.1       5191.0       5228.1       5228.1   \n",
       "y                        no           no           no           no   \n",
       "\n",
       "                                4  \n",
       "age                            47  \n",
       "job                        admin.  \n",
       "marital                   married  \n",
       "education       university.degree  \n",
       "default                        no  \n",
       "housing                       yes  \n",
       "loan                           no  \n",
       "contact                  cellular  \n",
       "month                         nov  \n",
       "day_of_week                   mon  \n",
       "duration                       58  \n",
       "campaign                        1  \n",
       "pdays                         999  \n",
       "previous                        0  \n",
       "poutcome              nonexistent  \n",
       "emp.var.rate                 -0.1  \n",
       "cons.price.idx               93.2  \n",
       "cons.conf.idx               -42.0  \n",
       "euribor3m                   4.191  \n",
       "nr.employed                5195.8  \n",
       "y                              no  "
      ]
     },
     "execution_count": 55,
     "metadata": {},
     "output_type": "execute_result"
    }
   ],
   "source": [
    "np.transpose(df.head())"
   ]
  },
  {
   "cell_type": "code",
   "execution_count": 56,
   "metadata": {
    "colab": {
     "base_uri": "https://localhost:8080/",
     "height": 34
    },
    "colab_type": "code",
    "id": "RRe-_CIE06hQ",
    "outputId": "5ee3fbe2-4689-46d0-dad3-24957cb34a57"
   },
   "outputs": [
    {
     "data": {
      "text/plain": [
       "(4119, 21)"
      ]
     },
     "execution_count": 56,
     "metadata": {},
     "output_type": "execute_result"
    }
   ],
   "source": [
    "df.shape"
   ]
  },
  {
   "cell_type": "markdown",
   "metadata": {
    "lang": "en"
   },
   "source": [
    "There are therefore 4119 data, each being described by 20 attributes, the final column *y* containing the target to learn. This class can take 2 values: *no* or *yes*. For the bank, it was a question of who to offer life insurance to.\n",
    "\n",
    "What can we say about numerical attributes? Dataframes give us easy access to descriptive statistics:"
   ]
  },
  {
   "cell_type": "code",
   "execution_count": 59,
   "metadata": {
    "colab": {
     "base_uri": "https://localhost:8080/",
     "height": 300
    },
    "colab_type": "code",
    "id": "Iewh8zE_06hY",
    "outputId": "37b3c38f-2084-4e96-9f56-8a1e9316b8a8",
    "scrolled": true
   },
   "outputs": [
    {
     "data": {
      "text/html": [
       "<div>\n",
       "<style scoped>\n",
       "    .dataframe tbody tr th:only-of-type {\n",
       "        vertical-align: middle;\n",
       "    }\n",
       "\n",
       "    .dataframe tbody tr th {\n",
       "        vertical-align: top;\n",
       "    }\n",
       "\n",
       "    .dataframe thead th {\n",
       "        text-align: right;\n",
       "    }\n",
       "</style>\n",
       "<table border=\"1\" class=\"dataframe\">\n",
       "  <thead>\n",
       "    <tr style=\"text-align: right;\">\n",
       "      <th></th>\n",
       "      <th>age</th>\n",
       "      <th>duration</th>\n",
       "      <th>campaign</th>\n",
       "      <th>pdays</th>\n",
       "      <th>previous</th>\n",
       "      <th>emp.var.rate</th>\n",
       "      <th>cons.price.idx</th>\n",
       "      <th>cons.conf.idx</th>\n",
       "      <th>euribor3m</th>\n",
       "      <th>nr.employed</th>\n",
       "    </tr>\n",
       "  </thead>\n",
       "  <tbody>\n",
       "    <tr>\n",
       "      <th>count</th>\n",
       "      <td>4119.000000</td>\n",
       "      <td>4119.000000</td>\n",
       "      <td>4119.000000</td>\n",
       "      <td>4119.000000</td>\n",
       "      <td>4119.000000</td>\n",
       "      <td>4119.000000</td>\n",
       "      <td>4119.000000</td>\n",
       "      <td>4119.000000</td>\n",
       "      <td>4119.000000</td>\n",
       "      <td>4119.000000</td>\n",
       "    </tr>\n",
       "    <tr>\n",
       "      <th>mean</th>\n",
       "      <td>40.113620</td>\n",
       "      <td>256.788055</td>\n",
       "      <td>2.537266</td>\n",
       "      <td>960.422190</td>\n",
       "      <td>0.190337</td>\n",
       "      <td>0.084972</td>\n",
       "      <td>93.579704</td>\n",
       "      <td>-40.499102</td>\n",
       "      <td>3.621356</td>\n",
       "      <td>5166.481695</td>\n",
       "    </tr>\n",
       "    <tr>\n",
       "      <th>std</th>\n",
       "      <td>10.313362</td>\n",
       "      <td>254.703736</td>\n",
       "      <td>2.568159</td>\n",
       "      <td>191.922786</td>\n",
       "      <td>0.541788</td>\n",
       "      <td>1.563114</td>\n",
       "      <td>0.579349</td>\n",
       "      <td>4.594578</td>\n",
       "      <td>1.733591</td>\n",
       "      <td>73.667904</td>\n",
       "    </tr>\n",
       "    <tr>\n",
       "      <th>min</th>\n",
       "      <td>18.000000</td>\n",
       "      <td>0.000000</td>\n",
       "      <td>1.000000</td>\n",
       "      <td>0.000000</td>\n",
       "      <td>0.000000</td>\n",
       "      <td>-3.400000</td>\n",
       "      <td>92.201000</td>\n",
       "      <td>-50.800000</td>\n",
       "      <td>0.635000</td>\n",
       "      <td>4963.600000</td>\n",
       "    </tr>\n",
       "    <tr>\n",
       "      <th>25%</th>\n",
       "      <td>32.000000</td>\n",
       "      <td>103.000000</td>\n",
       "      <td>1.000000</td>\n",
       "      <td>999.000000</td>\n",
       "      <td>0.000000</td>\n",
       "      <td>-1.800000</td>\n",
       "      <td>93.075000</td>\n",
       "      <td>-42.700000</td>\n",
       "      <td>1.334000</td>\n",
       "      <td>5099.100000</td>\n",
       "    </tr>\n",
       "    <tr>\n",
       "      <th>50%</th>\n",
       "      <td>38.000000</td>\n",
       "      <td>181.000000</td>\n",
       "      <td>2.000000</td>\n",
       "      <td>999.000000</td>\n",
       "      <td>0.000000</td>\n",
       "      <td>1.100000</td>\n",
       "      <td>93.749000</td>\n",
       "      <td>-41.800000</td>\n",
       "      <td>4.857000</td>\n",
       "      <td>5191.000000</td>\n",
       "    </tr>\n",
       "    <tr>\n",
       "      <th>75%</th>\n",
       "      <td>47.000000</td>\n",
       "      <td>317.000000</td>\n",
       "      <td>3.000000</td>\n",
       "      <td>999.000000</td>\n",
       "      <td>0.000000</td>\n",
       "      <td>1.400000</td>\n",
       "      <td>93.994000</td>\n",
       "      <td>-36.400000</td>\n",
       "      <td>4.961000</td>\n",
       "      <td>5228.100000</td>\n",
       "    </tr>\n",
       "    <tr>\n",
       "      <th>max</th>\n",
       "      <td>88.000000</td>\n",
       "      <td>3643.000000</td>\n",
       "      <td>35.000000</td>\n",
       "      <td>999.000000</td>\n",
       "      <td>6.000000</td>\n",
       "      <td>1.400000</td>\n",
       "      <td>94.767000</td>\n",
       "      <td>-26.900000</td>\n",
       "      <td>5.045000</td>\n",
       "      <td>5228.100000</td>\n",
       "    </tr>\n",
       "  </tbody>\n",
       "</table>\n",
       "</div>"
      ],
      "text/plain": [
       "               age     duration     campaign        pdays     previous  \\\n",
       "count  4119.000000  4119.000000  4119.000000  4119.000000  4119.000000   \n",
       "mean     40.113620   256.788055     2.537266   960.422190     0.190337   \n",
       "std      10.313362   254.703736     2.568159   191.922786     0.541788   \n",
       "min      18.000000     0.000000     1.000000     0.000000     0.000000   \n",
       "25%      32.000000   103.000000     1.000000   999.000000     0.000000   \n",
       "50%      38.000000   181.000000     2.000000   999.000000     0.000000   \n",
       "75%      47.000000   317.000000     3.000000   999.000000     0.000000   \n",
       "max      88.000000  3643.000000    35.000000   999.000000     6.000000   \n",
       "\n",
       "       emp.var.rate  cons.price.idx  cons.conf.idx    euribor3m  nr.employed  \n",
       "count   4119.000000     4119.000000    4119.000000  4119.000000  4119.000000  \n",
       "mean       0.084972       93.579704     -40.499102     3.621356  5166.481695  \n",
       "std        1.563114        0.579349       4.594578     1.733591    73.667904  \n",
       "min       -3.400000       92.201000     -50.800000     0.635000  4963.600000  \n",
       "25%       -1.800000       93.075000     -42.700000     1.334000  5099.100000  \n",
       "50%        1.100000       93.749000     -41.800000     4.857000  5191.000000  \n",
       "75%        1.400000       93.994000     -36.400000     4.961000  5228.100000  \n",
       "max        1.400000       94.767000     -26.900000     5.045000  5228.100000  "
      ]
     },
     "execution_count": 59,
     "metadata": {},
     "output_type": "execute_result"
    }
   ],
   "source": [
    "# Nous ne pouvons rien dire sur les attributs numériques\n",
    "df.describe()"
   ]
  },
  {
   "cell_type": "markdown",
   "metadata": {
    "lang": "en"
   },
   "source": [
    "Are these classes fairly represented in the data?"
   ]
  },
  {
   "cell_type": "code",
   "execution_count": 61,
   "metadata": {
    "colab": {
     "base_uri": "https://localhost:8080/",
     "height": 69
    },
    "colab_type": "code",
    "id": "z66KFKd406he",
    "outputId": "501294a4-5274-4bdb-8d40-6e1a4d42bcaa"
   },
   "outputs": [
    {
     "data": {
      "text/plain": [
       "no     3668\n",
       "yes     451\n",
       "Name: y, dtype: int64"
      ]
     },
     "execution_count": 61,
     "metadata": {},
     "output_type": "execute_result"
    }
   ],
   "source": [
    "# Il n'y a pas suffisamment d'informations pour déterminer si les classes sont représentées de manière équitable \n",
    "# dans les données. La sortie de la méthode df.describe() fournit uniquement des statistiques descriptives \n",
    "# sur les attributs numériques, sans aucune information sur la répartition des classes dans les données.\n",
    "\n",
    "df['y'].value_counts()"
   ]
  },
  {
   "cell_type": "markdown",
   "metadata": {
    "lang": "en"
   },
   "source": [
    "There is therefore a class much more present than the other in the data. It will therefore be necessary to pay attention to how we are going to evaluate the learning in order to take this into account."
   ]
  },
  {
   "cell_type": "markdown",
   "metadata": {
    "lang": "en"
   },
   "source": [
    "You have to put the data in scikit-learn form, but this time it will be easier thanks to *pandas*:"
   ]
  },
  {
   "cell_type": "code",
   "execution_count": 62,
   "metadata": {
    "colab": {
     "base_uri": "https://localhost:8080/",
     "height": 677
    },
    "colab_type": "code",
    "id": "2PMQ2Dpz06hm",
    "outputId": "62946205-3983-4827-bd2b-d064515f0c39"
   },
   "outputs": [
    {
     "data": {
      "text/html": [
       "<div>\n",
       "<style scoped>\n",
       "    .dataframe tbody tr th:only-of-type {\n",
       "        vertical-align: middle;\n",
       "    }\n",
       "\n",
       "    .dataframe tbody tr th {\n",
       "        vertical-align: top;\n",
       "    }\n",
       "\n",
       "    .dataframe thead th {\n",
       "        text-align: right;\n",
       "    }\n",
       "</style>\n",
       "<table border=\"1\" class=\"dataframe\">\n",
       "  <thead>\n",
       "    <tr style=\"text-align: right;\">\n",
       "      <th></th>\n",
       "      <th>0</th>\n",
       "      <th>1</th>\n",
       "      <th>2</th>\n",
       "      <th>3</th>\n",
       "      <th>4</th>\n",
       "    </tr>\n",
       "  </thead>\n",
       "  <tbody>\n",
       "    <tr>\n",
       "      <th>age</th>\n",
       "      <td>30</td>\n",
       "      <td>39</td>\n",
       "      <td>25</td>\n",
       "      <td>38</td>\n",
       "      <td>47</td>\n",
       "    </tr>\n",
       "    <tr>\n",
       "      <th>job</th>\n",
       "      <td>blue-collar</td>\n",
       "      <td>services</td>\n",
       "      <td>services</td>\n",
       "      <td>services</td>\n",
       "      <td>admin.</td>\n",
       "    </tr>\n",
       "    <tr>\n",
       "      <th>marital</th>\n",
       "      <td>married</td>\n",
       "      <td>single</td>\n",
       "      <td>married</td>\n",
       "      <td>married</td>\n",
       "      <td>married</td>\n",
       "    </tr>\n",
       "    <tr>\n",
       "      <th>education</th>\n",
       "      <td>basic.9y</td>\n",
       "      <td>high.school</td>\n",
       "      <td>high.school</td>\n",
       "      <td>basic.9y</td>\n",
       "      <td>university.degree</td>\n",
       "    </tr>\n",
       "    <tr>\n",
       "      <th>default</th>\n",
       "      <td>no</td>\n",
       "      <td>no</td>\n",
       "      <td>no</td>\n",
       "      <td>no</td>\n",
       "      <td>no</td>\n",
       "    </tr>\n",
       "    <tr>\n",
       "      <th>housing</th>\n",
       "      <td>yes</td>\n",
       "      <td>no</td>\n",
       "      <td>yes</td>\n",
       "      <td>unknown</td>\n",
       "      <td>yes</td>\n",
       "    </tr>\n",
       "    <tr>\n",
       "      <th>loan</th>\n",
       "      <td>no</td>\n",
       "      <td>no</td>\n",
       "      <td>no</td>\n",
       "      <td>unknown</td>\n",
       "      <td>no</td>\n",
       "    </tr>\n",
       "    <tr>\n",
       "      <th>contact</th>\n",
       "      <td>cellular</td>\n",
       "      <td>telephone</td>\n",
       "      <td>telephone</td>\n",
       "      <td>telephone</td>\n",
       "      <td>cellular</td>\n",
       "    </tr>\n",
       "    <tr>\n",
       "      <th>month</th>\n",
       "      <td>may</td>\n",
       "      <td>may</td>\n",
       "      <td>jun</td>\n",
       "      <td>jun</td>\n",
       "      <td>nov</td>\n",
       "    </tr>\n",
       "    <tr>\n",
       "      <th>day_of_week</th>\n",
       "      <td>fri</td>\n",
       "      <td>fri</td>\n",
       "      <td>wed</td>\n",
       "      <td>fri</td>\n",
       "      <td>mon</td>\n",
       "    </tr>\n",
       "    <tr>\n",
       "      <th>duration</th>\n",
       "      <td>487</td>\n",
       "      <td>346</td>\n",
       "      <td>227</td>\n",
       "      <td>17</td>\n",
       "      <td>58</td>\n",
       "    </tr>\n",
       "    <tr>\n",
       "      <th>campaign</th>\n",
       "      <td>2</td>\n",
       "      <td>4</td>\n",
       "      <td>1</td>\n",
       "      <td>3</td>\n",
       "      <td>1</td>\n",
       "    </tr>\n",
       "    <tr>\n",
       "      <th>pdays</th>\n",
       "      <td>999</td>\n",
       "      <td>999</td>\n",
       "      <td>999</td>\n",
       "      <td>999</td>\n",
       "      <td>999</td>\n",
       "    </tr>\n",
       "    <tr>\n",
       "      <th>previous</th>\n",
       "      <td>0</td>\n",
       "      <td>0</td>\n",
       "      <td>0</td>\n",
       "      <td>0</td>\n",
       "      <td>0</td>\n",
       "    </tr>\n",
       "    <tr>\n",
       "      <th>poutcome</th>\n",
       "      <td>nonexistent</td>\n",
       "      <td>nonexistent</td>\n",
       "      <td>nonexistent</td>\n",
       "      <td>nonexistent</td>\n",
       "      <td>nonexistent</td>\n",
       "    </tr>\n",
       "    <tr>\n",
       "      <th>emp.var.rate</th>\n",
       "      <td>-1.8</td>\n",
       "      <td>1.1</td>\n",
       "      <td>1.4</td>\n",
       "      <td>1.4</td>\n",
       "      <td>-0.1</td>\n",
       "    </tr>\n",
       "    <tr>\n",
       "      <th>cons.price.idx</th>\n",
       "      <td>92.893</td>\n",
       "      <td>93.994</td>\n",
       "      <td>94.465</td>\n",
       "      <td>94.465</td>\n",
       "      <td>93.2</td>\n",
       "    </tr>\n",
       "    <tr>\n",
       "      <th>cons.conf.idx</th>\n",
       "      <td>-46.2</td>\n",
       "      <td>-36.4</td>\n",
       "      <td>-41.8</td>\n",
       "      <td>-41.8</td>\n",
       "      <td>-42.0</td>\n",
       "    </tr>\n",
       "    <tr>\n",
       "      <th>euribor3m</th>\n",
       "      <td>1.313</td>\n",
       "      <td>4.855</td>\n",
       "      <td>4.962</td>\n",
       "      <td>4.959</td>\n",
       "      <td>4.191</td>\n",
       "    </tr>\n",
       "    <tr>\n",
       "      <th>nr.employed</th>\n",
       "      <td>5099.1</td>\n",
       "      <td>5191.0</td>\n",
       "      <td>5228.1</td>\n",
       "      <td>5228.1</td>\n",
       "      <td>5195.8</td>\n",
       "    </tr>\n",
       "  </tbody>\n",
       "</table>\n",
       "</div>"
      ],
      "text/plain": [
       "                          0            1            2            3  \\\n",
       "age                      30           39           25           38   \n",
       "job             blue-collar     services     services     services   \n",
       "marital             married       single      married      married   \n",
       "education          basic.9y  high.school  high.school     basic.9y   \n",
       "default                  no           no           no           no   \n",
       "housing                 yes           no          yes      unknown   \n",
       "loan                     no           no           no      unknown   \n",
       "contact            cellular    telephone    telephone    telephone   \n",
       "month                   may          may          jun          jun   \n",
       "day_of_week             fri          fri          wed          fri   \n",
       "duration                487          346          227           17   \n",
       "campaign                  2            4            1            3   \n",
       "pdays                   999          999          999          999   \n",
       "previous                  0            0            0            0   \n",
       "poutcome        nonexistent  nonexistent  nonexistent  nonexistent   \n",
       "emp.var.rate           -1.8          1.1          1.4          1.4   \n",
       "cons.price.idx       92.893       93.994       94.465       94.465   \n",
       "cons.conf.idx         -46.2        -36.4        -41.8        -41.8   \n",
       "euribor3m             1.313        4.855        4.962        4.959   \n",
       "nr.employed          5099.1       5191.0       5228.1       5228.1   \n",
       "\n",
       "                                4  \n",
       "age                            47  \n",
       "job                        admin.  \n",
       "marital                   married  \n",
       "education       university.degree  \n",
       "default                        no  \n",
       "housing                       yes  \n",
       "loan                           no  \n",
       "contact                  cellular  \n",
       "month                         nov  \n",
       "day_of_week                   mon  \n",
       "duration                       58  \n",
       "campaign                        1  \n",
       "pdays                         999  \n",
       "previous                        0  \n",
       "poutcome              nonexistent  \n",
       "emp.var.rate                 -0.1  \n",
       "cons.price.idx               93.2  \n",
       "cons.conf.idx               -42.0  \n",
       "euribor3m                   4.191  \n",
       "nr.employed                5195.8  "
      ]
     },
     "execution_count": 62,
     "metadata": {},
     "output_type": "execute_result"
    }
   ],
   "source": [
    "X = df.drop(['y'], axis=1)\n",
    "y = df['y']\n",
    "np.transpose(X.head())"
   ]
  },
  {
   "cell_type": "markdown",
   "metadata": {
    "lang": "en"
   },
   "source": [
    "### Random forest\n",
    "Now that the data is prepared for scikit-learn, it's your turn! But we are going to use random forests instead of decision trees.\n",
    "\n",
    "Scikit-learn also incorporates [random forests](http://scikit-learn.org/stable/modules/generated/sklearn.ensemble.RandomForestClassifier.html). Repeat the previous exercise with this classifier, looking at the hyper-parameter *n_estimators*\n",
    "\n",
    "You must therefore :\n",
    "\n",
    "1. Transform data to handle attributes that are not numeric,\n",
    "2. Cut them out (take 30% for the test set),\n",
    "3. Find the best possible values ​​for the parameter *n_estimator* (test ten of them, evenly distributed between 50 and 600, using cross-validation),\n",
    "4. Learn on the training set with this optimal value,\n",
    "5. Calculate the quality measures (error rate and F-score) on the test set"
   ]
  },
  {
   "cell_type": "code",
   "execution_count": 67,
   "metadata": {
    "colab": {},
    "colab_type": "code",
    "id": "Ail5le84wR1V",
    "lang": "fr"
   },
   "outputs": [
    {
     "name": "stdout",
     "output_type": "stream",
     "text": [
      "Best n :  355\n",
      "Accuracy: 0.8956310679611651\n",
      "F1-Score : 0.42\n"
     ]
    }
   ],
   "source": [
    "from sklearn.ensemble import RandomForestClassifier\n",
    "rf_clf = RandomForestClassifier(n_estimators=10)\n",
    "\n",
    "# Your turn\n",
    "\n",
    "# Étape 1 - Transformation des données pour traiter les attributs qui ne sont pas numériques\n",
    "from sklearn.preprocessing import LabelEncoder\n",
    "\n",
    "# Initialiser l'objet de transformation de label\n",
    "le = LabelEncoder()\n",
    "\n",
    "# Appliquer la transformation pour chaque colonne de type object dans le jeu de données\n",
    "for col in X.columns:\n",
    "    if X[col].dtype == object:\n",
    "        X[col] = le.fit_transform(X[col])\n",
    "\n",
    "# Étape 2 - Diviser les données en ensemble d'entraînement et de test\n",
    "from sklearn.model_selection import train_test_split\n",
    "\n",
    "X_train, X_test, y_train, y_test = train_test_split(X, y, test_size=0.3, random_state=0)\n",
    "\n",
    "# Étape 3 - Trouver les meilleures valeurs pour n_estimators en utilisant la validation croisée\n",
    "from sklearn.model_selection import GridSearchCV\n",
    "\n",
    "# A partir d'ici, j'ai eu besoins de rechercher de l'aide sur stackoverflow ou d'autres sitesabs\n",
    "\n",
    "# Définir la grille de paramètres pour n_estimators\n",
    "param_grid = {'n_estimators': np.linspace(50, 600, 10, dtype=int)}\n",
    "\n",
    "# Initialiser l'objet GridSearchCV pour trouver les meilleurs hyperparamètres\n",
    "rf_clf_grid = GridSearchCV(RandomForestClassifier(), param_grid, cv=5)\n",
    "\n",
    "# Entraîner sur l'ensemble d'entraînement\n",
    "rf_clf_grid.fit(X_train, y_train)\n",
    "\n",
    "# Obtenir la meilleure valeur pour n_estimators\n",
    "best_n_estimators = rf_clf_grid.best_params_['n_estimators']\n",
    "\n",
    "print(\"Best n : \", best_n_estimators)\n",
    "\n",
    "# Étape 4 - Entraîner avec la meilleure valeur de n_estimators\n",
    "rf_clf = RandomForestClassifier(n_estimators=best_n_estimators)\n",
    "rf_clf.fit(X_train, y_train)\n",
    "\n",
    "# Étape 5 - Calculer les mesures de qualité sur l'ensemble de test\n",
    "from sklearn.metrics import accuracy_score, f1_score\n",
    "\n",
    "# Prédiction sur l'ensemble de test\n",
    "y_pred = rf_clf.predict(X_test)\n",
    "\n",
    "# Calculer l'erreur\n",
    "acc = accuracy_score(y_test, y_pred)\n",
    "\n",
    "# Calculer le score F1\n",
    "f1 = f1_score(y_test, y_pred, pos_label='yes')\n",
    "\n",
    "print(\"Accuracy:\", acc)\n",
    "print(\"F1-Score : {:.2f}\".format(f1))\n",
    "\n",
    "# Le meilleure n est donc 355"
   ]
  },
  {
   "cell_type": "markdown",
   "metadata": {},
   "source": [
    "#### Feature Importances\n",
    "Once you have found the best hyperparameters and train your classifier with them, you can access the attribute *feature_importances_* of the classifier: it will give you for each feature its impact on the classification of the Random Forest. This score is based on the number of decision trees that actually use this feature, weighted by its place in the trees (the closet to the root, the better importance).\n",
    "\n",
    "1. Which feature is the most used?\n",
    "2. Draw a plot with the features as horizontal coordinates and the corresponding importance as vertical one "
   ]
  },
  {
   "cell_type": "code",
   "execution_count": 68,
   "metadata": {},
   "outputs": [
    {
     "name": "stdout",
     "output_type": "stream",
     "text": [
      "Feature ranking:\n",
      "1. feature 10 (0.299782)\n",
      "2. feature 18 (0.120399)\n",
      "3. feature 0 (0.076826)\n",
      "4. feature 19 (0.073374)\n",
      "5. feature 1 (0.041689)\n",
      "6. feature 12 (0.040478)\n",
      "7. feature 17 (0.037331)\n",
      "8. feature 3 (0.036476)\n",
      "9. feature 11 (0.035903)\n",
      "10. feature 9 (0.034608)\n",
      "11. feature 14 (0.034011)\n",
      "12. feature 16 (0.032640)\n",
      "13. feature 15 (0.024257)\n",
      "14. feature 8 (0.022525)\n",
      "15. feature 2 (0.021447)\n",
      "16. feature 13 (0.019279)\n",
      "17. feature 5 (0.016610)\n",
      "18. feature 6 (0.013559)\n",
      "19. feature 7 (0.011008)\n",
      "20. feature 4 (0.007796)\n",
      "The most important feature is duration\n"
     ]
    },
    {
     "data": {
      "image/png": "[encoded data removed]",
      "text/plain": [
       "<Figure size 432x288 with 1 Axes>"
      ]
     },
     "metadata": {
      "needs_background": "light"
     },
     "output_type": "display_data"
    }
   ],
   "source": [
    "# étape 1 : obtenir les importances des caractéristiques\n",
    "importances = rf_clf.feature_importances_\n",
    "\n",
    "# étape 2 : trouver la caractéristique la plus utilisée\n",
    "indices = np.argsort(importances)[::-1]\n",
    "print(\"Feature ranking:\")\n",
    "for f in range(X_train.shape[1]):\n",
    "    print(\"%d. feature %d (%f)\" % (f + 1, indices[f], importances[indices[f]]))\n",
    "\n",
    "most_important_feature = X_train.columns[indices[0]]\n",
    "print(\"The most important feature is\", most_important_feature)\n",
    "\n",
    "# étape 3 : tracer un graphique avec les caractéristiques en coordonnées horizontales et l'importance correspondante en coordonnées verticales\n",
    "import matplotlib.pyplot as plt\n",
    "plt.figure()\n",
    "plt.title(\"Feature importances\")\n",
    "plt.bar(range(X_train.shape[1]), importances[indices], color=\"r\", align=\"center\")\n",
    "plt.xticks(range(X_train.shape[1]), X_train.columns[indices], rotation=90)\n",
    "plt.xlim([-1, X_train.shape[1]])\n",
    "plt.show()"
   ]
  },
  {
   "cell_type": "code",
   "execution_count": null,
   "metadata": {},
   "outputs": [],
   "source": []
  }
 ],
 "metadata": {
  "colab": {
   "collapsed_sections": [],
   "name": "Correction-TP3-ISD.ipynb",
   "provenance": [],
   "version": "0.3.2"
  },
  "kernelspec": {
   "display_name": "Python 3 (ipykernel)",
   "language": "python",
   "name": "python3"
  },
  "language_info": {
   "codemirror_mode": {
    "name": "ipython",
    "version": 3
   },
   "file_extension": ".py",
   "mimetype": "text/x-python",
   "name": "python",
   "nbconvert_exporter": "python",
   "pygments_lexer": "ipython3",
   "version": "3.9.7"
  },
  "nbTranslate": {
   "displayLangs": [],
   "hotkey": "alt-t",
   "langInMainMenu": true,
   "sourceLang": "fr",
   "targetLang": "en",
   "useGoogleTranslate": true
  }
 },
 "nbformat": 4,
 "nbformat_minor": 4
}
