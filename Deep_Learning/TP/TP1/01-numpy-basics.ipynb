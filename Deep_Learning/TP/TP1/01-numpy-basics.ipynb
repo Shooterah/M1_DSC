{
 "cells": [
  {
   "cell_type": "markdown",
   "id": "39fcb955-cd40-478a-9f67-fdda98166061",
   "metadata": {},
   "source": [
    "# About these practical / tutorials\n",
    "\n",
    "- These practical sessions are in the form of notebooks to follow and fill in.\n",
    "- In case you cannot run the notebooks locally (e.g., missing libraries etc), you can use <https://jupyterlite.readthedocs.io/en/latest/_static/lab/index.html> (which runs the notebook using a Python running *in your browser* thanks to pyodide)... the first cell can take a long time to run, be patient."
   ]
  },
  {
   "cell_type": "code",
   "execution_count": 2,
   "id": "32fb168d-5378-448b-8cd5-cbb921b45446",
   "metadata": {},
   "outputs": [
    {
     "data": {
      "text/html": [
       "<style>\n",
       "/* *********************************************************** */\n",
       "/* styling the notebook, you can ignore it if it does not work */\n",
       "/* *********************************************************** */\n",
       "h3 { color: #60a5fa !important; text-decoration: underline; font-variant-caps: small-caps;}\n",
       ".jp-OutputArea-output { border-left: 10px solid grey; margin-left: 20px; }\n",
       "</style>\n"
      ],
      "text/plain": [
       "<IPython.core.display.HTML object>"
      ]
     },
     "metadata": {},
     "output_type": "display_data"
    }
   ],
   "source": [
    "%%html\n",
    "<style>\n",
    "/* *********************************************************** */\n",
    "/* styling the notebook, you can ignore it if it does not work */\n",
    "/* *********************************************************** */\n",
    "h3 { color: #60a5fa !important; text-decoration: underline; font-variant-caps: small-caps;}\n",
    ".jp-OutputArea-output { border-left: 10px solid grey; margin-left: 20px; }\n",
    "</style>"
   ]
  },
  {
   "cell_type": "markdown",
   "id": "fa2fc4a6-fc21-4bdb-ab51-ef585a276525",
   "metadata": {},
   "source": [
    "# Let's Start: Numpy Basics\n",
    "\n",
    "- Numpy is a Python library that is the fundation of most Python scientific libraries.\n",
    "- Numpy makes it easy to efficiently manipulate vectors (1d arrays), matrices (2d arrays), and generally \"n-dimensional arrays\" (nd arrays).\n",
    "- Deep learning framework actually re-implement the numpy API\n",
    "    - they can be used (mostly) in the same way as numpy arrays\n",
    "    - they often allow to manipulate arrays that are either in CPU or in GPU memory\n",
    "    - they often call *tensor* what numpy calls a *ndarray*\n",
    "\n",
    "It is thus mandatory to well understand numpy in order not to loose a lot of time when trying to manipulate libraries and deep learning frameworks."
   ]
  },
  {
   "cell_type": "markdown",
   "id": "bfe47cfc-562f-4961-b731-49dc26a40b2d",
   "metadata": {},
   "source": [
    "By a well established convention, the numpy library is imported and renamed as `np`."
   ]
  },
  {
   "cell_type": "code",
   "execution_count": 1,
   "id": "0d6eab8c-d301-4665-bd33-db63a4199a4d",
   "metadata": {},
   "outputs": [],
   "source": [
    "import numpy as np"
   ]
  },
  {
   "cell_type": "markdown",
   "id": "272e5f7b-62af-4867-97c0-4a000398759b",
   "metadata": {},
   "source": [
    "### Creating simple Numpy arrays\n",
    "\n",
    "Numpy allows for easy creation of arrays, with many different \"constructors\".\n",
    "\n",
    "The first way to construct an array is to use an existing Python list."
   ]
  },
  {
   "cell_type": "code",
   "execution_count": 2,
   "id": "2a0d7e59-58cf-4c53-baf4-63719ace3399",
   "metadata": {},
   "outputs": [
    {
     "name": "stdout",
     "output_type": "stream",
     "text": [
      "[10 20 30 40 50]\n"
     ]
    }
   ],
   "source": [
    "# build an array from a 1d Python list\n",
    "a = np.array([10, 20, 30, 40, 50])\n",
    "print(a)"
   ]
  },
  {
   "cell_type": "code",
   "execution_count": 3,
   "id": "a4364f2f-509e-43b8-ae7d-2c72cc8ae84e",
   "metadata": {},
   "outputs": [
    {
     "name": "stdout",
     "output_type": "stream",
     "text": [
      "[[10 20 30]\n",
      " [40 50 60]] \n",
      "======================\n",
      "\n",
      "[[[10 20 30]\n",
      "  [40 50 60]]\n",
      "\n",
      " [[11 21 31]\n",
      "  [42 52 62]]] \n",
      "======================\n",
      "\n"
     ]
    }
   ],
   "source": [
    "SEP = \"\\n======================\\n\"\n",
    "\n",
    "# build a 2d array from a \"rectangular\" Python list\n",
    "b = np.array([[10, 20, 30], [40, 50, 60]])\n",
    "print(b, SEP)\n",
    "\n",
    "# build a 3d array from a \"rectangular\" Python list\n",
    "c = np.array([ [[10, 20, 30], [40, 50, 60]], [[11, 21, 31], [42, 52, 62]] ])\n",
    "print(c, SEP)\n"
   ]
  },
  {
   "cell_type": "markdown",
   "id": "ffa32acd-1a60-412f-b017-bff50dbc6b0f",
   "metadata": {},
   "source": [
    "One can also create 1d arrays with regularly spaced values (like `range()` in plain Python)."
   ]
  },
  {
   "cell_type": "code",
   "execution_count": 4,
   "id": "6cfe2b27-322b-4c35-b956-87f4d9e1b26f",
   "metadata": {},
   "outputs": [
    {
     "name": "stdout",
     "output_type": "stream",
     "text": [
      "[0 1 2 3 4 5 6 7 8 9]\n",
      "======================\n",
      "[10 11 12 13 14 15 16 17 18 19]\n",
      "======================\n",
      "[10 12 14 16 18]\n",
      "======================\n",
      "[10.  11.5 13.  14.5 16.  17.5 19. ]\n",
      "======================\n",
      "[10. 12. 14. 16. 18. 20.] \n",
      "======================\n",
      "\n"
     ]
    }
   ],
   "source": [
    "# np.arange() is like range() but for numpy arrays, it also allows non-integer values\n",
    "r1 = np.arange(10)\n",
    "r2 = np.arange(10, 20)\n",
    "r3 = np.arange(10, 20, 2)\n",
    "r4 = np.arange(10, 20, 1.5)\n",
    "print(r1, r2, r3, r4, sep=SEP, end=SEP)\n",
    "\n",
    "# np.linspace() conveniently allows to specify the start and end (both included) and the number of values we want\n",
    "r5 = np.linspace(10, 20, 6)\n",
    "print(r5, SEP)"
   ]
  },
  {
   "cell_type": "markdown",
   "id": "4ab5bcfc-0360-49dc-adc7-09e015df2ab4",
   "metadata": {},
   "source": [
    "### The notion of *shape*\n",
    "\n",
    "- Each numpy array has a number of dimensions (also called axes), a vector is 1d, a matrix is 2d etc.\n",
    "- Along each dimension, a numpy array has a number of values, e.g. the number of rows and columns for a 2d array.\n",
    "- The tuple containing theses number of values is called the **shape** of a numpy array.\n",
    "- The shape of an array `a` can be accessed with either `np.shape(a)` or `a.shape`.\n",
    "- A new array with the same values as an existing array but *viewed* with a different shape can be created with the `reshape()` function.\n",
    "\n",
    "Let's look at the shapes of our arrays."
   ]
  },
  {
   "cell_type": "code",
   "execution_count": 5,
   "id": "ef76262c-f472-4752-a44b-fe2edfb6c17e",
   "metadata": {},
   "outputs": [
    {
     "name": "stdout",
     "output_type": "stream",
     "text": [
      "[10 20 30 40 50]\n",
      "............ is of shape (5,) \n",
      "======================\n",
      "\n",
      "[[10 20 30]\n",
      " [40 50 60]]\n",
      "............ is of shape (2, 3) \n",
      "======================\n",
      "\n",
      "[[[10 20 30]\n",
      "  [40 50 60]]\n",
      "\n",
      " [[11 21 31]\n",
      "  [42 52 62]]]\n",
      "............ is of shape (2, 2, 3) \n",
      "======================\n",
      "\n",
      "[0 1 2 3 4 5 6 7 8 9]\n",
      "............ is of shape (10,) \n",
      "======================\n",
      "\n",
      "[10 11 12 13 14 15 16 17 18 19]\n",
      "............ is of shape (10,) \n",
      "======================\n",
      "\n",
      "[10. 12. 14. 16. 18. 20.]\n",
      "............ is of shape (6,) \n",
      "======================\n",
      "\n"
     ]
    }
   ],
   "source": [
    "for arr in [a, b, c, r1, r2, r5]:\n",
    "    print(arr)\n",
    "    print(\"............ is of shape\", arr.shape, SEP)"
   ]
  },
  {
   "cell_type": "markdown",
   "id": "cc0331d9-0a73-43b8-8203-34594429c6c1",
   "metadata": {},
   "source": [
    "A few important points\n",
    "- Shapes are Python tuples, which are immutable lists (like a list but it cannot be modified).\n",
    "- We see that Python tuples are denoted with parenthesis.\n",
    "- We see that the special case of a Python tuple with a single value is denoted with a comma at the end, like `(5,)` (this is to distinguish from `(5)` which is Python syntax is just the number 5.\n",
    "- We see that the first dimension/axis is the rows (for the matrices), but generally the first `[` if we imagine it as a Python list."
   ]
  },
  {
   "cell_type": "markdown",
   "id": "72aaaa75-ba00-4ecf-bc03-7ab9205d94cf",
   "metadata": {},
   "source": [
    "### Creating Numpy arrays with a given shape, filled with stuff\n",
    "\n",
    "We can create numpy arrays also with a variety of functions that accept a shape as a parameter.\n",
    "\n",
    "For instance, we can create arrays filled with constant values."
   ]
  },
  {
   "cell_type": "code",
   "execution_count": 6,
   "id": "3bfaddfc-e50c-4f1b-a715-efe00a355e0e",
   "metadata": {},
   "outputs": [
    {
     "name": "stdout",
     "output_type": "stream",
     "text": [
      "[0. 0. 0. 0. 0. 0. 0.]\n",
      "======================\n",
      "[[0. 0. 0.]\n",
      " [0. 0. 0.]]\n",
      "======================\n",
      "[[[0. 0. 0. 0.]\n",
      "  [0. 0. 0. 0.]\n",
      "  [0. 0. 0. 0.]]\n",
      "\n",
      " [[0. 0. 0. 0.]\n",
      "  [0. 0. 0. 0.]\n",
      "  [0. 0. 0. 0.]]]\n",
      "======================\n",
      "[[[1. 1. 1. 1.]\n",
      "  [1. 1. 1. 1.]]\n",
      "\n",
      " [[1. 1. 1. 1.]\n",
      "  [1. 1. 1. 1.]]\n",
      "\n",
      " [[1. 1. 1. 1.]\n",
      "  [1. 1. 1. 1.]]]\n",
      "======================\n",
      "[[[42 42 42 42 42]]\n",
      "\n",
      " [[42 42 42 42 42]]]\n",
      "======================\n"
     ]
    }
   ],
   "source": [
    "s1 = np.zeros(7)\n",
    "s2 = np.zeros((2, 3))\n",
    "s3 = np.zeros((2, 3, 4))\n",
    "s4 = np.ones((3, 2, 4))\n",
    "s5 = np.full((2, 1, 5), 42)\n",
    "print(s1, s2, s3, s4, s5, sep=SEP, end=SEP)"
   ]
  },
  {
   "cell_type": "markdown",
   "id": "523733bb-2615-4e6b-9ab3-b1a313e3b380",
   "metadata": {},
   "source": [
    "Similarly, there are a many functions to create new arrays filled with random values, all in the `np.random` module."
   ]
  },
  {
   "cell_type": "code",
   "execution_count": 8,
   "id": "df7a2132-58b8-4155-ac32-0a2c9071a824",
   "metadata": {},
   "outputs": [
    {
     "name": "stdout",
     "output_type": "stream",
     "text": [
      "[[0.56209507 0.84610776 0.18417332 0.6755896  0.81117938]\n",
      " [0.58027297 0.805316   0.26191057 0.55291197 0.50135424]]\n",
      "======================\n",
      "[[40.00686869 40.17137068 41.2804123  40.51913113 40.06334022]\n",
      " [37.95686152 41.83756207 38.57518293 37.52937007 40.45796269]\n",
      " [38.587786   37.57078228 40.32527227 41.78573059 38.86730405]]\n",
      "======================\n",
      "[[42.01373317 41.93263248 42.21486495 42.24039728 42.02377156]\n",
      " [42.1673872  41.92000386 41.8922798  42.04252957 42.10344198]\n",
      " [41.86411132 42.0487679  42.09422487 42.1026139  42.25476147]]\n",
      "======================\n",
      "[[98 99 92 91 99 92 90 92 91 93 90 98 96 93 95]\n",
      " [98 99 91 97 94 96 96 96 96 99 99 98 91 95 95]]\n",
      "======================\n"
     ]
    }
   ],
   "source": [
    "s10 = np.random.random((2, 5)) # usual uniform [0,1]\n",
    "s11 = np.random.uniform(37.5, 42, (3, 5)) # uniform [37.5, 42]\n",
    "s12 = np.random.normal(42, 0.1, (3, 5)) # normal distribution with mean 42 and standard deviation 0.1\n",
    "s13 = np.random.randint(90, 100, (2, 15)) # like randrange() in Python\n",
    "\n",
    "print(s10, s11, s12, s13, sep=SEP, end=SEP)"
   ]
  },
  {
   "cell_type": "markdown",
   "id": "037902f9-bb83-444e-a9df-6d9f61ca0b16",
   "metadata": {},
   "source": [
    "As hinted above, we can *change the shape* of an array."
   ]
  },
  {
   "cell_type": "code",
   "execution_count": 9,
   "id": "de950142-e22e-4dcf-a0eb-770f85f14ffd",
   "metadata": {},
   "outputs": [
    {
     "name": "stdout",
     "output_type": "stream",
     "text": [
      "[ 0  2  4  6  8 10 12 14 16 18 20 22 24 26 28 30 32 34 36 38 40 42 44 46] \n",
      "...... has a shape of (24,) for a total of 24 elements. \n",
      "======================\n",
      "\n",
      "[ 0  2  4  6  8 10 12 14 16 18 20 22 24 26 28 30 32 34 36 38 40 42 44 46]\n",
      "======================\n",
      "[[ 0  2  4  6  8 10 12 14]\n",
      " [16 18 20 22 24 26 28 30]\n",
      " [32 34 36 38 40 42 44 46]]\n",
      "======================\n",
      "[[ 0  2  4  6  8 10]\n",
      " [12 14 16 18 20 22]\n",
      " [24 26 28 30 32 34]\n",
      " [36 38 40 42 44 46]]\n",
      "======================\n",
      "[[[ 0  2  4  6]\n",
      "  [ 8 10 12 14]\n",
      "  [16 18 20 22]]\n",
      "\n",
      " [[24 26 28 30]\n",
      "  [32 34 36 38]\n",
      "  [40 42 44 46]]]\n",
      "======================\n"
     ]
    }
   ],
   "source": [
    "s20 = np.arange(0, 47, 2)\n",
    "print(s20, \"\\n...... has a shape of\", s20.shape, \"for a total of\", s20.size, \"elements.\", SEP)\n",
    "\n",
    "s21 = s20.reshape((3, 8))\n",
    "# error = s20.reshape((3, 10))\n",
    "s22 = s20.reshape((4, 6))\n",
    "s23 = s20.reshape((2, 3, 4))\n",
    "print(s20, s21, s22, s23, sep=SEP, end=SEP)"
   ]
  },
  {
   "cell_type": "markdown",
   "id": "8d600d1a-2b00-4246-84a8-245bc3ff9494",
   "metadata": {},
   "source": [
    "We can note that\n",
    "- the last dimension/axis (e.g. the columns in 2d) are filled first, then the one before the last etc.\n",
    "- we would get an error if we would put a shape that does imply the same number of elements as the original array\n",
    "\n",
    "Reshape also allows for up to one *wildcard* expressed as `-1`\n",
    "- as reshape knows the total size of the original array, it can infer one of the value in the new shape (by dividing the number of elements by the specified shape values),\n",
    "- for instance if we have an array with 24 values and reshape it in an 2d array with 3 rows, then the number of columns can be inferred to be 8 (24 / 3).\n"
   ]
  },
  {
   "cell_type": "code",
   "execution_count": 10,
   "id": "523ea82b-45fb-4f8e-b30c-b6f4a951620e",
   "metadata": {},
   "outputs": [
    {
     "name": "stdout",
     "output_type": "stream",
     "text": [
      "[ 0  2  4  6  8 10 12 14 16 18 20 22 24 26 28 30 32 34 36 38 40 42 44 46]\n",
      "======================\n",
      "[[ 0  2  4  6  8 10 12 14]\n",
      " [16 18 20 22 24 26 28 30]\n",
      " [32 34 36 38 40 42 44 46]]\n",
      "======================\n",
      "[[ 0  2  4  6  8 10]\n",
      " [12 14 16 18 20 22]\n",
      " [24 26 28 30 32 34]\n",
      " [36 38 40 42 44 46]]\n",
      "======================\n",
      "[[[ 0  2  4  6]\n",
      "  [ 8 10 12 14]\n",
      "  [16 18 20 22]]\n",
      "\n",
      " [[24 26 28 30]\n",
      "  [32 34 36 38]\n",
      "  [40 42 44 46]]]\n",
      "======================\n",
      "[[ 0  2  4  6  8 10 12 14]\n",
      " [16 18 20 22 24 26 28 30]\n",
      " [32 34 36 38 40 42 44 46]]\n",
      "======================\n",
      "[[ 0  2  4  6  8 10]\n",
      " [12 14 16 18 20 22]\n",
      " [24 26 28 30 32 34]\n",
      " [36 38 40 42 44 46]]\n",
      "======================\n",
      "[[[ 0  2  4  6]\n",
      "  [ 8 10 12 14]\n",
      "  [16 18 20 22]]\n",
      "\n",
      " [[24 26 28 30]\n",
      "  [32 34 36 38]\n",
      "  [40 42 44 46]]]\n",
      "======================\n"
     ]
    }
   ],
   "source": [
    "# with a \"-1\" shortcut\n",
    "s24 = s20.reshape((3, -1))\n",
    "# error = s20.reshape((-1, -1))\n",
    "s25 = s20.reshape((-1, 6))\n",
    "s26 = s20.reshape((2, -1, 4))\n",
    "# error = s20.reshape((2, -1, -1))\n",
    "print(s20, s21, s22, s23, s24, s25, s26, sep=SEP, end=SEP)"
   ]
  },
  {
   "cell_type": "markdown",
   "id": "2b03bdf5-cc88-4b3e-ad9d-19d9129cd9db",
   "metadata": {},
   "source": [
    "### Numpy operations are element-wise\n",
    "\n",
    "Any Python operator works on numpy arrays (or between an array and a scalar), and is done element-wise.\n",
    "\n",
    "Here are a few examples, in 1d."
   ]
  },
  {
   "cell_type": "code",
   "execution_count": 11,
   "id": "b0695d14-2d5a-425a-b968-0a3dab0e1724",
   "metadata": {},
   "outputs": [
    {
     "name": "stdout",
     "output_type": "stream",
     "text": [
      "[0 1 2 3 4 5 6 7 8 9]\n",
      "======================\n",
      "[1000 1100 1200 1300 1400 1500 1600 1700 1800 1900]\n",
      "======================\n",
      "[ 0 10 20 30 40 50 60 70 80 90]\n",
      "======================\n",
      "[ 1  2  3  4  5  6  7  8  9 10]\n",
      "======================\n",
      "[1000 1101 1202 1303 1404 1505 1606 1707 1808 1909]\n",
      "======================\n",
      "[ 0  1  4  9 16 25 36 49 64 81]\n",
      "======================\n",
      "[  0   1   8  27  64 125 216 343 512 729]\n",
      "======================\n",
      "[  1   2   4   8  16  32  64 128 256 512]\n",
      "======================\n",
      "[nan  1.  2.  3.  4.  5.  6.  7.  8.  9.]\n",
      "======================\n"
     ]
    },
    {
     "name": "stderr",
     "output_type": "stream",
     "text": [
      "C:\\Users\\flori\\AppData\\Local\\Temp/ipykernel_20648/2670669461.py:9: RuntimeWarning: invalid value encountered in true_divide\n",
      "  e9 = e1**2 / e1\n"
     ]
    }
   ],
   "source": [
    "e1 = np.arange(10)\n",
    "e2 = np.arange(1000, 2000, 100)\n",
    "e3 = e1 * 10\n",
    "e4 = 1 + e1\n",
    "e5 = e1 + e2\n",
    "e6 = e1*e1\n",
    "e7 = e1**3\n",
    "e8 = 2**e1\n",
    "e9 = e1**2 / e1\n",
    "print(e1, e2, e3, e4, e5, e6, e7, e8, e9, sep=SEP, end=SEP)"
   ]
  },
  {
   "cell_type": "markdown",
   "id": "1ebd0a86-e926-4f51-b96b-f9a139970c79",
   "metadata": {},
   "source": [
    "(an error, actually a RuntimeWarning is normal above, no exceptions are thrown, a \"nan\" value is produced)\n",
    "\n",
    "The same works with multi-dimensional arrays, (for now) with the constraint that they have the same shape."
   ]
  },
  {
   "cell_type": "code",
   "execution_count": 12,
   "id": "eb9be7a2-fc29-454a-a4b3-46fae32398b8",
   "metadata": {},
   "outputs": [
    {
     "name": "stdout",
     "output_type": "stream",
     "text": [
      "[[94 92 93 95 95]\n",
      " [99 91 91 97 96]]\n",
      "======================\n",
      "[[ 1  2  3  4  5]\n",
      " [ 6  7  8  9 10]]\n",
      "======================\n",
      "[[6094 6092 6093 6095 6095]\n",
      " [6099 6091 6091 6097 6096]]\n",
      "======================\n",
      "[[940001 920002 930003 950004 950005]\n",
      " [990006 910007 910008 970009 960010]]\n",
      "======================\n"
     ]
    }
   ],
   "source": [
    "e10 = np.random.randint(90, 100, (2, 5))\n",
    "e11 = np.arange(1, 11).reshape((2, 5))\n",
    "e12 = e10 + 6000\n",
    "e13 = 10000*e10 + e11\n",
    "print(e10, e11, e12, e13, sep=SEP, end=SEP)"
   ]
  },
  {
   "cell_type": "markdown",
   "id": "d4b551c5-a151-498f-b7fe-d70ce7ae5936",
   "metadata": {},
   "source": [
    "### Element-wise functions\n",
    "\n",
    "Most `math` functions exists in the `numpy` module and can work both on scalars and arrays of any sizes, where they are applied element-wise."
   ]
  },
  {
   "cell_type": "code",
   "execution_count": 13,
   "id": "e7e22293-0bce-4ca7-aa1d-dad7ad9b5e99",
   "metadata": {},
   "outputs": [
    {
     "name": "stdout",
     "output_type": "stream",
     "text": [
      "[180 181 182 183 184 185 186 187 188 189 190 191 192 193 194 195 196 197\n",
      " 198 199 200 201 202 203 204 205 206 207 208 209 210 211 212 213 214 215\n",
      " 216 217 218 219 220 221 222 223 224 225 226 227 228 229 230 231 232 233\n",
      " 234 235 236 237 238 239 240 241 242 243 244 245 246 247 248 249 250 251\n",
      " 252 253 254 255 256 257 258 259 260 261 262 263 264 265 266 267 268 269\n",
      " 270 271 272 273 274 275 276 277 278 279 280 281 282 283 284 285 286 287\n",
      " 288 289 290 291 292 293 294 295 296 297 298 299 300 301 302 303 304 305\n",
      " 306 307 308 309 310 311 312 313 314 315 316 317 318 319 320 321 322 323\n",
      " 324 325 326 327 328 329 330 331 332 333 334 335 336 337 338 339 340 341\n",
      " 342 343 344 345 346 347 348 349 350 351 352 353 354 355 356 357 358 359]\n",
      "======================\n",
      "[3.14159265 3.15904595 3.17649924 3.19395253 3.21140582 3.22885912\n",
      " 3.24631241 3.2637657  3.28121899 3.29867229 3.31612558 3.33357887\n",
      " 3.35103216 3.36848546 3.38593875 3.40339204 3.42084533 3.43829863\n",
      " 3.45575192 3.47320521 3.4906585  3.5081118  3.52556509 3.54301838\n",
      " 3.56047167 3.57792497 3.59537826 3.61283155 3.63028484 3.64773814\n",
      " 3.66519143 3.68264472 3.70009801 3.71755131 3.7350046  3.75245789\n",
      " 3.76991118 3.78736448 3.80481777 3.82227106 3.83972435 3.85717765\n",
      " 3.87463094 3.89208423 3.90953752 3.92699082 3.94444411 3.9618974\n",
      " 3.97935069 3.99680399 4.01425728 4.03171057 4.04916386 4.06661716\n",
      " 4.08407045 4.10152374 4.11897703 4.13643033 4.15388362 4.17133691\n",
      " 4.1887902  4.2062435  4.22369679 4.24115008 4.25860337 4.27605667\n",
      " 4.29350996 4.31096325 4.32841654 4.34586984 4.36332313 4.38077642\n",
      " 4.39822972 4.41568301 4.4331363  4.45058959 4.46804289 4.48549618\n",
      " 4.50294947 4.52040276 4.53785606 4.55530935 4.57276264 4.59021593\n",
      " 4.60766923 4.62512252 4.64257581 4.6600291  4.6774824  4.69493569\n",
      " 4.71238898 4.72984227 4.74729557 4.76474886 4.78220215 4.79965544\n",
      " 4.81710874 4.83456203 4.85201532 4.86946861 4.88692191 4.9043752\n",
      " 4.92182849 4.93928178 4.95673508 4.97418837 4.99164166 5.00909495\n",
      " 5.02654825 5.04400154 5.06145483 5.07890812 5.09636142 5.11381471\n",
      " 5.131268   5.14872129 5.16617459 5.18362788 5.20108117 5.21853446\n",
      " 5.23598776 5.25344105 5.27089434 5.28834763 5.30580093 5.32325422\n",
      " 5.34070751 5.3581608  5.3756141  5.39306739 5.41052068 5.42797397\n",
      " 5.44542727 5.46288056 5.48033385 5.49778714 5.51524044 5.53269373\n",
      " 5.55014702 5.56760031 5.58505361 5.6025069  5.61996019 5.63741348\n",
      " 5.65486678 5.67232007 5.68977336 5.70722665 5.72467995 5.74213324\n",
      " 5.75958653 5.77703982 5.79449312 5.81194641 5.8293997  5.84685299\n",
      " 5.86430629 5.88175958 5.89921287 5.91666616 5.93411946 5.95157275\n",
      " 5.96902604 5.98647933 6.00393263 6.02138592 6.03883921 6.0562925\n",
      " 6.0737458  6.09119909 6.10865238 6.12610567 6.14355897 6.16101226\n",
      " 6.17846555 6.19591884 6.21337214 6.23082543 6.24827872 6.26573201]\n",
      "======================\n",
      "[ 1.22464680e-16 -1.74524064e-02 -3.48994967e-02 -5.23359562e-02\n",
      " -6.97564737e-02 -8.71557427e-02 -1.04528463e-01 -1.21869343e-01\n",
      " -1.39173101e-01 -1.56434465e-01 -1.73648178e-01 -1.90808995e-01\n",
      " -2.07911691e-01 -2.24951054e-01 -2.41921896e-01 -2.58819045e-01\n",
      " -2.75637356e-01 -2.92371705e-01 -3.09016994e-01 -3.25568154e-01\n",
      " -3.42020143e-01 -3.58367950e-01 -3.74606593e-01 -3.90731128e-01\n",
      " -4.06736643e-01 -4.22618262e-01 -4.38371147e-01 -4.53990500e-01\n",
      " -4.69471563e-01 -4.84809620e-01 -5.00000000e-01 -5.15038075e-01\n",
      " -5.29919264e-01 -5.44639035e-01 -5.59192903e-01 -5.73576436e-01\n",
      " -5.87785252e-01 -6.01815023e-01 -6.15661475e-01 -6.29320391e-01\n",
      " -6.42787610e-01 -6.56059029e-01 -6.69130606e-01 -6.81998360e-01\n",
      " -6.94658370e-01 -7.07106781e-01 -7.19339800e-01 -7.31353702e-01\n",
      " -7.43144825e-01 -7.54709580e-01 -7.66044443e-01 -7.77145961e-01\n",
      " -7.88010754e-01 -7.98635510e-01 -8.09016994e-01 -8.19152044e-01\n",
      " -8.29037573e-01 -8.38670568e-01 -8.48048096e-01 -8.57167301e-01\n",
      " -8.66025404e-01 -8.74619707e-01 -8.82947593e-01 -8.91006524e-01\n",
      " -8.98794046e-01 -9.06307787e-01 -9.13545458e-01 -9.20504853e-01\n",
      " -9.27183855e-01 -9.33580426e-01 -9.39692621e-01 -9.45518576e-01\n",
      " -9.51056516e-01 -9.56304756e-01 -9.61261696e-01 -9.65925826e-01\n",
      " -9.70295726e-01 -9.74370065e-01 -9.78147601e-01 -9.81627183e-01\n",
      " -9.84807753e-01 -9.87688341e-01 -9.90268069e-01 -9.92546152e-01\n",
      " -9.94521895e-01 -9.96194698e-01 -9.97564050e-01 -9.98629535e-01\n",
      " -9.99390827e-01 -9.99847695e-01 -1.00000000e+00 -9.99847695e-01\n",
      " -9.99390827e-01 -9.98629535e-01 -9.97564050e-01 -9.96194698e-01\n",
      " -9.94521895e-01 -9.92546152e-01 -9.90268069e-01 -9.87688341e-01\n",
      " -9.84807753e-01 -9.81627183e-01 -9.78147601e-01 -9.74370065e-01\n",
      " -9.70295726e-01 -9.65925826e-01 -9.61261696e-01 -9.56304756e-01\n",
      " -9.51056516e-01 -9.45518576e-01 -9.39692621e-01 -9.33580426e-01\n",
      " -9.27183855e-01 -9.20504853e-01 -9.13545458e-01 -9.06307787e-01\n",
      " -8.98794046e-01 -8.91006524e-01 -8.82947593e-01 -8.74619707e-01\n",
      " -8.66025404e-01 -8.57167301e-01 -8.48048096e-01 -8.38670568e-01\n",
      " -8.29037573e-01 -8.19152044e-01 -8.09016994e-01 -7.98635510e-01\n",
      " -7.88010754e-01 -7.77145961e-01 -7.66044443e-01 -7.54709580e-01\n",
      " -7.43144825e-01 -7.31353702e-01 -7.19339800e-01 -7.07106781e-01\n",
      " -6.94658370e-01 -6.81998360e-01 -6.69130606e-01 -6.56059029e-01\n",
      " -6.42787610e-01 -6.29320391e-01 -6.15661475e-01 -6.01815023e-01\n",
      " -5.87785252e-01 -5.73576436e-01 -5.59192903e-01 -5.44639035e-01\n",
      " -5.29919264e-01 -5.15038075e-01 -5.00000000e-01 -4.84809620e-01\n",
      " -4.69471563e-01 -4.53990500e-01 -4.38371147e-01 -4.22618262e-01\n",
      " -4.06736643e-01 -3.90731128e-01 -3.74606593e-01 -3.58367950e-01\n",
      " -3.42020143e-01 -3.25568154e-01 -3.09016994e-01 -2.92371705e-01\n",
      " -2.75637356e-01 -2.58819045e-01 -2.41921896e-01 -2.24951054e-01\n",
      " -2.07911691e-01 -1.90808995e-01 -1.73648178e-01 -1.56434465e-01\n",
      " -1.39173101e-01 -1.21869343e-01 -1.04528463e-01 -8.71557427e-02\n",
      " -6.97564737e-02 -5.23359562e-02 -3.48994967e-02 -1.74524064e-02]\n",
      "======================\n",
      "[1.         0.982699   0.96570247 0.94900999 0.93262091 0.91653434\n",
      " 0.90074916 0.88526403 0.8700774  0.85518756 0.84059258 0.8262904\n",
      " 0.81227877 0.7985553  0.7851175  0.7719627  0.75908816 0.74649101\n",
      " 0.73416829 0.72211696 0.7103339  0.6988159  0.68755972 0.67656204\n",
      " 0.66581952 0.65532875 0.64508632 0.63508877 0.62533263 0.61581442\n",
      " 0.60653066 0.59747785 0.58865249 0.58005112 0.57167027 0.56350649\n",
      " 0.55555634 0.54781643 0.54028339 0.53295388 0.52582459 0.51889225\n",
      " 0.51215365 0.5056056  0.49924498 0.49306869 0.48707372 0.48125707\n",
      " 0.47561583 0.47014713 0.46484817 0.45971619 0.4547485  0.44994249\n",
      " 0.44529558 0.44080528 0.43646915 0.43228483 0.42825002 0.42436247\n",
      " 0.42062003 0.41702058 0.4135621  0.41024263 0.40706026 0.40401318\n",
      " 0.40109962 0.3983179  0.3956664  0.39314357 0.39074792 0.38847806\n",
      " 0.38633264 0.38431039 0.3824101  0.38063064 0.37897095 0.37743004\n",
      " 0.37600697 0.3747009  0.37351103 0.37243664 0.3714771  0.3706318\n",
      " 0.36990025 0.369282   0.36877667 0.36838395 0.36810361 0.36793548\n",
      " 0.36787944 0.36793548 0.36810361 0.36838395 0.36877667 0.369282\n",
      " 0.36990025 0.3706318  0.3714771  0.37243664 0.37351103 0.3747009\n",
      " 0.37600697 0.37743004 0.37897095 0.38063064 0.3824101  0.38431039\n",
      " 0.38633264 0.38847806 0.39074792 0.39314357 0.3956664  0.3983179\n",
      " 0.40109962 0.40401318 0.40706026 0.41024263 0.4135621  0.41702058\n",
      " 0.42062003 0.42436247 0.42825002 0.43228483 0.43646915 0.44080528\n",
      " 0.44529558 0.44994249 0.4547485  0.45971619 0.46484817 0.47014713\n",
      " 0.47561583 0.48125707 0.48707372 0.49306869 0.49924498 0.5056056\n",
      " 0.51215365 0.51889225 0.52582459 0.53295388 0.54028339 0.54781643\n",
      " 0.55555634 0.56350649 0.57167027 0.58005112 0.58865249 0.59747785\n",
      " 0.60653066 0.61581442 0.62533263 0.63508877 0.64508632 0.65532875\n",
      " 0.66581952 0.67656204 0.68755972 0.6988159  0.7103339  0.72211696\n",
      " 0.73416829 0.74649101 0.75908816 0.7719627  0.7851175  0.7985553\n",
      " 0.81227877 0.8262904  0.84059258 0.85518756 0.8700774  0.88526403\n",
      " 0.90074916 0.91653434 0.93262091 0.94900999 0.96570247 0.982699  ]\n",
      "======================\n"
     ]
    }
   ],
   "source": [
    "e20 = np.arange(180, 360)\n",
    "e21 = np.radians(e20)\n",
    "e22 = np.sin(e21)\n",
    "e23 = np.exp(e22)\n",
    "print(e20, e21, e22, e23, sep=SEP, end=SEP)\n"
   ]
  },
  {
   "cell_type": "markdown",
   "id": "b0accf02-31e2-40f6-9d6a-8f65c43bf610",
   "metadata": {},
   "source": [
    "### Aggregation function\n",
    "\n",
    "Going beyond the simple Python `sum()` function, numpy provides aggretation functions:\n",
    "- some examples are `np.sum()`, `np.mean()`, `np.median()`, ...\n",
    "- each function works on numpy arrays (and also Python lists)\n",
    "- each function can specify which dimension/axis to aggregate over, e.g. to compute the mean of each column in a 2d array (that is averaging along the row axis).\n",
    "\n",
    "Here are examples, where we use a 3d array."
   ]
  },
  {
   "cell_type": "code",
   "execution_count": 14,
   "id": "a12ebd2d-9a6c-4a92-9952-07d1ce198ff2",
   "metadata": {},
   "outputs": [
    {
     "name": "stdout",
     "output_type": "stream",
     "text": [
      "We have an array of shape (3, 5, 10) for a total number of 150 elements\n",
      "From the number of integers in the shape, we can say that the array has 3 axes/dimensions.\n",
      "... along axis 0 there are 3 elements\n",
      "... along axis 1 there are 5 elements\n",
      "... along axis 2 there are 10 elements\n",
      "\n",
      "======================\n",
      "\n",
      "149.90062845658542\n",
      "======================\n",
      "0.9993375230439028\n",
      "======================\n",
      "0.010612364550924073\n",
      "======================\n"
     ]
    }
   ],
   "source": [
    "u1 = np.random.normal(1.0, 0.01, (3, 5, 10)) # draw 7500 values close to 1, with standard deviaton 0.01\n",
    "print(\"We have an array of shape\", u1.shape, \"for a total number of\", u1.size, \"elements\")\n",
    "print(\"From the number of integers in the shape, we can say that the array has\", len(u1.shape), \"axes/dimensions.\")\n",
    "for i in range(len(u1.shape)):\n",
    "    print(\"... along axis\", i, \"there are\", u1.shape[i], \"elements\")\n",
    "print(SEP)\n",
    "# simple examples to aggregate over the whole array\n",
    "u2 = np.sum(u1)\n",
    "u3 = np.mean(u1)\n",
    "u4 = np.std(u1)\n",
    "print(u2, u3, u4, sep=SEP, end=SEP)"
   ]
  },
  {
   "cell_type": "code",
   "execution_count": 15,
   "id": "ce5087ec-00a8-4d4b-9fc4-9870a4a82957",
   "metadata": {},
   "outputs": [
    {
     "name": "stdout",
     "output_type": "stream",
     "text": [
      "[[10.00498928  9.99927809  9.9809229  10.00722205  9.97661369]\n",
      " [10.0304272   9.97748666 10.01136918 10.01481299  9.96182899]\n",
      " [ 9.97497988  9.97649808 10.00422585  9.97675459 10.00321903]]\n",
      "======================\n",
      "[[1.00049893 0.99992781 0.99809229 1.00072221 0.99766137]\n",
      " [1.00304272 0.99774867 1.00113692 1.0014813  0.9961829 ]\n",
      " [0.99749799 0.99764981 1.00042258 0.99767546 1.0003219 ]]\n",
      "======================\n",
      "[[0.00987529 0.01085135 0.01156042 0.01260572 0.01439775]\n",
      " [0.01062965 0.01042457 0.0066556  0.00927654 0.00565406]\n",
      " [0.01244751 0.01082161 0.00788013 0.01119151 0.00881419]]\n",
      "======================\n",
      "(5, 10)\n",
      "======================\n",
      "(3, 10)\n",
      "======================\n",
      "(3, 5)\n",
      "======================\n",
      "(1, 5, 10)\n",
      "======================\n",
      "(3, 1, 10)\n",
      "======================\n",
      "(3, 5, 1)\n",
      "======================\n",
      "(10,)\n",
      "======================\n",
      "(3,)\n",
      "======================\n",
      "(5,)\n",
      "======================\n",
      "(1, 5, 1)\n",
      "======================\n"
     ]
    }
   ],
   "source": [
    "# selecting which axis to aggregate over\n",
    "u10 = np.sum(u1, axis=2) # summing **along** axis 2\n",
    "u11 = np.mean(u1, axis=2)\n",
    "u12 = np.std(u1, axis=2)\n",
    "print(u10, u11, u12, sep=SEP, end=SEP)\n",
    "\n",
    "u13 = np.sum(u1, axis=0)\n",
    "u14 = np.sum(u1, axis=1)\n",
    "u15 = np.sum(u1, axis=2)\n",
    "# keeping the aggregated dimension (but then it has size 1)\n",
    "u16 = np.sum(u1, axis=0, keepdims=True)\n",
    "u17 = np.sum(u1, axis=1, keepdims=True)\n",
    "u18 = np.sum(u1, axis=2, keepdims=True)\n",
    "# aggregating along several dimensions\n",
    "u19 = np.sum(u1, axis=(0,1))\n",
    "u20 = np.sum(u1, axis=(1,2))\n",
    "u21 = np.sum(u1, axis=(0,2))\n",
    "u22 = np.sum(u1, axis=(0,2), keepdims=True)\n",
    "for u in [u13, u14, u15, u16, u17, u18, u19, u20, u21, u22]:\n",
    "    print(u.shape, end=SEP)"
   ]
  },
  {
   "cell_type": "markdown",
   "id": "0a6182a5-bc3e-43f9-8daa-b7f66d96a86e",
   "metadata": {},
   "source": [
    "### Accessing elements and slices (plain Python lists)"
   ]
  },
  {
   "cell_type": "markdown",
   "id": "aec0c394-8dfd-42c9-8c30-b300cd852739",
   "metadata": {},
   "source": [
    "Python supports list indexing (as all programming languages) but also allow \"slicing\" to extract a subpart (as a view) of an existing list."
   ]
  },
  {
   "cell_type": "code",
   "execution_count": 16,
   "id": "98650b1d-4c45-490a-95a8-bb98dddddcd1",
   "metadata": {},
   "outputs": [
    {
     "name": "stdout",
     "output_type": "stream",
     "text": [
      "30\n",
      "[30, 40, 50]\n",
      "[30, 50]\n"
     ]
    }
   ],
   "source": [
    "l = [0, 10, 20, 30, 40, 50, 60, 70, 80, 90]\n",
    "\n",
    "# plain access\n",
    "print(l[3])\n",
    "# slicing\n",
    "l2 = l[3:6]\n",
    "print(l2)\n",
    "# slicing with a step value\n",
    "l3 = l[3:6:2]\n",
    "print(l3)"
   ]
  },
  {
   "cell_type": "markdown",
   "id": "81978a68-0fc6-464c-a6b2-221b5a3c33b3",
   "metadata": {},
   "source": [
    "Slicing allows for two or 3 values (`start:end` or `start:end:step`) and this has to be put in parallel with the parameters of `range()`. Here is equivalent versions without slicing."
   ]
  },
  {
   "cell_type": "code",
   "execution_count": 17,
   "id": "1c4c13e1-742f-4cd1-b4de-54a706b56339",
   "metadata": {},
   "outputs": [
    {
     "name": "stdout",
     "output_type": "stream",
     "text": [
      "[30, 40, 50]\n",
      "======================\n",
      "[30, 50]\n",
      "======================\n",
      "[30, 50]\n",
      "======================\n"
     ]
    }
   ],
   "source": [
    "l2bis = [ l[i] for i in range(3, 6) ]\n",
    "l3bis = [ l[i] for i in range(3, 6, 2) ]\n",
    "# almost equivalent to\n",
    "l3ter = []\n",
    "for i in range(3, 6, 2):\n",
    "    l3ter.append(l[i])\n",
    "print(l2bis, l3bis, l3ter, sep=SEP, end=SEP)"
   ]
  },
  {
   "cell_type": "markdown",
   "id": "755a1d1a-02ef-443e-8d0a-c174143919bb",
   "metadata": {},
   "source": [
    "There are also default values for beginning and end, and negative steps are allowed."
   ]
  },
  {
   "cell_type": "code",
   "execution_count": 18,
   "id": "69a86678-15a0-45b1-829e-0726e2c4510b",
   "metadata": {},
   "outputs": [
    {
     "name": "stdout",
     "output_type": "stream",
     "text": [
      "[0, 10, 20]\n",
      "[50, 60, 70, 80, 90]\n",
      "[0, 20, 40]\n",
      "[50, 70, 90]\n",
      "[0, 30, 60, 90]\n",
      "[0, 10, 20, 30, 40, 50, 60, 70, 80, 90]\n",
      "[90, 80, 70, 60, 50, 40, 30, 20, 10, 0]\n",
      "[90, 60, 30, 0]\n"
     ]
    }
   ],
   "source": [
    "print(l[:3])\n",
    "print(l[5:])\n",
    "print(l[:5:2])\n",
    "print(l[5::2])\n",
    "print(l[::3])\n",
    "print(l[:]) # not so useful for now\n",
    "print(l[::-1]) # negative step\n",
    "print(l[::-3])"
   ]
  },
  {
   "cell_type": "markdown",
   "id": "f85425e7-e97d-4e58-88da-d8974aef05d4",
   "metadata": {},
   "source": [
    "Negative indices also work, counting from the end of the list."
   ]
  },
  {
   "cell_type": "code",
   "execution_count": 19,
   "id": "39e672fc-c388-425c-a53d-7d77b57699e9",
   "metadata": {},
   "outputs": [
    {
     "name": "stdout",
     "output_type": "stream",
     "text": [
      "90\n",
      "90\n",
      "70\n",
      "70\n",
      "[10, 20, 30, 40, 50, 60, 70, 80]\n",
      "[10, 20, 30, 40, 50, 60, 70, 80]\n",
      "[0, 10, 20, 30, 40, 50, 60]\n"
     ]
    }
   ],
   "source": [
    "print(l[-1])\n",
    "print(l[len(l)-1]) # equivalent\n",
    "\n",
    "print(l[-3])\n",
    "print(l[len(l)-3]) # equivalent\n",
    "\n",
    "# also with slices\n",
    "print(l[1:-1])\n",
    "print(l[1:len(l)-1]) # equivalent\n",
    "\n",
    "print(l[:-3])"
   ]
  },
  {
   "cell_type": "markdown",
   "id": "e1b00e87-06c7-41d4-bffd-cefcaa5d90ad",
   "metadata": {},
   "source": [
    "All indexing work for affectations (on the left of an equal sign) provided there are the same number of elements on the right (numpy waives this restriction)."
   ]
  },
  {
   "cell_type": "code",
   "execution_count": 20,
   "id": "c9e80b04-155d-4386-845b-193c5423c2a2",
   "metadata": {},
   "outputs": [
    {
     "name": "stdout",
     "output_type": "stream",
     "text": [
      "[0, 10, 20, 30, 40, 50, 60, 70, 80, 90]\n",
      "======================\n",
      "[0, 10, 20, 4, 40, 2, 60, 70, 80, 90]\n",
      "======================\n"
     ]
    }
   ],
   "source": [
    "print(l, end=SEP)\n",
    "#error l[3:6:2] = 42\n",
    "l[3:6:2] = [4, 2]\n",
    "print(l, end=SEP)"
   ]
  },
  {
   "cell_type": "markdown",
   "id": "690cf2b1-014e-4b11-8973-7fa038052413",
   "metadata": {},
   "source": [
    "### Accessing elements and slices in numpy arrays"
   ]
  },
  {
   "cell_type": "markdown",
   "id": "cc3b95c6-f2ca-4f44-be05-195f4582bd2e",
   "metadata": {},
   "source": [
    "Numpy array with 1 dimensions can be used exactly like lists, including for all indexing, slices etc. Numpy additionally allow, like in operations between an array and a number, to automatically repeat a value, like below."
   ]
  },
  {
   "cell_type": "code",
   "execution_count": 21,
   "id": "16c846f5-5ccb-46a1-91bd-59d1164b8c20",
   "metadata": {},
   "outputs": [
    {
     "name": "stdout",
     "output_type": "stream",
     "text": [
      "[ 0 10 20 30 40 50 60 70 80 90]\n"
     ]
    }
   ],
   "source": [
    "t1 = np.arange(10)*10 # same as the list l above \n",
    "print(t1)"
   ]
  },
  {
   "cell_type": "code",
   "execution_count": 22,
   "id": "b650211f-006a-4269-9017-ff06faf6e7ab",
   "metadata": {},
   "outputs": [
    {
     "name": "stdout",
     "output_type": "stream",
     "text": [
      "[ 0 10 20  4 40  4 60 70 80 90]\n"
     ]
    }
   ],
   "source": [
    "# replacing several values by 4\n",
    "t1[3:6:2] = 4\n",
    "print(t1)"
   ]
  },
  {
   "cell_type": "markdown",
   "id": "140121f3-f1e4-403c-94cb-3e0285b3451b",
   "metadata": {},
   "source": [
    "Multi-dimensional numpy arrays can be accessed by passing `,`-separated indices and/or \n",
    "slices. For instance in 2d, we pass 2 indices and/or slices."
   ]
  },
  {
   "cell_type": "code",
   "execution_count": 23,
   "id": "f99c4466-6049-4912-b98e-5abe5bc32b51",
   "metadata": {},
   "outputs": [
    {
     "name": "stdout",
     "output_type": "stream",
     "text": [
      "[[0. 0. 0. 0. 0. 0. 0. 0.]\n",
      " [0. 0. 0. 0. 0. 0. 0. 0.]\n",
      " [0. 0. 0. 0. 0. 0. 0. 0.]\n",
      " [0. 0. 0. 0. 0. 0. 0. 0.]\n",
      " [0. 0. 0. 0. 0. 0. 0. 0.]\n",
      " [0. 0. 0. 0. 0. 0. 0. 0.]\n",
      " [0. 0. 0. 0. 0. 0. 0. 0.]\n",
      " [0. 0. 0. 0. 0. 0. 0. 0.]\n",
      " [0. 0. 0. 0. 0. 0. 0. 0.]\n",
      " [0. 0. 0. 0. 0. 0. 0. 0.]]\n",
      "======================\n",
      "[[42. 42. 42. 42. 42. 42. 42. 42.]\n",
      " [ 0.  0.  0.  0.  0.  0.  0.  0.]\n",
      " [ 0.  0.  0.  0.  0.  0.  0.  0.]\n",
      " [ 0.  0.  0.  0.  0.  0.  0.  0.]\n",
      " [ 0.  0.  0.  0.  0.  0.  0.  0.]\n",
      " [ 0.  0.  0.  0.  0.  0.  0.  0.]\n",
      " [ 0.  0.  0.  0.  0.  0.  0.  0.]\n",
      " [ 0.  0.  0.  0.  0.  0.  0.  0.]\n",
      " [ 0.  0.  0.  0.  0.  0.  0.  0.]\n",
      " [ 0.  0.  0.  0.  0.  0.  0.  0.]]\n",
      "======================\n",
      "[[42. 42. 42. 42. 42. 42. 42. 42.]\n",
      " [ 0.  0.  0.  0.  0.  0.  0.  0.]\n",
      " [ 0.  0.  0.  0.  0.  0.  0.  0.]\n",
      " [73. 79. 72. 55. 65. 34. 11. 42.]\n",
      " [ 0.  0.  0.  0.  0.  0.  0.  0.]\n",
      " [ 0.  0.  0.  0.  0.  0.  0.  0.]\n",
      " [ 0.  0.  0.  0.  0.  0.  0.  0.]\n",
      " [ 0.  0.  0.  0.  0.  0.  0.  0.]\n",
      " [ 0.  0.  0.  0.  0.  0.  0.  0.]\n",
      " [ 0.  0.  0.  0.  0.  0.  0.  0.]]\n",
      "======================\n",
      "[[42. 42. 42. 42. 42. 42. 42. 42.]\n",
      " [ 0.  0.  0.  0.  0.  0.  0.  0.]\n",
      " [ 0.  0.  0.  0.  0.  0.  0.  0.]\n",
      " [42. 79. 72. 55. 65. 34. 11. 42.]\n",
      " [ 0.  0.  0.  0.  0.  0.  0.  0.]\n",
      " [ 0.  0.  0.  0.  0.  0.  0.  0.]\n",
      " [ 0.  0.  0.  0.  0.  0.  0.  0.]\n",
      " [ 0.  0.  0.  0.  0.  0.  0.  0.]\n",
      " [ 0.  0.  0.  0.  0.  0.  0.  0.]\n",
      " [ 0.  0.  0.  0.  0.  0.  0.  0.]]\n",
      "======================\n",
      "[[42. 42. 42. 42. 42. 42. 42. 42.]\n",
      " [ 0.  0.  0.  0.  0. 77. 77. 77.]\n",
      " [ 0.  0.  0.  0.  0. 77. 77. 77.]\n",
      " [42. 79. 72. 55. 65. 77. 77. 77.]\n",
      " [ 0.  0.  0.  0.  0. 77. 77. 77.]\n",
      " [ 0.  0.  0.  0.  0. 77. 77. 77.]\n",
      " [ 0.  0.  0.  0.  0. 77. 77. 77.]\n",
      " [ 0.  0.  0.  0.  0. 77. 77. 77.]\n",
      " [ 0.  0.  0.  0.  0. 77. 77. 77.]\n",
      " [ 0.  0.  0.  0.  0.  0.  0.  0.]]\n",
      "======================\n"
     ]
    }
   ],
   "source": [
    "t2 = np.zeros((10, 8))\n",
    "print(t2, end=SEP)\n",
    "\n",
    "t2[0, :] = 42\n",
    "print(t2, end=SEP)\n",
    "\n",
    "t2[3, :] = np.random.randint(10, 100, 8)\n",
    "print(t2, end=SEP)\n",
    "\n",
    "t2[:, 0] = t2[:, -1]\n",
    "print(t2, end=SEP)\n",
    "\n",
    "t2[1:-1, 5:] = 77\n",
    "print(t2, end=SEP)"
   ]
  },
  {
   "cell_type": "markdown",
   "id": "03bed968-d399-42bd-9da1-3f841eab7ef5",
   "metadata": {},
   "source": [
    "### A Few Examples\n",
    "\n",
    "Computing the distance between two (random) vectors in $R^{1000}$"
   ]
  },
  {
   "cell_type": "code",
   "execution_count": 24,
   "id": "55e73015-da83-4801-b090-46104ca434f1",
   "metadata": {},
   "outputs": [
    {
     "name": "stdout",
     "output_type": "stream",
     "text": [
      "46.78079091417377\n"
     ]
    }
   ],
   "source": [
    "x1 = np.random.normal(0, 1, 1000)\n",
    "x2 = np.random.normal(0, 1, 1000)\n",
    "dx1x2 = np.sum((x1 - x2)**2)**0.5\n",
    "print(dx1x2)"
   ]
  },
  {
   "cell_type": "markdown",
   "id": "93c77285-7f8a-42ef-8ac6-13624ac62596",
   "metadata": {},
   "source": [
    "Computing the $\\ell_2$ norm of 128 weight vectors in $R^{1000}$, and the sum of it."
   ]
  },
  {
   "cell_type": "code",
   "execution_count": 25,
   "id": "07d84664-47b3-4af1-8ae9-36daf22ce559",
   "metadata": {},
   "outputs": [
    {
     "name": "stdout",
     "output_type": "stream",
     "text": [
      "(128,)\n",
      "4031.1532985590575\n"
     ]
    }
   ],
   "source": [
    "W = np.random.normal(0, 1, (128, 1000))\n",
    "Wl1 = np.sum(W**2, axis=1)**0.5\n",
    "print(Wl1.shape)\n",
    "Wl1Reg = np.sum(Wl1)\n",
    "print(Wl1Reg)"
   ]
  },
  {
   "cell_type": "code",
   "execution_count": null,
   "id": "e9f2913e-cd72-4505-8f41-abd655e9683d",
   "metadata": {},
   "outputs": [],
   "source": []
  }
 ],
 "metadata": {
  "kernelspec": {
   "display_name": "Python 3 (ipykernel)",
   "language": "python",
   "name": "python3"
  },
  "language_info": {
   "codemirror_mode": {
    "name": "ipython",
    "version": 3
   },
   "file_extension": ".py",
   "mimetype": "text/x-python",
   "name": "python",
   "nbconvert_exporter": "python",
   "pygments_lexer": "ipython3",
   "version": "3.9.7"
  }
 },
 "nbformat": 4,
 "nbformat_minor": 5
}
