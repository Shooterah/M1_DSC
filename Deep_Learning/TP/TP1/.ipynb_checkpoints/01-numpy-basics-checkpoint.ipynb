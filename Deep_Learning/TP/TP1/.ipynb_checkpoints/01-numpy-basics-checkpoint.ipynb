{
 "cells": [
  {
   "cell_type": "markdown",
   "id": "39fcb955-cd40-478a-9f67-fdda98166061",
   "metadata": {},
   "source": [
    "# About these practical / tutorials\n",
    "\n",
    "- These practical sessions are in the form of notebooks to follow and fill in.\n",
    "- In case you cannot run the notebooks locally (e.g., missing libraries etc), you can use <https://jupyterlite.readthedocs.io/en/latest/_static/lab/index.html> (which runs the notebook using a Python running *in your browser* thanks to pyodide)... the first cell can take a long time to run, be patient."
   ]
  },
  {
   "cell_type": "code",
   "execution_count": null,
   "id": "32fb168d-5378-448b-8cd5-cbb921b45446",
   "metadata": {},
   "outputs": [],
   "source": [
    "%%html\n",
    "<style>\n",
    "/* *********************************************************** */\n",
    "/* styling the notebook, you can ignore it if it does not work */\n",
    "/* *********************************************************** */\n",
    "h3 { color: #60a5fa !important; text-decoration: underline; font-variant-caps: small-caps;}\n",
    ".jp-OutputArea-output { border-left: 10px solid grey; margin-left: 20px; }\n",
    "</style>"
   ]
  },
  {
   "cell_type": "markdown",
   "id": "fa2fc4a6-fc21-4bdb-ab51-ef585a276525",
   "metadata": {},
   "source": [
    "# Let's Start: Numpy Basics\n",
    "\n",
    "- Numpy is a Python library that is the fundation of most Python scientific libraries.\n",
    "- Numpy makes it easy to efficiently manipulate vectors (1d arrays), matrices (2d arrays), and generally \"n-dimensional arrays\" (nd arrays).\n",
    "- Deep learning framework actually re-implement the numpy API\n",
    "    - they can be used (mostly) in the same way as numpy arrays\n",
    "    - they often allow to manipulate arrays that are either in CPU or in GPU memory\n",
    "    - they often call *tensor* what numpy calls a *ndarray*\n",
    "\n",
    "It is thus mandatory to well understand numpy in order not to loose a lot of time when trying to manipulate libraries and deep learning frameworks."
   ]
  },
  {
   "cell_type": "markdown",
   "id": "bfe47cfc-562f-4961-b731-49dc26a40b2d",
   "metadata": {},
   "source": [
    "By a well established convention, the numpy library is imported and renamed as `np`."
   ]
  },
  {
   "cell_type": "code",
   "execution_count": null,
   "id": "0d6eab8c-d301-4665-bd33-db63a4199a4d",
   "metadata": {},
   "outputs": [],
   "source": [
    "import numpy as np"
   ]
  },
  {
   "cell_type": "markdown",
   "id": "272e5f7b-62af-4867-97c0-4a000398759b",
   "metadata": {},
   "source": [
    "### Creating simple Numpy arrays\n",
    "\n",
    "Numpy allows for easy creation of arrays, with many different \"constructors\".\n",
    "\n",
    "The first way to construct an array is to use an existing Python list."
   ]
  },
  {
   "cell_type": "code",
   "execution_count": null,
   "id": "2a0d7e59-58cf-4c53-baf4-63719ace3399",
   "metadata": {},
   "outputs": [],
   "source": [
    "# build an array from a 1d Python list\n",
    "a = np.array([10, 20, 30, 40, 50])\n",
    "print(a)"
   ]
  },
  {
   "cell_type": "code",
   "execution_count": null,
   "id": "a4364f2f-509e-43b8-ae7d-2c72cc8ae84e",
   "metadata": {},
   "outputs": [],
   "source": [
    "SEP = \"\\n======================\\n\"\n",
    "\n",
    "# build a 2d array from a \"rectangular\" Python list\n",
    "b = np.array([[10, 20, 30], [40, 50, 60]])\n",
    "print(b, SEP)\n",
    "\n",
    "# build a 3d array from a \"rectangular\" Python list\n",
    "c = np.array([ [[10, 20, 30], [40, 50, 60]], [[11, 21, 31], [42, 52, 62]] ])\n",
    "print(c, SEP)\n"
   ]
  },
  {
   "cell_type": "markdown",
   "id": "ffa32acd-1a60-412f-b017-bff50dbc6b0f",
   "metadata": {},
   "source": [
    "One can also create 1d arrays with regularly spaced values (like `range()` in plain Python)."
   ]
  },
  {
   "cell_type": "code",
   "execution_count": null,
   "id": "6cfe2b27-322b-4c35-b956-87f4d9e1b26f",
   "metadata": {},
   "outputs": [],
   "source": [
    "# np.arange() is like range() but for numpy arrays, it also allows non-integer values\n",
    "r1 = np.arange(10)\n",
    "r2 = np.arange(10, 20)\n",
    "r3 = np.arange(10, 20, 2)\n",
    "r4 = np.arange(10, 20, 1.5)\n",
    "print(r1, r2, r3, r4, sep=SEP, end=SEP)\n",
    "\n",
    "# np.linspace() conveniently allows to specify the start and end (both included) and the number of values we want\n",
    "r5 = np.linspace(10, 20, 6)\n",
    "print(r5, SEP)"
   ]
  },
  {
   "cell_type": "markdown",
   "id": "4ab5bcfc-0360-49dc-adc7-09e015df2ab4",
   "metadata": {},
   "source": [
    "### The notion of *shape*\n",
    "\n",
    "- Each numpy array has a number of dimensions (also called axes), a vector is 1d, a matrix is 2d etc.\n",
    "- Along each dimension, a numpy array has a number of values, e.g. the number of rows and columns for a 2d array.\n",
    "- The tuple containing theses number of values is called the **shape** of a numpy array.\n",
    "- The shape of an array `a` can be accessed with either `np.shape(a)` or `a.shape`.\n",
    "- A new array with the same values as an existing array but *viewed* with a different shape can be created with the `reshape()` function.\n",
    "\n",
    "Let's look at the shapes of our arrays."
   ]
  },
  {
   "cell_type": "code",
   "execution_count": null,
   "id": "ef76262c-f472-4752-a44b-fe2edfb6c17e",
   "metadata": {},
   "outputs": [],
   "source": [
    "for arr in [a, b, c, r1, r2, r5]:\n",
    "    print(arr)\n",
    "    print(\"............ is of shape\", arr.shape, SEP)"
   ]
  },
  {
   "cell_type": "markdown",
   "id": "cc0331d9-0a73-43b8-8203-34594429c6c1",
   "metadata": {},
   "source": [
    "A few important points\n",
    "- Shapes are Python tuples, which are immutable lists (like a list but it cannot be modified).\n",
    "- We see that Python tuples are denoted with parenthesis.\n",
    "- We see that the special case of a Python tuple with a single value is denoted with a comma at the end, like `(5,)` (this is to distinguish from `(5)` which is Python syntax is just the number 5.\n",
    "- We see that the first dimension/axis is the rows (for the matrices), but generally the first `[` if we imagine it as a Python list."
   ]
  },
  {
   "cell_type": "markdown",
   "id": "72aaaa75-ba00-4ecf-bc03-7ab9205d94cf",
   "metadata": {},
   "source": [
    "### Creating Numpy arrays with a given shape, filled with stuff\n",
    "\n",
    "We can create numpy arrays also with a variety of functions that accept a shape as a parameter.\n",
    "\n",
    "For instance, we can create arrays filled with constant values."
   ]
  },
  {
   "cell_type": "code",
   "execution_count": null,
   "id": "3bfaddfc-e50c-4f1b-a715-efe00a355e0e",
   "metadata": {},
   "outputs": [],
   "source": [
    "s1 = np.zeros(7)\n",
    "s2 = np.zeros((2, 3))\n",
    "s3 = np.zeros((2, 3, 4))\n",
    "s4 = np.ones((3, 2, 4))\n",
    "s5 = np.full((2, 1, 5), 42)\n",
    "print(s1, s2, s3, s4, s5, sep=SEP, end=SEP)"
   ]
  },
  {
   "cell_type": "markdown",
   "id": "523733bb-2615-4e6b-9ab3-b1a313e3b380",
   "metadata": {},
   "source": [
    "Similarly, there are a many functions to create new arrays filled with random values, all in the `np.random` module."
   ]
  },
  {
   "cell_type": "code",
   "execution_count": null,
   "id": "df7a2132-58b8-4155-ac32-0a2c9071a824",
   "metadata": {},
   "outputs": [],
   "source": [
    "s10 = np.random.random((2, 5)) # usual uniform [0,1]\n",
    "s11 = np.random.uniform(37.5, 42, (3, 5)) # uniform [37.5, 42]\n",
    "s12 = np.random.normal(42, 0.1, (3, 5)) # normal distribution with mean 42 and standard deviation 0.1\n",
    "s13 = np.random.randint(90, 100, (2, 15)) # like randrange() in Python\n",
    "\n",
    "print(s10, s11, s12, s13, sep=SEP, end=SEP)"
   ]
  },
  {
   "cell_type": "markdown",
   "id": "037902f9-bb83-444e-a9df-6d9f61ca0b16",
   "metadata": {},
   "source": [
    "As hinted above, we can *change the shape* of an array."
   ]
  },
  {
   "cell_type": "code",
   "execution_count": null,
   "id": "de950142-e22e-4dcf-a0eb-770f85f14ffd",
   "metadata": {},
   "outputs": [],
   "source": [
    "s20 = np.arange(0, 47, 2)\n",
    "print(s20, \"\\n...... has a shape of\", s20.shape, \"for a total of\", s20.size, \"elements.\", SEP)\n",
    "\n",
    "s21 = s20.reshape((3, 8))\n",
    "# error = s20.reshape((3, 10))\n",
    "s22 = s20.reshape((4, 6))\n",
    "s23 = s20.reshape((2, 3, 4))\n",
    "print(s20, s21, s22, s23, sep=SEP, end=SEP)"
   ]
  },
  {
   "cell_type": "markdown",
   "id": "8d600d1a-2b00-4246-84a8-245bc3ff9494",
   "metadata": {},
   "source": [
    "We can note that\n",
    "- the last dimension/axis (e.g. the columns in 2d) are filled first, then the one before the last etc.\n",
    "- we would get an error if we would put a shape that does imply the same number of elements as the original array\n",
    "\n",
    "Reshape also allows for up to one *wildcard* expressed as `-1`\n",
    "- as reshape knows the total size of the original array, it can infer one of the value in the new shape (by dividing the number of elements by the specified shape values),\n",
    "- for instance if we have an array with 24 values and reshape it in an 2d array with 3 rows, then the number of columns can be inferred to be 8 (24 / 3).\n"
   ]
  },
  {
   "cell_type": "code",
   "execution_count": null,
   "id": "523ea82b-45fb-4f8e-b30c-b6f4a951620e",
   "metadata": {},
   "outputs": [],
   "source": [
    "# with a \"-1\" shortcut\n",
    "s24 = s20.reshape((3, -1))\n",
    "# error = s20.reshape((-1, -1))\n",
    "s25 = s20.reshape((-1, 6))\n",
    "s26 = s20.reshape((2, -1, 4))\n",
    "# error = s20.reshape((2, -1, -1))\n",
    "print(s20, s21, s22, s23, s24, s25, s26, sep=SEP, end=SEP)"
   ]
  },
  {
   "cell_type": "markdown",
   "id": "2b03bdf5-cc88-4b3e-ad9d-19d9129cd9db",
   "metadata": {},
   "source": [
    "### Numpy operations are element-wise\n",
    "\n",
    "Any Python operator works on numpy arrays (or between an array and a scalar), and is done element-wise.\n",
    "\n",
    "Here are a few examples, in 1d."
   ]
  },
  {
   "cell_type": "code",
   "execution_count": null,
   "id": "b0695d14-2d5a-425a-b968-0a3dab0e1724",
   "metadata": {},
   "outputs": [],
   "source": [
    "e1 = np.arange(10)\n",
    "e2 = np.arange(1000, 2000, 100)\n",
    "e3 = e1 * 10\n",
    "e4 = 1 + e1\n",
    "e5 = e1 + e2\n",
    "e6 = e1*e1\n",
    "e7 = e1**3\n",
    "e8 = 2**e1\n",
    "e9 = e1**2 / e1\n",
    "print(e1, e2, e3, e4, e5, e6, e7, e8, e9, sep=SEP, end=SEP)"
   ]
  },
  {
   "cell_type": "markdown",
   "id": "1ebd0a86-e926-4f51-b96b-f9a139970c79",
   "metadata": {},
   "source": [
    "(an error, actually a RuntimeWarning is normal above, no exceptions are thrown, a \"nan\" value is produced)\n",
    "\n",
    "The same works with multi-dimensional arrays, (for now) with the constraint that they have the same shape."
   ]
  },
  {
   "cell_type": "code",
   "execution_count": null,
   "id": "eb9be7a2-fc29-454a-a4b3-46fae32398b8",
   "metadata": {},
   "outputs": [],
   "source": [
    "e10 = np.random.randint(90, 100, (2, 5))\n",
    "e11 = np.arange(1, 11).reshape((2, 5))\n",
    "e12 = e10 + 6000\n",
    "e13 = 10000*e10 + e11\n",
    "print(e10, e11, e12, e13, sep=SEP, end=SEP)"
   ]
  },
  {
   "cell_type": "markdown",
   "id": "d4b551c5-a151-498f-b7fe-d70ce7ae5936",
   "metadata": {},
   "source": [
    "### Element-wise functions\n",
    "\n",
    "Most `math` functions exists in the `numpy` module and can work both on scalars and arrays of any sizes, where they are applied element-wise."
   ]
  },
  {
   "cell_type": "code",
   "execution_count": null,
   "id": "e7e22293-0bce-4ca7-aa1d-dad7ad9b5e99",
   "metadata": {},
   "outputs": [],
   "source": [
    "e20 = np.arange(180, 360)\n",
    "e21 = np.radians(e20)\n",
    "e22 = np.sin(e21)\n",
    "e23 = np.exp(e22)\n",
    "print(e20, e21, e22, e23, sep=SEP, end=SEP)\n"
   ]
  },
  {
   "cell_type": "markdown",
   "id": "b0accf02-31e2-40f6-9d6a-8f65c43bf610",
   "metadata": {},
   "source": [
    "### Aggregation function\n",
    "\n",
    "Going beyond the simple Python `sum()` function, numpy provides aggretation functions:\n",
    "- some examples are `np.sum()`, `np.mean()`, `np.median()`, ...\n",
    "- each function works on numpy arrays (and also Python lists)\n",
    "- each function can specify which dimension/axis to aggregate over, e.g. to compute the mean of each column in a 2d array (that is averaging along the row axis).\n",
    "\n",
    "Here are examples, where we use a 3d array."
   ]
  },
  {
   "cell_type": "code",
   "execution_count": null,
   "id": "a12ebd2d-9a6c-4a92-9952-07d1ce198ff2",
   "metadata": {},
   "outputs": [],
   "source": [
    "u1 = np.random.normal(1.0, 0.01, (3, 5, 10)) # draw 7500 values close to 1, with standard deviaton 0.01\n",
    "print(\"We have an array of shape\", u1.shape, \"for a total number of\", u1.size, \"elements\")\n",
    "print(\"From the number of integers in the shape, we can say that the array has\", len(u1.shape), \"axes/dimensions.\")\n",
    "for i in range(len(u1.shape)):\n",
    "    print(\"... along axis\", i, \"there are\", u1.shape[i], \"elements\")\n",
    "print(SEP)\n",
    "# simple examples to aggregate over the whole array\n",
    "u2 = np.sum(u1)\n",
    "u3 = np.mean(u1)\n",
    "u4 = np.std(u1)\n",
    "print(u2, u3, u4, sep=SEP, end=SEP)"
   ]
  },
  {
   "cell_type": "code",
   "execution_count": null,
   "id": "ce5087ec-00a8-4d4b-9fc4-9870a4a82957",
   "metadata": {},
   "outputs": [],
   "source": [
    "# selecting which axis to aggregate over\n",
    "u10 = np.sum(u1, axis=2) # summing **along** axis 2\n",
    "u11 = np.mean(u1, axis=2)\n",
    "u12 = np.std(u1, axis=2)\n",
    "print(u10, u11, u12, sep=SEP, end=SEP)\n",
    "\n",
    "u13 = np.sum(u1, axis=0)\n",
    "u14 = np.sum(u1, axis=1)\n",
    "u15 = np.sum(u1, axis=2)\n",
    "# keeping the aggregated dimension (but then it has size 1)\n",
    "u16 = np.sum(u1, axis=0, keepdims=True)\n",
    "u17 = np.sum(u1, axis=1, keepdims=True)\n",
    "u18 = np.sum(u1, axis=2, keepdims=True)\n",
    "# aggregating along several dimensions\n",
    "u19 = np.sum(u1, axis=(0,1))\n",
    "u20 = np.sum(u1, axis=(1,2))\n",
    "u21 = np.sum(u1, axis=(0,2))\n",
    "u22 = np.sum(u1, axis=(0,2), keepdims=True)\n",
    "for u in [u13, u14, u15, u16, u17, u18, u19, u20, u21, u22]:\n",
    "    print(u.shape, end=SEP)"
   ]
  },
  {
   "cell_type": "markdown",
   "id": "0a6182a5-bc3e-43f9-8daa-b7f66d96a86e",
   "metadata": {},
   "source": [
    "### Accessing elements and slices (plain Python lists)"
   ]
  },
  {
   "cell_type": "markdown",
   "id": "aec0c394-8dfd-42c9-8c30-b300cd852739",
   "metadata": {},
   "source": [
    "Python supports list indexing (as all programming languages) but also allow \"slicing\" to extract a subpart (as a view) of an existing list."
   ]
  },
  {
   "cell_type": "code",
   "execution_count": null,
   "id": "98650b1d-4c45-490a-95a8-bb98dddddcd1",
   "metadata": {},
   "outputs": [],
   "source": [
    "l = [0, 10, 20, 30, 40, 50, 60, 70, 80, 90]\n",
    "\n",
    "# plain access\n",
    "print(l[3])\n",
    "# slicing\n",
    "l2 = l[3:6]\n",
    "print(l2)\n",
    "# slicing with a step value\n",
    "l3 = l[3:6:2]\n",
    "print(l3)"
   ]
  },
  {
   "cell_type": "markdown",
   "id": "81978a68-0fc6-464c-a6b2-221b5a3c33b3",
   "metadata": {},
   "source": [
    "Slicing allows for two or 3 values (`start:end` or `start:end:step`) and this has to be put in parallel with the parameters of `range()`. Here is equivalent versions without slicing."
   ]
  },
  {
   "cell_type": "code",
   "execution_count": null,
   "id": "1c4c13e1-742f-4cd1-b4de-54a706b56339",
   "metadata": {},
   "outputs": [],
   "source": [
    "l2bis = [ l[i] for i in range(3, 6) ]\n",
    "l3bis = [ l[i] for i in range(3, 6, 2) ]\n",
    "# almost equivalent to\n",
    "l3ter = []\n",
    "for i in range(3, 6, 2):\n",
    "    l3ter.append(l[i])\n",
    "print(l2bis, l3bis, l3ter, sep=SEP, end=SEP)"
   ]
  },
  {
   "cell_type": "markdown",
   "id": "755a1d1a-02ef-443e-8d0a-c174143919bb",
   "metadata": {},
   "source": [
    "There are also default values for beginning and end, and negative steps are allowed."
   ]
  },
  {
   "cell_type": "code",
   "execution_count": null,
   "id": "69a86678-15a0-45b1-829e-0726e2c4510b",
   "metadata": {},
   "outputs": [],
   "source": [
    "print(l[:3])\n",
    "print(l[5:])\n",
    "print(l[:5:2])\n",
    "print(l[5::2])\n",
    "print(l[::3])\n",
    "print(l[:]) # not so useful for now\n",
    "print(l[::-1]) # negative step\n",
    "print(l[::-3])"
   ]
  },
  {
   "cell_type": "markdown",
   "id": "f85425e7-e97d-4e58-88da-d8974aef05d4",
   "metadata": {},
   "source": [
    "Negative indices also work, counting from the end of the list."
   ]
  },
  {
   "cell_type": "code",
   "execution_count": null,
   "id": "39e672fc-c388-425c-a53d-7d77b57699e9",
   "metadata": {},
   "outputs": [],
   "source": [
    "print(l[-1])\n",
    "print(l[len(l)-1]) # equivalent\n",
    "\n",
    "print(l[-3])\n",
    "print(l[len(l)-3]) # equivalent\n",
    "\n",
    "# also with slices\n",
    "print(l[1:-1])\n",
    "print(l[1:len(l)-1]) # equivalent\n",
    "\n",
    "print(l[:-3])"
   ]
  },
  {
   "cell_type": "markdown",
   "id": "e1b00e87-06c7-41d4-bffd-cefcaa5d90ad",
   "metadata": {},
   "source": [
    "All indexing work for affectations (on the left of an equal sign) provided there are the same number of elements on the right (numpy waives this restriction)."
   ]
  },
  {
   "cell_type": "code",
   "execution_count": null,
   "id": "c9e80b04-155d-4386-845b-193c5423c2a2",
   "metadata": {},
   "outputs": [],
   "source": [
    "print(l, end=SEP)\n",
    "#error l[3:6:2] = 42\n",
    "l[3:6:2] = [4, 2]\n",
    "print(l, end=SEP)"
   ]
  },
  {
   "cell_type": "markdown",
   "id": "690cf2b1-014e-4b11-8973-7fa038052413",
   "metadata": {},
   "source": [
    "### Accessing elements and slices in numpy arrays"
   ]
  },
  {
   "cell_type": "markdown",
   "id": "cc3b95c6-f2ca-4f44-be05-195f4582bd2e",
   "metadata": {},
   "source": [
    "Numpy array with 1 dimensions can be used exactly like lists, including for all indexing, slices etc. Numpy additionally allow, like in operations between an array and a number, to automatically repeat a value, like below."
   ]
  },
  {
   "cell_type": "code",
   "execution_count": null,
   "id": "16c846f5-5ccb-46a1-91bd-59d1164b8c20",
   "metadata": {},
   "outputs": [],
   "source": [
    "t1 = np.arange(10)*10 # same as the list l above \n",
    "print(t1)"
   ]
  },
  {
   "cell_type": "code",
   "execution_count": null,
   "id": "b650211f-006a-4269-9017-ff06faf6e7ab",
   "metadata": {},
   "outputs": [],
   "source": [
    "# replacing several values by 4\n",
    "t1[3:6:2] = 4\n",
    "print(t1)"
   ]
  },
  {
   "cell_type": "markdown",
   "id": "140121f3-f1e4-403c-94cb-3e0285b3451b",
   "metadata": {},
   "source": [
    "Multi-dimensional numpy arrays can be accessed by passing `,`-separated indices and/or \n",
    "slices. For instance in 2d, we pass 2 indices and/or slices."
   ]
  },
  {
   "cell_type": "code",
   "execution_count": null,
   "id": "f99c4466-6049-4912-b98e-5abe5bc32b51",
   "metadata": {},
   "outputs": [],
   "source": [
    "t2 = np.zeros((10, 8))\n",
    "print(t2, end=SEP)\n",
    "\n",
    "t2[0, :] = 42\n",
    "print(t2, end=SEP)\n",
    "\n",
    "t2[3, :] = np.random.randint(10, 100, 8)\n",
    "print(t2, end=SEP)\n",
    "\n",
    "t2[:, 0] = t2[:, -1]\n",
    "print(t2, end=SEP)\n",
    "\n",
    "t2[1:-1, 5:] = 77\n",
    "print(t2, end=SEP)"
   ]
  },
  {
   "cell_type": "markdown",
   "id": "03bed968-d399-42bd-9da1-3f841eab7ef5",
   "metadata": {},
   "source": [
    "### A Few Examples\n",
    "\n",
    "Computing the distance between two (random) vectors in $R^{1000}$"
   ]
  },
  {
   "cell_type": "code",
   "execution_count": null,
   "id": "55e73015-da83-4801-b090-46104ca434f1",
   "metadata": {},
   "outputs": [],
   "source": [
    "x1 = np.random.normal(0, 1, 1000)\n",
    "x2 = np.random.normal(0, 1, 1000)\n",
    "dx1x2 = np.sum((x1 - x2)**2)**0.5\n",
    "print(dx1x2)"
   ]
  },
  {
   "cell_type": "markdown",
   "id": "93c77285-7f8a-42ef-8ac6-13624ac62596",
   "metadata": {},
   "source": [
    "Computing the $\\ell_2$ norm of 128 weight vectors in $R^{1000}$, and the sum of it."
   ]
  },
  {
   "cell_type": "code",
   "execution_count": null,
   "id": "07d84664-47b3-4af1-8ae9-36daf22ce559",
   "metadata": {},
   "outputs": [],
   "source": [
    "W = np.random.normal(0, 1, (128, 1000))\n",
    "Wl1 = np.sum(W**2, axis=1)**0.5\n",
    "print(Wl1.shape)\n",
    "Wl1Reg = np.sum(Wl1)\n",
    "print(Wl1Reg)"
   ]
  },
  {
   "cell_type": "code",
   "execution_count": null,
   "id": "e9f2913e-cd72-4505-8f41-abd655e9683d",
   "metadata": {},
   "outputs": [],
   "source": []
  }
 ],
 "metadata": {
  "kernelspec": {
   "display_name": "Python 3 (ipykernel)",
   "language": "python",
   "name": "python3"
  },
  "language_info": {
   "codemirror_mode": {
    "name": "ipython",
    "version": 3
   },
   "file_extension": ".py",
   "mimetype": "text/x-python",
   "name": "python",
   "nbconvert_exporter": "python",
   "pygments_lexer": "ipython3",
   "version": "3.9.7"
  }
 },
 "nbformat": 4,
 "nbformat_minor": 5
}
