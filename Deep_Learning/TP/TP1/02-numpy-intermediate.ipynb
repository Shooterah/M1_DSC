{
 "cells": [
  {
   "cell_type": "markdown",
   "id": "a7613635-e50c-461c-8105-e17672f06fce",
   "metadata": {},
   "source": [
    "# Numpy Broadcasting and boolean indexing\n",
    "\n",
    "The goal of this notebook is to understand how numpy automatically (and virtually) increases the size of numpy arrays when it needs to perform operations between two arrays of different shapes. It should also cover boolean indexing but currently it has little details.\n"
   ]
  },
  {
   "cell_type": "code",
   "execution_count": 3,
   "id": "fa91fc66-77d3-4b58-b98e-87a752912706",
   "metadata": {},
   "outputs": [],
   "source": [
    "import numpy as np\n",
    "SEP = \"\\n======================\\n\""
   ]
  },
  {
   "cell_type": "code",
   "execution_count": 4,
   "id": "93919aa2-513f-4dfb-875d-ff798ed304df",
   "metadata": {},
   "outputs": [
    {
     "data": {
      "text/html": [
       "<style>\n",
       "/* *********************************************************** */\n",
       "/* styling the notebook, you can ignore it if it does not work */\n",
       "/* *********************************************************** */\n",
       "h3 { color: #60a5fa !important; text-decoration: underline; font-variant-caps: small-caps;}\n",
       ".jp-OutputArea-output { border-left: 10px solid grey; margin-left: 20px; }\n",
       ".spoiler { background: black; color: black;  margin-bottom: .1em; }\n",
       ".spoiler:hover { background: white; transition: background 1s 1s;}\n",
       "</style>\n"
      ],
      "text/plain": [
       "<IPython.core.display.HTML object>"
      ]
     },
     "metadata": {},
     "output_type": "display_data"
    }
   ],
   "source": [
    "%%html\n",
    "<style>\n",
    "/* *********************************************************** */\n",
    "/* styling the notebook, you can ignore it if it does not work */\n",
    "/* *********************************************************** */\n",
    "h3 { color: #60a5fa !important; text-decoration: underline; font-variant-caps: small-caps;}\n",
    ".jp-OutputArea-output { border-left: 10px solid grey; margin-left: 20px; }\n",
    ".spoiler { background: black; color: black;  margin-bottom: .1em; }\n",
    ".spoiler:hover { background: white; transition: background 1s 1s;}\n",
    "</style>"
   ]
  },
  {
   "cell_type": "markdown",
   "id": "f3d62a01-4f7a-4d59-a8c7-21b708d74ef1",
   "metadata": {},
   "source": [
    "### Tip: another way of reshaping for adding axes\n",
    "\n",
    "We will often need to add dimensions to an existing array, e.g., transform a 1d array into a 2d array with a single line (or column), and the same with more dimensions.\n",
    "This will often be useful in combination with broadcasting. This can be done by indexing with `None`."
   ]
  },
  {
   "cell_type": "code",
   "execution_count": 6,
   "id": "0cbd284f-56ac-4783-a888-fd6a9131581f",
   "metadata": {},
   "outputs": [
    {
     "name": "stdout",
     "output_type": "stream",
     "text": [
      "(51, 42, 1)\n"
     ]
    }
   ],
   "source": [
    "a = np.random.uniform(-1, 1, (51, 42))\n",
    "# we want to add a third axis to a\n",
    "b = a.reshape((51, 42, 1))\n",
    "c = a[:,:,None]\n",
    "# here we check that b and c are equal\n",
    "np.testing.assert_equal(b, c)\n",
    "print(b.shape)"
   ]
  },
  {
   "cell_type": "code",
   "execution_count": 7,
   "id": "efa55bd5-7a39-4da4-ad47-69cafa3a82e2",
   "metadata": {},
   "outputs": [
    {
     "name": "stdout",
     "output_type": "stream",
     "text": [
      "(1, 49, 1, 1, 51, 1, 42, 1, 1)\n"
     ]
    }
   ],
   "source": [
    "# with more dimensions, it works too\n",
    "a2 = np.random.uniform(-1, 1, (49, 51, 42)) # 3d\n",
    "b2 = a2.reshape((1, 49,   1,    1, 51,   1, 42,   1,   1)) # 9d\n",
    "c2 =        a2[None, :, None, None, :, None, :, None, None]\n",
    "np.testing.assert_equal(b2, c2)\n",
    "print(b2.shape)"
   ]
  },
  {
   "cell_type": "markdown",
   "id": "9ec78b55-fe01-4781-8200-11afc8e5d8b5",
   "metadata": {},
   "source": [
    "NB\n",
    "- If used a lot a trick is to affect `None` to a variable to have a shorter notation.\n",
    "- Python additionaly allows `...` as a way to replace several `:`"
   ]
  },
  {
   "cell_type": "code",
   "execution_count": 8,
   "id": "896b66e7-1430-42e3-b7b5-325dc18bdb62",
   "metadata": {},
   "outputs": [
    {
     "name": "stdout",
     "output_type": "stream",
     "text": [
      "(1, 49, 1, 1, 51, 42, 1, 1)\n",
      "(1, 49, 1, 1, 51, 42, 1, 1)\n"
     ]
    }
   ],
   "source": [
    "a3 = np.random.uniform(-1, 1, (49, 51, 42)) # 3d\n",
    "Z = None\n",
    "b3 = a3[Z, :, Z, Z, :, :, Z, Z]\n",
    "# Python also allows non-latin letters\n",
    "ⵁ = None\n",
    "c3 = a3[ⵁ, :, ⵁ, ⵁ, :, :, ⵁ, ⵁ]\n",
    "print(c3.shape)\n",
    "\n",
    "# using the ellipsis, numpy imagines as many \":\" as needed (here 2 as there is a first one on the left and the a3 has 3 dimensions)\n",
    "d3 = a3[ⵁ, :, ⵁ, ⵁ, ..., ⵁ, ⵁ]\n",
    "print(d3.shape)"
   ]
  },
  {
   "cell_type": "markdown",
   "id": "8dc9f7f7-5507-4c4a-b80f-b3bcd6dbd999",
   "metadata": {},
   "source": [
    "### Numpy Broadcasting\n",
    "\n",
    "Imagine we have a 2d matrix and want to subtract to each value of the matrix the minimum of its column.\n",
    "\n",
    "We can start by computing the mean (we start from a random matrix)."
   ]
  },
  {
   "cell_type": "code",
   "execution_count": 9,
   "id": "88be59f7-582c-4874-b57a-db3c9c2a8a3d",
   "metadata": {},
   "outputs": [
    {
     "name": "stdout",
     "output_type": "stream",
     "text": [
      "[[11.54448359 12.22853877 18.6722278  10.98080832]\n",
      " [17.91521505 12.06056368 18.82292917 11.64309615]\n",
      " [12.73514833 17.40008437 10.67817168 12.9948881 ]\n",
      " [13.4962982  11.7942246  11.12903364 13.85446318]\n",
      " [10.71745962 15.78673231 18.5436297  18.0463786 ]\n",
      " [16.1090122  16.43036427 12.51605652 11.14857854]]\n",
      "======================\n",
      "[10.71745962 11.7942246  10.67817168 10.98080832]\n",
      "======================\n"
     ]
    }
   ],
   "source": [
    "data = np.random.uniform(10, 20, (6, 4))\n",
    "m = np.min(data, axis=0) # mean along rows so we get one value per column\n",
    "print(data, m, sep=SEP, end=SEP)"
   ]
  },
  {
   "cell_type": "code",
   "execution_count": 10,
   "id": "9527dd60-bdb7-42b9-b881-4700dbb5202e",
   "metadata": {},
   "outputs": [
    {
     "name": "stdout",
     "output_type": "stream",
     "text": [
      "(6, 4)\n",
      "======================\n",
      "(4,)\n",
      "======================\n",
      "[[0.82702398 0.43431417 7.99405612 0.        ]\n",
      " [7.19775544 0.26633908 8.14475749 0.66228783]\n",
      " [2.01768871 5.60585977 0.         2.01407978]\n",
      " [2.77883858 0.         0.45086196 2.87365487]\n",
      " [0.         3.99250771 7.86545802 7.06557028]\n",
      " [5.39155258 4.63613967 1.83788484 0.16777022]]\n"
     ]
    }
   ],
   "source": [
    "# numpy automatically changes the shape of m and replicates it when we do an operation\n",
    "print(data.shape, m.shape, sep=SEP, end=SEP)\n",
    "r1 = data - m\n",
    "print(r1)"
   ]
  },
  {
   "cell_type": "markdown",
   "id": "8fad8bc6-3725-487a-bfd0-22f71572fcec",
   "metadata": {},
   "source": [
    "However if we try the with rows, without further care, there is an error."
   ]
  },
  {
   "cell_type": "code",
   "execution_count": 11,
   "id": "4bb1cb50-4c59-4aa8-ba97-481fdf7f5450",
   "metadata": {},
   "outputs": [
    {
     "name": "stdout",
     "output_type": "stream",
     "text": [
      "(6, 4)\n",
      "======================\n",
      "(6,)\n",
      "======================\n",
      "we will get a shape error (cannot broadcast)\n"
     ]
    },
    {
     "ename": "ValueError",
     "evalue": "operands could not be broadcast together with shapes (6,4) (6,) ",
     "output_type": "error",
     "traceback": [
      "\u001b[1;31m---------------------------------------------------------------------------\u001b[0m",
      "\u001b[1;31mValueError\u001b[0m                                Traceback (most recent call last)",
      "\u001b[1;32m~\\AppData\\Local\\Temp/ipykernel_20552/3101130676.py\u001b[0m in \u001b[0;36m<module>\u001b[1;34m\u001b[0m\n\u001b[0;32m      2\u001b[0m \u001b[0mprint\u001b[0m\u001b[1;33m(\u001b[0m\u001b[0mdata\u001b[0m\u001b[1;33m.\u001b[0m\u001b[0mshape\u001b[0m\u001b[1;33m,\u001b[0m \u001b[0mm2\u001b[0m\u001b[1;33m.\u001b[0m\u001b[0mshape\u001b[0m\u001b[1;33m,\u001b[0m \u001b[0msep\u001b[0m\u001b[1;33m=\u001b[0m\u001b[0mSEP\u001b[0m\u001b[1;33m,\u001b[0m \u001b[0mend\u001b[0m\u001b[1;33m=\u001b[0m\u001b[0mSEP\u001b[0m\u001b[1;33m)\u001b[0m\u001b[1;33m\u001b[0m\u001b[1;33m\u001b[0m\u001b[0m\n\u001b[0;32m      3\u001b[0m \u001b[0mprint\u001b[0m\u001b[1;33m(\u001b[0m\u001b[1;34m\"we will get a shape error (cannot broadcast)\"\u001b[0m\u001b[1;33m)\u001b[0m\u001b[1;33m\u001b[0m\u001b[1;33m\u001b[0m\u001b[0m\n\u001b[1;32m----> 4\u001b[1;33m \u001b[0mr2\u001b[0m \u001b[1;33m=\u001b[0m \u001b[0mdata\u001b[0m \u001b[1;33m-\u001b[0m \u001b[0mm2\u001b[0m\u001b[1;33m\u001b[0m\u001b[1;33m\u001b[0m\u001b[0m\n\u001b[0m\u001b[0;32m      5\u001b[0m \u001b[1;31m# ^ error\u001b[0m\u001b[1;33m\u001b[0m\u001b[1;33m\u001b[0m\u001b[0m\n",
      "\u001b[1;31mValueError\u001b[0m: operands could not be broadcast together with shapes (6,4) (6,) "
     ]
    }
   ],
   "source": [
    "m2 = np.min(data, axis=1)\n",
    "print(data.shape, m2.shape, sep=SEP, end=SEP)\n",
    "print(\"we will get a shape error (cannot broadcast)\")\n",
    "r2 = data - m2\n",
    "# ^ error"
   ]
  },
  {
   "cell_type": "markdown",
   "id": "1081833b-4972-48bd-84db-19c32e230cab",
   "metadata": {},
   "source": [
    "Here we could use the parameters of aggregation functions to solve the problem, but in general we might do reshaping to achieve our goal."
   ]
  },
  {
   "cell_type": "code",
   "execution_count": 12,
   "id": "3b9a471c-72f6-4b49-95f6-4264120c899e",
   "metadata": {},
   "outputs": [
    {
     "name": "stdout",
     "output_type": "stream",
     "text": [
      "(6, 4)\n",
      "======================\n",
      "(6, 1)\n",
      "======================\n",
      "[[0.56367527 1.24773045 7.69141948 0.        ]\n",
      " [6.2721189  0.41746753 7.17983302 0.        ]\n",
      " [2.05697665 6.72191269 0.         2.31671642]\n",
      " [2.36726456 0.66519096 0.         2.72542954]\n",
      " [0.         5.0692727  7.82617008 7.32891898]\n",
      " [4.96043366 5.28178573 1.36747798 0.        ]]\n"
     ]
    }
   ],
   "source": [
    "m3 = np.min(data, axis=1, keepdims=True)\n",
    "print(data.shape, m3.shape, sep=SEP, end=SEP)\n",
    "r3 = data - m3\n",
    "print(r3)\n",
    "# or with a reshaping of m2\n",
    "r4 = data - m2[:, None]\n",
    "np.testing.assert_equal(r3, r4)"
   ]
  },
  {
   "cell_type": "markdown",
   "id": "19420105-d443-4b24-8a76-e9b325737dd7",
   "metadata": {},
   "source": [
    "### Broadcasting rules?\n",
    "- To have any operation such as `a + b` work\n",
    "    - for each axis i (NB: we can reverse a and b)\n",
    "        - either we have the same number of elements (`a.shape[i] == b.shape[i]`)\n",
    "        - or one of them is `1` (`a.shape[i] == 1 or b.shape[i] == 1`)\n",
    "- Example\n",
    "```python\n",
    "a = np.random.uniform(0, 1, (10, 42,  1,  1, 12, 98))\n",
    "b = np.random.uniform(0, 1, (10,  1, 21,  1,  1,  1))\n",
    "c = np.random.uniform(0, 1, (10,  1, 21,  1,  4,  1))\n",
    "d = a + b  # Ok\n",
    "e = a + c  # not Ok (4 vs 12 ━━━━━━━━━━━━━━━━━┛)\n",
    "f = c + b  # Ok\n",
    "```\n",
    "- Additional case with a different number of dimensions\n",
    "    - if an array is \"smaller\" (less dimensions/axes),\n",
    "    - numpy accepts to automatically prependd some `1` elements to the shape\n",
    "```python\n",
    "a = np.random.uniform(0, 1, (              12, 98))\n",
    "b = np.random.uniform(0, 1, (       21, 1,  1,  1))\n",
    "c = np.random.uniform(0, 1, (10, 1, 21, 1,  4,  1))\n",
    "d = a + b  # Ok, a ->              ( 1, 1, 12, 98)\n",
    "e = a + c  # Not ok 4 vs 12 ( 1, 1,  1, 1, 12, 98)\n",
    "f = c + b  # Ok, b ->       ( 1, 1, 21, 1,  1,  1)\n",
    "```\n"
   ]
  },
  {
   "cell_type": "markdown",
   "id": "9616c294-ce8d-45a4-84cd-0bcdf7f553d0",
   "metadata": {},
   "source": [
    "### Examples"
   ]
  },
  {
   "cell_type": "code",
   "execution_count": 13,
   "id": "8578ca64-95d4-482f-b1e4-1e2670b42049",
   "metadata": {},
   "outputs": [
    {
     "name": "stdout",
     "output_type": "stream",
     "text": [
      "[[  1   2   3   4   5   6   7   8   9  10]\n",
      " [  2   4   6   8  10  12  14  16  18  20]\n",
      " [  3   6   9  12  15  18  21  24  27  30]\n",
      " [  4   8  12  16  20  24  28  32  36  40]\n",
      " [  5  10  15  20  25  30  35  40  45  50]\n",
      " [  6  12  18  24  30  36  42  48  54  60]\n",
      " [  7  14  21  28  35  42  49  56  63  70]\n",
      " [  8  16  24  32  40  48  56  64  72  80]\n",
      " [  9  18  27  36  45  54  63  72  81  90]\n",
      " [ 10  20  30  40  50  60  70  80  90 100]]\n",
      "======================\n",
      "[[  1   2   3   4   5   6   7   8   9  10]\n",
      " [  2   4   6   8  10  12  14  16  18  20]\n",
      " [  3   6   9  12  15  18  21  24  27  30]\n",
      " [  4   8  12  16  20  24  28  32  36  40]\n",
      " [  5  10  15  20  25  30  35  40  45  50]\n",
      " [  6  12  18  24  30  36  42  48  54  60]\n",
      " [  7  14  21  28  35  42  49  56  63  70]\n",
      " [  8  16  24  32  40  48  56  64  72  80]\n",
      " [  9  18  27  36  45  54  63  72  81  90]\n",
      " [ 10  20  30  40  50  60  70  80  90 100]]\n",
      "======================\n"
     ]
    }
   ],
   "source": [
    "# computing a multiplication table\n",
    "oneten = np.arange(1, 11)\n",
    "print(oneten[:, None] * oneten[None, :], end=SEP)\n",
    "print(oneten[:, None] * oneten, end=SEP)"
   ]
  },
  {
   "cell_type": "markdown",
   "id": "6a8b12d7-598a-4253-986a-985dd2e18fa1",
   "metadata": {},
   "source": [
    "### Challenge\n",
    "\n",
    "We start with 6 points in $R^{42}$ and want to compute their pairwise distances, so to produce a 6×6 matrix. Here we have 6 points but we want the code to work with 1000 points too. We must not use any loop."
   ]
  },
  {
   "cell_type": "code",
   "execution_count": 14,
   "id": "e9aef1cd-2166-4560-8c4e-0bb1b41a78a8",
   "metadata": {},
   "outputs": [
    {
     "name": "stdout",
     "output_type": "stream",
     "text": [
      "(6, 42)\n"
     ]
    }
   ],
   "source": [
    "np.random.seed(42000)\n",
    "X = np.random.normal(0, 1, (6, 42))\n",
    "print(X.shape)"
   ]
  },
  {
   "cell_type": "code",
   "execution_count": 34,
   "id": "550c8371-dab3-4559-a4df-108eb8fa6721",
   "metadata": {},
   "outputs": [
    {
     "name": "stdout",
     "output_type": "stream",
     "text": [
      "[[ 0.          9.35375341  8.24845551  9.84140797  9.11748407  9.50108475]\n",
      " [ 9.35375341  0.          9.77851827  9.9004302   8.98842626 10.21625238]\n",
      " [ 8.24845551  9.77851827  0.         10.14422513  8.1842549  10.04970856]\n",
      " [ 9.84140797  9.9004302  10.14422513  0.          8.75705682 10.87224785]\n",
      " [ 9.11748407  8.98842626  8.1842549   8.75705682  0.          9.47147629]\n",
      " [ 9.50108475 10.21625238 10.04970856 10.87224785  9.47147629  0.        ]]\n"
     ]
    }
   ],
   "source": [
    "# TODO for you: try to implement the computation using broadcasting, operations and aggregation.\n",
    "\n",
    "X1 = X.reshape(1, 6, 42)\n",
    "X2 = X.reshape(6, 1, 42)\n",
    "\n",
    "# print(X1)\n",
    "# print(X2)\n",
    "\n",
    "res = np.sum((X1 - X2)**2, axis=2)**0.5\n",
    "print(res)"
   ]
  },
  {
   "cell_type": "markdown",
   "id": "311868f0-105c-4ee2-b8dc-5b3cc0baeba2",
   "metadata": {},
   "source": [
    "Spoiler / help (move your mouse on a box for a few seconds to reveal)\n",
    "\n",
    "<div class=\"spoiler\">\n",
    "First: make two versions of X but in 3d, so that they share the \"feature\" axis but not the \"point\" axis.\n",
    "</div>\n",
    "<div class=\"spoiler\">\n",
    "First, more: shapes could be (1, 6, 42) and (6, 1, 42)\n",
    "</div>\n",
    "<div class=\"spoiler\">\n",
    "Second: subtract, square.\n",
    "</div>\n",
    "<div class=\"spoiler\">\n",
    "Third: sum over the feature axis.\n",
    "</div>\n",
    "<div class=\"spoiler\">\n",
    "Third, more: sum over the feature axis which is 2.\n",
    "</div>\n",
    "<div class=\"spoiler\">\n",
    "Finally, take the square root.\n",
    "</div>"
   ]
  },
  {
   "cell_type": "code",
   "execution_count": 35,
   "id": "17dfd23b-56e3-4e44-bba3-5801a69507ba",
   "metadata": {},
   "outputs": [
    {
     "name": "stdout",
     "output_type": "stream",
     "text": [
      "Good job!\n"
     ]
    }
   ],
   "source": [
    "expected = np.array([[0.0,               9.353753413010876,  8.248455506246838,  9.841407966770515,  9.117484070378321, 9.501084747277666],\n",
    "                     [9.353753413010876, 0.0,                9.778518269006355,  9.90043019925482,   8.988426256845749, 10.216252382778956],\n",
    "                     [8.248455506246838, 9.778518269006355,  0.0,                10.144225130751577, 8.184254902310725, 10.049708564600387],\n",
    "                     [9.841407966770515, 9.90043019925482,   10.144225130751577, 0.0,                8.75705682231122,  10.872247848486728],\n",
    "                     [9.117484070378321, 8.988426256845749,  8.184254902310725,  8.75705682231122,   0.0,               9.471476285979634],\n",
    "                     [9.501084747277666, 10.216252382778956, 10.049708564600387, 10.872247848486728, 9.471476285979634, 0.0]])\n",
    "np.testing.assert_allclose(res, expected)\n",
    "print(\"Good job!\")"
   ]
  },
  {
   "cell_type": "markdown",
   "id": "c21ed896-1511-49ae-8c92-aa79e1706f34",
   "metadata": {},
   "source": [
    "### Boolean indexing\n",
    "\n",
    "It is possible to access some elements of an array using a boolean mask (of the same shape).\n",
    "The results is always a 1d array, it can also be used on the left-hand side of an affectation."
   ]
  },
  {
   "cell_type": "code",
   "execution_count": 36,
   "id": "7a7ced25-34a9-427e-b597-2297cbcb0b6d",
   "metadata": {},
   "outputs": [
    {
     "name": "stdout",
     "output_type": "stream",
     "text": [
      "[[-6  8  0  5 -1  5  5 -8  0  0]\n",
      " [ 2  1  9 -9  2  3 -9  7  5  6]\n",
      " [ 7  0  0 -2  3 -6  9 -5 -7 -5]]\n"
     ]
    }
   ],
   "source": [
    "t1 = np.random.randint(-9, 10, (3, 10))\n",
    "print(t1)"
   ]
  },
  {
   "cell_type": "code",
   "execution_count": 37,
   "id": "2887c257-09ea-4c70-b062-d65b268b49c3",
   "metadata": {},
   "outputs": [
    {
     "name": "stdout",
     "output_type": "stream",
     "text": [
      "[[False  True False False False False False False False False]\n",
      " [False False  True False False False False  True False  True]\n",
      " [ True False False False False False  True False False False]]\n",
      "======================\n",
      "[[ True False False False  True False False  True False False]\n",
      " [False False False  True False False  True False False False]\n",
      " [False False False  True False  True False  True  True  True]]\n",
      "======================\n",
      "[[False False  True False  True False False False  True  True]\n",
      " [False  True False False False False False False False False]\n",
      " [False  True  True False False False False False False False]]\n",
      "======================\n",
      "[[0 0 1 0 1 0 0 0 1 1]\n",
      " [0 1 0 0 0 0 0 0 0 0]\n",
      " [0 1 1 0 0 0 0 0 0 0]]\n",
      "======================\n"
     ]
    }
   ],
   "source": [
    "# Creating boolean arrays... is just applying an existing comparison operator\n",
    "t2 = t1 > 5\n",
    "t3 = t1 < 0\n",
    "t4 = t1**2 < 3\n",
    "print(t2, t3, t4, t4*1, sep=SEP, end=SEP)"
   ]
  },
  {
   "cell_type": "code",
   "execution_count": 38,
   "id": "829aded2-7940-44d8-84cb-c9c49bab285e",
   "metadata": {},
   "outputs": [
    {
     "name": "stdout",
     "output_type": "stream",
     "text": [
      "[8 9 7 6 7 9]\n",
      "======================\n",
      "[-6 -1 -8 -9 -9 -2 -6 -5 -7 -5]\n",
      "======================\n",
      "[ 0 -1  0  0  1  0  0]\n",
      "======================\n",
      "[-6  8  0 -8  0  0  2  2  6  0  0 -2 -6]\n",
      "======================\n"
     ]
    }
   ],
   "source": [
    "# Using a boolean array (mask) to access the elements (where the value is true)\n",
    "t10 = t1[t2]\n",
    "t11 = t1[t3]\n",
    "t12 = t1[t4]\n",
    "t13 = t1[t1%2 == 0]\n",
    "print(t10, t11, t12, t13, sep=SEP, end=SEP)"
   ]
  },
  {
   "cell_type": "code",
   "execution_count": 39,
   "id": "42733400-62f4-41ca-b598-2303a90aac02",
   "metadata": {},
   "outputs": [
    {
     "name": "stdout",
     "output_type": "stream",
     "text": [
      "[[-222  888  111  333  444 -333  444  666  222 -777]\n",
      " [-999  555  999 -333  888 -111  666 -999 -666  111]\n",
      " [ 888  111 -111 -222  777 -555  999  111 -666 -999]\n",
      " [-888 -222    0  999  888 -888  111  111  888    0]\n",
      " [   0 -444 -111 -222 -999 -999 -555 -222  777  777]]\n",
      "======================\n",
      "[[  1 888 111 333 444   1 444 666 222   1]\n",
      " [  1 555 999   1 888   1 666   1   1 111]\n",
      " [888 111   1   1 777   1 999 111   1   1]\n",
      " [  1   1   0 999 888   1 111 111 888   0]\n",
      " [  0   1   1   1   1   1   1   1 777 777]]\n",
      "======================\n",
      "[[  1   2 111 333   2   1   2   2   2   1]\n",
      " [  1 555 999   1   2   1   2   1   1 111]\n",
      " [  2 111   1   1 777   1 999 111   1   1]\n",
      " [  1   1   2 999   2   1 111 111   2   2]\n",
      " [  2   1   1   1   1   1   1   1 777 777]]\n",
      "======================\n",
      "[[  1   2 111 333   2   1   2   2   2   1]\n",
      " [  1 555 999   1   2   1   2   1   1 111]\n",
      " [  2 111   1   1 777   1 999 111   1   1]\n",
      " [  1   1   2 999   2   1 111 111   2   2]\n",
      " [  2   1   1   1   1   1   1   1 777 777]]\n",
      "======================\n"
     ]
    }
   ],
   "source": [
    "t20 = np.random.randint(-9, 10, (5, 10)) * 111\n",
    "print(t20, end=SEP)\n",
    "t20[t20<0] = 1\n",
    "print(t20, end=SEP)\n",
    "t20[t20 % 2 == 0] = 2\n",
    "print(t20, end=SEP)\n",
    "t20[t20 % 2 == 0] = 2\n",
    "print(t20, end=SEP)"
   ]
  },
  {
   "cell_type": "code",
   "execution_count": null,
   "id": "a6473b92-c06c-4d9b-b83d-3db3c302ec59",
   "metadata": {},
   "outputs": [],
   "source": []
  }
 ],
 "metadata": {
  "kernelspec": {
   "display_name": "Python 3 (ipykernel)",
   "language": "python",
   "name": "python3"
  },
  "language_info": {
   "codemirror_mode": {
    "name": "ipython",
    "version": 3
   },
   "file_extension": ".py",
   "mimetype": "text/x-python",
   "name": "python",
   "nbconvert_exporter": "python",
   "pygments_lexer": "ipython3",
   "version": "3.9.7"
  }
 },
 "nbformat": 4,
 "nbformat_minor": 5
}
